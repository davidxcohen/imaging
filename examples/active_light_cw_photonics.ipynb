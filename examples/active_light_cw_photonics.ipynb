{
 "cells": [
  {
   "cell_type": "markdown",
   "metadata": {
    "toc": true
   },
   "source": [
    "<h1>Table of Contents<span class=\"tocSkip\"></span></h1>\n",
    "<div class=\"toc\"><ul class=\"toc-item\"><li><span><a href=\"#Flux-on-object\" data-toc-modified-id=\"Flux-on-object-1\"><span class=\"toc-item-num\">1&nbsp;&nbsp;</span>Flux on object</a></span><ul class=\"toc-item\"><li><span><a href=\"#Side-by-side-comparison\" data-toc-modified-id=\"Side-by-side-comparison-1.1\"><span class=\"toc-item-num\">1.1&nbsp;&nbsp;</span>Side by side comparison</a></span></li></ul></li><li><span><a href=\"#Signal\" data-toc-modified-id=\"Signal-2\"><span class=\"toc-item-num\">2&nbsp;&nbsp;</span>Signal</a></span><ul class=\"toc-item\"><li><span><a href=\"#IR-Pulse\" data-toc-modified-id=\"IR-Pulse-2.1\"><span class=\"toc-item-num\">2.1&nbsp;&nbsp;</span>IR Pulse</a></span></li><li><span><a href=\"#Solar\" data-toc-modified-id=\"Solar-2.2\"><span class=\"toc-item-num\">2.2&nbsp;&nbsp;</span>Solar</a></span></li></ul></li><li><span><a href=\"#Noise\" data-toc-modified-id=\"Noise-3\"><span class=\"toc-item-num\">3&nbsp;&nbsp;</span>Noise</a></span><ul class=\"toc-item\"><li><span><a href=\"#Noise-sources\" data-toc-modified-id=\"Noise-sources-3.1\"><span class=\"toc-item-num\">3.1&nbsp;&nbsp;</span>Noise sources</a></span></li><li><span><a href=\"#Noise-comparison\" data-toc-modified-id=\"Noise-comparison-3.2\"><span class=\"toc-item-num\">3.2&nbsp;&nbsp;</span>Noise comparison</a></span></li></ul></li><li><span><a href=\"#SNR\" data-toc-modified-id=\"SNR-4\"><span class=\"toc-item-num\">4&nbsp;&nbsp;</span>SNR</a></span></li><li><span><a href=\"#All-component\" data-toc-modified-id=\"All-component-5\"><span class=\"toc-item-num\">5&nbsp;&nbsp;</span>All component</a></span></li></ul></div>"
   ]
  },
  {
   "cell_type": "code",
   "execution_count": 1,
   "metadata": {},
   "outputs": [
    {
     "data": {
      "text/html": [
       "        <script type=\"text/javascript\">\n",
       "        window.PlotlyConfig = {MathJaxConfig: 'local'};\n",
       "        if (window.MathJax) {MathJax.Hub.Config({SVG: {font: \"STIX-Web\"}});}\n",
       "        if (typeof require !== 'undefined') {\n",
       "        require.undef(\"plotly\");\n",
       "        requirejs.config({\n",
       "            paths: {\n",
       "                'plotly': ['https://cdn.plot.ly/plotly-latest.min']\n",
       "            }\n",
       "        });\n",
       "        require(['plotly'], function(Plotly) {\n",
       "            window._Plotly = Plotly;\n",
       "        });\n",
       "        }\n",
       "        </script>\n",
       "        "
      ]
     },
     "metadata": {},
     "output_type": "display_data"
    }
   ],
   "source": [
    "import numpy as np\n",
    "import pandas as pd\n",
    "import os\n",
    "import sys\n",
    "from IPython.display import display, HTML\n",
    "from plotly.offline import init_notebook_mode, iplot \n",
    "import plotly.graph_objs as go\n",
    "init_notebook_mode(connected=True)  # for Jupyter Lab notebook\n",
    "\n",
    "CURRENT_DIR = os.path.dirname(os.getcwd())\n",
    "sys.path.append(os.path.dirname(CURRENT_DIR+'/func'))\n",
    "from func.photonic_func import Photonic"
   ]
  },
  {
   "cell_type": "code",
   "execution_count": 2,
   "metadata": {},
   "outputs": [
    {
     "data": {
      "text/html": [
       "<table border=\"1\" class=\"dataframe\">\n",
       "  <thead>\n",
       "    <tr style=\"text-align: right;\">\n",
       "      <th></th>\n",
       "      <th>Light</th>\n",
       "      <th>Scene</th>\n",
       "      <th>Lens</th>\n",
       "      <th>Sensor</th>\n",
       "      <th>Op</th>\n",
       "    </tr>\n",
       "    <tr>\n",
       "      <th>Name</th>\n",
       "      <th></th>\n",
       "      <th></th>\n",
       "      <th></th>\n",
       "      <th></th>\n",
       "      <th></th>\n",
       "    </tr>\n",
       "  </thead>\n",
       "  <tbody>\n",
       "    <tr>\n",
       "      <th>Cfg1</th>\n",
       "      <td>Laser1</td>\n",
       "      <td>Room_3</td>\n",
       "      <td>Lens1</td>\n",
       "      <td>Sensor1_850</td>\n",
       "      <td>CW_30fps</td>\n",
       "    </tr>\n",
       "    <tr>\n",
       "      <th>Cfg2</th>\n",
       "      <td>VCSEL2</td>\n",
       "      <td>Room_4</td>\n",
       "      <td>Lens2</td>\n",
       "      <td>Sensor1_550</td>\n",
       "      <td>CW_60fps</td>\n",
       "    </tr>\n",
       "    <tr>\n",
       "      <th>Cfg3</th>\n",
       "      <td>Laser1</td>\n",
       "      <td>Road_night_200</td>\n",
       "      <td>Lens1</td>\n",
       "      <td>Sensor1_850</td>\n",
       "      <td>pls_30_1000</td>\n",
       "    </tr>\n",
       "    <tr>\n",
       "      <th>fake_tof_night_850</th>\n",
       "      <td>fake_tof_850</td>\n",
       "      <td>Room_5</td>\n",
       "      <td>fake_tof_lens</td>\n",
       "      <td>ToF_850</td>\n",
       "      <td>fake_tof</td>\n",
       "    </tr>\n",
       "    <tr>\n",
       "      <th>fake_tof_night_940</th>\n",
       "      <td>fake_tof_940</td>\n",
       "      <td>Room_5</td>\n",
       "      <td>fake_tof_lens</td>\n",
       "      <td>ToF_940</td>\n",
       "      <td>fake_tof</td>\n",
       "    </tr>\n",
       "    <tr>\n",
       "      <th>fake_tof_night_1375</th>\n",
       "      <td>fake_tof_1375</td>\n",
       "      <td>Room_5</td>\n",
       "      <td>fake_tof_lens</td>\n",
       "      <td>ToF_1375</td>\n",
       "      <td>fake_tof</td>\n",
       "    </tr>\n",
       "    <tr>\n",
       "      <th>fake_tof_night_1550</th>\n",
       "      <td>fake_tof_1550</td>\n",
       "      <td>Room_5</td>\n",
       "      <td>fake_tof_lens</td>\n",
       "      <td>ToF_1550</td>\n",
       "      <td>fake_tof</td>\n",
       "    </tr>\n",
       "    <tr>\n",
       "      <th>fake_tof_day_850</th>\n",
       "      <td>fake_tof_850</td>\n",
       "      <td>Outdoor_5</td>\n",
       "      <td>fake_tof_lens</td>\n",
       "      <td>ToF_850</td>\n",
       "      <td>fake_tof</td>\n",
       "    </tr>\n",
       "    <tr>\n",
       "      <th>fake_tof_day_940</th>\n",
       "      <td>fake_tof_940</td>\n",
       "      <td>Outdoor_5</td>\n",
       "      <td>fake_tof_lens</td>\n",
       "      <td>ToF_940</td>\n",
       "      <td>fake_tof</td>\n",
       "    </tr>\n",
       "    <tr>\n",
       "      <th>fake_tof_day_1375</th>\n",
       "      <td>fake_tof_1375</td>\n",
       "      <td>Outdoor_5</td>\n",
       "      <td>fake_tof_lens</td>\n",
       "      <td>ToF_1375</td>\n",
       "      <td>fake_tof</td>\n",
       "    </tr>\n",
       "    <tr>\n",
       "      <th>fake_tof_day_1550</th>\n",
       "      <td>fake_tof_1550</td>\n",
       "      <td>Outdoor_5</td>\n",
       "      <td>fake_tof_lens</td>\n",
       "      <td>ToF_1550</td>\n",
       "      <td>fake_tof</td>\n",
       "    </tr>\n",
       "  </tbody>\n",
       "</table>"
      ],
      "text/plain": [
       "<IPython.core.display.HTML object>"
      ]
     },
     "metadata": {},
     "output_type": "display_data"
    },
    {
     "data": {
      "text/html": [
       "<table border=\"1\" class=\"dataframe\">\n",
       "  <thead>\n",
       "    <tr style=\"text-align: right;\">\n",
       "      <th></th>\n",
       "      <th>PixSz_um</th>\n",
       "      <th>Wavelength</th>\n",
       "      <th>Semiconductor</th>\n",
       "      <th>epi_thick_um</th>\n",
       "      <th>QE</th>\n",
       "      <th>FF</th>\n",
       "      <th>Res_H</th>\n",
       "      <th>Res_V</th>\n",
       "      <th>RdNoise_e</th>\n",
       "      <th>DkSig_e_s</th>\n",
       "      <th>Cfd_fF</th>\n",
       "      <th>CDS</th>\n",
       "    </tr>\n",
       "    <tr>\n",
       "      <th>Name</th>\n",
       "      <th></th>\n",
       "      <th></th>\n",
       "      <th></th>\n",
       "      <th></th>\n",
       "      <th></th>\n",
       "      <th></th>\n",
       "      <th></th>\n",
       "      <th></th>\n",
       "      <th></th>\n",
       "      <th></th>\n",
       "      <th></th>\n",
       "      <th></th>\n",
       "    </tr>\n",
       "  </thead>\n",
       "  <tbody>\n",
       "    <tr>\n",
       "      <th>Sensor1_850</th>\n",
       "      <td>3.0</td>\n",
       "      <td>850</td>\n",
       "      <td>Si</td>\n",
       "      <td>10</td>\n",
       "      <td>NaN</td>\n",
       "      <td>0.7</td>\n",
       "      <td>640</td>\n",
       "      <td>480</td>\n",
       "      <td>5</td>\n",
       "      <td>5000</td>\n",
       "      <td>NaN</td>\n",
       "      <td>True</td>\n",
       "    </tr>\n",
       "    <tr>\n",
       "      <th>Sensor1_550</th>\n",
       "      <td>3.0</td>\n",
       "      <td>550</td>\n",
       "      <td>Si</td>\n",
       "      <td>10</td>\n",
       "      <td>NaN</td>\n",
       "      <td>0.7</td>\n",
       "      <td>640</td>\n",
       "      <td>480</td>\n",
       "      <td>5</td>\n",
       "      <td>5000</td>\n",
       "      <td>NaN</td>\n",
       "      <td>True</td>\n",
       "    </tr>\n",
       "    <tr>\n",
       "      <th>ToF_850</th>\n",
       "      <td>7.5</td>\n",
       "      <td>850</td>\n",
       "      <td>Si</td>\n",
       "      <td>10</td>\n",
       "      <td>NaN</td>\n",
       "      <td>1.0</td>\n",
       "      <td>640</td>\n",
       "      <td>480</td>\n",
       "      <td>5</td>\n",
       "      <td>5000</td>\n",
       "      <td>10.0</td>\n",
       "      <td>False</td>\n",
       "    </tr>\n",
       "    <tr>\n",
       "      <th>ToF_940</th>\n",
       "      <td>7.5</td>\n",
       "      <td>940</td>\n",
       "      <td>Si</td>\n",
       "      <td>10</td>\n",
       "      <td>NaN</td>\n",
       "      <td>1.0</td>\n",
       "      <td>640</td>\n",
       "      <td>480</td>\n",
       "      <td>5</td>\n",
       "      <td>5000</td>\n",
       "      <td>10.0</td>\n",
       "      <td>False</td>\n",
       "    </tr>\n",
       "    <tr>\n",
       "      <th>ToF_1375</th>\n",
       "      <td>7.5</td>\n",
       "      <td>1375</td>\n",
       "      <td>Ge</td>\n",
       "      <td>1</td>\n",
       "      <td>NaN</td>\n",
       "      <td>1.0</td>\n",
       "      <td>640</td>\n",
       "      <td>480</td>\n",
       "      <td>5</td>\n",
       "      <td>5000</td>\n",
       "      <td>10.0</td>\n",
       "      <td>False</td>\n",
       "    </tr>\n",
       "    <tr>\n",
       "      <th>ToF_1550</th>\n",
       "      <td>7.5</td>\n",
       "      <td>1550</td>\n",
       "      <td>Ge</td>\n",
       "      <td>1</td>\n",
       "      <td>NaN</td>\n",
       "      <td>1.0</td>\n",
       "      <td>640</td>\n",
       "      <td>480</td>\n",
       "      <td>5</td>\n",
       "      <td>5000</td>\n",
       "      <td>10.0</td>\n",
       "      <td>False</td>\n",
       "    </tr>\n",
       "  </tbody>\n",
       "</table>"
      ],
      "text/plain": [
       "<IPython.core.display.HTML object>"
      ]
     },
     "metadata": {},
     "output_type": "display_data"
    },
    {
     "data": {
      "text/html": [
       "<table border=\"1\" class=\"dataframe\">\n",
       "  <thead>\n",
       "    <tr style=\"text-align: right;\">\n",
       "      <th></th>\n",
       "      <th>PeakPower_W</th>\n",
       "      <th>WaveLength_nm</th>\n",
       "      <th>Transmission</th>\n",
       "      <th>Hfov_deg</th>\n",
       "      <th>Vfov_deg</th>\n",
       "      <th>Number_units</th>\n",
       "      <th>Voltage_V</th>\n",
       "      <th>Current_A</th>\n",
       "      <th>Link</th>\n",
       "    </tr>\n",
       "    <tr>\n",
       "      <th>Name</th>\n",
       "      <th></th>\n",
       "      <th></th>\n",
       "      <th></th>\n",
       "      <th></th>\n",
       "      <th></th>\n",
       "      <th></th>\n",
       "      <th></th>\n",
       "      <th></th>\n",
       "      <th></th>\n",
       "    </tr>\n",
       "  </thead>\n",
       "  <tbody>\n",
       "    <tr>\n",
       "      <th>Laser1</th>\n",
       "      <td>20.0</td>\n",
       "      <td>850</td>\n",
       "      <td>0.95</td>\n",
       "      <td>60</td>\n",
       "      <td>60</td>\n",
       "      <td>1</td>\n",
       "      <td>NaN</td>\n",
       "      <td>NaN</td>\n",
       "      <td>NaN</td>\n",
       "    </tr>\n",
       "    <tr>\n",
       "      <th>VCSEL2</th>\n",
       "      <td>10.0</td>\n",
       "      <td>940</td>\n",
       "      <td>0.95</td>\n",
       "      <td>60</td>\n",
       "      <td>60</td>\n",
       "      <td>1</td>\n",
       "      <td>NaN</td>\n",
       "      <td>NaN</td>\n",
       "      <td>NaN</td>\n",
       "    </tr>\n",
       "    <tr>\n",
       "      <th>L1550G1</th>\n",
       "      <td>2.1</td>\n",
       "      <td>1550</td>\n",
       "      <td>0.95</td>\n",
       "      <td>40</td>\n",
       "      <td>20</td>\n",
       "      <td>4</td>\n",
       "      <td>1.9</td>\n",
       "      <td>6.000000</td>\n",
       "      <td>https://www.thorlabs.com/drawings/471c86010a0aa6dc-F53DE964-0AE3-E9AF-406B86F1AA7C426E/L1550G1-SpecSheet.pdf</td>\n",
       "    </tr>\n",
       "    <tr>\n",
       "      <th>MCM-105</th>\n",
       "      <td>20.0</td>\n",
       "      <td>1550</td>\n",
       "      <td>0.95</td>\n",
       "      <td>40</td>\n",
       "      <td>20</td>\n",
       "      <td>1</td>\n",
       "      <td>10.7</td>\n",
       "      <td>9.090909</td>\n",
       "      <td>https://www.laserdiodesource.com/files/pdfs/laserdiodesource_com/product-2924/1550nm_20W_Fiber_Coupled_Module_Seminex-1459186218.pdf</td>\n",
       "    </tr>\n",
       "    <tr>\n",
       "      <th>VCSEL_940_ii_vi</th>\n",
       "      <td>4.0</td>\n",
       "      <td>940</td>\n",
       "      <td>0.95</td>\n",
       "      <td>40</td>\n",
       "      <td>20</td>\n",
       "      <td>1</td>\n",
       "      <td>2.0</td>\n",
       "      <td>6.000000</td>\n",
       "      <td>https://www.ii-vi.com/wp-content/uploads/2019/07/940nm-Multi-Mode-High-Power-VCSEL-Array-web-2-1.pdf</td>\n",
       "    </tr>\n",
       "    <tr>\n",
       "      <th>MCM-124</th>\n",
       "      <td>28.0</td>\n",
       "      <td>1375</td>\n",
       "      <td>0.95</td>\n",
       "      <td>40</td>\n",
       "      <td>20</td>\n",
       "      <td>1</td>\n",
       "      <td>11.5</td>\n",
       "      <td>12.500000</td>\n",
       "      <td>https://www.laserdiodesource.com/files/pdfs/laserdiodesource_com/product-2924/1550nm_20W_Fiber_Coupled_Module_Seminex-1459186218.pdf</td>\n",
       "    </tr>\n",
       "    <tr>\n",
       "      <th>fake_tof_850</th>\n",
       "      <td>25.0</td>\n",
       "      <td>850</td>\n",
       "      <td>0.95</td>\n",
       "      <td>70</td>\n",
       "      <td>60</td>\n",
       "      <td>2</td>\n",
       "      <td>NaN</td>\n",
       "      <td>NaN</td>\n",
       "      <td>NaN</td>\n",
       "    </tr>\n",
       "    <tr>\n",
       "      <th>fake_tof_940</th>\n",
       "      <td>19.0</td>\n",
       "      <td>940</td>\n",
       "      <td>0.95</td>\n",
       "      <td>70</td>\n",
       "      <td>60</td>\n",
       "      <td>2</td>\n",
       "      <td>NaN</td>\n",
       "      <td>NaN</td>\n",
       "      <td>NaN</td>\n",
       "    </tr>\n",
       "    <tr>\n",
       "      <th>fake_tof_1375</th>\n",
       "      <td>11.0</td>\n",
       "      <td>1375</td>\n",
       "      <td>0.95</td>\n",
       "      <td>70</td>\n",
       "      <td>60</td>\n",
       "      <td>2</td>\n",
       "      <td>NaN</td>\n",
       "      <td>NaN</td>\n",
       "      <td>NaN</td>\n",
       "    </tr>\n",
       "    <tr>\n",
       "      <th>fake_tof_1550</th>\n",
       "      <td>9.5</td>\n",
       "      <td>1550</td>\n",
       "      <td>0.95</td>\n",
       "      <td>70</td>\n",
       "      <td>60</td>\n",
       "      <td>2</td>\n",
       "      <td>NaN</td>\n",
       "      <td>NaN</td>\n",
       "      <td>NaN</td>\n",
       "    </tr>\n",
       "  </tbody>\n",
       "</table>"
      ],
      "text/plain": [
       "<IPython.core.display.HTML object>"
      ]
     },
     "metadata": {},
     "output_type": "display_data"
    }
   ],
   "source": [
    "def overide_phototonic(photonic):\n",
    "    photonic.sensor_.loc['ToF_850','DkSig_e_s'] = 50000 # [e-/sec]\n",
    "    photonic.sensor_.loc['ToF_850', 'epi_thick_um'] = 9.5 # [um]\n",
    "    photonic.update_photonic()\n",
    "    return photonic\n",
    "\n",
    "photonic = Photonic()\n",
    "display(HTML(photonic.config_.to_html()))\n",
    "display(HTML(photonic.sensor_.to_html()))\n",
    "display(HTML(photonic.light_.to_html()))"
   ]
  },
  {
   "cell_type": "markdown",
   "metadata": {},
   "source": [
    "# Flux on object"
   ]
  },
  {
   "cell_type": "markdown",
   "metadata": {},
   "source": [
    "## Side by side comparison"
   ]
  },
  {
   "cell_type": "code",
   "execution_count": 3,
   "metadata": {},
   "outputs": [
    {
     "data": {
      "application/vnd.plotly.v1+json": {
       "config": {
        "linkText": "Export to plot.ly",
        "plotlyServerURL": "https://plot.ly",
        "showLink": false
       },
       "data": [
        {
         "mode": "lines+markers",
         "name": "day_940 IR",
         "type": "scatter",
         "x": [
          0.5,
          1,
          2,
          5,
          10
         ],
         "y": [
          112866.00879564187,
          28216.502198910468,
          7054.125549727617,
          1128.660087956419,
          282.16502198910473
         ]
        },
        {
         "mode": "lines+markers",
         "name": "day_940 Solar",
         "type": "scatter",
         "x": [
          0.5,
          1,
          2,
          5,
          10
         ],
         "y": [
          10603.38235294117,
          10603.38235294117,
          10603.38235294117,
          10603.38235294117,
          10603.38235294117
         ]
        },
        {
         "mode": "lines+markers",
         "name": "day_1375 IR",
         "type": "scatter",
         "x": [
          0.5,
          1,
          2,
          5,
          10
         ],
         "y": [
          65343.478776424236,
          16335.869694106059,
          4083.9674235265147,
          653.4347877642424,
          163.3586969410606
         ]
        },
        {
         "mode": "lines+markers",
         "name": "day_1375 Solar",
         "type": "scatter",
         "x": [
          0.5,
          1,
          2,
          5,
          10
         ],
         "y": [
          1100.1089743589632,
          1100.1089743589632,
          1100.1089743589632,
          1100.1089743589632,
          1100.1089743589632
         ]
        }
       ],
       "layout": {
        "barmode": "group",
        "hovermode": "x",
        "template": {
         "data": {
          "bar": [
           {
            "error_x": {
             "color": "#f2f5fa"
            },
            "error_y": {
             "color": "#f2f5fa"
            },
            "marker": {
             "line": {
              "color": "rgb(17,17,17)",
              "width": 0.5
             }
            },
            "type": "bar"
           }
          ],
          "barpolar": [
           {
            "marker": {
             "line": {
              "color": "rgb(17,17,17)",
              "width": 0.5
             }
            },
            "type": "barpolar"
           }
          ],
          "carpet": [
           {
            "aaxis": {
             "endlinecolor": "#A2B1C6",
             "gridcolor": "#506784",
             "linecolor": "#506784",
             "minorgridcolor": "#506784",
             "startlinecolor": "#A2B1C6"
            },
            "baxis": {
             "endlinecolor": "#A2B1C6",
             "gridcolor": "#506784",
             "linecolor": "#506784",
             "minorgridcolor": "#506784",
             "startlinecolor": "#A2B1C6"
            },
            "type": "carpet"
           }
          ],
          "choropleth": [
           {
            "colorbar": {
             "outlinewidth": 0,
             "ticks": ""
            },
            "type": "choropleth"
           }
          ],
          "contour": [
           {
            "colorbar": {
             "outlinewidth": 0,
             "ticks": ""
            },
            "colorscale": [
             [
              0,
              "#0d0887"
             ],
             [
              0.1111111111111111,
              "#46039f"
             ],
             [
              0.2222222222222222,
              "#7201a8"
             ],
             [
              0.3333333333333333,
              "#9c179e"
             ],
             [
              0.4444444444444444,
              "#bd3786"
             ],
             [
              0.5555555555555556,
              "#d8576b"
             ],
             [
              0.6666666666666666,
              "#ed7953"
             ],
             [
              0.7777777777777778,
              "#fb9f3a"
             ],
             [
              0.8888888888888888,
              "#fdca26"
             ],
             [
              1,
              "#f0f921"
             ]
            ],
            "type": "contour"
           }
          ],
          "contourcarpet": [
           {
            "colorbar": {
             "outlinewidth": 0,
             "ticks": ""
            },
            "type": "contourcarpet"
           }
          ],
          "heatmap": [
           {
            "colorbar": {
             "outlinewidth": 0,
             "ticks": ""
            },
            "colorscale": [
             [
              0,
              "#0d0887"
             ],
             [
              0.1111111111111111,
              "#46039f"
             ],
             [
              0.2222222222222222,
              "#7201a8"
             ],
             [
              0.3333333333333333,
              "#9c179e"
             ],
             [
              0.4444444444444444,
              "#bd3786"
             ],
             [
              0.5555555555555556,
              "#d8576b"
             ],
             [
              0.6666666666666666,
              "#ed7953"
             ],
             [
              0.7777777777777778,
              "#fb9f3a"
             ],
             [
              0.8888888888888888,
              "#fdca26"
             ],
             [
              1,
              "#f0f921"
             ]
            ],
            "type": "heatmap"
           }
          ],
          "heatmapgl": [
           {
            "colorbar": {
             "outlinewidth": 0,
             "ticks": ""
            },
            "colorscale": [
             [
              0,
              "#0d0887"
             ],
             [
              0.1111111111111111,
              "#46039f"
             ],
             [
              0.2222222222222222,
              "#7201a8"
             ],
             [
              0.3333333333333333,
              "#9c179e"
             ],
             [
              0.4444444444444444,
              "#bd3786"
             ],
             [
              0.5555555555555556,
              "#d8576b"
             ],
             [
              0.6666666666666666,
              "#ed7953"
             ],
             [
              0.7777777777777778,
              "#fb9f3a"
             ],
             [
              0.8888888888888888,
              "#fdca26"
             ],
             [
              1,
              "#f0f921"
             ]
            ],
            "type": "heatmapgl"
           }
          ],
          "histogram": [
           {
            "marker": {
             "colorbar": {
              "outlinewidth": 0,
              "ticks": ""
             }
            },
            "type": "histogram"
           }
          ],
          "histogram2d": [
           {
            "colorbar": {
             "outlinewidth": 0,
             "ticks": ""
            },
            "colorscale": [
             [
              0,
              "#0d0887"
             ],
             [
              0.1111111111111111,
              "#46039f"
             ],
             [
              0.2222222222222222,
              "#7201a8"
             ],
             [
              0.3333333333333333,
              "#9c179e"
             ],
             [
              0.4444444444444444,
              "#bd3786"
             ],
             [
              0.5555555555555556,
              "#d8576b"
             ],
             [
              0.6666666666666666,
              "#ed7953"
             ],
             [
              0.7777777777777778,
              "#fb9f3a"
             ],
             [
              0.8888888888888888,
              "#fdca26"
             ],
             [
              1,
              "#f0f921"
             ]
            ],
            "type": "histogram2d"
           }
          ],
          "histogram2dcontour": [
           {
            "colorbar": {
             "outlinewidth": 0,
             "ticks": ""
            },
            "colorscale": [
             [
              0,
              "#0d0887"
             ],
             [
              0.1111111111111111,
              "#46039f"
             ],
             [
              0.2222222222222222,
              "#7201a8"
             ],
             [
              0.3333333333333333,
              "#9c179e"
             ],
             [
              0.4444444444444444,
              "#bd3786"
             ],
             [
              0.5555555555555556,
              "#d8576b"
             ],
             [
              0.6666666666666666,
              "#ed7953"
             ],
             [
              0.7777777777777778,
              "#fb9f3a"
             ],
             [
              0.8888888888888888,
              "#fdca26"
             ],
             [
              1,
              "#f0f921"
             ]
            ],
            "type": "histogram2dcontour"
           }
          ],
          "mesh3d": [
           {
            "colorbar": {
             "outlinewidth": 0,
             "ticks": ""
            },
            "type": "mesh3d"
           }
          ],
          "parcoords": [
           {
            "line": {
             "colorbar": {
              "outlinewidth": 0,
              "ticks": ""
             }
            },
            "type": "parcoords"
           }
          ],
          "scatter": [
           {
            "marker": {
             "line": {
              "color": "#283442"
             }
            },
            "type": "scatter"
           }
          ],
          "scatter3d": [
           {
            "line": {
             "colorbar": {
              "outlinewidth": 0,
              "ticks": ""
             }
            },
            "marker": {
             "colorbar": {
              "outlinewidth": 0,
              "ticks": ""
             }
            },
            "type": "scatter3d"
           }
          ],
          "scattercarpet": [
           {
            "marker": {
             "colorbar": {
              "outlinewidth": 0,
              "ticks": ""
             }
            },
            "type": "scattercarpet"
           }
          ],
          "scattergeo": [
           {
            "marker": {
             "colorbar": {
              "outlinewidth": 0,
              "ticks": ""
             }
            },
            "type": "scattergeo"
           }
          ],
          "scattergl": [
           {
            "marker": {
             "line": {
              "color": "#283442"
             }
            },
            "type": "scattergl"
           }
          ],
          "scattermapbox": [
           {
            "marker": {
             "colorbar": {
              "outlinewidth": 0,
              "ticks": ""
             }
            },
            "type": "scattermapbox"
           }
          ],
          "scatterpolar": [
           {
            "marker": {
             "colorbar": {
              "outlinewidth": 0,
              "ticks": ""
             }
            },
            "type": "scatterpolar"
           }
          ],
          "scatterpolargl": [
           {
            "marker": {
             "colorbar": {
              "outlinewidth": 0,
              "ticks": ""
             }
            },
            "type": "scatterpolargl"
           }
          ],
          "scatterternary": [
           {
            "marker": {
             "colorbar": {
              "outlinewidth": 0,
              "ticks": ""
             }
            },
            "type": "scatterternary"
           }
          ],
          "surface": [
           {
            "colorbar": {
             "outlinewidth": 0,
             "ticks": ""
            },
            "colorscale": [
             [
              0,
              "#0d0887"
             ],
             [
              0.1111111111111111,
              "#46039f"
             ],
             [
              0.2222222222222222,
              "#7201a8"
             ],
             [
              0.3333333333333333,
              "#9c179e"
             ],
             [
              0.4444444444444444,
              "#bd3786"
             ],
             [
              0.5555555555555556,
              "#d8576b"
             ],
             [
              0.6666666666666666,
              "#ed7953"
             ],
             [
              0.7777777777777778,
              "#fb9f3a"
             ],
             [
              0.8888888888888888,
              "#fdca26"
             ],
             [
              1,
              "#f0f921"
             ]
            ],
            "type": "surface"
           }
          ],
          "table": [
           {
            "cells": {
             "fill": {
              "color": "#506784"
             },
             "line": {
              "color": "rgb(17,17,17)"
             }
            },
            "header": {
             "fill": {
              "color": "#2a3f5f"
             },
             "line": {
              "color": "rgb(17,17,17)"
             }
            },
            "type": "table"
           }
          ]
         },
         "layout": {
          "annotationdefaults": {
           "arrowcolor": "#f2f5fa",
           "arrowhead": 0,
           "arrowwidth": 1
          },
          "colorscale": {
           "diverging": [
            [
             0,
             "#8e0152"
            ],
            [
             0.1,
             "#c51b7d"
            ],
            [
             0.2,
             "#de77ae"
            ],
            [
             0.3,
             "#f1b6da"
            ],
            [
             0.4,
             "#fde0ef"
            ],
            [
             0.5,
             "#f7f7f7"
            ],
            [
             0.6,
             "#e6f5d0"
            ],
            [
             0.7,
             "#b8e186"
            ],
            [
             0.8,
             "#7fbc41"
            ],
            [
             0.9,
             "#4d9221"
            ],
            [
             1,
             "#276419"
            ]
           ],
           "sequential": [
            [
             0,
             "#0d0887"
            ],
            [
             0.1111111111111111,
             "#46039f"
            ],
            [
             0.2222222222222222,
             "#7201a8"
            ],
            [
             0.3333333333333333,
             "#9c179e"
            ],
            [
             0.4444444444444444,
             "#bd3786"
            ],
            [
             0.5555555555555556,
             "#d8576b"
            ],
            [
             0.6666666666666666,
             "#ed7953"
            ],
            [
             0.7777777777777778,
             "#fb9f3a"
            ],
            [
             0.8888888888888888,
             "#fdca26"
            ],
            [
             1,
             "#f0f921"
            ]
           ],
           "sequentialminus": [
            [
             0,
             "#0d0887"
            ],
            [
             0.1111111111111111,
             "#46039f"
            ],
            [
             0.2222222222222222,
             "#7201a8"
            ],
            [
             0.3333333333333333,
             "#9c179e"
            ],
            [
             0.4444444444444444,
             "#bd3786"
            ],
            [
             0.5555555555555556,
             "#d8576b"
            ],
            [
             0.6666666666666666,
             "#ed7953"
            ],
            [
             0.7777777777777778,
             "#fb9f3a"
            ],
            [
             0.8888888888888888,
             "#fdca26"
            ],
            [
             1,
             "#f0f921"
            ]
           ]
          },
          "colorway": [
           "#636efa",
           "#EF553B",
           "#00cc96",
           "#ab63fa",
           "#FFA15A",
           "#19d3f3",
           "#FF6692",
           "#B6E880",
           "#FF97FF",
           "#FECB52"
          ],
          "font": {
           "color": "#f2f5fa"
          },
          "geo": {
           "bgcolor": "rgb(17,17,17)",
           "lakecolor": "rgb(17,17,17)",
           "landcolor": "rgb(17,17,17)",
           "showlakes": true,
           "showland": true,
           "subunitcolor": "#506784"
          },
          "hoverlabel": {
           "align": "left"
          },
          "hovermode": "closest",
          "mapbox": {
           "style": "dark"
          },
          "paper_bgcolor": "rgb(17,17,17)",
          "plot_bgcolor": "rgb(17,17,17)",
          "polar": {
           "angularaxis": {
            "gridcolor": "#506784",
            "linecolor": "#506784",
            "ticks": ""
           },
           "bgcolor": "rgb(17,17,17)",
           "radialaxis": {
            "gridcolor": "#506784",
            "linecolor": "#506784",
            "ticks": ""
           }
          },
          "scene": {
           "xaxis": {
            "backgroundcolor": "rgb(17,17,17)",
            "gridcolor": "#506784",
            "gridwidth": 2,
            "linecolor": "#506784",
            "showbackground": true,
            "ticks": "",
            "zerolinecolor": "#C8D4E3"
           },
           "yaxis": {
            "backgroundcolor": "rgb(17,17,17)",
            "gridcolor": "#506784",
            "gridwidth": 2,
            "linecolor": "#506784",
            "showbackground": true,
            "ticks": "",
            "zerolinecolor": "#C8D4E3"
           },
           "zaxis": {
            "backgroundcolor": "rgb(17,17,17)",
            "gridcolor": "#506784",
            "gridwidth": 2,
            "linecolor": "#506784",
            "showbackground": true,
            "ticks": "",
            "zerolinecolor": "#C8D4E3"
           }
          },
          "shapedefaults": {
           "line": {
            "color": "#f2f5fa"
           }
          },
          "sliderdefaults": {
           "bgcolor": "#C8D4E3",
           "bordercolor": "rgb(17,17,17)",
           "borderwidth": 1,
           "tickwidth": 0
          },
          "ternary": {
           "aaxis": {
            "gridcolor": "#506784",
            "linecolor": "#506784",
            "ticks": ""
           },
           "baxis": {
            "gridcolor": "#506784",
            "linecolor": "#506784",
            "ticks": ""
           },
           "bgcolor": "rgb(17,17,17)",
           "caxis": {
            "gridcolor": "#506784",
            "linecolor": "#506784",
            "ticks": ""
           }
          },
          "title": {
           "x": 0.05
          },
          "updatemenudefaults": {
           "bgcolor": "#506784",
           "borderwidth": 0
          },
          "xaxis": {
           "automargin": true,
           "gridcolor": "#283442",
           "linecolor": "#506784",
           "ticks": "",
           "zerolinecolor": "#283442",
           "zerolinewidth": 2
          },
          "yaxis": {
           "automargin": true,
           "gridcolor": "#283442",
           "linecolor": "#506784",
           "ticks": "",
           "zerolinecolor": "#283442",
           "zerolinewidth": 2
          }
         }
        },
        "title": {
         "text": "Photonic simulation - Flux on wall - Fake ToF - Constrained to Same Illumination Power"
        },
        "xaxis": {
         "title": {
          "text": "Wall Distance [m]"
         },
         "type": "log"
        },
        "yaxis": {
         "title": {
          "text": "Flux [mW/m**2]"
         },
         "type": "log"
        }
       }
      },
      "text/html": [
       "<div>\n",
       "        \n",
       "        \n",
       "            <div id=\"77b39e7b-9337-4217-8138-de1fd1575ec7\" class=\"plotly-graph-div\" style=\"height:525px; width:100%;\"></div>\n",
       "            <script type=\"text/javascript\">\n",
       "                require([\"plotly\"], function(Plotly) {\n",
       "                    window.PLOTLYENV=window.PLOTLYENV || {};\n",
       "                    \n",
       "                if (document.getElementById(\"77b39e7b-9337-4217-8138-de1fd1575ec7\")) {\n",
       "                    Plotly.newPlot(\n",
       "                        '77b39e7b-9337-4217-8138-de1fd1575ec7',\n",
       "                        [{\"mode\": \"lines+markers\", \"name\": \"day_940 IR\", \"type\": \"scatter\", \"x\": [0.5, 1.0, 2.0, 5.0, 10.0], \"y\": [112866.00879564187, 28216.502198910468, 7054.125549727617, 1128.660087956419, 282.16502198910473]}, {\"mode\": \"lines+markers\", \"name\": \"day_940 Solar\", \"type\": \"scatter\", \"x\": [0.5, 1.0, 2.0, 5.0, 10.0], \"y\": [10603.38235294117, 10603.38235294117, 10603.38235294117, 10603.38235294117, 10603.38235294117]}, {\"mode\": \"lines+markers\", \"name\": \"day_1375 IR\", \"type\": \"scatter\", \"x\": [0.5, 1.0, 2.0, 5.0, 10.0], \"y\": [65343.478776424236, 16335.869694106059, 4083.9674235265147, 653.4347877642424, 163.3586969410606]}, {\"mode\": \"lines+markers\", \"name\": \"day_1375 Solar\", \"type\": \"scatter\", \"x\": [0.5, 1.0, 2.0, 5.0, 10.0], \"y\": [1100.1089743589632, 1100.1089743589632, 1100.1089743589632, 1100.1089743589632, 1100.1089743589632]}],\n",
       "                        {\"barmode\": \"group\", \"hovermode\": \"x\", \"template\": {\"data\": {\"bar\": [{\"error_x\": {\"color\": \"#f2f5fa\"}, \"error_y\": {\"color\": \"#f2f5fa\"}, \"marker\": {\"line\": {\"color\": \"rgb(17,17,17)\", \"width\": 0.5}}, \"type\": \"bar\"}], \"barpolar\": [{\"marker\": {\"line\": {\"color\": \"rgb(17,17,17)\", \"width\": 0.5}}, \"type\": \"barpolar\"}], \"carpet\": [{\"aaxis\": {\"endlinecolor\": \"#A2B1C6\", \"gridcolor\": \"#506784\", \"linecolor\": \"#506784\", \"minorgridcolor\": \"#506784\", \"startlinecolor\": \"#A2B1C6\"}, \"baxis\": {\"endlinecolor\": \"#A2B1C6\", \"gridcolor\": \"#506784\", \"linecolor\": \"#506784\", \"minorgridcolor\": \"#506784\", \"startlinecolor\": \"#A2B1C6\"}, \"type\": \"carpet\"}], \"choropleth\": [{\"colorbar\": {\"outlinewidth\": 0, \"ticks\": \"\"}, \"type\": \"choropleth\"}], \"contour\": [{\"colorbar\": {\"outlinewidth\": 0, \"ticks\": \"\"}, \"colorscale\": [[0.0, \"#0d0887\"], [0.1111111111111111, \"#46039f\"], [0.2222222222222222, \"#7201a8\"], [0.3333333333333333, \"#9c179e\"], [0.4444444444444444, \"#bd3786\"], [0.5555555555555556, \"#d8576b\"], [0.6666666666666666, \"#ed7953\"], [0.7777777777777778, \"#fb9f3a\"], [0.8888888888888888, \"#fdca26\"], [1.0, \"#f0f921\"]], \"type\": \"contour\"}], \"contourcarpet\": [{\"colorbar\": {\"outlinewidth\": 0, \"ticks\": \"\"}, \"type\": \"contourcarpet\"}], \"heatmap\": [{\"colorbar\": {\"outlinewidth\": 0, \"ticks\": \"\"}, \"colorscale\": [[0.0, \"#0d0887\"], [0.1111111111111111, \"#46039f\"], [0.2222222222222222, \"#7201a8\"], [0.3333333333333333, \"#9c179e\"], [0.4444444444444444, \"#bd3786\"], [0.5555555555555556, \"#d8576b\"], [0.6666666666666666, \"#ed7953\"], [0.7777777777777778, \"#fb9f3a\"], [0.8888888888888888, \"#fdca26\"], [1.0, \"#f0f921\"]], \"type\": \"heatmap\"}], \"heatmapgl\": [{\"colorbar\": {\"outlinewidth\": 0, \"ticks\": \"\"}, \"colorscale\": [[0.0, \"#0d0887\"], [0.1111111111111111, \"#46039f\"], [0.2222222222222222, \"#7201a8\"], [0.3333333333333333, \"#9c179e\"], [0.4444444444444444, \"#bd3786\"], [0.5555555555555556, \"#d8576b\"], [0.6666666666666666, \"#ed7953\"], [0.7777777777777778, \"#fb9f3a\"], [0.8888888888888888, \"#fdca26\"], [1.0, \"#f0f921\"]], \"type\": \"heatmapgl\"}], \"histogram\": [{\"marker\": {\"colorbar\": {\"outlinewidth\": 0, \"ticks\": \"\"}}, \"type\": \"histogram\"}], \"histogram2d\": [{\"colorbar\": {\"outlinewidth\": 0, \"ticks\": \"\"}, \"colorscale\": [[0.0, \"#0d0887\"], [0.1111111111111111, \"#46039f\"], [0.2222222222222222, \"#7201a8\"], [0.3333333333333333, \"#9c179e\"], [0.4444444444444444, \"#bd3786\"], [0.5555555555555556, \"#d8576b\"], [0.6666666666666666, \"#ed7953\"], [0.7777777777777778, \"#fb9f3a\"], [0.8888888888888888, \"#fdca26\"], [1.0, \"#f0f921\"]], \"type\": \"histogram2d\"}], \"histogram2dcontour\": [{\"colorbar\": {\"outlinewidth\": 0, \"ticks\": \"\"}, \"colorscale\": [[0.0, \"#0d0887\"], [0.1111111111111111, \"#46039f\"], [0.2222222222222222, \"#7201a8\"], [0.3333333333333333, \"#9c179e\"], [0.4444444444444444, \"#bd3786\"], [0.5555555555555556, \"#d8576b\"], [0.6666666666666666, \"#ed7953\"], [0.7777777777777778, \"#fb9f3a\"], [0.8888888888888888, \"#fdca26\"], [1.0, \"#f0f921\"]], \"type\": \"histogram2dcontour\"}], \"mesh3d\": [{\"colorbar\": {\"outlinewidth\": 0, \"ticks\": \"\"}, \"type\": \"mesh3d\"}], \"parcoords\": [{\"line\": {\"colorbar\": {\"outlinewidth\": 0, \"ticks\": \"\"}}, \"type\": \"parcoords\"}], \"scatter\": [{\"marker\": {\"line\": {\"color\": \"#283442\"}}, \"type\": \"scatter\"}], \"scatter3d\": [{\"line\": {\"colorbar\": {\"outlinewidth\": 0, \"ticks\": \"\"}}, \"marker\": {\"colorbar\": {\"outlinewidth\": 0, \"ticks\": \"\"}}, \"type\": \"scatter3d\"}], \"scattercarpet\": [{\"marker\": {\"colorbar\": {\"outlinewidth\": 0, \"ticks\": \"\"}}, \"type\": \"scattercarpet\"}], \"scattergeo\": [{\"marker\": {\"colorbar\": {\"outlinewidth\": 0, \"ticks\": \"\"}}, \"type\": \"scattergeo\"}], \"scattergl\": [{\"marker\": {\"line\": {\"color\": \"#283442\"}}, \"type\": \"scattergl\"}], \"scattermapbox\": [{\"marker\": {\"colorbar\": {\"outlinewidth\": 0, \"ticks\": \"\"}}, \"type\": \"scattermapbox\"}], \"scatterpolar\": [{\"marker\": {\"colorbar\": {\"outlinewidth\": 0, \"ticks\": \"\"}}, \"type\": \"scatterpolar\"}], \"scatterpolargl\": [{\"marker\": {\"colorbar\": {\"outlinewidth\": 0, \"ticks\": \"\"}}, \"type\": \"scatterpolargl\"}], \"scatterternary\": [{\"marker\": {\"colorbar\": {\"outlinewidth\": 0, \"ticks\": \"\"}}, \"type\": \"scatterternary\"}], \"surface\": [{\"colorbar\": {\"outlinewidth\": 0, \"ticks\": \"\"}, \"colorscale\": [[0.0, \"#0d0887\"], [0.1111111111111111, \"#46039f\"], [0.2222222222222222, \"#7201a8\"], [0.3333333333333333, \"#9c179e\"], [0.4444444444444444, \"#bd3786\"], [0.5555555555555556, \"#d8576b\"], [0.6666666666666666, \"#ed7953\"], [0.7777777777777778, \"#fb9f3a\"], [0.8888888888888888, \"#fdca26\"], [1.0, \"#f0f921\"]], \"type\": \"surface\"}], \"table\": [{\"cells\": {\"fill\": {\"color\": \"#506784\"}, \"line\": {\"color\": \"rgb(17,17,17)\"}}, \"header\": {\"fill\": {\"color\": \"#2a3f5f\"}, \"line\": {\"color\": \"rgb(17,17,17)\"}}, \"type\": \"table\"}]}, \"layout\": {\"annotationdefaults\": {\"arrowcolor\": \"#f2f5fa\", \"arrowhead\": 0, \"arrowwidth\": 1}, \"colorscale\": {\"diverging\": [[0, \"#8e0152\"], [0.1, \"#c51b7d\"], [0.2, \"#de77ae\"], [0.3, \"#f1b6da\"], [0.4, \"#fde0ef\"], [0.5, \"#f7f7f7\"], [0.6, \"#e6f5d0\"], [0.7, \"#b8e186\"], [0.8, \"#7fbc41\"], [0.9, \"#4d9221\"], [1, \"#276419\"]], \"sequential\": [[0.0, \"#0d0887\"], [0.1111111111111111, \"#46039f\"], [0.2222222222222222, \"#7201a8\"], [0.3333333333333333, \"#9c179e\"], [0.4444444444444444, \"#bd3786\"], [0.5555555555555556, \"#d8576b\"], [0.6666666666666666, \"#ed7953\"], [0.7777777777777778, \"#fb9f3a\"], [0.8888888888888888, \"#fdca26\"], [1.0, \"#f0f921\"]], \"sequentialminus\": [[0.0, \"#0d0887\"], [0.1111111111111111, \"#46039f\"], [0.2222222222222222, \"#7201a8\"], [0.3333333333333333, \"#9c179e\"], [0.4444444444444444, \"#bd3786\"], [0.5555555555555556, \"#d8576b\"], [0.6666666666666666, \"#ed7953\"], [0.7777777777777778, \"#fb9f3a\"], [0.8888888888888888, \"#fdca26\"], [1.0, \"#f0f921\"]]}, \"colorway\": [\"#636efa\", \"#EF553B\", \"#00cc96\", \"#ab63fa\", \"#FFA15A\", \"#19d3f3\", \"#FF6692\", \"#B6E880\", \"#FF97FF\", \"#FECB52\"], \"font\": {\"color\": \"#f2f5fa\"}, \"geo\": {\"bgcolor\": \"rgb(17,17,17)\", \"lakecolor\": \"rgb(17,17,17)\", \"landcolor\": \"rgb(17,17,17)\", \"showlakes\": true, \"showland\": true, \"subunitcolor\": \"#506784\"}, \"hoverlabel\": {\"align\": \"left\"}, \"hovermode\": \"closest\", \"mapbox\": {\"style\": \"dark\"}, \"paper_bgcolor\": \"rgb(17,17,17)\", \"plot_bgcolor\": \"rgb(17,17,17)\", \"polar\": {\"angularaxis\": {\"gridcolor\": \"#506784\", \"linecolor\": \"#506784\", \"ticks\": \"\"}, \"bgcolor\": \"rgb(17,17,17)\", \"radialaxis\": {\"gridcolor\": \"#506784\", \"linecolor\": \"#506784\", \"ticks\": \"\"}}, \"scene\": {\"xaxis\": {\"backgroundcolor\": \"rgb(17,17,17)\", \"gridcolor\": \"#506784\", \"gridwidth\": 2, \"linecolor\": \"#506784\", \"showbackground\": true, \"ticks\": \"\", \"zerolinecolor\": \"#C8D4E3\"}, \"yaxis\": {\"backgroundcolor\": \"rgb(17,17,17)\", \"gridcolor\": \"#506784\", \"gridwidth\": 2, \"linecolor\": \"#506784\", \"showbackground\": true, \"ticks\": \"\", \"zerolinecolor\": \"#C8D4E3\"}, \"zaxis\": {\"backgroundcolor\": \"rgb(17,17,17)\", \"gridcolor\": \"#506784\", \"gridwidth\": 2, \"linecolor\": \"#506784\", \"showbackground\": true, \"ticks\": \"\", \"zerolinecolor\": \"#C8D4E3\"}}, \"shapedefaults\": {\"line\": {\"color\": \"#f2f5fa\"}}, \"sliderdefaults\": {\"bgcolor\": \"#C8D4E3\", \"bordercolor\": \"rgb(17,17,17)\", \"borderwidth\": 1, \"tickwidth\": 0}, \"ternary\": {\"aaxis\": {\"gridcolor\": \"#506784\", \"linecolor\": \"#506784\", \"ticks\": \"\"}, \"baxis\": {\"gridcolor\": \"#506784\", \"linecolor\": \"#506784\", \"ticks\": \"\"}, \"bgcolor\": \"rgb(17,17,17)\", \"caxis\": {\"gridcolor\": \"#506784\", \"linecolor\": \"#506784\", \"ticks\": \"\"}}, \"title\": {\"x\": 0.05}, \"updatemenudefaults\": {\"bgcolor\": \"#506784\", \"borderwidth\": 0}, \"xaxis\": {\"automargin\": true, \"gridcolor\": \"#283442\", \"linecolor\": \"#506784\", \"ticks\": \"\", \"zerolinecolor\": \"#283442\", \"zerolinewidth\": 2}, \"yaxis\": {\"automargin\": true, \"gridcolor\": \"#283442\", \"linecolor\": \"#506784\", \"ticks\": \"\", \"zerolinecolor\": \"#283442\", \"zerolinewidth\": 2}}}, \"title\": {\"text\": \"Photonic simulation - Flux on wall - Fake ToF - Constrained to Same Illumination Power\"}, \"xaxis\": {\"title\": {\"text\": \"Wall Distance [m]\"}, \"type\": \"log\"}, \"yaxis\": {\"title\": {\"text\": \"Flux [mW/m**2]\"}, \"type\": \"log\"}},\n",
       "                        {\"responsive\": true}\n",
       "                    ).then(function(){\n",
       "                            \n",
       "var gd = document.getElementById('77b39e7b-9337-4217-8138-de1fd1575ec7');\n",
       "var x = new MutationObserver(function (mutations, observer) {{\n",
       "        var display = window.getComputedStyle(gd).display;\n",
       "        if (!display || display === 'none') {{\n",
       "            console.log([gd, 'removed!']);\n",
       "            Plotly.purge(gd);\n",
       "            observer.disconnect();\n",
       "        }}\n",
       "}});\n",
       "\n",
       "// Listen for the removal of the full notebook cells\n",
       "var notebookContainer = gd.closest('#notebook-container');\n",
       "if (notebookContainer) {{\n",
       "    x.observe(notebookContainer, {childList: true});\n",
       "}}\n",
       "\n",
       "// Listen for the clearing of the current output cell\n",
       "var outputEl = gd.closest('.output');\n",
       "if (outputEl) {{\n",
       "    x.observe(outputEl, {childList: true});\n",
       "}}\n",
       "\n",
       "                        })\n",
       "                };\n",
       "                });\n",
       "            </script>\n",
       "        </div>"
      ]
     },
     "metadata": {},
     "output_type": "display_data"
    }
   ],
   "source": [
    "# test_cfg = ['fake_tof_night_850','fake_tof_day_850',\n",
    "#             'fake_tof_night_940','fake_tof_day_940',\n",
    "#             'fake_tof_night_1375','fake_tof_day_1375',\n",
    "#             'fake_tof_night_1550','fake_tof_day_1550']\n",
    "# data = [0,1,2,3,4,5,6,7, 8, 9, 10, 11, 12, 13, 14, 15]\n",
    "test_cfg = ['fake_tof_day_940','fake_tof_day_1375']\n",
    "data = [0,1,2,3]\n",
    "for i, cfg in enumerate(test_cfg):\n",
    "    photonic = Photonic(config=cfg)\n",
    "    photonic = overide_phototonic(photonic)\n",
    "    dist_vec = np.array([0.5,1,2,5,10])\n",
    "    trace0 = go.Scatter(x=dist_vec,\n",
    "                        y=1000 * photonic.wallFlux(dist_vec=dist_vec),   # Select 'lines', 'markers' or 'lines+markers'\n",
    "                        mode='lines+markers', name=cfg[9:]+' IR')\n",
    "    trace1 = go.Scatter(x=dist_vec,\n",
    "                        y=1000 * photonic.wallFlux(dist_vec=dist_vec, light_type='solar'), mode='lines+markers',  # Select 'lines', 'markers' or 'lines+markers'\n",
    "                        name=(cfg[9:]+' Solar'))\n",
    "    data[2*i] = trace0\n",
    "    data[2*i+1] = trace1\n",
    "\n",
    "layout = dict(title='Photonic simulation - Flux on wall - Fake ToF - Constrained to Same Illumination Power',\n",
    "              xaxis=dict(title='Wall Distance [m]', type='log'),  # Select 'log' or 'linear'\n",
    "              yaxis=dict(title='Flux [mW/m**2]',type='log'),  # Select 'log' or 'linear'\n",
    "              template='plotly_dark',\n",
    "              barmode='group',\n",
    "              hovermode='x')\n",
    "\n",
    "iplot(dict(data=data, layout=layout))"
   ]
  },
  {
   "cell_type": "markdown",
   "metadata": {},
   "source": [
    "# Signal"
   ]
  },
  {
   "cell_type": "markdown",
   "metadata": {},
   "source": [
    "## IR Pulse"
   ]
  },
  {
   "cell_type": "code",
   "execution_count": 4,
   "metadata": {
    "scrolled": false
   },
   "outputs": [
    {
     "data": {
      "application/vnd.plotly.v1+json": {
       "config": {
        "linkText": "Export to plot.ly",
        "plotlyServerURL": "https://plot.ly",
        "showLink": false
       },
       "data": [
        {
         "mode": "lines+markers",
         "name": "night_850",
         "type": "scatter",
         "x": [
          0.5,
          0.7,
          1,
          1.5,
          2,
          3,
          4,
          5,
          7,
          10
         ],
         "y": [
          94866.02356793961,
          48401.032432622276,
          23716.505891984903,
          10540.669285326627,
          5929.126472996226,
          2635.1673213316567,
          1482.2816182490565,
          948.6602356793962,
          484.01032432622253,
          237.16505891984906
         ]
        },
        {
         "mode": "lines+markers",
         "name": "day_850",
         "type": "scatter",
         "x": [
          0.5,
          0.7,
          1,
          1.5,
          2,
          3,
          4,
          5,
          7,
          10
         ],
         "y": [
          94866.02356793961,
          48401.032432622276,
          23716.505891984903,
          10540.669285326627,
          5929.126472996226,
          2635.1673213316567,
          1482.2816182490565,
          948.6602356793962,
          484.01032432622253,
          237.16505891984906
         ]
        },
        {
         "mode": "lines+markers",
         "name": "night_940",
         "type": "scatter",
         "x": [
          0.5,
          0.7,
          1,
          1.5,
          2,
          3,
          4,
          5,
          7,
          10
         ],
         "y": [
          33071.763551742966,
          16873.34875088927,
          8267.940887935742,
          3674.640394638108,
          2066.9852219839354,
          918.660098659527,
          516.7463054959838,
          330.71763551742964,
          168.73348750889278,
          82.67940887935741
         ]
        },
        {
         "mode": "lines+markers",
         "name": "day_940",
         "type": "scatter",
         "x": [
          0.5,
          0.7,
          1,
          1.5,
          2,
          3,
          4,
          5,
          7,
          10
         ],
         "y": [
          33071.763551742966,
          16873.34875088927,
          8267.940887935742,
          3674.640394638108,
          2066.9852219839354,
          918.660098659527,
          516.7463054959838,
          330.71763551742964,
          168.73348750889278,
          82.67940887935741
         ]
        },
        {
         "mode": "lines+markers",
         "name": "night_1375",
         "type": "scatter",
         "x": [
          0.5,
          0.7,
          1,
          1.5,
          2,
          3,
          4,
          5,
          7,
          10
         ],
         "y": [
          72754.8598205892,
          37119.82643907613,
          18188.7149551473,
          8083.873313398801,
          4547.178738786825,
          2020.9683283497002,
          1136.7946846967063,
          727.5485982058923,
          371.1982643907612,
          181.88714955147307
         ]
        },
        {
         "mode": "lines+markers",
         "name": "day_1375",
         "type": "scatter",
         "x": [
          0.5,
          0.7,
          1,
          1.5,
          2,
          3,
          4,
          5,
          7,
          10
         ],
         "y": [
          72754.8598205892,
          37119.82643907613,
          18188.7149551473,
          8083.873313398801,
          4547.178738786825,
          2020.9683283497002,
          1136.7946846967063,
          727.5485982058923,
          371.1982643907612,
          181.88714955147307
         ]
        },
        {
         "mode": "lines+markers",
         "name": "night_1550",
         "type": "scatter",
         "x": [
          0.5,
          0.7,
          1,
          1.5,
          2,
          3,
          4,
          5,
          7,
          10
         ],
         "y": [
          31818.165948329282,
          16233.7581369027,
          7954.541487082321,
          3535.3517720365876,
          1988.6353717705802,
          883.8379430091469,
          497.15884294264504,
          318.1816594832929,
          162.33758136902705,
          79.54541487082322
         ]
        },
        {
         "mode": "lines+markers",
         "name": "day_1550",
         "type": "scatter",
         "x": [
          0.5,
          0.7,
          1,
          1.5,
          2,
          3,
          4,
          5,
          7,
          10
         ],
         "y": [
          31818.165948329282,
          16233.7581369027,
          7954.541487082321,
          3535.3517720365876,
          1988.6353717705802,
          883.8379430091469,
          497.15884294264504,
          318.1816594832929,
          162.33758136902705,
          79.54541487082322
         ]
        }
       ],
       "layout": {
        "barmode": "group",
        "hovermode": "x",
        "template": {
         "data": {
          "bar": [
           {
            "error_x": {
             "color": "#f2f5fa"
            },
            "error_y": {
             "color": "#f2f5fa"
            },
            "marker": {
             "line": {
              "color": "rgb(17,17,17)",
              "width": 0.5
             }
            },
            "type": "bar"
           }
          ],
          "barpolar": [
           {
            "marker": {
             "line": {
              "color": "rgb(17,17,17)",
              "width": 0.5
             }
            },
            "type": "barpolar"
           }
          ],
          "carpet": [
           {
            "aaxis": {
             "endlinecolor": "#A2B1C6",
             "gridcolor": "#506784",
             "linecolor": "#506784",
             "minorgridcolor": "#506784",
             "startlinecolor": "#A2B1C6"
            },
            "baxis": {
             "endlinecolor": "#A2B1C6",
             "gridcolor": "#506784",
             "linecolor": "#506784",
             "minorgridcolor": "#506784",
             "startlinecolor": "#A2B1C6"
            },
            "type": "carpet"
           }
          ],
          "choropleth": [
           {
            "colorbar": {
             "outlinewidth": 0,
             "ticks": ""
            },
            "type": "choropleth"
           }
          ],
          "contour": [
           {
            "colorbar": {
             "outlinewidth": 0,
             "ticks": ""
            },
            "colorscale": [
             [
              0,
              "#0d0887"
             ],
             [
              0.1111111111111111,
              "#46039f"
             ],
             [
              0.2222222222222222,
              "#7201a8"
             ],
             [
              0.3333333333333333,
              "#9c179e"
             ],
             [
              0.4444444444444444,
              "#bd3786"
             ],
             [
              0.5555555555555556,
              "#d8576b"
             ],
             [
              0.6666666666666666,
              "#ed7953"
             ],
             [
              0.7777777777777778,
              "#fb9f3a"
             ],
             [
              0.8888888888888888,
              "#fdca26"
             ],
             [
              1,
              "#f0f921"
             ]
            ],
            "type": "contour"
           }
          ],
          "contourcarpet": [
           {
            "colorbar": {
             "outlinewidth": 0,
             "ticks": ""
            },
            "type": "contourcarpet"
           }
          ],
          "heatmap": [
           {
            "colorbar": {
             "outlinewidth": 0,
             "ticks": ""
            },
            "colorscale": [
             [
              0,
              "#0d0887"
             ],
             [
              0.1111111111111111,
              "#46039f"
             ],
             [
              0.2222222222222222,
              "#7201a8"
             ],
             [
              0.3333333333333333,
              "#9c179e"
             ],
             [
              0.4444444444444444,
              "#bd3786"
             ],
             [
              0.5555555555555556,
              "#d8576b"
             ],
             [
              0.6666666666666666,
              "#ed7953"
             ],
             [
              0.7777777777777778,
              "#fb9f3a"
             ],
             [
              0.8888888888888888,
              "#fdca26"
             ],
             [
              1,
              "#f0f921"
             ]
            ],
            "type": "heatmap"
           }
          ],
          "heatmapgl": [
           {
            "colorbar": {
             "outlinewidth": 0,
             "ticks": ""
            },
            "colorscale": [
             [
              0,
              "#0d0887"
             ],
             [
              0.1111111111111111,
              "#46039f"
             ],
             [
              0.2222222222222222,
              "#7201a8"
             ],
             [
              0.3333333333333333,
              "#9c179e"
             ],
             [
              0.4444444444444444,
              "#bd3786"
             ],
             [
              0.5555555555555556,
              "#d8576b"
             ],
             [
              0.6666666666666666,
              "#ed7953"
             ],
             [
              0.7777777777777778,
              "#fb9f3a"
             ],
             [
              0.8888888888888888,
              "#fdca26"
             ],
             [
              1,
              "#f0f921"
             ]
            ],
            "type": "heatmapgl"
           }
          ],
          "histogram": [
           {
            "marker": {
             "colorbar": {
              "outlinewidth": 0,
              "ticks": ""
             }
            },
            "type": "histogram"
           }
          ],
          "histogram2d": [
           {
            "colorbar": {
             "outlinewidth": 0,
             "ticks": ""
            },
            "colorscale": [
             [
              0,
              "#0d0887"
             ],
             [
              0.1111111111111111,
              "#46039f"
             ],
             [
              0.2222222222222222,
              "#7201a8"
             ],
             [
              0.3333333333333333,
              "#9c179e"
             ],
             [
              0.4444444444444444,
              "#bd3786"
             ],
             [
              0.5555555555555556,
              "#d8576b"
             ],
             [
              0.6666666666666666,
              "#ed7953"
             ],
             [
              0.7777777777777778,
              "#fb9f3a"
             ],
             [
              0.8888888888888888,
              "#fdca26"
             ],
             [
              1,
              "#f0f921"
             ]
            ],
            "type": "histogram2d"
           }
          ],
          "histogram2dcontour": [
           {
            "colorbar": {
             "outlinewidth": 0,
             "ticks": ""
            },
            "colorscale": [
             [
              0,
              "#0d0887"
             ],
             [
              0.1111111111111111,
              "#46039f"
             ],
             [
              0.2222222222222222,
              "#7201a8"
             ],
             [
              0.3333333333333333,
              "#9c179e"
             ],
             [
              0.4444444444444444,
              "#bd3786"
             ],
             [
              0.5555555555555556,
              "#d8576b"
             ],
             [
              0.6666666666666666,
              "#ed7953"
             ],
             [
              0.7777777777777778,
              "#fb9f3a"
             ],
             [
              0.8888888888888888,
              "#fdca26"
             ],
             [
              1,
              "#f0f921"
             ]
            ],
            "type": "histogram2dcontour"
           }
          ],
          "mesh3d": [
           {
            "colorbar": {
             "outlinewidth": 0,
             "ticks": ""
            },
            "type": "mesh3d"
           }
          ],
          "parcoords": [
           {
            "line": {
             "colorbar": {
              "outlinewidth": 0,
              "ticks": ""
             }
            },
            "type": "parcoords"
           }
          ],
          "scatter": [
           {
            "marker": {
             "line": {
              "color": "#283442"
             }
            },
            "type": "scatter"
           }
          ],
          "scatter3d": [
           {
            "line": {
             "colorbar": {
              "outlinewidth": 0,
              "ticks": ""
             }
            },
            "marker": {
             "colorbar": {
              "outlinewidth": 0,
              "ticks": ""
             }
            },
            "type": "scatter3d"
           }
          ],
          "scattercarpet": [
           {
            "marker": {
             "colorbar": {
              "outlinewidth": 0,
              "ticks": ""
             }
            },
            "type": "scattercarpet"
           }
          ],
          "scattergeo": [
           {
            "marker": {
             "colorbar": {
              "outlinewidth": 0,
              "ticks": ""
             }
            },
            "type": "scattergeo"
           }
          ],
          "scattergl": [
           {
            "marker": {
             "line": {
              "color": "#283442"
             }
            },
            "type": "scattergl"
           }
          ],
          "scattermapbox": [
           {
            "marker": {
             "colorbar": {
              "outlinewidth": 0,
              "ticks": ""
             }
            },
            "type": "scattermapbox"
           }
          ],
          "scatterpolar": [
           {
            "marker": {
             "colorbar": {
              "outlinewidth": 0,
              "ticks": ""
             }
            },
            "type": "scatterpolar"
           }
          ],
          "scatterpolargl": [
           {
            "marker": {
             "colorbar": {
              "outlinewidth": 0,
              "ticks": ""
             }
            },
            "type": "scatterpolargl"
           }
          ],
          "scatterternary": [
           {
            "marker": {
             "colorbar": {
              "outlinewidth": 0,
              "ticks": ""
             }
            },
            "type": "scatterternary"
           }
          ],
          "surface": [
           {
            "colorbar": {
             "outlinewidth": 0,
             "ticks": ""
            },
            "colorscale": [
             [
              0,
              "#0d0887"
             ],
             [
              0.1111111111111111,
              "#46039f"
             ],
             [
              0.2222222222222222,
              "#7201a8"
             ],
             [
              0.3333333333333333,
              "#9c179e"
             ],
             [
              0.4444444444444444,
              "#bd3786"
             ],
             [
              0.5555555555555556,
              "#d8576b"
             ],
             [
              0.6666666666666666,
              "#ed7953"
             ],
             [
              0.7777777777777778,
              "#fb9f3a"
             ],
             [
              0.8888888888888888,
              "#fdca26"
             ],
             [
              1,
              "#f0f921"
             ]
            ],
            "type": "surface"
           }
          ],
          "table": [
           {
            "cells": {
             "fill": {
              "color": "#506784"
             },
             "line": {
              "color": "rgb(17,17,17)"
             }
            },
            "header": {
             "fill": {
              "color": "#2a3f5f"
             },
             "line": {
              "color": "rgb(17,17,17)"
             }
            },
            "type": "table"
           }
          ]
         },
         "layout": {
          "annotationdefaults": {
           "arrowcolor": "#f2f5fa",
           "arrowhead": 0,
           "arrowwidth": 1
          },
          "colorscale": {
           "diverging": [
            [
             0,
             "#8e0152"
            ],
            [
             0.1,
             "#c51b7d"
            ],
            [
             0.2,
             "#de77ae"
            ],
            [
             0.3,
             "#f1b6da"
            ],
            [
             0.4,
             "#fde0ef"
            ],
            [
             0.5,
             "#f7f7f7"
            ],
            [
             0.6,
             "#e6f5d0"
            ],
            [
             0.7,
             "#b8e186"
            ],
            [
             0.8,
             "#7fbc41"
            ],
            [
             0.9,
             "#4d9221"
            ],
            [
             1,
             "#276419"
            ]
           ],
           "sequential": [
            [
             0,
             "#0d0887"
            ],
            [
             0.1111111111111111,
             "#46039f"
            ],
            [
             0.2222222222222222,
             "#7201a8"
            ],
            [
             0.3333333333333333,
             "#9c179e"
            ],
            [
             0.4444444444444444,
             "#bd3786"
            ],
            [
             0.5555555555555556,
             "#d8576b"
            ],
            [
             0.6666666666666666,
             "#ed7953"
            ],
            [
             0.7777777777777778,
             "#fb9f3a"
            ],
            [
             0.8888888888888888,
             "#fdca26"
            ],
            [
             1,
             "#f0f921"
            ]
           ],
           "sequentialminus": [
            [
             0,
             "#0d0887"
            ],
            [
             0.1111111111111111,
             "#46039f"
            ],
            [
             0.2222222222222222,
             "#7201a8"
            ],
            [
             0.3333333333333333,
             "#9c179e"
            ],
            [
             0.4444444444444444,
             "#bd3786"
            ],
            [
             0.5555555555555556,
             "#d8576b"
            ],
            [
             0.6666666666666666,
             "#ed7953"
            ],
            [
             0.7777777777777778,
             "#fb9f3a"
            ],
            [
             0.8888888888888888,
             "#fdca26"
            ],
            [
             1,
             "#f0f921"
            ]
           ]
          },
          "colorway": [
           "#636efa",
           "#EF553B",
           "#00cc96",
           "#ab63fa",
           "#FFA15A",
           "#19d3f3",
           "#FF6692",
           "#B6E880",
           "#FF97FF",
           "#FECB52"
          ],
          "font": {
           "color": "#f2f5fa"
          },
          "geo": {
           "bgcolor": "rgb(17,17,17)",
           "lakecolor": "rgb(17,17,17)",
           "landcolor": "rgb(17,17,17)",
           "showlakes": true,
           "showland": true,
           "subunitcolor": "#506784"
          },
          "hoverlabel": {
           "align": "left"
          },
          "hovermode": "closest",
          "mapbox": {
           "style": "dark"
          },
          "paper_bgcolor": "rgb(17,17,17)",
          "plot_bgcolor": "rgb(17,17,17)",
          "polar": {
           "angularaxis": {
            "gridcolor": "#506784",
            "linecolor": "#506784",
            "ticks": ""
           },
           "bgcolor": "rgb(17,17,17)",
           "radialaxis": {
            "gridcolor": "#506784",
            "linecolor": "#506784",
            "ticks": ""
           }
          },
          "scene": {
           "xaxis": {
            "backgroundcolor": "rgb(17,17,17)",
            "gridcolor": "#506784",
            "gridwidth": 2,
            "linecolor": "#506784",
            "showbackground": true,
            "ticks": "",
            "zerolinecolor": "#C8D4E3"
           },
           "yaxis": {
            "backgroundcolor": "rgb(17,17,17)",
            "gridcolor": "#506784",
            "gridwidth": 2,
            "linecolor": "#506784",
            "showbackground": true,
            "ticks": "",
            "zerolinecolor": "#C8D4E3"
           },
           "zaxis": {
            "backgroundcolor": "rgb(17,17,17)",
            "gridcolor": "#506784",
            "gridwidth": 2,
            "linecolor": "#506784",
            "showbackground": true,
            "ticks": "",
            "zerolinecolor": "#C8D4E3"
           }
          },
          "shapedefaults": {
           "line": {
            "color": "#f2f5fa"
           }
          },
          "sliderdefaults": {
           "bgcolor": "#C8D4E3",
           "bordercolor": "rgb(17,17,17)",
           "borderwidth": 1,
           "tickwidth": 0
          },
          "ternary": {
           "aaxis": {
            "gridcolor": "#506784",
            "linecolor": "#506784",
            "ticks": ""
           },
           "baxis": {
            "gridcolor": "#506784",
            "linecolor": "#506784",
            "ticks": ""
           },
           "bgcolor": "rgb(17,17,17)",
           "caxis": {
            "gridcolor": "#506784",
            "linecolor": "#506784",
            "ticks": ""
           }
          },
          "title": {
           "x": 0.05
          },
          "updatemenudefaults": {
           "bgcolor": "#506784",
           "borderwidth": 0
          },
          "xaxis": {
           "automargin": true,
           "gridcolor": "#283442",
           "linecolor": "#506784",
           "ticks": "",
           "zerolinecolor": "#283442",
           "zerolinewidth": 2
          },
          "yaxis": {
           "automargin": true,
           "gridcolor": "#283442",
           "linecolor": "#506784",
           "ticks": "",
           "zerolinecolor": "#283442",
           "zerolinewidth": 2
          }
         }
        },
        "title": {
         "text": "Photonic simulation - Signal"
        },
        "xaxis": {
         "title": {
          "text": "Wall Distance [m]"
         },
         "type": "log"
        },
        "yaxis": {
         "title": {
          "text": "Noise [e-]"
         },
         "type": "log"
        }
       }
      },
      "text/html": [
       "<div>\n",
       "        \n",
       "        \n",
       "            <div id=\"d85998c3-5697-4899-a0f7-50950d486438\" class=\"plotly-graph-div\" style=\"height:525px; width:100%;\"></div>\n",
       "            <script type=\"text/javascript\">\n",
       "                require([\"plotly\"], function(Plotly) {\n",
       "                    window.PLOTLYENV=window.PLOTLYENV || {};\n",
       "                    \n",
       "                if (document.getElementById(\"d85998c3-5697-4899-a0f7-50950d486438\")) {\n",
       "                    Plotly.newPlot(\n",
       "                        'd85998c3-5697-4899-a0f7-50950d486438',\n",
       "                        [{\"mode\": \"lines+markers\", \"name\": \"night_850\", \"type\": \"scatter\", \"x\": [0.5, 0.7, 1.0, 1.5, 2.0, 3.0, 4.0, 5.0, 7.0, 10.0], \"y\": [94866.02356793961, 48401.032432622276, 23716.505891984903, 10540.669285326627, 5929.126472996226, 2635.1673213316567, 1482.2816182490565, 948.6602356793962, 484.01032432622253, 237.16505891984906]}, {\"mode\": \"lines+markers\", \"name\": \"day_850\", \"type\": \"scatter\", \"x\": [0.5, 0.7, 1.0, 1.5, 2.0, 3.0, 4.0, 5.0, 7.0, 10.0], \"y\": [94866.02356793961, 48401.032432622276, 23716.505891984903, 10540.669285326627, 5929.126472996226, 2635.1673213316567, 1482.2816182490565, 948.6602356793962, 484.01032432622253, 237.16505891984906]}, {\"mode\": \"lines+markers\", \"name\": \"night_940\", \"type\": \"scatter\", \"x\": [0.5, 0.7, 1.0, 1.5, 2.0, 3.0, 4.0, 5.0, 7.0, 10.0], \"y\": [33071.763551742966, 16873.34875088927, 8267.940887935742, 3674.640394638108, 2066.9852219839354, 918.660098659527, 516.7463054959838, 330.71763551742964, 168.73348750889278, 82.67940887935741]}, {\"mode\": \"lines+markers\", \"name\": \"day_940\", \"type\": \"scatter\", \"x\": [0.5, 0.7, 1.0, 1.5, 2.0, 3.0, 4.0, 5.0, 7.0, 10.0], \"y\": [33071.763551742966, 16873.34875088927, 8267.940887935742, 3674.640394638108, 2066.9852219839354, 918.660098659527, 516.7463054959838, 330.71763551742964, 168.73348750889278, 82.67940887935741]}, {\"mode\": \"lines+markers\", \"name\": \"night_1375\", \"type\": \"scatter\", \"x\": [0.5, 0.7, 1.0, 1.5, 2.0, 3.0, 4.0, 5.0, 7.0, 10.0], \"y\": [72754.8598205892, 37119.82643907613, 18188.7149551473, 8083.873313398801, 4547.178738786825, 2020.9683283497002, 1136.7946846967063, 727.5485982058923, 371.1982643907612, 181.88714955147307]}, {\"mode\": \"lines+markers\", \"name\": \"day_1375\", \"type\": \"scatter\", \"x\": [0.5, 0.7, 1.0, 1.5, 2.0, 3.0, 4.0, 5.0, 7.0, 10.0], \"y\": [72754.8598205892, 37119.82643907613, 18188.7149551473, 8083.873313398801, 4547.178738786825, 2020.9683283497002, 1136.7946846967063, 727.5485982058923, 371.1982643907612, 181.88714955147307]}, {\"mode\": \"lines+markers\", \"name\": \"night_1550\", \"type\": \"scatter\", \"x\": [0.5, 0.7, 1.0, 1.5, 2.0, 3.0, 4.0, 5.0, 7.0, 10.0], \"y\": [31818.165948329282, 16233.7581369027, 7954.541487082321, 3535.3517720365876, 1988.6353717705802, 883.8379430091469, 497.15884294264504, 318.1816594832929, 162.33758136902705, 79.54541487082322]}, {\"mode\": \"lines+markers\", \"name\": \"day_1550\", \"type\": \"scatter\", \"x\": [0.5, 0.7, 1.0, 1.5, 2.0, 3.0, 4.0, 5.0, 7.0, 10.0], \"y\": [31818.165948329282, 16233.7581369027, 7954.541487082321, 3535.3517720365876, 1988.6353717705802, 883.8379430091469, 497.15884294264504, 318.1816594832929, 162.33758136902705, 79.54541487082322]}],\n",
       "                        {\"barmode\": \"group\", \"hovermode\": \"x\", \"template\": {\"data\": {\"bar\": [{\"error_x\": {\"color\": \"#f2f5fa\"}, \"error_y\": {\"color\": \"#f2f5fa\"}, \"marker\": {\"line\": {\"color\": \"rgb(17,17,17)\", \"width\": 0.5}}, \"type\": \"bar\"}], \"barpolar\": [{\"marker\": {\"line\": {\"color\": \"rgb(17,17,17)\", \"width\": 0.5}}, \"type\": \"barpolar\"}], \"carpet\": [{\"aaxis\": {\"endlinecolor\": \"#A2B1C6\", \"gridcolor\": \"#506784\", \"linecolor\": \"#506784\", \"minorgridcolor\": \"#506784\", \"startlinecolor\": \"#A2B1C6\"}, \"baxis\": {\"endlinecolor\": \"#A2B1C6\", \"gridcolor\": \"#506784\", \"linecolor\": \"#506784\", \"minorgridcolor\": \"#506784\", \"startlinecolor\": \"#A2B1C6\"}, \"type\": \"carpet\"}], \"choropleth\": [{\"colorbar\": {\"outlinewidth\": 0, \"ticks\": \"\"}, \"type\": \"choropleth\"}], \"contour\": [{\"colorbar\": {\"outlinewidth\": 0, \"ticks\": \"\"}, \"colorscale\": [[0.0, \"#0d0887\"], [0.1111111111111111, \"#46039f\"], [0.2222222222222222, \"#7201a8\"], [0.3333333333333333, \"#9c179e\"], [0.4444444444444444, \"#bd3786\"], [0.5555555555555556, \"#d8576b\"], [0.6666666666666666, \"#ed7953\"], [0.7777777777777778, \"#fb9f3a\"], [0.8888888888888888, \"#fdca26\"], [1.0, \"#f0f921\"]], \"type\": \"contour\"}], \"contourcarpet\": [{\"colorbar\": {\"outlinewidth\": 0, \"ticks\": \"\"}, \"type\": \"contourcarpet\"}], \"heatmap\": [{\"colorbar\": {\"outlinewidth\": 0, \"ticks\": \"\"}, \"colorscale\": [[0.0, \"#0d0887\"], [0.1111111111111111, \"#46039f\"], [0.2222222222222222, \"#7201a8\"], [0.3333333333333333, \"#9c179e\"], [0.4444444444444444, \"#bd3786\"], [0.5555555555555556, \"#d8576b\"], [0.6666666666666666, \"#ed7953\"], [0.7777777777777778, \"#fb9f3a\"], [0.8888888888888888, \"#fdca26\"], [1.0, \"#f0f921\"]], \"type\": \"heatmap\"}], \"heatmapgl\": [{\"colorbar\": {\"outlinewidth\": 0, \"ticks\": \"\"}, \"colorscale\": [[0.0, \"#0d0887\"], [0.1111111111111111, \"#46039f\"], [0.2222222222222222, \"#7201a8\"], [0.3333333333333333, \"#9c179e\"], [0.4444444444444444, \"#bd3786\"], [0.5555555555555556, \"#d8576b\"], [0.6666666666666666, \"#ed7953\"], [0.7777777777777778, \"#fb9f3a\"], [0.8888888888888888, \"#fdca26\"], [1.0, \"#f0f921\"]], \"type\": \"heatmapgl\"}], \"histogram\": [{\"marker\": {\"colorbar\": {\"outlinewidth\": 0, \"ticks\": \"\"}}, \"type\": \"histogram\"}], \"histogram2d\": [{\"colorbar\": {\"outlinewidth\": 0, \"ticks\": \"\"}, \"colorscale\": [[0.0, \"#0d0887\"], [0.1111111111111111, \"#46039f\"], [0.2222222222222222, \"#7201a8\"], [0.3333333333333333, \"#9c179e\"], [0.4444444444444444, \"#bd3786\"], [0.5555555555555556, \"#d8576b\"], [0.6666666666666666, \"#ed7953\"], [0.7777777777777778, \"#fb9f3a\"], [0.8888888888888888, \"#fdca26\"], [1.0, \"#f0f921\"]], \"type\": \"histogram2d\"}], \"histogram2dcontour\": [{\"colorbar\": {\"outlinewidth\": 0, \"ticks\": \"\"}, \"colorscale\": [[0.0, \"#0d0887\"], [0.1111111111111111, \"#46039f\"], [0.2222222222222222, \"#7201a8\"], [0.3333333333333333, \"#9c179e\"], [0.4444444444444444, \"#bd3786\"], [0.5555555555555556, \"#d8576b\"], [0.6666666666666666, \"#ed7953\"], [0.7777777777777778, \"#fb9f3a\"], [0.8888888888888888, \"#fdca26\"], [1.0, \"#f0f921\"]], \"type\": \"histogram2dcontour\"}], \"mesh3d\": [{\"colorbar\": {\"outlinewidth\": 0, \"ticks\": \"\"}, \"type\": \"mesh3d\"}], \"parcoords\": [{\"line\": {\"colorbar\": {\"outlinewidth\": 0, \"ticks\": \"\"}}, \"type\": \"parcoords\"}], \"scatter\": [{\"marker\": {\"line\": {\"color\": \"#283442\"}}, \"type\": \"scatter\"}], \"scatter3d\": [{\"line\": {\"colorbar\": {\"outlinewidth\": 0, \"ticks\": \"\"}}, \"marker\": {\"colorbar\": {\"outlinewidth\": 0, \"ticks\": \"\"}}, \"type\": \"scatter3d\"}], \"scattercarpet\": [{\"marker\": {\"colorbar\": {\"outlinewidth\": 0, \"ticks\": \"\"}}, \"type\": \"scattercarpet\"}], \"scattergeo\": [{\"marker\": {\"colorbar\": {\"outlinewidth\": 0, \"ticks\": \"\"}}, \"type\": \"scattergeo\"}], \"scattergl\": [{\"marker\": {\"line\": {\"color\": \"#283442\"}}, \"type\": \"scattergl\"}], \"scattermapbox\": [{\"marker\": {\"colorbar\": {\"outlinewidth\": 0, \"ticks\": \"\"}}, \"type\": \"scattermapbox\"}], \"scatterpolar\": [{\"marker\": {\"colorbar\": {\"outlinewidth\": 0, \"ticks\": \"\"}}, \"type\": \"scatterpolar\"}], \"scatterpolargl\": [{\"marker\": {\"colorbar\": {\"outlinewidth\": 0, \"ticks\": \"\"}}, \"type\": \"scatterpolargl\"}], \"scatterternary\": [{\"marker\": {\"colorbar\": {\"outlinewidth\": 0, \"ticks\": \"\"}}, \"type\": \"scatterternary\"}], \"surface\": [{\"colorbar\": {\"outlinewidth\": 0, \"ticks\": \"\"}, \"colorscale\": [[0.0, \"#0d0887\"], [0.1111111111111111, \"#46039f\"], [0.2222222222222222, \"#7201a8\"], [0.3333333333333333, \"#9c179e\"], [0.4444444444444444, \"#bd3786\"], [0.5555555555555556, \"#d8576b\"], [0.6666666666666666, \"#ed7953\"], [0.7777777777777778, \"#fb9f3a\"], [0.8888888888888888, \"#fdca26\"], [1.0, \"#f0f921\"]], \"type\": \"surface\"}], \"table\": [{\"cells\": {\"fill\": {\"color\": \"#506784\"}, \"line\": {\"color\": \"rgb(17,17,17)\"}}, \"header\": {\"fill\": {\"color\": \"#2a3f5f\"}, \"line\": {\"color\": \"rgb(17,17,17)\"}}, \"type\": \"table\"}]}, \"layout\": {\"annotationdefaults\": {\"arrowcolor\": \"#f2f5fa\", \"arrowhead\": 0, \"arrowwidth\": 1}, \"colorscale\": {\"diverging\": [[0, \"#8e0152\"], [0.1, \"#c51b7d\"], [0.2, \"#de77ae\"], [0.3, \"#f1b6da\"], [0.4, \"#fde0ef\"], [0.5, \"#f7f7f7\"], [0.6, \"#e6f5d0\"], [0.7, \"#b8e186\"], [0.8, \"#7fbc41\"], [0.9, \"#4d9221\"], [1, \"#276419\"]], \"sequential\": [[0.0, \"#0d0887\"], [0.1111111111111111, \"#46039f\"], [0.2222222222222222, \"#7201a8\"], [0.3333333333333333, \"#9c179e\"], [0.4444444444444444, \"#bd3786\"], [0.5555555555555556, \"#d8576b\"], [0.6666666666666666, \"#ed7953\"], [0.7777777777777778, \"#fb9f3a\"], [0.8888888888888888, \"#fdca26\"], [1.0, \"#f0f921\"]], \"sequentialminus\": [[0.0, \"#0d0887\"], [0.1111111111111111, \"#46039f\"], [0.2222222222222222, \"#7201a8\"], [0.3333333333333333, \"#9c179e\"], [0.4444444444444444, \"#bd3786\"], [0.5555555555555556, \"#d8576b\"], [0.6666666666666666, \"#ed7953\"], [0.7777777777777778, \"#fb9f3a\"], [0.8888888888888888, \"#fdca26\"], [1.0, \"#f0f921\"]]}, \"colorway\": [\"#636efa\", \"#EF553B\", \"#00cc96\", \"#ab63fa\", \"#FFA15A\", \"#19d3f3\", \"#FF6692\", \"#B6E880\", \"#FF97FF\", \"#FECB52\"], \"font\": {\"color\": \"#f2f5fa\"}, \"geo\": {\"bgcolor\": \"rgb(17,17,17)\", \"lakecolor\": \"rgb(17,17,17)\", \"landcolor\": \"rgb(17,17,17)\", \"showlakes\": true, \"showland\": true, \"subunitcolor\": \"#506784\"}, \"hoverlabel\": {\"align\": \"left\"}, \"hovermode\": \"closest\", \"mapbox\": {\"style\": \"dark\"}, \"paper_bgcolor\": \"rgb(17,17,17)\", \"plot_bgcolor\": \"rgb(17,17,17)\", \"polar\": {\"angularaxis\": {\"gridcolor\": \"#506784\", \"linecolor\": \"#506784\", \"ticks\": \"\"}, \"bgcolor\": \"rgb(17,17,17)\", \"radialaxis\": {\"gridcolor\": \"#506784\", \"linecolor\": \"#506784\", \"ticks\": \"\"}}, \"scene\": {\"xaxis\": {\"backgroundcolor\": \"rgb(17,17,17)\", \"gridcolor\": \"#506784\", \"gridwidth\": 2, \"linecolor\": \"#506784\", \"showbackground\": true, \"ticks\": \"\", \"zerolinecolor\": \"#C8D4E3\"}, \"yaxis\": {\"backgroundcolor\": \"rgb(17,17,17)\", \"gridcolor\": \"#506784\", \"gridwidth\": 2, \"linecolor\": \"#506784\", \"showbackground\": true, \"ticks\": \"\", \"zerolinecolor\": \"#C8D4E3\"}, \"zaxis\": {\"backgroundcolor\": \"rgb(17,17,17)\", \"gridcolor\": \"#506784\", \"gridwidth\": 2, \"linecolor\": \"#506784\", \"showbackground\": true, \"ticks\": \"\", \"zerolinecolor\": \"#C8D4E3\"}}, \"shapedefaults\": {\"line\": {\"color\": \"#f2f5fa\"}}, \"sliderdefaults\": {\"bgcolor\": \"#C8D4E3\", \"bordercolor\": \"rgb(17,17,17)\", \"borderwidth\": 1, \"tickwidth\": 0}, \"ternary\": {\"aaxis\": {\"gridcolor\": \"#506784\", \"linecolor\": \"#506784\", \"ticks\": \"\"}, \"baxis\": {\"gridcolor\": \"#506784\", \"linecolor\": \"#506784\", \"ticks\": \"\"}, \"bgcolor\": \"rgb(17,17,17)\", \"caxis\": {\"gridcolor\": \"#506784\", \"linecolor\": \"#506784\", \"ticks\": \"\"}}, \"title\": {\"x\": 0.05}, \"updatemenudefaults\": {\"bgcolor\": \"#506784\", \"borderwidth\": 0}, \"xaxis\": {\"automargin\": true, \"gridcolor\": \"#283442\", \"linecolor\": \"#506784\", \"ticks\": \"\", \"zerolinecolor\": \"#283442\", \"zerolinewidth\": 2}, \"yaxis\": {\"automargin\": true, \"gridcolor\": \"#283442\", \"linecolor\": \"#506784\", \"ticks\": \"\", \"zerolinecolor\": \"#283442\", \"zerolinewidth\": 2}}}, \"title\": {\"text\": \"Photonic simulation - Signal\"}, \"xaxis\": {\"title\": {\"text\": \"Wall Distance [m]\"}, \"type\": \"log\"}, \"yaxis\": {\"title\": {\"text\": \"Noise [e-]\"}, \"type\": \"log\"}},\n",
       "                        {\"responsive\": true}\n",
       "                    ).then(function(){\n",
       "                            \n",
       "var gd = document.getElementById('d85998c3-5697-4899-a0f7-50950d486438');\n",
       "var x = new MutationObserver(function (mutations, observer) {{\n",
       "        var display = window.getComputedStyle(gd).display;\n",
       "        if (!display || display === 'none') {{\n",
       "            console.log([gd, 'removed!']);\n",
       "            Plotly.purge(gd);\n",
       "            observer.disconnect();\n",
       "        }}\n",
       "}});\n",
       "\n",
       "// Listen for the removal of the full notebook cells\n",
       "var notebookContainer = gd.closest('#notebook-container');\n",
       "if (notebookContainer) {{\n",
       "    x.observe(notebookContainer, {childList: true});\n",
       "}}\n",
       "\n",
       "// Listen for the clearing of the current output cell\n",
       "var outputEl = gd.closest('.output');\n",
       "if (outputEl) {{\n",
       "    x.observe(outputEl, {childList: true});\n",
       "}}\n",
       "\n",
       "                        })\n",
       "                };\n",
       "                });\n",
       "            </script>\n",
       "        </div>"
      ]
     },
     "metadata": {},
     "output_type": "display_data"
    }
   ],
   "source": [
    "test_cfg = ['fake_tof_night_850','fake_tof_day_850',\n",
    "            'fake_tof_night_940','fake_tof_day_940',\n",
    "            'fake_tof_night_1375','fake_tof_day_1375',\n",
    "            'fake_tof_night_1550','fake_tof_day_1550']\n",
    "data = [0,1,2,3,4,5,6,7]\n",
    "data2 = [0,1,2,3,4,5,6,7]\n",
    "# test_cfg = ['fake_tof_day_940','fake_tof_day_1375']\n",
    "# data = [0,1]\n",
    "for i, cfg in enumerate(test_cfg):\n",
    "    photonic = Photonic(config=cfg)\n",
    "    photonic = overide_phototonic(photonic)\n",
    "    dist_vec = np.array([0.5,0.7,1,1.5,2,3,4,5,7,10])\n",
    "    signal = photonic.photoelectron2(dist_vec=dist_vec)\n",
    "    trace0 = go.Scatter(x=dist_vec, y=signal,   # Select 'lines', 'markers' or 'lines+markers'\n",
    "                        mode='lines+markers', name=cfg[9:])\n",
    "    data[i] = trace0\n",
    "\n",
    "layout = dict(title='Photonic simulation - Signal',\n",
    "              xaxis=dict(title='Wall Distance [m]', type='log'),  # Select 'log' or 'linear'\n",
    "              yaxis=dict(title='Noise [e-]',type='log'),  # Select 'log' or 'linear'\n",
    "              template='plotly_dark',\n",
    "              barmode='group',\n",
    "              hovermode='x')\n",
    "\n",
    "iplot(dict(data=data, layout=layout))"
   ]
  },
  {
   "cell_type": "markdown",
   "metadata": {},
   "source": [
    "## Solar"
   ]
  },
  {
   "cell_type": "code",
   "execution_count": 5,
   "metadata": {
    "scrolled": false
   },
   "outputs": [
    {
     "data": {
      "application/vnd.plotly.v1+json": {
       "config": {
        "linkText": "Export to plot.ly",
        "plotlyServerURL": "https://plot.ly",
        "showLink": false
       },
       "data": [
        {
         "mode": "lines+markers",
         "name": "day_850",
         "type": "scatter",
         "x": [
          0.5,
          0.7,
          1,
          1.5,
          2,
          3,
          4,
          5,
          7,
          10
         ],
         "y": [
          21932.25682137781,
          21932.25682137781,
          21932.25682137781,
          21932.25682137781,
          21932.25682137781,
          21932.25682137781,
          21932.25682137781,
          21932.25682137781,
          21932.25682137781,
          21932.25682137781
         ]
        },
        {
         "mode": "lines+markers",
         "name": "day_940",
         "type": "scatter",
         "x": [
          0.5,
          0.7,
          1,
          1.5,
          2,
          3,
          4,
          5,
          7,
          10
         ],
         "y": [
          3106.9810810811177,
          3106.9810810811177,
          3106.9810810811177,
          3106.9810810811177,
          3106.9810810811177,
          3106.9810810811177,
          3106.9810810811177,
          3106.9810810811177,
          3106.9810810811177,
          3106.9810810811177
         ]
        },
        {
         "mode": "lines+markers",
         "name": "day_1375",
         "type": "scatter",
         "x": [
          0.5,
          0.7,
          1,
          1.5,
          2,
          3,
          4,
          5,
          7,
          10
         ],
         "y": [
          1224.885416503661,
          1224.885416503661,
          1224.885416503661,
          1224.885416503661,
          1224.885416503661,
          1224.885416503661,
          1224.885416503661,
          1224.885416503661,
          1224.885416503661,
          1224.885416503661
         ]
        },
        {
         "mode": "lines+markers",
         "name": "day_1550",
         "type": "scatter",
         "x": [
          0.5,
          0.7,
          1,
          1.5,
          2,
          3,
          4,
          5,
          7,
          10
         ],
         "y": [
          5251.374890513716,
          5251.374890513716,
          5251.374890513716,
          5251.374890513716,
          5251.374890513716,
          5251.374890513716,
          5251.374890513716,
          5251.374890513716,
          5251.374890513716,
          5251.374890513716
         ]
        }
       ],
       "layout": {
        "barmode": "group",
        "hovermode": "x",
        "template": {
         "data": {
          "bar": [
           {
            "error_x": {
             "color": "#f2f5fa"
            },
            "error_y": {
             "color": "#f2f5fa"
            },
            "marker": {
             "line": {
              "color": "rgb(17,17,17)",
              "width": 0.5
             }
            },
            "type": "bar"
           }
          ],
          "barpolar": [
           {
            "marker": {
             "line": {
              "color": "rgb(17,17,17)",
              "width": 0.5
             }
            },
            "type": "barpolar"
           }
          ],
          "carpet": [
           {
            "aaxis": {
             "endlinecolor": "#A2B1C6",
             "gridcolor": "#506784",
             "linecolor": "#506784",
             "minorgridcolor": "#506784",
             "startlinecolor": "#A2B1C6"
            },
            "baxis": {
             "endlinecolor": "#A2B1C6",
             "gridcolor": "#506784",
             "linecolor": "#506784",
             "minorgridcolor": "#506784",
             "startlinecolor": "#A2B1C6"
            },
            "type": "carpet"
           }
          ],
          "choropleth": [
           {
            "colorbar": {
             "outlinewidth": 0,
             "ticks": ""
            },
            "type": "choropleth"
           }
          ],
          "contour": [
           {
            "colorbar": {
             "outlinewidth": 0,
             "ticks": ""
            },
            "colorscale": [
             [
              0,
              "#0d0887"
             ],
             [
              0.1111111111111111,
              "#46039f"
             ],
             [
              0.2222222222222222,
              "#7201a8"
             ],
             [
              0.3333333333333333,
              "#9c179e"
             ],
             [
              0.4444444444444444,
              "#bd3786"
             ],
             [
              0.5555555555555556,
              "#d8576b"
             ],
             [
              0.6666666666666666,
              "#ed7953"
             ],
             [
              0.7777777777777778,
              "#fb9f3a"
             ],
             [
              0.8888888888888888,
              "#fdca26"
             ],
             [
              1,
              "#f0f921"
             ]
            ],
            "type": "contour"
           }
          ],
          "contourcarpet": [
           {
            "colorbar": {
             "outlinewidth": 0,
             "ticks": ""
            },
            "type": "contourcarpet"
           }
          ],
          "heatmap": [
           {
            "colorbar": {
             "outlinewidth": 0,
             "ticks": ""
            },
            "colorscale": [
             [
              0,
              "#0d0887"
             ],
             [
              0.1111111111111111,
              "#46039f"
             ],
             [
              0.2222222222222222,
              "#7201a8"
             ],
             [
              0.3333333333333333,
              "#9c179e"
             ],
             [
              0.4444444444444444,
              "#bd3786"
             ],
             [
              0.5555555555555556,
              "#d8576b"
             ],
             [
              0.6666666666666666,
              "#ed7953"
             ],
             [
              0.7777777777777778,
              "#fb9f3a"
             ],
             [
              0.8888888888888888,
              "#fdca26"
             ],
             [
              1,
              "#f0f921"
             ]
            ],
            "type": "heatmap"
           }
          ],
          "heatmapgl": [
           {
            "colorbar": {
             "outlinewidth": 0,
             "ticks": ""
            },
            "colorscale": [
             [
              0,
              "#0d0887"
             ],
             [
              0.1111111111111111,
              "#46039f"
             ],
             [
              0.2222222222222222,
              "#7201a8"
             ],
             [
              0.3333333333333333,
              "#9c179e"
             ],
             [
              0.4444444444444444,
              "#bd3786"
             ],
             [
              0.5555555555555556,
              "#d8576b"
             ],
             [
              0.6666666666666666,
              "#ed7953"
             ],
             [
              0.7777777777777778,
              "#fb9f3a"
             ],
             [
              0.8888888888888888,
              "#fdca26"
             ],
             [
              1,
              "#f0f921"
             ]
            ],
            "type": "heatmapgl"
           }
          ],
          "histogram": [
           {
            "marker": {
             "colorbar": {
              "outlinewidth": 0,
              "ticks": ""
             }
            },
            "type": "histogram"
           }
          ],
          "histogram2d": [
           {
            "colorbar": {
             "outlinewidth": 0,
             "ticks": ""
            },
            "colorscale": [
             [
              0,
              "#0d0887"
             ],
             [
              0.1111111111111111,
              "#46039f"
             ],
             [
              0.2222222222222222,
              "#7201a8"
             ],
             [
              0.3333333333333333,
              "#9c179e"
             ],
             [
              0.4444444444444444,
              "#bd3786"
             ],
             [
              0.5555555555555556,
              "#d8576b"
             ],
             [
              0.6666666666666666,
              "#ed7953"
             ],
             [
              0.7777777777777778,
              "#fb9f3a"
             ],
             [
              0.8888888888888888,
              "#fdca26"
             ],
             [
              1,
              "#f0f921"
             ]
            ],
            "type": "histogram2d"
           }
          ],
          "histogram2dcontour": [
           {
            "colorbar": {
             "outlinewidth": 0,
             "ticks": ""
            },
            "colorscale": [
             [
              0,
              "#0d0887"
             ],
             [
              0.1111111111111111,
              "#46039f"
             ],
             [
              0.2222222222222222,
              "#7201a8"
             ],
             [
              0.3333333333333333,
              "#9c179e"
             ],
             [
              0.4444444444444444,
              "#bd3786"
             ],
             [
              0.5555555555555556,
              "#d8576b"
             ],
             [
              0.6666666666666666,
              "#ed7953"
             ],
             [
              0.7777777777777778,
              "#fb9f3a"
             ],
             [
              0.8888888888888888,
              "#fdca26"
             ],
             [
              1,
              "#f0f921"
             ]
            ],
            "type": "histogram2dcontour"
           }
          ],
          "mesh3d": [
           {
            "colorbar": {
             "outlinewidth": 0,
             "ticks": ""
            },
            "type": "mesh3d"
           }
          ],
          "parcoords": [
           {
            "line": {
             "colorbar": {
              "outlinewidth": 0,
              "ticks": ""
             }
            },
            "type": "parcoords"
           }
          ],
          "scatter": [
           {
            "marker": {
             "line": {
              "color": "#283442"
             }
            },
            "type": "scatter"
           }
          ],
          "scatter3d": [
           {
            "line": {
             "colorbar": {
              "outlinewidth": 0,
              "ticks": ""
             }
            },
            "marker": {
             "colorbar": {
              "outlinewidth": 0,
              "ticks": ""
             }
            },
            "type": "scatter3d"
           }
          ],
          "scattercarpet": [
           {
            "marker": {
             "colorbar": {
              "outlinewidth": 0,
              "ticks": ""
             }
            },
            "type": "scattercarpet"
           }
          ],
          "scattergeo": [
           {
            "marker": {
             "colorbar": {
              "outlinewidth": 0,
              "ticks": ""
             }
            },
            "type": "scattergeo"
           }
          ],
          "scattergl": [
           {
            "marker": {
             "line": {
              "color": "#283442"
             }
            },
            "type": "scattergl"
           }
          ],
          "scattermapbox": [
           {
            "marker": {
             "colorbar": {
              "outlinewidth": 0,
              "ticks": ""
             }
            },
            "type": "scattermapbox"
           }
          ],
          "scatterpolar": [
           {
            "marker": {
             "colorbar": {
              "outlinewidth": 0,
              "ticks": ""
             }
            },
            "type": "scatterpolar"
           }
          ],
          "scatterpolargl": [
           {
            "marker": {
             "colorbar": {
              "outlinewidth": 0,
              "ticks": ""
             }
            },
            "type": "scatterpolargl"
           }
          ],
          "scatterternary": [
           {
            "marker": {
             "colorbar": {
              "outlinewidth": 0,
              "ticks": ""
             }
            },
            "type": "scatterternary"
           }
          ],
          "surface": [
           {
            "colorbar": {
             "outlinewidth": 0,
             "ticks": ""
            },
            "colorscale": [
             [
              0,
              "#0d0887"
             ],
             [
              0.1111111111111111,
              "#46039f"
             ],
             [
              0.2222222222222222,
              "#7201a8"
             ],
             [
              0.3333333333333333,
              "#9c179e"
             ],
             [
              0.4444444444444444,
              "#bd3786"
             ],
             [
              0.5555555555555556,
              "#d8576b"
             ],
             [
              0.6666666666666666,
              "#ed7953"
             ],
             [
              0.7777777777777778,
              "#fb9f3a"
             ],
             [
              0.8888888888888888,
              "#fdca26"
             ],
             [
              1,
              "#f0f921"
             ]
            ],
            "type": "surface"
           }
          ],
          "table": [
           {
            "cells": {
             "fill": {
              "color": "#506784"
             },
             "line": {
              "color": "rgb(17,17,17)"
             }
            },
            "header": {
             "fill": {
              "color": "#2a3f5f"
             },
             "line": {
              "color": "rgb(17,17,17)"
             }
            },
            "type": "table"
           }
          ]
         },
         "layout": {
          "annotationdefaults": {
           "arrowcolor": "#f2f5fa",
           "arrowhead": 0,
           "arrowwidth": 1
          },
          "colorscale": {
           "diverging": [
            [
             0,
             "#8e0152"
            ],
            [
             0.1,
             "#c51b7d"
            ],
            [
             0.2,
             "#de77ae"
            ],
            [
             0.3,
             "#f1b6da"
            ],
            [
             0.4,
             "#fde0ef"
            ],
            [
             0.5,
             "#f7f7f7"
            ],
            [
             0.6,
             "#e6f5d0"
            ],
            [
             0.7,
             "#b8e186"
            ],
            [
             0.8,
             "#7fbc41"
            ],
            [
             0.9,
             "#4d9221"
            ],
            [
             1,
             "#276419"
            ]
           ],
           "sequential": [
            [
             0,
             "#0d0887"
            ],
            [
             0.1111111111111111,
             "#46039f"
            ],
            [
             0.2222222222222222,
             "#7201a8"
            ],
            [
             0.3333333333333333,
             "#9c179e"
            ],
            [
             0.4444444444444444,
             "#bd3786"
            ],
            [
             0.5555555555555556,
             "#d8576b"
            ],
            [
             0.6666666666666666,
             "#ed7953"
            ],
            [
             0.7777777777777778,
             "#fb9f3a"
            ],
            [
             0.8888888888888888,
             "#fdca26"
            ],
            [
             1,
             "#f0f921"
            ]
           ],
           "sequentialminus": [
            [
             0,
             "#0d0887"
            ],
            [
             0.1111111111111111,
             "#46039f"
            ],
            [
             0.2222222222222222,
             "#7201a8"
            ],
            [
             0.3333333333333333,
             "#9c179e"
            ],
            [
             0.4444444444444444,
             "#bd3786"
            ],
            [
             0.5555555555555556,
             "#d8576b"
            ],
            [
             0.6666666666666666,
             "#ed7953"
            ],
            [
             0.7777777777777778,
             "#fb9f3a"
            ],
            [
             0.8888888888888888,
             "#fdca26"
            ],
            [
             1,
             "#f0f921"
            ]
           ]
          },
          "colorway": [
           "#636efa",
           "#EF553B",
           "#00cc96",
           "#ab63fa",
           "#FFA15A",
           "#19d3f3",
           "#FF6692",
           "#B6E880",
           "#FF97FF",
           "#FECB52"
          ],
          "font": {
           "color": "#f2f5fa"
          },
          "geo": {
           "bgcolor": "rgb(17,17,17)",
           "lakecolor": "rgb(17,17,17)",
           "landcolor": "rgb(17,17,17)",
           "showlakes": true,
           "showland": true,
           "subunitcolor": "#506784"
          },
          "hoverlabel": {
           "align": "left"
          },
          "hovermode": "closest",
          "mapbox": {
           "style": "dark"
          },
          "paper_bgcolor": "rgb(17,17,17)",
          "plot_bgcolor": "rgb(17,17,17)",
          "polar": {
           "angularaxis": {
            "gridcolor": "#506784",
            "linecolor": "#506784",
            "ticks": ""
           },
           "bgcolor": "rgb(17,17,17)",
           "radialaxis": {
            "gridcolor": "#506784",
            "linecolor": "#506784",
            "ticks": ""
           }
          },
          "scene": {
           "xaxis": {
            "backgroundcolor": "rgb(17,17,17)",
            "gridcolor": "#506784",
            "gridwidth": 2,
            "linecolor": "#506784",
            "showbackground": true,
            "ticks": "",
            "zerolinecolor": "#C8D4E3"
           },
           "yaxis": {
            "backgroundcolor": "rgb(17,17,17)",
            "gridcolor": "#506784",
            "gridwidth": 2,
            "linecolor": "#506784",
            "showbackground": true,
            "ticks": "",
            "zerolinecolor": "#C8D4E3"
           },
           "zaxis": {
            "backgroundcolor": "rgb(17,17,17)",
            "gridcolor": "#506784",
            "gridwidth": 2,
            "linecolor": "#506784",
            "showbackground": true,
            "ticks": "",
            "zerolinecolor": "#C8D4E3"
           }
          },
          "shapedefaults": {
           "line": {
            "color": "#f2f5fa"
           }
          },
          "sliderdefaults": {
           "bgcolor": "#C8D4E3",
           "bordercolor": "rgb(17,17,17)",
           "borderwidth": 1,
           "tickwidth": 0
          },
          "ternary": {
           "aaxis": {
            "gridcolor": "#506784",
            "linecolor": "#506784",
            "ticks": ""
           },
           "baxis": {
            "gridcolor": "#506784",
            "linecolor": "#506784",
            "ticks": ""
           },
           "bgcolor": "rgb(17,17,17)",
           "caxis": {
            "gridcolor": "#506784",
            "linecolor": "#506784",
            "ticks": ""
           }
          },
          "title": {
           "x": 0.05
          },
          "updatemenudefaults": {
           "bgcolor": "#506784",
           "borderwidth": 0
          },
          "xaxis": {
           "automargin": true,
           "gridcolor": "#283442",
           "linecolor": "#506784",
           "ticks": "",
           "zerolinecolor": "#283442",
           "zerolinewidth": 2
          },
          "yaxis": {
           "automargin": true,
           "gridcolor": "#283442",
           "linecolor": "#506784",
           "ticks": "",
           "zerolinecolor": "#283442",
           "zerolinewidth": 2
          }
         }
        },
        "title": {
         "text": "Photonic simulation - Solar Flux"
        },
        "xaxis": {
         "title": {
          "text": "Wall Distance [m]"
         },
         "type": "log"
        },
        "yaxis": {
         "title": {
          "text": "Noise [e-]"
         },
         "type": "log"
        }
       }
      },
      "text/html": [
       "<div>\n",
       "        \n",
       "        \n",
       "            <div id=\"0a560f8f-86a6-4bf4-add3-b19bb0526ff5\" class=\"plotly-graph-div\" style=\"height:525px; width:100%;\"></div>\n",
       "            <script type=\"text/javascript\">\n",
       "                require([\"plotly\"], function(Plotly) {\n",
       "                    window.PLOTLYENV=window.PLOTLYENV || {};\n",
       "                    \n",
       "                if (document.getElementById(\"0a560f8f-86a6-4bf4-add3-b19bb0526ff5\")) {\n",
       "                    Plotly.newPlot(\n",
       "                        '0a560f8f-86a6-4bf4-add3-b19bb0526ff5',\n",
       "                        [{\"mode\": \"lines+markers\", \"name\": \"day_850\", \"type\": \"scatter\", \"x\": [0.5, 0.7, 1.0, 1.5, 2.0, 3.0, 4.0, 5.0, 7.0, 10.0], \"y\": [21932.25682137781, 21932.25682137781, 21932.25682137781, 21932.25682137781, 21932.25682137781, 21932.25682137781, 21932.25682137781, 21932.25682137781, 21932.25682137781, 21932.25682137781]}, {\"mode\": \"lines+markers\", \"name\": \"day_940\", \"type\": \"scatter\", \"x\": [0.5, 0.7, 1.0, 1.5, 2.0, 3.0, 4.0, 5.0, 7.0, 10.0], \"y\": [3106.9810810811177, 3106.9810810811177, 3106.9810810811177, 3106.9810810811177, 3106.9810810811177, 3106.9810810811177, 3106.9810810811177, 3106.9810810811177, 3106.9810810811177, 3106.9810810811177]}, {\"mode\": \"lines+markers\", \"name\": \"day_1375\", \"type\": \"scatter\", \"x\": [0.5, 0.7, 1.0, 1.5, 2.0, 3.0, 4.0, 5.0, 7.0, 10.0], \"y\": [1224.885416503661, 1224.885416503661, 1224.885416503661, 1224.885416503661, 1224.885416503661, 1224.885416503661, 1224.885416503661, 1224.885416503661, 1224.885416503661, 1224.885416503661]}, {\"mode\": \"lines+markers\", \"name\": \"day_1550\", \"type\": \"scatter\", \"x\": [0.5, 0.7, 1.0, 1.5, 2.0, 3.0, 4.0, 5.0, 7.0, 10.0], \"y\": [5251.374890513716, 5251.374890513716, 5251.374890513716, 5251.374890513716, 5251.374890513716, 5251.374890513716, 5251.374890513716, 5251.374890513716, 5251.374890513716, 5251.374890513716]}],\n",
       "                        {\"barmode\": \"group\", \"hovermode\": \"x\", \"template\": {\"data\": {\"bar\": [{\"error_x\": {\"color\": \"#f2f5fa\"}, \"error_y\": {\"color\": \"#f2f5fa\"}, \"marker\": {\"line\": {\"color\": \"rgb(17,17,17)\", \"width\": 0.5}}, \"type\": \"bar\"}], \"barpolar\": [{\"marker\": {\"line\": {\"color\": \"rgb(17,17,17)\", \"width\": 0.5}}, \"type\": \"barpolar\"}], \"carpet\": [{\"aaxis\": {\"endlinecolor\": \"#A2B1C6\", \"gridcolor\": \"#506784\", \"linecolor\": \"#506784\", \"minorgridcolor\": \"#506784\", \"startlinecolor\": \"#A2B1C6\"}, \"baxis\": {\"endlinecolor\": \"#A2B1C6\", \"gridcolor\": \"#506784\", \"linecolor\": \"#506784\", \"minorgridcolor\": \"#506784\", \"startlinecolor\": \"#A2B1C6\"}, \"type\": \"carpet\"}], \"choropleth\": [{\"colorbar\": {\"outlinewidth\": 0, \"ticks\": \"\"}, \"type\": \"choropleth\"}], \"contour\": [{\"colorbar\": {\"outlinewidth\": 0, \"ticks\": \"\"}, \"colorscale\": [[0.0, \"#0d0887\"], [0.1111111111111111, \"#46039f\"], [0.2222222222222222, \"#7201a8\"], [0.3333333333333333, \"#9c179e\"], [0.4444444444444444, \"#bd3786\"], [0.5555555555555556, \"#d8576b\"], [0.6666666666666666, \"#ed7953\"], [0.7777777777777778, \"#fb9f3a\"], [0.8888888888888888, \"#fdca26\"], [1.0, \"#f0f921\"]], \"type\": \"contour\"}], \"contourcarpet\": [{\"colorbar\": {\"outlinewidth\": 0, \"ticks\": \"\"}, \"type\": \"contourcarpet\"}], \"heatmap\": [{\"colorbar\": {\"outlinewidth\": 0, \"ticks\": \"\"}, \"colorscale\": [[0.0, \"#0d0887\"], [0.1111111111111111, \"#46039f\"], [0.2222222222222222, \"#7201a8\"], [0.3333333333333333, \"#9c179e\"], [0.4444444444444444, \"#bd3786\"], [0.5555555555555556, \"#d8576b\"], [0.6666666666666666, \"#ed7953\"], [0.7777777777777778, \"#fb9f3a\"], [0.8888888888888888, \"#fdca26\"], [1.0, \"#f0f921\"]], \"type\": \"heatmap\"}], \"heatmapgl\": [{\"colorbar\": {\"outlinewidth\": 0, \"ticks\": \"\"}, \"colorscale\": [[0.0, \"#0d0887\"], [0.1111111111111111, \"#46039f\"], [0.2222222222222222, \"#7201a8\"], [0.3333333333333333, \"#9c179e\"], [0.4444444444444444, \"#bd3786\"], [0.5555555555555556, \"#d8576b\"], [0.6666666666666666, \"#ed7953\"], [0.7777777777777778, \"#fb9f3a\"], [0.8888888888888888, \"#fdca26\"], [1.0, \"#f0f921\"]], \"type\": \"heatmapgl\"}], \"histogram\": [{\"marker\": {\"colorbar\": {\"outlinewidth\": 0, \"ticks\": \"\"}}, \"type\": \"histogram\"}], \"histogram2d\": [{\"colorbar\": {\"outlinewidth\": 0, \"ticks\": \"\"}, \"colorscale\": [[0.0, \"#0d0887\"], [0.1111111111111111, \"#46039f\"], [0.2222222222222222, \"#7201a8\"], [0.3333333333333333, \"#9c179e\"], [0.4444444444444444, \"#bd3786\"], [0.5555555555555556, \"#d8576b\"], [0.6666666666666666, \"#ed7953\"], [0.7777777777777778, \"#fb9f3a\"], [0.8888888888888888, \"#fdca26\"], [1.0, \"#f0f921\"]], \"type\": \"histogram2d\"}], \"histogram2dcontour\": [{\"colorbar\": {\"outlinewidth\": 0, \"ticks\": \"\"}, \"colorscale\": [[0.0, \"#0d0887\"], [0.1111111111111111, \"#46039f\"], [0.2222222222222222, \"#7201a8\"], [0.3333333333333333, \"#9c179e\"], [0.4444444444444444, \"#bd3786\"], [0.5555555555555556, \"#d8576b\"], [0.6666666666666666, \"#ed7953\"], [0.7777777777777778, \"#fb9f3a\"], [0.8888888888888888, \"#fdca26\"], [1.0, \"#f0f921\"]], \"type\": \"histogram2dcontour\"}], \"mesh3d\": [{\"colorbar\": {\"outlinewidth\": 0, \"ticks\": \"\"}, \"type\": \"mesh3d\"}], \"parcoords\": [{\"line\": {\"colorbar\": {\"outlinewidth\": 0, \"ticks\": \"\"}}, \"type\": \"parcoords\"}], \"scatter\": [{\"marker\": {\"line\": {\"color\": \"#283442\"}}, \"type\": \"scatter\"}], \"scatter3d\": [{\"line\": {\"colorbar\": {\"outlinewidth\": 0, \"ticks\": \"\"}}, \"marker\": {\"colorbar\": {\"outlinewidth\": 0, \"ticks\": \"\"}}, \"type\": \"scatter3d\"}], \"scattercarpet\": [{\"marker\": {\"colorbar\": {\"outlinewidth\": 0, \"ticks\": \"\"}}, \"type\": \"scattercarpet\"}], \"scattergeo\": [{\"marker\": {\"colorbar\": {\"outlinewidth\": 0, \"ticks\": \"\"}}, \"type\": \"scattergeo\"}], \"scattergl\": [{\"marker\": {\"line\": {\"color\": \"#283442\"}}, \"type\": \"scattergl\"}], \"scattermapbox\": [{\"marker\": {\"colorbar\": {\"outlinewidth\": 0, \"ticks\": \"\"}}, \"type\": \"scattermapbox\"}], \"scatterpolar\": [{\"marker\": {\"colorbar\": {\"outlinewidth\": 0, \"ticks\": \"\"}}, \"type\": \"scatterpolar\"}], \"scatterpolargl\": [{\"marker\": {\"colorbar\": {\"outlinewidth\": 0, \"ticks\": \"\"}}, \"type\": \"scatterpolargl\"}], \"scatterternary\": [{\"marker\": {\"colorbar\": {\"outlinewidth\": 0, \"ticks\": \"\"}}, \"type\": \"scatterternary\"}], \"surface\": [{\"colorbar\": {\"outlinewidth\": 0, \"ticks\": \"\"}, \"colorscale\": [[0.0, \"#0d0887\"], [0.1111111111111111, \"#46039f\"], [0.2222222222222222, \"#7201a8\"], [0.3333333333333333, \"#9c179e\"], [0.4444444444444444, \"#bd3786\"], [0.5555555555555556, \"#d8576b\"], [0.6666666666666666, \"#ed7953\"], [0.7777777777777778, \"#fb9f3a\"], [0.8888888888888888, \"#fdca26\"], [1.0, \"#f0f921\"]], \"type\": \"surface\"}], \"table\": [{\"cells\": {\"fill\": {\"color\": \"#506784\"}, \"line\": {\"color\": \"rgb(17,17,17)\"}}, \"header\": {\"fill\": {\"color\": \"#2a3f5f\"}, \"line\": {\"color\": \"rgb(17,17,17)\"}}, \"type\": \"table\"}]}, \"layout\": {\"annotationdefaults\": {\"arrowcolor\": \"#f2f5fa\", \"arrowhead\": 0, \"arrowwidth\": 1}, \"colorscale\": {\"diverging\": [[0, \"#8e0152\"], [0.1, \"#c51b7d\"], [0.2, \"#de77ae\"], [0.3, \"#f1b6da\"], [0.4, \"#fde0ef\"], [0.5, \"#f7f7f7\"], [0.6, \"#e6f5d0\"], [0.7, \"#b8e186\"], [0.8, \"#7fbc41\"], [0.9, \"#4d9221\"], [1, \"#276419\"]], \"sequential\": [[0.0, \"#0d0887\"], [0.1111111111111111, \"#46039f\"], [0.2222222222222222, \"#7201a8\"], [0.3333333333333333, \"#9c179e\"], [0.4444444444444444, \"#bd3786\"], [0.5555555555555556, \"#d8576b\"], [0.6666666666666666, \"#ed7953\"], [0.7777777777777778, \"#fb9f3a\"], [0.8888888888888888, \"#fdca26\"], [1.0, \"#f0f921\"]], \"sequentialminus\": [[0.0, \"#0d0887\"], [0.1111111111111111, \"#46039f\"], [0.2222222222222222, \"#7201a8\"], [0.3333333333333333, \"#9c179e\"], [0.4444444444444444, \"#bd3786\"], [0.5555555555555556, \"#d8576b\"], [0.6666666666666666, \"#ed7953\"], [0.7777777777777778, \"#fb9f3a\"], [0.8888888888888888, \"#fdca26\"], [1.0, \"#f0f921\"]]}, \"colorway\": [\"#636efa\", \"#EF553B\", \"#00cc96\", \"#ab63fa\", \"#FFA15A\", \"#19d3f3\", \"#FF6692\", \"#B6E880\", \"#FF97FF\", \"#FECB52\"], \"font\": {\"color\": \"#f2f5fa\"}, \"geo\": {\"bgcolor\": \"rgb(17,17,17)\", \"lakecolor\": \"rgb(17,17,17)\", \"landcolor\": \"rgb(17,17,17)\", \"showlakes\": true, \"showland\": true, \"subunitcolor\": \"#506784\"}, \"hoverlabel\": {\"align\": \"left\"}, \"hovermode\": \"closest\", \"mapbox\": {\"style\": \"dark\"}, \"paper_bgcolor\": \"rgb(17,17,17)\", \"plot_bgcolor\": \"rgb(17,17,17)\", \"polar\": {\"angularaxis\": {\"gridcolor\": \"#506784\", \"linecolor\": \"#506784\", \"ticks\": \"\"}, \"bgcolor\": \"rgb(17,17,17)\", \"radialaxis\": {\"gridcolor\": \"#506784\", \"linecolor\": \"#506784\", \"ticks\": \"\"}}, \"scene\": {\"xaxis\": {\"backgroundcolor\": \"rgb(17,17,17)\", \"gridcolor\": \"#506784\", \"gridwidth\": 2, \"linecolor\": \"#506784\", \"showbackground\": true, \"ticks\": \"\", \"zerolinecolor\": \"#C8D4E3\"}, \"yaxis\": {\"backgroundcolor\": \"rgb(17,17,17)\", \"gridcolor\": \"#506784\", \"gridwidth\": 2, \"linecolor\": \"#506784\", \"showbackground\": true, \"ticks\": \"\", \"zerolinecolor\": \"#C8D4E3\"}, \"zaxis\": {\"backgroundcolor\": \"rgb(17,17,17)\", \"gridcolor\": \"#506784\", \"gridwidth\": 2, \"linecolor\": \"#506784\", \"showbackground\": true, \"ticks\": \"\", \"zerolinecolor\": \"#C8D4E3\"}}, \"shapedefaults\": {\"line\": {\"color\": \"#f2f5fa\"}}, \"sliderdefaults\": {\"bgcolor\": \"#C8D4E3\", \"bordercolor\": \"rgb(17,17,17)\", \"borderwidth\": 1, \"tickwidth\": 0}, \"ternary\": {\"aaxis\": {\"gridcolor\": \"#506784\", \"linecolor\": \"#506784\", \"ticks\": \"\"}, \"baxis\": {\"gridcolor\": \"#506784\", \"linecolor\": \"#506784\", \"ticks\": \"\"}, \"bgcolor\": \"rgb(17,17,17)\", \"caxis\": {\"gridcolor\": \"#506784\", \"linecolor\": \"#506784\", \"ticks\": \"\"}}, \"title\": {\"x\": 0.05}, \"updatemenudefaults\": {\"bgcolor\": \"#506784\", \"borderwidth\": 0}, \"xaxis\": {\"automargin\": true, \"gridcolor\": \"#283442\", \"linecolor\": \"#506784\", \"ticks\": \"\", \"zerolinecolor\": \"#283442\", \"zerolinewidth\": 2}, \"yaxis\": {\"automargin\": true, \"gridcolor\": \"#283442\", \"linecolor\": \"#506784\", \"ticks\": \"\", \"zerolinecolor\": \"#283442\", \"zerolinewidth\": 2}}}, \"title\": {\"text\": \"Photonic simulation - Solar Flux\"}, \"xaxis\": {\"title\": {\"text\": \"Wall Distance [m]\"}, \"type\": \"log\"}, \"yaxis\": {\"title\": {\"text\": \"Noise [e-]\"}, \"type\": \"log\"}},\n",
       "                        {\"responsive\": true}\n",
       "                    ).then(function(){\n",
       "                            \n",
       "var gd = document.getElementById('0a560f8f-86a6-4bf4-add3-b19bb0526ff5');\n",
       "var x = new MutationObserver(function (mutations, observer) {{\n",
       "        var display = window.getComputedStyle(gd).display;\n",
       "        if (!display || display === 'none') {{\n",
       "            console.log([gd, 'removed!']);\n",
       "            Plotly.purge(gd);\n",
       "            observer.disconnect();\n",
       "        }}\n",
       "}});\n",
       "\n",
       "// Listen for the removal of the full notebook cells\n",
       "var notebookContainer = gd.closest('#notebook-container');\n",
       "if (notebookContainer) {{\n",
       "    x.observe(notebookContainer, {childList: true});\n",
       "}}\n",
       "\n",
       "// Listen for the clearing of the current output cell\n",
       "var outputEl = gd.closest('.output');\n",
       "if (outputEl) {{\n",
       "    x.observe(outputEl, {childList: true});\n",
       "}}\n",
       "\n",
       "                        })\n",
       "                };\n",
       "                });\n",
       "            </script>\n",
       "        </div>"
      ]
     },
     "metadata": {},
     "output_type": "display_data"
    }
   ],
   "source": [
    "test_cfg = ['fake_tof_day_850','fake_tof_day_940','fake_tof_day_1375','fake_tof_day_1550']\n",
    "data = [0,1,2,3]\n",
    "# test_cfg = ['fake_tof_day_940','fake_tof_day_1375']\n",
    "# data = [0,1]\n",
    "for i, cfg in enumerate(test_cfg):\n",
    "    photonic = Photonic(config=cfg)\n",
    "    photonic = overide_phototonic(photonic)\n",
    "    dist_vec = np.array([0.5,0.7,1,1.5,2,3,4,5,7,10])\n",
    "    solar=photonic.photoelectron(\n",
    "        siliconFlux=photonic.siliconFlux(\n",
    "        wall_flux=photonic.wallFlux(dist_vec=dist_vec,light_type='solar')))\n",
    "    trace0 = go.Scatter(x=dist_vec, y=solar,   # Select 'lines', 'markers' or 'lines+markers'\n",
    "                        mode='lines+markers', name=cfg[9:])\n",
    "    data[i] = trace0\n",
    "\n",
    "layout = dict(title='Photonic simulation - Solar Flux',\n",
    "              xaxis=dict(title='Wall Distance [m]', type='log'),  # Select 'log' or 'linear'\n",
    "              yaxis=dict(title='Noise [e-]',type='log'),  # Select 'log' or 'linear'\n",
    "              template='plotly_dark',\n",
    "              barmode='group',\n",
    "              hovermode='x')\n",
    "\n",
    "iplot(dict(data=data, layout=layout))"
   ]
  },
  {
   "cell_type": "code",
   "execution_count": 6,
   "metadata": {},
   "outputs": [
    {
     "data": {
      "application/vnd.plotly.v1+json": {
       "config": {
        "linkText": "Export to plot.ly",
        "plotlyServerURL": "https://plot.ly",
        "showLink": false
       },
       "data": [
        {
         "mode": "lines+markers",
         "type": "scatter",
         "x": [
          0.3138,
          0.3148,
          0.3158,
          0.3168,
          0.3178,
          0.31880000000000003,
          0.31980000000000003,
          0.32080000000000003,
          0.32180000000000003,
          0.32280000000000003,
          0.32380000000000003,
          0.32480000000000003,
          0.32580000000000003,
          0.32680000000000003,
          0.32780000000000004,
          0.32880000000000004,
          0.32980000000000004,
          0.33080000000000004,
          0.33180000000000004,
          0.33280000000000004,
          0.33380000000000004,
          0.33480000000000004,
          0.33580000000000004,
          0.33680000000000004,
          0.33780000000000004,
          0.33880000000000005,
          0.33980000000000005,
          0.34080000000000005,
          0.34180000000000005,
          0.34280000000000005,
          0.34380000000000005,
          0.34480000000000005,
          0.34580000000000005,
          0.34680000000000005,
          0.34780000000000005,
          0.34880000000000005,
          0.34980000000000006,
          0.35080000000000006,
          0.35180000000000006,
          0.35280000000000006,
          0.35380000000000006,
          0.35480000000000006,
          0.35580000000000006,
          0.35680000000000006,
          0.35780000000000006,
          0.35880000000000006,
          0.35980000000000006,
          0.36080000000000007,
          0.36180000000000007,
          0.36280000000000007,
          0.36380000000000007,
          0.36480000000000007,
          0.36580000000000007,
          0.36680000000000007,
          0.36780000000000007,
          0.36880000000000007,
          0.3698000000000001,
          0.3708000000000001,
          0.3718000000000001,
          0.3728000000000001,
          0.3738000000000001,
          0.3748000000000001,
          0.3758000000000001,
          0.3768000000000001,
          0.3778000000000001,
          0.3788000000000001,
          0.3798000000000001,
          0.3808000000000001,
          0.3818000000000001,
          0.3828000000000001,
          0.3838000000000001,
          0.3848000000000001,
          0.3858000000000001,
          0.3868000000000001,
          0.3878000000000001,
          0.3888000000000001,
          0.3898000000000001,
          0.3908000000000001,
          0.3918000000000001,
          0.3928000000000001,
          0.3938000000000001,
          0.3948000000000001,
          0.3958000000000001,
          0.3968000000000001,
          0.3978000000000001,
          0.3988000000000001,
          0.3998000000000001,
          0.4008000000000001,
          0.4018000000000001,
          0.4028000000000001,
          0.4038000000000001,
          0.4048000000000001,
          0.4058000000000001,
          0.4068000000000001,
          0.4078000000000001,
          0.4088000000000001,
          0.4098000000000001,
          0.4108000000000001,
          0.4118000000000001,
          0.4128000000000001,
          0.4138000000000001,
          0.4148000000000001,
          0.4158000000000001,
          0.4168000000000001,
          0.4178000000000001,
          0.4188000000000001,
          0.4198000000000001,
          0.4208000000000001,
          0.4218000000000001,
          0.4228000000000001,
          0.4238000000000001,
          0.4248000000000001,
          0.4258000000000001,
          0.4268000000000001,
          0.4278000000000001,
          0.4288000000000001,
          0.4298000000000001,
          0.4308000000000001,
          0.43180000000000013,
          0.43280000000000013,
          0.43380000000000013,
          0.43480000000000013,
          0.43580000000000013,
          0.43680000000000013,
          0.43780000000000013,
          0.43880000000000013,
          0.43980000000000014,
          0.44080000000000014,
          0.44180000000000014,
          0.44280000000000014,
          0.44380000000000014,
          0.44480000000000014,
          0.44580000000000014,
          0.44680000000000014,
          0.44780000000000014,
          0.44880000000000014,
          0.44980000000000014,
          0.45080000000000015,
          0.45180000000000015,
          0.45280000000000015,
          0.45380000000000015,
          0.45480000000000015,
          0.45580000000000015,
          0.45680000000000015,
          0.45780000000000015,
          0.45880000000000015,
          0.45980000000000015,
          0.46080000000000015,
          0.46180000000000015,
          0.46280000000000016,
          0.46380000000000016,
          0.46480000000000016,
          0.46580000000000016,
          0.46680000000000016,
          0.46780000000000016,
          0.46880000000000016,
          0.46980000000000016,
          0.47080000000000016,
          0.47180000000000016,
          0.47280000000000016,
          0.47380000000000017,
          0.47480000000000017,
          0.47580000000000017,
          0.47680000000000017,
          0.47780000000000017,
          0.47880000000000017,
          0.47980000000000017,
          0.48080000000000017,
          0.4818000000000002,
          0.4828000000000002,
          0.4838000000000002,
          0.4848000000000002,
          0.4858000000000002,
          0.4868000000000002,
          0.4878000000000002,
          0.4888000000000002,
          0.4898000000000002,
          0.4908000000000002,
          0.4918000000000002,
          0.4928000000000002,
          0.4938000000000002,
          0.4948000000000002,
          0.4958000000000002,
          0.4968000000000002,
          0.4978000000000002,
          0.4988000000000002,
          0.4998000000000002,
          0.5008000000000001,
          0.5018000000000002,
          0.5028000000000001,
          0.5038000000000002,
          0.5048000000000001,
          0.5058000000000002,
          0.5068000000000001,
          0.5078000000000003,
          0.5088000000000001,
          0.5098000000000003,
          0.5108000000000001,
          0.5118000000000003,
          0.5128000000000001,
          0.5138000000000003,
          0.5148000000000001,
          0.5158000000000003,
          0.5168000000000001,
          0.5178000000000003,
          0.5188000000000001,
          0.5198000000000003,
          0.5208000000000002,
          0.5218000000000003,
          0.5228000000000002,
          0.5238000000000003,
          0.5248000000000002,
          0.5258000000000003,
          0.5268000000000002,
          0.5278000000000003,
          0.5288000000000002,
          0.5298000000000003,
          0.5308000000000002,
          0.5318000000000003,
          0.5328000000000002,
          0.5338000000000003,
          0.5348000000000002,
          0.5358000000000003,
          0.5368000000000002,
          0.5378000000000003,
          0.5388000000000002,
          0.5398000000000003,
          0.5408000000000002,
          0.5418000000000003,
          0.5428000000000002,
          0.5438000000000003,
          0.5448000000000002,
          0.5458000000000003,
          0.5468000000000002,
          0.5478000000000003,
          0.5488000000000002,
          0.5498000000000003,
          0.5508000000000002,
          0.5518000000000003,
          0.5528000000000002,
          0.5538000000000003,
          0.5548000000000002,
          0.5558000000000003,
          0.5568000000000002,
          0.5578000000000003,
          0.5588000000000002,
          0.5598000000000003,
          0.5608000000000002,
          0.5618000000000003,
          0.5628000000000002,
          0.5638000000000003,
          0.5648000000000002,
          0.5658000000000003,
          0.5668000000000002,
          0.5678000000000003,
          0.5688000000000002,
          0.5698000000000003,
          0.5708000000000002,
          0.5718000000000003,
          0.5728000000000002,
          0.5738000000000003,
          0.5748000000000002,
          0.5758000000000003,
          0.5768000000000002,
          0.5778000000000003,
          0.5788000000000002,
          0.5798000000000003,
          0.5808000000000002,
          0.5818000000000003,
          0.5828000000000002,
          0.5838000000000003,
          0.5848000000000002,
          0.5858000000000003,
          0.5868000000000002,
          0.5878000000000003,
          0.5888000000000002,
          0.5898000000000003,
          0.5908000000000002,
          0.5918000000000003,
          0.5928000000000002,
          0.5938000000000003,
          0.5948000000000002,
          0.5958000000000003,
          0.5968000000000002,
          0.5978000000000003,
          0.5988000000000002,
          0.5998000000000003,
          0.6008000000000002,
          0.6018000000000003,
          0.6028000000000002,
          0.6038000000000003,
          0.6048000000000002,
          0.6058000000000003,
          0.6068000000000002,
          0.6078000000000003,
          0.6088000000000002,
          0.6098000000000003,
          0.6108000000000002,
          0.6118000000000003,
          0.6128000000000002,
          0.6138000000000003,
          0.6148000000000002,
          0.6158000000000003,
          0.6168000000000002,
          0.6178000000000003,
          0.6188000000000002,
          0.6198000000000004,
          0.6208000000000002,
          0.6218000000000004,
          0.6228000000000002,
          0.6238000000000004,
          0.6248000000000002,
          0.6258000000000004,
          0.6268000000000002,
          0.6278000000000004,
          0.6288000000000002,
          0.6298000000000004,
          0.6308000000000002,
          0.6318000000000004,
          0.6328000000000003,
          0.6338000000000004,
          0.6348000000000003,
          0.6358000000000004,
          0.6368000000000003,
          0.6378000000000004,
          0.6388000000000003,
          0.6398000000000004,
          0.6408000000000003,
          0.6418000000000004,
          0.6428000000000003,
          0.6438000000000004,
          0.6448000000000003,
          0.6458000000000004,
          0.6468000000000003,
          0.6478000000000004,
          0.6488000000000003,
          0.6498000000000004,
          0.6508000000000003,
          0.6518000000000004,
          0.6528000000000003,
          0.6538000000000004,
          0.6548000000000003,
          0.6558000000000004,
          0.6568000000000003,
          0.6578000000000004,
          0.6588000000000003,
          0.6598000000000004,
          0.6608000000000003,
          0.6618000000000004,
          0.6628000000000003,
          0.6638000000000004,
          0.6648000000000003,
          0.6658000000000004,
          0.6668000000000003,
          0.6678000000000004,
          0.6688000000000003,
          0.6698000000000004,
          0.6708000000000003,
          0.6718000000000004,
          0.6728000000000003,
          0.6738000000000004,
          0.6748000000000003,
          0.6758000000000004,
          0.6768000000000003,
          0.6778000000000004,
          0.6788000000000003,
          0.6798000000000004,
          0.6808000000000003,
          0.6818000000000004,
          0.6828000000000003,
          0.6838000000000004,
          0.6848000000000003,
          0.6858000000000004,
          0.6868000000000003,
          0.6878000000000004,
          0.6888000000000003,
          0.6898000000000004,
          0.6908000000000003,
          0.6918000000000004,
          0.6928000000000003,
          0.6938000000000004,
          0.6948000000000003,
          0.6958000000000004,
          0.6968000000000003,
          0.6978000000000004,
          0.6988000000000003,
          0.6998000000000004,
          0.7008000000000003,
          0.7018000000000004,
          0.7028000000000003,
          0.7038000000000004,
          0.7048000000000003,
          0.7058000000000004,
          0.7068000000000003,
          0.7078000000000004,
          0.7088000000000003,
          0.7098000000000004,
          0.7108000000000003,
          0.7118000000000004,
          0.7128000000000003,
          0.7138000000000004,
          0.7148000000000003,
          0.7158000000000004,
          0.7168000000000003,
          0.7178000000000004,
          0.7188000000000003,
          0.7198000000000004,
          0.7208000000000003,
          0.7218000000000004,
          0.7228000000000003,
          0.7238000000000004,
          0.7248000000000003,
          0.7258000000000004,
          0.7268000000000003,
          0.7278000000000004,
          0.7288000000000003,
          0.7298000000000004,
          0.7308000000000003,
          0.7318000000000005,
          0.7328000000000003,
          0.7338000000000005,
          0.7348000000000003,
          0.7358000000000005,
          0.7368000000000003,
          0.7378000000000005,
          0.7388000000000003,
          0.7398000000000005,
          0.7408000000000003,
          0.7418000000000005,
          0.7428000000000003,
          0.7438000000000005,
          0.7448000000000004,
          0.7458000000000005,
          0.7468000000000004,
          0.7478000000000005,
          0.7488000000000004,
          0.7498000000000005,
          0.7508000000000004,
          0.7518000000000005,
          0.7528000000000004,
          0.7538000000000005,
          0.7548000000000004,
          0.7558000000000005,
          0.7568000000000004,
          0.7578000000000005,
          0.7588000000000004,
          0.7598000000000005,
          0.7608000000000004,
          0.7618000000000005,
          0.7628000000000004,
          0.7638000000000005,
          0.7648000000000004,
          0.7658000000000005,
          0.7668000000000004,
          0.7678000000000005,
          0.7688000000000004,
          0.7698000000000005,
          0.7708000000000004,
          0.7718000000000005,
          0.7728000000000004,
          0.7738000000000005,
          0.7748000000000004,
          0.7758000000000005,
          0.7768000000000004,
          0.7778000000000005,
          0.7788000000000004,
          0.7798000000000005,
          0.7808000000000004,
          0.7818000000000005,
          0.7828000000000004,
          0.7838000000000005,
          0.7848000000000004,
          0.7858000000000005,
          0.7868000000000004,
          0.7878000000000005,
          0.7888000000000004,
          0.7898000000000005,
          0.7908000000000004,
          0.7918000000000005,
          0.7928000000000004,
          0.7938000000000005,
          0.7948000000000004,
          0.7958000000000005,
          0.7968000000000004,
          0.7978000000000005,
          0.7988000000000004,
          0.7998000000000005,
          0.8008000000000004,
          0.8018000000000005,
          0.8028000000000004,
          0.8038000000000005,
          0.8048000000000004,
          0.8058000000000005,
          0.8068000000000004,
          0.8078000000000005,
          0.8088000000000004,
          0.8098000000000005,
          0.8108000000000004,
          0.8118000000000005,
          0.8128000000000004,
          0.8138000000000005,
          0.8148000000000004,
          0.8158000000000005,
          0.8168000000000004,
          0.8178000000000005,
          0.8188000000000004,
          0.8198000000000005,
          0.8208000000000004,
          0.8218000000000005,
          0.8228000000000004,
          0.8238000000000005,
          0.8248000000000004,
          0.8258000000000005,
          0.8268000000000004,
          0.8278000000000005,
          0.8288000000000004,
          0.8298000000000005,
          0.8308000000000004,
          0.8318000000000005,
          0.8328000000000004,
          0.8338000000000005,
          0.8348000000000004,
          0.8358000000000005,
          0.8368000000000004,
          0.8378000000000005,
          0.8388000000000004,
          0.8398000000000005,
          0.8408000000000004,
          0.8418000000000005,
          0.8428000000000004,
          0.8438000000000005,
          0.8448000000000004,
          0.8458000000000006,
          0.8468000000000004,
          0.8478000000000006,
          0.8488000000000004,
          0.8498000000000006,
          0.8508000000000004,
          0.8518000000000006,
          0.8528000000000004,
          0.8538000000000006,
          0.8548000000000004,
          0.8558000000000006,
          0.8568000000000005,
          0.8578000000000006,
          0.8588000000000005,
          0.8598000000000006,
          0.8608000000000005,
          0.8618000000000006,
          0.8628000000000005,
          0.8638000000000006,
          0.8648000000000005,
          0.8658000000000006,
          0.8668000000000005,
          0.8678000000000006,
          0.8688000000000005,
          0.8698000000000006,
          0.8708000000000005,
          0.8718000000000006,
          0.8728000000000005,
          0.8738000000000006,
          0.8748000000000005,
          0.8758000000000006,
          0.8768000000000005,
          0.8778000000000006,
          0.8788000000000005,
          0.8798000000000006,
          0.8808000000000005,
          0.8818000000000006,
          0.8828000000000005,
          0.8838000000000006,
          0.8848000000000005,
          0.8858000000000006,
          0.8868000000000005,
          0.8878000000000006,
          0.8888000000000005,
          0.8898000000000006,
          0.8908000000000005,
          0.8918000000000006,
          0.8928000000000005,
          0.8938000000000006,
          0.8948000000000005,
          0.8958000000000006,
          0.8968000000000005,
          0.8978000000000006,
          0.8988000000000005,
          0.8998000000000006,
          0.9008000000000005,
          0.9018000000000006,
          0.9028000000000005,
          0.9038000000000006,
          0.9048000000000005,
          0.9058000000000006,
          0.9068000000000005,
          0.9078000000000006,
          0.9088000000000005,
          0.9098000000000006,
          0.9108000000000005,
          0.9118000000000006,
          0.9128000000000005,
          0.9138000000000006,
          0.9148000000000005,
          0.9158000000000006,
          0.9168000000000005,
          0.9178000000000006,
          0.9188000000000005,
          0.9198000000000006,
          0.9208000000000005,
          0.9218000000000006,
          0.9228000000000005,
          0.9238000000000006,
          0.9248000000000005,
          0.9258000000000006,
          0.9268000000000005,
          0.9278000000000006,
          0.9288000000000005,
          0.9298000000000006,
          0.9308000000000005,
          0.9318000000000006,
          0.9328000000000005,
          0.9338000000000006,
          0.9348000000000005,
          0.9358000000000006,
          0.9368000000000005,
          0.9378000000000006,
          0.9388000000000005,
          0.9398000000000006,
          0.9408000000000005,
          0.9418000000000006,
          0.9428000000000005,
          0.9438000000000006,
          0.9448000000000005,
          0.9458000000000006,
          0.9468000000000005,
          0.9478000000000006,
          0.9488000000000005,
          0.9498000000000006,
          0.9508000000000005,
          0.9518000000000006,
          0.9528000000000005,
          0.9538000000000006,
          0.9548000000000005,
          0.9558000000000006,
          0.9568000000000005,
          0.9578000000000007,
          0.9588000000000005,
          0.9598000000000007,
          0.9608000000000005,
          0.9618000000000007,
          0.9628000000000005,
          0.9638000000000007,
          0.9648000000000005,
          0.9658000000000007,
          0.9668000000000005,
          0.9678000000000007,
          0.9688000000000005,
          0.9698000000000007,
          0.9708000000000006,
          0.9718000000000007,
          0.9728000000000006,
          0.9738000000000007,
          0.9748000000000006,
          0.9758000000000007,
          0.9768000000000006,
          0.9778000000000007,
          0.9788000000000006,
          0.9798000000000007,
          0.9808000000000006,
          0.9818000000000007,
          0.9828000000000006,
          0.9838000000000007,
          0.9848000000000006,
          0.9858000000000007,
          0.9868000000000006,
          0.9878000000000007,
          0.9888000000000006,
          0.9898000000000007,
          0.9908000000000006,
          0.9918000000000007,
          0.9928000000000006,
          0.9938000000000007,
          0.9948000000000006,
          0.9958000000000007,
          0.9968000000000006,
          0.9978000000000007,
          0.9988000000000006,
          0.9998000000000007,
          1.0008000000000006,
          1.0018000000000007,
          1.0028000000000006,
          1.0038000000000007,
          1.0048000000000006,
          1.0058000000000007,
          1.0068000000000006,
          1.0078000000000007,
          1.0088000000000006,
          1.0098000000000007,
          1.0108000000000006,
          1.0118000000000007,
          1.0128000000000006,
          1.0138000000000007,
          1.0148000000000006,
          1.0158000000000007,
          1.0168000000000006,
          1.0178000000000007,
          1.0188000000000006,
          1.0198000000000007,
          1.0208000000000006,
          1.0218000000000007,
          1.0228000000000006,
          1.0238000000000007,
          1.0248000000000006,
          1.0258000000000007,
          1.0268000000000006,
          1.0278000000000007,
          1.0288000000000006,
          1.0298000000000007,
          1.0308000000000006,
          1.0318000000000007,
          1.0328000000000006,
          1.0338000000000007,
          1.0348000000000006,
          1.0358000000000007,
          1.0368000000000006,
          1.0378000000000007,
          1.0388000000000006,
          1.0398000000000007,
          1.0408000000000006,
          1.0418000000000007,
          1.0428000000000006,
          1.0438000000000007,
          1.0448000000000006,
          1.0458000000000007,
          1.0468000000000006,
          1.0478000000000007,
          1.0488000000000006,
          1.0498000000000007,
          1.0508000000000006,
          1.0518000000000007,
          1.0528000000000006,
          1.0538000000000007,
          1.0548000000000006,
          1.0558000000000007,
          1.0568000000000006,
          1.0578000000000007,
          1.0588000000000006,
          1.0598000000000007,
          1.0608000000000006,
          1.0618000000000007,
          1.0628000000000006,
          1.0638000000000007,
          1.0648000000000006,
          1.0658000000000007,
          1.0668000000000006,
          1.0678000000000007,
          1.0688000000000006,
          1.0698000000000008,
          1.0708000000000006,
          1.0718000000000008,
          1.0728000000000006,
          1.0738000000000008,
          1.0748000000000006,
          1.0758000000000008,
          1.0768000000000006,
          1.0778000000000008,
          1.0788000000000006,
          1.0798000000000008,
          1.0808000000000006,
          1.0818000000000008,
          1.0828000000000007,
          1.0838000000000008,
          1.0848000000000007,
          1.0858000000000008,
          1.0868000000000007,
          1.0878000000000008,
          1.0888000000000007,
          1.0898000000000008,
          1.0908000000000007,
          1.0918000000000008,
          1.0928000000000007,
          1.0938000000000008,
          1.0948000000000007,
          1.0958000000000008,
          1.0968000000000007,
          1.0978000000000008,
          1.0988000000000007,
          1.0998000000000008,
          1.1008000000000007,
          1.1018000000000008,
          1.1028000000000007,
          1.1038000000000008,
          1.1048000000000007,
          1.1058000000000008,
          1.1068000000000007,
          1.1078000000000008,
          1.1088000000000007,
          1.1098000000000008,
          1.1108000000000007,
          1.1118000000000008,
          1.1128000000000007,
          1.1138000000000008,
          1.1148000000000007,
          1.1158000000000008,
          1.1168000000000007,
          1.1178000000000008,
          1.1188000000000007,
          1.1198000000000008,
          1.1208000000000007,
          1.1218000000000008,
          1.1228000000000007,
          1.1238000000000008,
          1.1248000000000007,
          1.1258000000000008,
          1.1268000000000007,
          1.1278000000000008,
          1.1288000000000007,
          1.1298000000000008,
          1.1308000000000007,
          1.1318000000000008,
          1.1328000000000007,
          1.1338000000000008,
          1.1348000000000007,
          1.1358000000000008,
          1.1368000000000007,
          1.1378000000000008,
          1.1388000000000007,
          1.1398000000000008,
          1.1408000000000007,
          1.1418000000000008,
          1.1428000000000007,
          1.1438000000000008,
          1.1448000000000007,
          1.1458000000000008,
          1.1468000000000007,
          1.1478000000000008,
          1.1488000000000007,
          1.1498000000000008,
          1.1508000000000007,
          1.1518000000000008,
          1.1528000000000007,
          1.1538000000000008,
          1.1548000000000007,
          1.1558000000000008,
          1.1568000000000007,
          1.1578000000000008,
          1.1588000000000007,
          1.1598000000000008,
          1.1608000000000007,
          1.1618000000000008,
          1.1628000000000007,
          1.1638000000000008,
          1.1648000000000007,
          1.1658000000000008,
          1.1668000000000007,
          1.1678000000000008,
          1.1688000000000007,
          1.1698000000000008,
          1.1708000000000007,
          1.1718000000000008,
          1.1728000000000007,
          1.1738000000000008,
          1.1748000000000007,
          1.1758000000000008,
          1.1768000000000007,
          1.1778000000000008,
          1.1788000000000007,
          1.1798000000000008,
          1.1808000000000007,
          1.1818000000000008,
          1.1828000000000007,
          1.1838000000000009,
          1.1848000000000007,
          1.1858000000000009,
          1.1868000000000007,
          1.1878000000000009,
          1.1888000000000007,
          1.1898000000000009,
          1.1908000000000007,
          1.1918000000000009,
          1.1928000000000007,
          1.1938000000000009,
          1.1948000000000008,
          1.1958000000000009,
          1.1968000000000008,
          1.1978000000000009,
          1.1988000000000008,
          1.1998000000000009,
          1.2008000000000008,
          1.2018000000000009,
          1.2028000000000008,
          1.2038000000000009,
          1.2048000000000008,
          1.2058000000000009,
          1.2068000000000008,
          1.2078000000000009,
          1.2088000000000008,
          1.2098000000000009,
          1.2108000000000008,
          1.2118000000000009,
          1.2128000000000008,
          1.2138000000000009,
          1.2148000000000008,
          1.2158000000000009,
          1.2168000000000008,
          1.2178000000000009,
          1.2188000000000008,
          1.2198000000000009,
          1.2208000000000008,
          1.2218000000000009,
          1.2228000000000008,
          1.2238000000000009,
          1.2248000000000008,
          1.2258000000000009,
          1.2268000000000008,
          1.227800000000001,
          1.2288000000000008,
          1.229800000000001,
          1.2308000000000008,
          1.231800000000001,
          1.2328000000000008,
          1.233800000000001,
          1.2348000000000008,
          1.235800000000001,
          1.2368000000000008,
          1.237800000000001,
          1.2388000000000008,
          1.239800000000001,
          1.2408000000000008,
          1.241800000000001,
          1.2428000000000008,
          1.243800000000001,
          1.2448000000000008,
          1.245800000000001,
          1.2468000000000008,
          1.247800000000001,
          1.2488000000000008,
          1.249800000000001,
          1.2508000000000008,
          1.251800000000001,
          1.2528000000000008,
          1.253800000000001,
          1.2548000000000008,
          1.255800000000001,
          1.2568000000000008,
          1.257800000000001,
          1.2588000000000008,
          1.259800000000001,
          1.2608000000000008,
          1.261800000000001,
          1.2628000000000008,
          1.263800000000001,
          1.2648000000000008,
          1.265800000000001,
          1.2668000000000008,
          1.267800000000001,
          1.2688000000000008,
          1.269800000000001,
          1.2708000000000008,
          1.271800000000001,
          1.2728000000000008,
          1.273800000000001,
          1.2748000000000008,
          1.275800000000001,
          1.2768000000000008,
          1.277800000000001,
          1.2788000000000008,
          1.279800000000001,
          1.2808000000000008,
          1.281800000000001,
          1.2828000000000008,
          1.283800000000001,
          1.2848000000000008,
          1.285800000000001,
          1.2868000000000008,
          1.287800000000001,
          1.2888000000000008,
          1.289800000000001,
          1.2908000000000008,
          1.291800000000001,
          1.2928000000000008,
          1.293800000000001,
          1.2948000000000008,
          1.295800000000001,
          1.2968000000000008,
          1.297800000000001,
          1.2988000000000008,
          1.299800000000001,
          1.3008000000000008,
          1.301800000000001,
          1.3028000000000008,
          1.303800000000001,
          1.3048000000000008,
          1.305800000000001,
          1.3068000000000008,
          1.307800000000001,
          1.3088000000000009,
          1.309800000000001,
          1.3108000000000009,
          1.311800000000001,
          1.3128000000000009,
          1.313800000000001,
          1.3148000000000009,
          1.315800000000001,
          1.316800000000001,
          1.317800000000001,
          1.3188000000000009,
          1.319800000000001,
          1.320800000000001,
          1.321800000000001,
          1.3228000000000009,
          1.323800000000001,
          1.324800000000001,
          1.325800000000001,
          1.3268000000000009,
          1.327800000000001,
          1.328800000000001,
          1.329800000000001,
          1.3308000000000009,
          1.331800000000001,
          1.332800000000001,
          1.333800000000001,
          1.3348000000000009,
          1.335800000000001,
          1.336800000000001,
          1.337800000000001,
          1.3388000000000009,
          1.339800000000001,
          1.340800000000001,
          1.341800000000001,
          1.3428000000000009,
          1.343800000000001,
          1.344800000000001,
          1.345800000000001,
          1.3468000000000009,
          1.347800000000001,
          1.348800000000001,
          1.349800000000001,
          1.3508000000000009,
          1.351800000000001,
          1.3528000000000011,
          1.353800000000001,
          1.354800000000001,
          1.355800000000001,
          1.3568000000000011,
          1.357800000000001,
          1.358800000000001,
          1.359800000000001,
          1.3608000000000011,
          1.361800000000001,
          1.362800000000001,
          1.363800000000001,
          1.3648000000000011,
          1.365800000000001,
          1.366800000000001,
          1.367800000000001,
          1.3688000000000011,
          1.369800000000001,
          1.370800000000001,
          1.371800000000001,
          1.3728000000000011,
          1.373800000000001,
          1.374800000000001,
          1.375800000000001,
          1.3768000000000011,
          1.377800000000001,
          1.378800000000001,
          1.379800000000001,
          1.3808000000000011,
          1.381800000000001,
          1.382800000000001,
          1.383800000000001,
          1.3848000000000011,
          1.385800000000001,
          1.386800000000001,
          1.387800000000001,
          1.3888000000000011,
          1.389800000000001,
          1.390800000000001,
          1.391800000000001,
          1.3928000000000011,
          1.393800000000001,
          1.394800000000001,
          1.395800000000001,
          1.3968000000000012,
          1.397800000000001,
          1.398800000000001,
          1.399800000000001,
          1.4008000000000012,
          1.401800000000001,
          1.402800000000001,
          1.403800000000001,
          1.4048000000000012,
          1.405800000000001,
          1.406800000000001,
          1.407800000000001,
          1.4088000000000012,
          1.409800000000001,
          1.410800000000001,
          1.411800000000001,
          1.4128000000000012,
          1.413800000000001,
          1.414800000000001,
          1.415800000000001,
          1.4168000000000012,
          1.417800000000001,
          1.418800000000001,
          1.419800000000001,
          1.4208000000000012,
          1.421800000000001,
          1.422800000000001,
          1.423800000000001,
          1.4248000000000012,
          1.425800000000001,
          1.426800000000001,
          1.427800000000001,
          1.4288000000000012,
          1.429800000000001,
          1.430800000000001,
          1.431800000000001,
          1.4328000000000012,
          1.433800000000001,
          1.434800000000001,
          1.435800000000001,
          1.4368000000000012,
          1.437800000000001,
          1.438800000000001,
          1.439800000000001,
          1.4408000000000012,
          1.441800000000001,
          1.442800000000001,
          1.443800000000001,
          1.4448000000000012,
          1.445800000000001,
          1.446800000000001,
          1.447800000000001,
          1.4488000000000012,
          1.449800000000001,
          1.450800000000001,
          1.451800000000001,
          1.4528000000000012,
          1.453800000000001,
          1.454800000000001,
          1.455800000000001,
          1.4568000000000012,
          1.457800000000001,
          1.458800000000001,
          1.459800000000001,
          1.4608000000000012,
          1.461800000000001,
          1.462800000000001,
          1.463800000000001,
          1.4648000000000012,
          1.465800000000001,
          1.466800000000001,
          1.467800000000001,
          1.4688000000000012,
          1.469800000000001,
          1.470800000000001,
          1.471800000000001,
          1.4728000000000012,
          1.473800000000001,
          1.474800000000001,
          1.475800000000001,
          1.4768000000000012,
          1.4778000000000011,
          1.478800000000001,
          1.4798000000000011,
          1.4808000000000012,
          1.4818000000000011,
          1.482800000000001,
          1.4838000000000011,
          1.4848000000000012,
          1.4858000000000011,
          1.486800000000001,
          1.4878000000000011,
          1.4888000000000012,
          1.4898000000000011,
          1.490800000000001,
          1.4918000000000011,
          1.4928000000000012,
          1.4938000000000011,
          1.494800000000001,
          1.4958000000000011,
          1.4968000000000012,
          1.4978000000000011,
          1.498800000000001,
          1.4998000000000011,
          1.5008000000000012,
          1.5018000000000011,
          1.502800000000001,
          1.5038000000000011,
          1.5048000000000012,
          1.5058000000000011,
          1.506800000000001,
          1.5078000000000011,
          1.5088000000000013,
          1.5098000000000011,
          1.510800000000001,
          1.5118000000000011,
          1.5128000000000013,
          1.5138000000000011,
          1.514800000000001,
          1.5158000000000011,
          1.5168000000000013,
          1.5178000000000011,
          1.518800000000001,
          1.5198000000000012,
          1.5208000000000013,
          1.5218000000000012,
          1.522800000000001,
          1.5238000000000012,
          1.5248000000000013,
          1.5258000000000012,
          1.526800000000001,
          1.5278000000000012,
          1.5288000000000013,
          1.5298000000000012,
          1.530800000000001,
          1.5318000000000012,
          1.5328000000000013,
          1.5338000000000012,
          1.534800000000001,
          1.5358000000000012,
          1.5368000000000013,
          1.5378000000000012,
          1.538800000000001,
          1.5398000000000012,
          1.5408000000000013,
          1.5418000000000012,
          1.542800000000001,
          1.5438000000000012,
          1.5448000000000013,
          1.5458000000000012,
          1.546800000000001,
          1.5478000000000012,
          1.5488000000000013,
          1.5498000000000012,
          1.550800000000001,
          1.5518000000000012,
          1.5528000000000013,
          1.5538000000000012,
          1.554800000000001,
          1.5558000000000012,
          1.5568000000000013,
          1.5578000000000012,
          1.558800000000001,
          1.5598000000000012,
          1.5608000000000013,
          1.5618000000000012,
          1.562800000000001,
          1.5638000000000012,
          1.5648000000000013,
          1.5658000000000012,
          1.566800000000001,
          1.5678000000000012,
          1.5688000000000013,
          1.5698000000000012,
          1.570800000000001,
          1.5718000000000012,
          1.5728000000000013,
          1.5738000000000012,
          1.574800000000001,
          1.5758000000000012,
          1.5768000000000013,
          1.5778000000000012,
          1.578800000000001,
          1.5798000000000012,
          1.5808000000000013,
          1.5818000000000012,
          1.582800000000001,
          1.5838000000000012,
          1.5848000000000013,
          1.5858000000000012,
          1.586800000000001,
          1.5878000000000012,
          1.5888000000000013,
          1.5898000000000012,
          1.590800000000001,
          1.5918000000000012,
          1.5928000000000013,
          1.5938000000000012,
          1.594800000000001,
          1.5958000000000012,
          1.5968000000000013,
          1.5978000000000012,
          1.598800000000001,
          1.5998000000000012,
          1.6008000000000013,
          1.6018000000000012,
          1.6028000000000011,
          1.6038000000000012,
          1.6048000000000013,
          1.6058000000000012,
          1.6068000000000011,
          1.6078000000000012,
          1.6088000000000013,
          1.6098000000000012,
          1.6108000000000011,
          1.6118000000000012,
          1.6128000000000013,
          1.6138000000000012,
          1.6148000000000011,
          1.6158000000000012,
          1.6168000000000013,
          1.6178000000000012,
          1.6188000000000011,
          1.6198000000000012,
          1.6208000000000014,
          1.6218000000000012,
          1.6228000000000011,
          1.6238000000000012,
          1.6248000000000014,
          1.6258000000000012,
          1.6268000000000011,
          1.6278000000000012,
          1.6288000000000014,
          1.6298000000000012,
          1.6308000000000011,
          1.6318000000000012,
          1.6328000000000014,
          1.6338000000000013,
          1.6348000000000011,
          1.6358000000000013,
          1.6368000000000014,
          1.6378000000000013,
          1.6388000000000011,
          1.6398000000000013,
          1.6408000000000014,
          1.6418000000000013,
          1.6428000000000011,
          1.6438000000000013,
          1.6448000000000014,
          1.6458000000000013,
          1.6468000000000012,
          1.6478000000000013,
          1.6488000000000014,
          1.6498000000000013,
          1.6508000000000012,
          1.6518000000000013,
          1.6528000000000014,
          1.6538000000000013,
          1.6548000000000012,
          1.6558000000000013,
          1.6568000000000014,
          1.6578000000000013,
          1.6588000000000012,
          1.6598000000000013,
          1.6608000000000014,
          1.6618000000000013,
          1.6628000000000012,
          1.6638000000000013,
          1.6648000000000014,
          1.6658000000000013,
          1.6668000000000012,
          1.6678000000000013,
          1.6688000000000014,
          1.6698000000000013,
          1.6708000000000012,
          1.6718000000000013,
          1.6728000000000014,
          1.6738000000000013,
          1.6748000000000012,
          1.6758000000000013,
          1.6768000000000014,
          1.6778000000000013,
          1.6788000000000012,
          1.6798000000000013,
          1.6808000000000014,
          1.6818000000000013,
          1.6828000000000012,
          1.6838000000000013,
          1.6848000000000014,
          1.6858000000000013,
          1.6868000000000012,
          1.6878000000000013,
          1.6888000000000014,
          1.6898000000000013,
          1.6908000000000012,
          1.6918000000000013,
          1.6928000000000014,
          1.6938000000000013,
          1.6948000000000012,
          1.6958000000000013,
          1.6968000000000014,
          1.6978000000000013,
          1.6988000000000012,
          1.6998000000000013,
          1.7008000000000014,
          1.7018000000000013,
          1.7028000000000012,
          1.7038000000000013,
          1.7048000000000014,
          1.7058000000000013,
          1.7068000000000012,
          1.7078000000000013,
          1.7088000000000014,
          1.7098000000000013,
          1.7108000000000012,
          1.7118000000000013,
          1.7128000000000014,
          1.7138000000000013,
          1.7148000000000012,
          1.7158000000000013,
          1.7168000000000014,
          1.7178000000000013,
          1.7188000000000012,
          1.7198000000000013,
          1.7208000000000014,
          1.7218000000000013,
          1.7228000000000012,
          1.7238000000000013,
          1.7248000000000014,
          1.7258000000000013,
          1.7268000000000012,
          1.7278000000000013,
          1.7288000000000014,
          1.7298000000000013,
          1.7308000000000012,
          1.7318000000000013,
          1.7328000000000015,
          1.7338000000000013,
          1.7348000000000012,
          1.7358000000000013,
          1.7368000000000015,
          1.7378000000000013,
          1.7388000000000012,
          1.7398000000000013,
          1.7408000000000015,
          1.7418000000000013,
          1.7428000000000012,
          1.7438000000000013,
          1.7448000000000015,
          1.7458000000000014,
          1.7468000000000012,
          1.7478000000000014,
          1.7488000000000015,
          1.7498000000000014,
          1.7508000000000012,
          1.7518000000000014,
          1.7528000000000015,
          1.7538000000000014,
          1.7548000000000012,
          1.7558000000000014,
          1.7568000000000015,
          1.7578000000000014,
          1.7588000000000013,
          1.7598000000000014,
          1.7608000000000015,
          1.7618000000000014,
          1.7628000000000013,
          1.7638000000000014,
          1.7648000000000015,
          1.7658000000000014,
          1.7668000000000013,
          1.7678000000000014,
          1.7688000000000015,
          1.7698000000000014,
          1.7708000000000013,
          1.7718000000000014,
          1.7728000000000015,
          1.7738000000000014,
          1.7748000000000013,
          1.7758000000000014,
          1.7768000000000015,
          1.7778000000000014,
          1.7788000000000013,
          1.7798000000000014,
          1.7808000000000015,
          1.7818000000000014,
          1.7828000000000013,
          1.7838000000000014,
          1.7848000000000015,
          1.7858000000000014,
          1.7868000000000013,
          1.7878000000000014,
          1.7888000000000015,
          1.7898000000000014,
          1.7908000000000013,
          1.7918000000000014,
          1.7928000000000015,
          1.7938000000000014,
          1.7948000000000013,
          1.7958000000000014,
          1.7968000000000015,
          1.7978000000000014,
          1.7988000000000013,
          1.7998000000000014,
          1.8008000000000015,
          1.8018000000000014,
          1.8028000000000013,
          1.8038000000000014,
          1.8048000000000015,
          1.8058000000000014,
          1.8068000000000013,
          1.8078000000000014,
          1.8088000000000015,
          1.8098000000000014,
          1.8108000000000013,
          1.8118000000000014,
          1.8128000000000015,
          1.8138000000000014,
          1.8148000000000013,
          1.8158000000000014,
          1.8168000000000015,
          1.8178000000000014,
          1.8188000000000013,
          1.8198000000000014,
          1.8208000000000015,
          1.8218000000000014,
          1.8228000000000013,
          1.8238000000000014,
          1.8248000000000015,
          1.8258000000000014,
          1.8268000000000013,
          1.8278000000000014,
          1.8288000000000015,
          1.8298000000000014,
          1.8308000000000013,
          1.8318000000000014,
          1.8328000000000015,
          1.8338000000000014,
          1.8348000000000013,
          1.8358000000000014,
          1.8368000000000015,
          1.8378000000000014,
          1.8388000000000013,
          1.8398000000000014,
          1.8408000000000015,
          1.8418000000000014,
          1.8428000000000013,
          1.8438000000000014,
          1.8448000000000015,
          1.8458000000000014,
          1.8468000000000013,
          1.8478000000000014,
          1.8488000000000016,
          1.8498000000000014,
          1.8508000000000013,
          1.8518000000000014,
          1.8528000000000016,
          1.8538000000000014,
          1.8548000000000013,
          1.8558000000000014,
          1.8568000000000016,
          1.8578000000000015,
          1.8588000000000013,
          1.8598000000000015,
          1.8608000000000016,
          1.8618000000000015,
          1.8628000000000013,
          1.8638000000000015,
          1.8648000000000016,
          1.8658000000000015,
          1.8668000000000013,
          1.8678000000000015,
          1.8688000000000016,
          1.8698000000000015,
          1.8708000000000014,
          1.8718000000000015,
          1.8728000000000016,
          1.8738000000000015,
          1.8748000000000014,
          1.8758000000000015,
          1.8768000000000016,
          1.8778000000000015,
          1.8788000000000014,
          1.8798000000000015,
          1.8808000000000016,
          1.8818000000000015,
          1.8828000000000014,
          1.8838000000000015,
          1.8848000000000016,
          1.8858000000000015,
          1.8868000000000014,
          1.8878000000000015,
          1.8888000000000016,
          1.8898000000000015,
          1.8908000000000014,
          1.8918000000000015,
          1.8928000000000016,
          1.8938000000000015,
          1.8948000000000014,
          1.8958000000000015,
          1.8968000000000016,
          1.8978000000000015,
          1.8988000000000014,
          1.8998000000000015,
          1.9008000000000016,
          1.9018000000000015,
          1.9028000000000014,
          1.9038000000000015,
          1.9048000000000016,
          1.9058000000000015,
          1.9068000000000014,
          1.9078000000000015,
          1.9088000000000016,
          1.9098000000000015,
          1.9108000000000014,
          1.9118000000000015,
          1.9128000000000016,
          1.9138000000000015,
          1.9148000000000014,
          1.9158000000000015,
          1.9168000000000016,
          1.9178000000000015,
          1.9188000000000014,
          1.9198000000000015,
          1.9208000000000016,
          1.9218000000000015,
          1.9228000000000014,
          1.9238000000000015,
          1.9248000000000016,
          1.9258000000000015,
          1.9268000000000014,
          1.9278000000000015,
          1.9288000000000016,
          1.9298000000000015,
          1.9308000000000014,
          1.9318000000000015,
          1.9328000000000016,
          1.9338000000000015,
          1.9348000000000014,
          1.9358000000000015,
          1.9368000000000016,
          1.9378000000000015,
          1.9388000000000014,
          1.9398000000000015,
          1.9408000000000016,
          1.9418000000000015,
          1.9428000000000014,
          1.9438000000000015,
          1.9448000000000016,
          1.9458000000000015,
          1.9468000000000014,
          1.9478000000000015,
          1.9488000000000016,
          1.9498000000000015,
          1.9508000000000014,
          1.9518000000000015,
          1.9528000000000016,
          1.9538000000000015,
          1.9548000000000014,
          1.9558000000000015,
          1.9568000000000016,
          1.9578000000000015,
          1.9588000000000014,
          1.9598000000000015,
          1.9608000000000017,
          1.9618000000000015,
          1.9628000000000014,
          1.9638000000000015,
          1.9648000000000017,
          1.9658000000000015,
          1.9668000000000014,
          1.9678000000000015,
          1.9688000000000017,
          1.9698000000000015,
          1.9708000000000014,
          1.9718000000000016,
          1.9728000000000017,
          1.9738000000000016,
          1.9748000000000014,
          1.9758000000000016,
          1.9768000000000017,
          1.9778000000000016,
          1.9788000000000014,
          1.9798000000000016,
          1.9808000000000017,
          1.9818000000000016,
          1.9828000000000015,
          1.9838000000000016,
          1.9848000000000017,
          1.9858000000000016,
          1.9868000000000015,
          1.9878000000000016,
          1.9888000000000017,
          1.9898000000000016,
          1.9908000000000015,
          1.9918000000000016,
          1.9928000000000017,
          1.9938000000000016,
          1.9948000000000015,
          1.9958000000000016,
          1.9968000000000017,
          1.9978000000000016,
          1.9988000000000015,
          1.9998000000000016,
          2.0008000000000017,
          2.0018000000000016,
          2.0028000000000015,
          2.0038000000000014,
          2.0048000000000017,
          2.0058000000000016,
          2.0068000000000015,
          2.0078000000000014,
          2.0088000000000017,
          2.0098000000000016,
          2.0108000000000015,
          2.0118000000000014,
          2.0128000000000017,
          2.0138000000000016,
          2.0148000000000015,
          2.0158000000000014,
          2.0168000000000017,
          2.0178000000000016,
          2.0188000000000015,
          2.0198000000000014,
          2.0208000000000017,
          2.0218000000000016,
          2.0228000000000015,
          2.0238000000000014,
          2.0248000000000017,
          2.0258000000000016,
          2.0268000000000015,
          2.0278000000000014,
          2.0288000000000017,
          2.0298000000000016,
          2.0308000000000015,
          2.0318000000000014,
          2.0328000000000017,
          2.0338000000000016,
          2.0348000000000015,
          2.0358000000000014,
          2.0368000000000017,
          2.0378000000000016,
          2.0388000000000015,
          2.0398000000000014,
          2.0408000000000017,
          2.0418000000000016,
          2.0428000000000015,
          2.0438000000000014,
          2.0448000000000017,
          2.0458000000000016,
          2.0468000000000015,
          2.0478000000000014,
          2.0488000000000017,
          2.0498000000000016,
          2.0508000000000015,
          2.0518000000000014,
          2.0528000000000017,
          2.0538000000000016,
          2.0548000000000015,
          2.0558000000000014,
          2.0568000000000017,
          2.0578000000000016,
          2.0588000000000015,
          2.0598000000000014,
          2.0608000000000017,
          2.0618000000000016,
          2.0628000000000015,
          2.0638000000000014,
          2.0648000000000017,
          2.0658000000000016,
          2.0668000000000015,
          2.0678000000000014,
          2.0688000000000017,
          2.0698000000000016,
          2.0708000000000015,
          2.0718000000000014,
          2.0728000000000018,
          2.0738000000000016,
          2.0748000000000015,
          2.0758000000000014,
          2.0768000000000018,
          2.0778000000000016,
          2.0788000000000015,
          2.0798000000000014,
          2.0808000000000018,
          2.0818000000000016,
          2.0828000000000015,
          2.0838000000000014,
          2.0848000000000018,
          2.0858000000000017,
          2.0868000000000015,
          2.0878000000000014,
          2.0888000000000018,
          2.0898000000000017,
          2.0908000000000015,
          2.0918000000000014,
          2.0928000000000018,
          2.0938000000000017,
          2.0948000000000015,
          2.0958000000000014,
          2.0968000000000018,
          2.0978000000000017,
          2.0988000000000016,
          2.0998000000000014,
          2.1008000000000018,
          2.1018000000000017,
          2.1028000000000016,
          2.1038000000000014,
          2.104800000000002,
          2.1058000000000017,
          2.1068000000000016,
          2.1078000000000015,
          2.108800000000002,
          2.1098000000000017,
          2.1108000000000016,
          2.1118000000000015,
          2.112800000000002,
          2.1138000000000017,
          2.1148000000000016,
          2.1158000000000015,
          2.116800000000002,
          2.1178000000000017,
          2.1188000000000016,
          2.1198000000000015,
          2.120800000000002,
          2.1218000000000017,
          2.1228000000000016,
          2.1238000000000015,
          2.124800000000002,
          2.1258000000000017,
          2.1268000000000016,
          2.1278000000000015,
          2.128800000000002,
          2.1298000000000017,
          2.1308000000000016,
          2.1318000000000015,
          2.132800000000002,
          2.1338000000000017,
          2.1348000000000016,
          2.1358000000000015,
          2.136800000000002,
          2.1378000000000017,
          2.1388000000000016,
          2.1398000000000015,
          2.140800000000002,
          2.1418000000000017,
          2.1428000000000016,
          2.1438000000000015,
          2.144800000000002,
          2.1458000000000017,
          2.1468000000000016,
          2.1478000000000015,
          2.148800000000002,
          2.1498000000000017,
          2.1508000000000016,
          2.1518000000000015,
          2.152800000000002,
          2.1538000000000017,
          2.1548000000000016,
          2.1558000000000015,
          2.156800000000002,
          2.1578000000000017,
          2.1588000000000016,
          2.1598000000000015,
          2.160800000000002,
          2.1618000000000017,
          2.1628000000000016,
          2.1638000000000015,
          2.164800000000002,
          2.1658000000000017,
          2.1668000000000016,
          2.1678000000000015,
          2.168800000000002,
          2.1698000000000017,
          2.1708000000000016,
          2.1718000000000015,
          2.172800000000002,
          2.1738000000000017,
          2.1748000000000016,
          2.1758000000000015,
          2.176800000000002,
          2.1778000000000017,
          2.1788000000000016,
          2.1798000000000015,
          2.180800000000002,
          2.1818000000000017,
          2.1828000000000016,
          2.1838000000000015,
          2.184800000000002,
          2.1858000000000017,
          2.1868000000000016,
          2.1878000000000015,
          2.188800000000002,
          2.1898000000000017,
          2.1908000000000016,
          2.1918000000000015,
          2.192800000000002,
          2.1938000000000017,
          2.1948000000000016,
          2.1958000000000015,
          2.196800000000002,
          2.1978000000000018,
          2.1988000000000016,
          2.1998000000000015,
          2.200800000000002,
          2.2018000000000018,
          2.2028000000000016,
          2.2038000000000015,
          2.204800000000002,
          2.2058000000000018,
          2.2068000000000016,
          2.2078000000000015,
          2.208800000000002,
          2.2098000000000018,
          2.2108000000000017,
          2.2118000000000015,
          2.212800000000002,
          2.2138000000000018,
          2.2148000000000017,
          2.2158000000000015,
          2.216800000000002,
          2.2178000000000018,
          2.2188000000000017,
          2.2198000000000015,
          2.220800000000002,
          2.2218000000000018,
          2.2228000000000017,
          2.2238000000000016,
          2.224800000000002,
          2.2258000000000018,
          2.2268000000000017,
          2.2278000000000016,
          2.228800000000002,
          2.229800000000002,
          2.2308000000000017,
          2.2318000000000016,
          2.232800000000002,
          2.233800000000002,
          2.2348000000000017,
          2.2358000000000016,
          2.236800000000002,
          2.237800000000002,
          2.2388000000000017,
          2.2398000000000016,
          2.240800000000002,
          2.241800000000002,
          2.2428000000000017,
          2.2438000000000016,
          2.244800000000002,
          2.245800000000002,
          2.2468000000000017,
          2.2478000000000016,
          2.248800000000002,
          2.249800000000002,
          2.2508000000000017,
          2.2518000000000016,
          2.252800000000002,
          2.253800000000002,
          2.2548000000000017,
          2.2558000000000016,
          2.256800000000002,
          2.257800000000002,
          2.2588000000000017,
          2.2598000000000016,
          2.260800000000002,
          2.261800000000002,
          2.2628000000000017,
          2.2638000000000016,
          2.264800000000002,
          2.265800000000002,
          2.2668000000000017,
          2.2678000000000016,
          2.268800000000002,
          2.269800000000002,
          2.2708000000000017,
          2.2718000000000016,
          2.272800000000002,
          2.273800000000002,
          2.2748000000000017,
          2.2758000000000016,
          2.276800000000002,
          2.277800000000002,
          2.2788000000000017,
          2.2798000000000016,
          2.280800000000002,
          2.281800000000002,
          2.2828000000000017,
          2.2838000000000016,
          2.284800000000002,
          2.285800000000002,
          2.2868000000000017,
          2.2878000000000016,
          2.288800000000002,
          2.289800000000002,
          2.2908000000000017,
          2.2918000000000016,
          2.292800000000002,
          2.293800000000002,
          2.2948000000000017
         ],
         "y": [
          11.31,
          25.74134328358214,
          40.17268656716428,
          54.604029850746414,
          69.03537313432855,
          83.46671641791069,
          97.89805970149283,
          110.84411764705904,
          120.3245098039218,
          129.80490196078458,
          139.28529411764734,
          148.7656862745101,
          158.24607843137287,
          167.72647058823563,
          177.2068627450984,
          186.68725490196115,
          196.16764705882392,
          205.39901960784343,
          212.38921568627484,
          219.37941176470622,
          226.3696078431376,
          233.35980392156898,
          240.35000000000036,
          247.34019607843177,
          254.33039215686316,
          261.32058823529457,
          268.31078431372595,
          275.3009803921573,
          280.0733333333336,
          284.59925925925955,
          289.1251851851855,
          293.6511111111114,
          298.17703703703734,
          302.7029629629633,
          307.2288888888892,
          311.7548148148151,
          316.28074074074107,
          320.80666666666696,
          325.3325925925929,
          329.85851851851885,
          334.38444444444474,
          338.76222222222253,
          342.9177777777781,
          347.0733333333336,
          351.2288888888892,
          355.38444444444474,
          359.5400000000003,
          363.6955555555558,
          367.8511111111114,
          372.00666666666694,
          376.1622222222225,
          380.317777777778,
          384.4733333333336,
          388.62888888888915,
          392.7844444444447,
          402.6235294117654,
          413.0941176470595,
          423.56470588235356,
          430.00294117647076,
          432.4088235294119,
          434.8147058823531,
          437.22058823529426,
          439.62647058823546,
          442.03235294117667,
          444.4382352941178,
          446.844117647059,
          449.2500000000002,
          451.6558823529414,
          454.0617647058826,
          456.46764705882373,
          458.87352941176493,
          461.2794117647061,
          463.6852941176473,
          466.0911764705885,
          468.49705882352964,
          475.77462686567293,
          487.9238805970162,
          500.0731343283594,
          512.2223880597027,
          524.3716417910458,
          536.5208955223891,
          548.6701492537323,
          573.8529411764731,
          602.2941176470617,
          630.7352941176503,
          653.3843137254919,
          667.3450980392173,
          681.3058823529427,
          695.2666666666682,
          709.2274509803937,
          723.1882352941191,
          737.1490196078446,
          751.10980392157,
          765.0705882352954,
          779.031372549021,
          836.5288888888891,
          839.1733333333336,
          841.817777777778,
          844.4622222222225,
          847.1066666666669,
          849.7511111111114,
          852.3955555555559,
          855.0400000000003,
          857.6844444444448,
          860.3288888888892,
          862.9733333333337,
          865.6177777777782,
          868.2622222222226,
          870.9066666666671,
          871.356862745098,
          870.8666666666667,
          870.3764705882353,
          869.8862745098039,
          869.3960784313725,
          868.9058823529411,
          868.4156862745098,
          867.9254901960784,
          867.435294117647,
          866.9450980392156,
          873.0676470588251,
          885.8029411764721,
          898.5382352941192,
          911.2735294117663,
          924.0088235294135,
          936.7441176470605,
          949.4794117647076,
          964.9227722772301,
          981.5267326732697,
          998.1306930693094,
          1014.734653465349,
          1031.3386138613887,
          1047.9425742574283,
          1064.546534653468,
          1081.1504950495075,
          1097.7544554455471,
          1114.3584158415867,
          1132.6470588235325,
          1152.0588235294147,
          1171.4705882352969,
          1187.7647058823536,
          1191.5882352941182,
          1195.411764705883,
          1199.2352941176478,
          1203.0588235294124,
          1206.882352941177,
          1210.705882352942,
          1213.594059405941,
          1215.0792079207924,
          1216.5643564356437,
          1218.0495049504952,
          1219.5346534653468,
          1221.0198019801983,
          1222.5049504950498,
          1223.9900990099013,
          1225.4752475247528,
          1226.9603960396043,
          1229.0588235294124,
          1232.5882352941182,
          1236.117647058824,
          1239.64705882353,
          1243.1764705882358,
          1246.7058823529417,
          1250.2352941176478,
          1253.7647058823536,
          1257.2941176470595,
          1260.8235294117653,
          1263.617647058823,
          1259.794117647058,
          1255.9705882352935,
          1252.1470588235288,
          1248.323529411764,
          1244.4999999999993,
          1240.6764705882347,
          1238.2444444444445,
          1239.0592592592593,
          1239.8740740740743,
          1240.688888888889,
          1241.5037037037039,
          1242.3185185185187,
          1243.1333333333334,
          1243.9481481481482,
          1244.7629629629632,
          1245.577777777778,
          1246.3925925925928,
          1247.2074074074076,
          1248.0222222222224,
          1248.8370370370371,
          1247.4313725490194,
          1245.4705882352937,
          1243.5098039215684,
          1241.5490196078426,
          1239.5882352941173,
          1237.6274509803916,
          1235.6666666666663,
          1233.7058823529408,
          1231.7450980392155,
          1229.7843137254897,
          1227.1194029850742,
          1223.9850746268648,
          1220.8507462686562,
          1217.716417910447,
          1214.5820895522384,
          1211.447761194029,
          1208.3134328358205,
          1209.4117647058827,
          1210.980392156863,
          1212.5490196078435,
          1214.1176470588236,
          1215.6862745098042,
          1217.2549019607845,
          1218.823529411765,
          1220.3921568627454,
          1221.960784313726,
          1223.529411764706,
          1222.5862068965512,
          1220.566502463054,
          1218.5467980295562,
          1216.5270935960589,
          1214.5073891625611,
          1212.4876847290636,
          1210.467980295566,
          1208.4482758620686,
          1206.4285714285709,
          1204.4088669950736,
          1202.3891625615759,
          1200.3694581280786,
          1198.3497536945806,
          1196.3300492610833,
          1194.3103448275856,
          1192.2906403940883,
          1190.2709359605906,
          1188.2512315270933,
          1186.2315270935956,
          1184.2118226600983,
          1182.705882352941,
          1181.970588235294,
          1181.2352941176468,
          1180.4999999999998,
          1179.7647058823527,
          1179.0294117647059,
          1178.2941176470586,
          1177.10447761194,
          1175.611940298507,
          1174.1194029850744,
          1172.6268656716413,
          1171.1343283582087,
          1169.6417910447756,
          1168.149253731343,
          1169.323529411765,
          1170.7941176470592,
          1172.2647058823534,
          1173.7352941176473,
          1175.2058823529417,
          1176.6764705882356,
          1178.1470588235297,
          1179.6176470588239,
          1181.088235294118,
          1182.558823529412,
          1183.4117647058824,
          1184,
          1184.5882352941178,
          1185.1764705882354,
          1185.7647058823532,
          1186.3529411764707,
          1186.9411764705883,
          1187.529411764706,
          1188.1176470588236,
          1188.7058823529412,
          1188.6296296296293,
          1187.8888888888887,
          1187.148148148148,
          1186.4074074074072,
          1185.6666666666665,
          1184.9259259259259,
          1184.185185185185,
          1183.4444444444443,
          1182.7037037037035,
          1181.9629629629628,
          1181.222222222222,
          1180.4814814814813,
          1179.7407407407404,
          1178.9999999999998,
          1178.2610837438422,
          1177.5221674876846,
          1176.783251231527,
          1176.0443349753693,
          1175.3054187192115,
          1174.5665024630541,
          1173.8275862068963,
          1173.0886699507387,
          1172.349753694581,
          1171.6108374384235,
          1170.8719211822659,
          1170.1330049261082,
          1169.3940886699504,
          1168.655172413793,
          1167.9162561576352,
          1167.1773399014776,
          1166.43842364532,
          1165.6995073891624,
          1164.9605911330048,
          1164.2216748768471,
          1163.7416974169741,
          1163.372693726937,
          1163.0036900369003,
          1162.6346863468634,
          1162.2656826568264,
          1161.8966789667895,
          1161.5276752767527,
          1161.1586715867159,
          1160.7896678966788,
          1160.420664206642,
          1160.0516605166051,
          1159.682656826568,
          1159.3136531365312,
          1158.9446494464944,
          1158.5756457564573,
          1158.2066420664205,
          1157.8376383763837,
          1157.4686346863468,
          1157.0996309963098,
          1156.730627306273,
          1156.361623616236,
          1155.9926199261993,
          1155.6236162361622,
          1155.2546125461254,
          1154.8856088560883,
          1154.5166051660515,
          1154.1476014760146,
          1153.4674556213015,
          1152.5798816568044,
          1151.6923076923074,
          1150.8047337278103,
          1149.9171597633133,
          1149.0295857988162,
          1148.1420118343192,
          1147.2544378698221,
          1146.3668639053253,
          1145.479289940828,
          1144.5917159763312,
          1143.704142011834,
          1142.8165680473371,
          1141.9289940828398,
          1141.041420118343,
          1140.1538461538457,
          1139.266272189349,
          1138.2794117647054,
          1137.2499999999998,
          1136.2205882352937,
          1135.191176470588,
          1134.161764705882,
          1133.1323529411761,
          1132.1029411764703,
          1131.0735294117644,
          1130.0441176470583,
          1129.0147058823527,
          1127.9852941176466,
          1126.955882352941,
          1125.926470588235,
          1124.897058823529,
          1123.8676470588232,
          1122.8382352941173,
          1121.8088235294113,
          1120.7794117647056,
          1119.7499999999995,
          1118.720588235294,
          1117.554455445544,
          1116.0693069306926,
          1114.5841584158409,
          1113.0990099009896,
          1111.613861386138,
          1110.1287128712868,
          1108.643564356435,
          1107.1584158415837,
          1105.673267326732,
          1104.1881188118807,
          1102.1176470588216,
          1097.7058823529399,
          1093.294117647057,
          1088.882352941175,
          1084.4705882352923,
          1080.0588235294103,
          1075.6470588235275,
          1071.2352941176457,
          1066.8235294117628,
          1062.4117647058808,
          1058.0000000000016,
          1061.7313432835833,
          1065.4626865671657,
          1069.1940298507475,
          1072.92537313433,
          1076.6567164179116,
          1080.388059701494,
          1082.3382352941169,
          1080.1323529411757,
          1077.9264705882347,
          1075.7205882352932,
          1073.5147058823522,
          1071.3088235294108,
          1069.10294117647,
          1045.558823529394,
          1000.676470588222,
          955.7941176470399,
          923.9846153846432,
          1009.8307692308088,
          1008.7999999999919,
          986.0499999999894,
          765.8812500000103,
          802.4437500000146,
          839.0062500000108,
          861.9176470588199,
          852.9764705882325,
          844.0352941176432,
          835.0941176470558,
          843.909090909096,
          854.6969696969736,
          865.4848484848537,
          883.2647058823611,
          905.7058823529514,
          928.1470588235368,
          947.8941176470627,
          956.8647058823559,
          965.8352941176511,
          974.8058823529443,
          977.8058823529419,
          979.3132352941182,
          980.8205882352948,
          982.3279411764711,
          983.8352941176478,
          985.342647058824,
          986.8500000000007,
          988.3573529411769,
          989.8647058823536,
          991.3720588235299,
          992.8794117647066,
          994.3867647058828,
          995.8941176470595,
          992.0176470588156,
          966.60588235293,
          941.1941176470502,
          915.7823529411647,
          897.1484848484787,
          880.2090909090826,
          863.2696969696905,
          846.5794117646977,
          830.1382352941117,
          813.697058823522,
          795.6117647058717,
          762.7294117646911,
          729.847058823518,
          696.9647058823374,
          718.4970588235462,
          763.3500000000224,
          808.2029411764886,
          850.3735294117832,
          886.2852941176609,
          922.1970588235465,
          958.1088235294242,
          923.185714285716,
          926.8285714285728,
          930.4714285714304,
          934.1142857142871,
          937.7571428571446,
          941.4000000000013,
          945.0428571428589,
          948.6857142857157,
          952.3285714285731,
          955.9714285714299,
          953.7176470588219,
          949.9897058823516,
          946.2617647058806,
          942.5338235294104,
          938.8058823529394,
          935.0779411764692,
          931.3499999999982,
          927.6220588235279,
          923.894117647057,
          920.1661764705867,
          916.4382352941158,
          912.7102941176455,
          908.9823529411746,
          905.2558823529396,
          901.5352941176451,
          897.8147058823514,
          894.0941176470569,
          890.3735294117632,
          886.6529411764687,
          882.932352941175,
          880.2791666666661,
          879.227083333333,
          878.1749999999995,
          877.1229166666664,
          876.0708333333329,
          875.0187499999996,
          873.9666666666662,
          872.914583333333,
          871.8624999999995,
          870.8104166666664,
          843.2222222222115,
          823.4444444444362,
          798.7142857142665,
          762.428571428555,
          725.2400000000226,
          730.5508771929808,
          726.9894736842085,
          723.428070175437,
          719.8666666666647,
          716.3052631578931,
          713.1514851485151,
          713.6663366336636,
          714.1811881188122,
          714.6960396039606,
          715.2108910891092,
          715.7257425742577,
          716.2405940594062,
          716.7554455445546,
          717.2702970297032,
          717.7851485148517,
          718.3000000000083,
          733.2705882353005,
          748.241176470596,
          763.2117647058882,
          774.582352941181,
          783.5529411764742,
          792.5235294117695,
          800.2000000000011,
          802.7000000000014,
          805.2000000000011,
          807.7000000000014,
          810.2000000000011,
          812.7000000000014,
          815.2000000000012,
          817.7000000000014,
          820.2000000000012,
          822.7000000000014,
          825.1999999999996,
          824.2098522167482,
          823.2197044334971,
          822.2295566502457,
          821.2394088669947,
          820.2492610837434,
          819.2591133004922,
          818.2689655172409,
          817.2788177339897,
          816.2886699507384,
          815.2985221674872,
          814.3083743842359,
          813.3182266009848,
          812.3280788177334,
          811.3379310344824,
          810.347783251231,
          809.3576354679799,
          808.3674876847285,
          807.3773399014774,
          806.387192118226,
          805.3970443349749,
          804.0520710059163,
          802.5550295857981,
          801.0579881656796,
          799.5609467455614,
          798.0639053254429,
          796.5668639053247,
          795.0698224852063,
          793.5727810650881,
          792.0757396449695,
          790.5786982248513,
          789.0816568047328,
          787.5846153846146,
          786.0875739644962,
          784.590532544378,
          783.0934911242595,
          781.5964497041413,
          780.0994082840227,
          772.0352941176425,
          762.3294117647002,
          752.6235294117603,
          742.917647058818,
          733.211764705878,
          723.5058823529357,
          713.7999999999906,
          692.8882352941057,
          671.9764705882254,
          651.0647058823405,
          631.6090909090818,
          613.124242424231,
          594.6393939393845,
          579.6838235294076,
          572.9632352941142,
          566.2426470588193,
          559.522058823526,
          552.8014705882312,
          546.0808823529378,
          539.360294117643,
          532.6397058823496,
          525.9191176470548,
          519.1985294117615,
          512.4779411764665,
          505.7573529411732,
          499.0367647058784,
          492.31617647058505,
          498.67941176471305,
          510.650000000006,
          522.6205882353016,
          589.5338235294075,
          581.3132352941125,
          573.0926470588194,
          564.8720588235243,
          556.6514705882312,
          548.4308823529361,
          540.210294117643,
          529.9484848484773,
          517.6454545454483,
          505.3424242424164,
          425.81176470587286,
          407.870588235283,
          389.9294117646971,
          371.9882352941072,
          346.8705882352813,
          319.95882352939554,
          293.04705882351584,
          194.39411764706486,
          204.1294117647108,
          213.86470588235892,
          223.60000000000485,
          233.33529411765295,
          243.0705882352989,
          252.805882352947,
          261.18235294118017,
          268.6529411764752,
          276.12352941176863,
          281.4980198019783,
          278.4881188118796,
          275.4782178217803,
          272.4683168316816,
          269.4584158415822,
          266.44851485148354,
          263.43861386138417,
          260.4287128712855,
          257.4188118811862,
          254.40891089108746,
          253.3470588235402,
          269.81764705883273,
          286.28823529412887,
          302.75882352942136,
          322.3588235294261,
          343.3000000000116,
          364.2411764706018,
          385.18235294118745,
          406.1235294117783,
          427.0647058823645,
          448.0058823529554,
          456.8367647058866,
          464.32205882353446,
          471.8073529411806,
          479.2926470588285,
          486.7779411764747,
          494.2632352941226,
          501.8358208955269,
          510.1940298507517,
          518.5522388059746,
          526.9104477611994,
          535.2686567164222,
          543.626865671647,
          551.98507462687,
          560.5941176470644,
          569.5794117647106,
          578.5647058823588,
          587.550000000005,
          596.5352941176532,
          605.5205882352993,
          614.5058823529475,
          617.1999999999991,
          615.6999999999989,
          614.1999999999991,
          612.6999999999989,
          611.199999999999,
          609.6999999999989,
          608.199999999999,
          606.6999999999989,
          605.199999999999,
          603.6999999999989,
          602.199999999999,
          600.6999999999988,
          599.199999999999,
          597.6999999999988,
          596.199999999999,
          594.6999999999988,
          593.1999999999989,
          591.5499999999986,
          589.8624999999988,
          588.1749999999986,
          586.4874999999988,
          584.7999999999986,
          583.1124999999988,
          581.4249999999986,
          579.7374999999988,
          578.0499999999986,
          576.3624999999988,
          574.6749999999986,
          572.9874999999988,
          571.2999999999986,
          569.6124999999988,
          567.9249999999986,
          566.2374999999988,
          564.5499999999986,
          562.8624999999988,
          561.1749999999986,
          559.4874999999988,
          557.7999999999986,
          556.1124999999988,
          554.4249999999986,
          552.7374999999988,
          551.091764705881,
          549.4564705882342,
          547.8211764705869,
          546.18588235294,
          544.5505882352928,
          542.9152941176459,
          541.2799999999987,
          539.6447058823518,
          538.0094117647045,
          536.3741176470577,
          534.7388235294104,
          533.1035294117636,
          531.4682352941163,
          529.8329411764695,
          528.1976470588222,
          526.5623529411754,
          524.9270588235281,
          523.2917647058812,
          521.656470588234,
          520.0211764705871,
          518.3858823529399,
          516.750588235293,
          515.1152941176457,
          513.4799999999989,
          511.84470588235166,
          510.2094117647048,
          508.5741176470575,
          506.9388235294106,
          505.3035294117634,
          503.6682352941165,
          502.0329411764693,
          500.39764705882243,
          498.76235294117515,
          497.1270588235283,
          495.7317647058813,
          494.39647058823437,
          493.06117647058716,
          491.7258823529403,
          490.3905882352931,
          489.05529411764616,
          487.71999999999895,
          486.384705882352,
          485.0494117647048,
          483.7141176470579,
          482.3788235294107,
          481.0435294117638,
          479.7082352941166,
          478.3729411764697,
          477.0376470588225,
          475.70235294117555,
          474.36705882352834,
          473.0317647058814,
          471.6964705882342,
          470.36117647058734,
          469.02588235294013,
          467.6905882352932,
          466.355294117646,
          465.0199999999991,
          463.68470588235186,
          462.34941176470494,
          461.01411764705773,
          459.6788235294108,
          458.3435294117636,
          457.00823529411673,
          455.6729411764695,
          454.3376470588226,
          453.0023529411754,
          451.66705882352846,
          453.45333333333537,
          456.02000000000174,
          458.5866666666687,
          461.1533333333351,
          463.7200000000021,
          466.28666666666845,
          457.63999999999083,
          446.1899999999921,
          434.73999999999086,
          423.2899999999921,
          408.8133333333216,
          393.57999999999055,
          378.34666666665606,
          364.4733333333251,
          350.93999999998977,
          337.40666666665743,
          321.4799999999868,
          304.9549999999886,
          288.4299999999868,
          271.90499999998866,
          257.55999999998915,
          243.7599999999909,
          229.95999999998958,
          216.15999999999133,
          202.35999999999,
          188.55999999999176,
          174.75999999999044,
          167.12799999999638,
          161.03799999999558,
          154.9479999999961,
          148.8579999999953,
          142.76799999999582,
          136.67799999999502,
          130.58799999999556,
          124.49799999999476,
          118.4079999999953,
          112.31799999999447,
          113.3030769230791,
          116.05692307692554,
          118.81076923077137,
          121.5646153846178,
          124.31846153846362,
          127.07230769231006,
          129.82615384615588,
          132.58000000000231,
          135.33384615384816,
          138.0876923076946,
          140.8415384615404,
          143.59538461538685,
          146.3492307692327,
          151.93058823529918,
          158.21882352941617,
          164.50705882353455,
          170.79529411765157,
          177.08352941176994,
          183.37176470588693,
          189.6600000000053,
          195.9482352941223,
          202.2364705882407,
          208.5247058823577,
          214.81294117647607,
          221.10117647059306,
          227.38941176471144,
          233.67764705882843,
          239.96588235294683,
          246.25411764706382,
          252.5423529411822,
          259.0960000000053,
          265.71600000000603,
          272.3360000000053,
          278.95600000000604,
          285.5760000000053,
          292.19600000000605,
          298.8160000000053,
          305.436000000006,
          312.05600000000527,
          318.676000000006,
          326.12000000000614,
          333.770000000007,
          341.42000000000616,
          349.070000000007,
          351.2338461538468,
          352.02615384615456,
          352.81846153846215,
          353.61076923076996,
          354.40307692307755,
          355.1953846153853,
          355.9876923076929,
          356.78000000000065,
          357.57230769230824,
          358.364615384616,
          359.15692307692365,
          359.9492307692314,
          360.741538461539,
          367.0000000000061,
          374.62500000000523,
          382.2500000000061,
          389.87500000000523,
          390.50518518518425,
          389.38666666666586,
          388.26814814814725,
          387.1496296296288,
          386.0311111111102,
          384.91259259259175,
          383.79407407407314,
          382.67555555555475,
          381.5570370370361,
          380.4385185185177,
          379.319999999999,
          378.20148148148064,
          377.082962962962,
          375.9644444444436,
          374.845925925925,
          373.72740740740653,
          372.6088888888879,
          371.49037037036953,
          370.37185185185086,
          369.2533333333325,
          368.1348148148138,
          367.0162962962954,
          365.89777777777675,
          364.77925925925837,
          363.6607407407397,
          362.5422222222213,
          361.4237037037027,
          361.44470588235316,
          361.7505882352944,
          362.0564705882355,
          362.3623529411767,
          362.6682352941179,
          362.9741176470591,
          363.2800000000002,
          363.58588235294144,
          363.89176470588257,
          364.19764705882375,
          364.50352941176493,
          364.8094117647061,
          365.11529411764724,
          365.4211764705885,
          365.7270588235296,
          366.0329411764708,
          366.33882352941197,
          364.75259259259093,
          362.6933333333319,
          360.6340740740724,
          358.57481481481335,
          356.5155555555539,
          354.4562962962948,
          352.3970370370353,
          350.3377777777763,
          348.27851851851676,
          346.21925925925774,
          344.15999999999826,
          342.10074074073924,
          340.0414814814797,
          337.9822222222207,
          335.9229629629612,
          333.86370370370213,
          331.80444444444265,
          329.74518518518363,
          327.68592592592415,
          325.6266666666651,
          323.5674074074056,
          321.5081481481466,
          319.44888888888704,
          317.389629629628,
          315.33037037036854,
          313.27111111110946,
          311.21185185185,
          311.2847058823534,
          311.8905882352947,
          312.4964705882358,
          313.10235294117706,
          313.70823529411814,
          314.3141176470594,
          314.9200000000005,
          315.5258823529418,
          316.1317647058829,
          316.7376470588241,
          317.34352941176525,
          317.9494117647065,
          318.55529411764763,
          319.1611764705889,
          319.76705882352996,
          320.3729411764712,
          320.97882352941235,
          320.48461538461464,
          319.7153846153839,
          318.9461538461531,
          318.17692307692244,
          317.4076923076916,
          316.6384615384609,
          315.86923076923006,
          315.0999999999994,
          314.3307692307685,
          313.56153846153785,
          312.792307692307,
          312.0230769230763,
          311.2538461538455,
          309.4341176470572,
          307.35176470588044,
          305.2694117647042,
          303.1870588235275,
          301.1047058823512,
          299.0223529411745,
          296.93999999999824,
          294.85764705882156,
          292.7752941176453,
          290.69294117646854,
          288.6105882352923,
          286.5282352941156,
          284.44588235293935,
          282.3635294117626,
          280.2811764705864,
          278.19882352940965,
          276.11647058823337,
          271.6359999999948,
          266.5559999999954,
          261.4759999999948,
          256.39599999999535,
          251.3159999999948,
          246.23599999999539,
          241.1559999999948,
          236.07599999999425,
          230.9959999999948,
          225.9159999999954,
          220.84181818181304,
          215.76909090908526,
          210.6963636363586,
          205.62363636363193,
          200.55090909090416,
          195.47818181817638,
          190.40545454544971,
          185.33272727272305,
          180.25999999999527,
          175.18727272726747,
          170.1145454545408,
          166.87199999999777,
          164.08699999999746,
          161.30199999999715,
          158.51699999999747,
          155.73199999999778,
          152.94699999999747,
          150.16199999999716,
          147.37699999999745,
          144.59199999999777,
          141.80699999999746,
          139.02199999999715,
          136.23699999999747,
          133.45199999999778,
          130.66699999999747,
          127.88199999999716,
          125.09699999999748,
          122.31199999999778,
          119.52699999999747,
          116.74199999999716,
          113.95699999999746,
          110.77458823529149,
          107.49282352940874,
          104.211058823526,
          100.92929411764399,
          97.64752941176198,
          94.36576470587924,
          91.08399999999651,
          87.8022352941145,
          84.52047058823248,
          81.23870588234975,
          77.95694117646701,
          74.675176470585,
          71.39341176470299,
          68.11164705882024,
          64.82988235293752,
          61.5481176470555,
          58.26635294117349,
          54.48926153845753,
          50.58833846153398,
          46.687415384611306,
          42.786492307688626,
          38.885569230765086,
          34.98464615384154,
          31.08372307691886,
          27.182799999996185,
          23.281876923072645,
          19.380953846149097,
          15.480030769226417,
          11.579107692303744,
          7.6781846153801965,
          7.3297000000006705,
          7.869325000000611,
          8.408950000000551,
          8.948575000000611,
          9.48820000000067,
          10.027825000000611,
          10.56745000000055,
          11.10707500000061,
          11.64670000000067,
          12.186325000000611,
          12.72595000000055,
          13.26557500000061,
          13.80520000000067,
          14.34482500000061,
          14.88445000000055,
          15.42407500000061,
          15.963700000000669,
          16.503325000000608,
          17.042950000000552,
          17.58257500000061,
          18.122200000000667,
          18.66182500000061,
          19.20145000000055,
          19.741075000000606,
          20.28070000000067,
          20.820325000000608,
          21.35995000000055,
          21.89957500000061,
          22.439200000000668,
          22.978825000000608,
          23.51845000000055,
          24.058075000000606,
          24.597700000000668,
          25.137325000000608,
          25.67695000000055,
          26.216575000000606,
          26.756200000000668,
          27.295825000000608,
          27.83545000000055,
          28.375075000000606,
          28.914700000000668,
          29.45432500000061,
          29.99395000000055,
          30.533575000000607,
          31.073200000000668,
          31.61282500000061,
          32.15245000000054,
          32.69207500000061,
          33.86281481481646,
          35.191333333334825,
          36.51985185185319,
          37.84837037037185,
          39.17688888889052,
          40.50540740740888,
          41.83392592592725,
          43.1624444444459,
          44.490962962964566,
          45.81948148148293,
          47.148000000001296,
          48.47651851851996,
          49.805037037038616,
          51.13355555555698,
          52.462074074075346,
          53.79059259259401,
          55.11911111111267,
          56.44762962963104,
          57.7761481481494,
          59.10466666666807,
          60.43318518518673,
          61.761703703705095,
          63.09022222222346,
          64.41874074074212,
          65.74725925926077,
          67.07577777777914,
          68.4042962962975,
          68.36599999999962,
          67.98599999999956,
          67.6059999999996,
          67.22599999999964,
          66.84599999999959,
          66.46599999999955,
          66.08599999999959,
          65.70599999999963,
          65.32599999999958,
          64.94599999999953,
          64.56599999999958,
          64.18599999999961,
          63.805999999999564,
          65.4812380952408,
          67.67028571428817,
          69.85933333333553,
          72.04838095238338,
          74.23742857143124,
          76.4264761904786,
          78.61552380952597,
          80.80457142857381,
          82.99361904762166,
          85.18266666666904,
          87.3717142857164,
          89.56076190476425,
          91.7498095238121,
          93.93885714285946,
          96.12790476190682,
          98.31695238095467,
          100.50600000000253,
          102.69504761904989,
          104.88409523809725,
          107.07314285714511,
          109.26219047619296,
          111.51629629629862,
          113.78666666666875,
          116.05703703703938,
          118.32740740741002,
          120.59777777778015,
          122.86814814815027,
          125.1385185185209,
          127.40888888889154,
          129.67925925926167,
          131.9496296296318,
          134.22000000000241,
          136.49037037037306,
          138.7607407407432,
          141.03111111111332,
          143.30148148148393,
          145.57185185185457,
          147.8422222222247,
          150.11259259259484,
          152.38296296296545,
          154.6533333333361,
          156.92370370370622,
          159.19407407407635,
          161.464444444447,
          163.7348148148176,
          166.00518518518774,
          168.27555555555787,
          170.5459259259285,
          172.87333333333623,
          175.21500000000265,
          177.55666666666906,
          179.89833333333598,
          182.2400000000029,
          184.58166666666932,
          186.92333333333573,
          189.26500000000266,
          191.60666666666958,
          193.948333333336,
          196.29000000000238,
          198.6316666666693,
          200.97333333333626,
          203.31500000000264,
          205.65666666666905,
          207.99833333333598,
          210.3400000000029,
          212.68166666666932,
          215.02333333333573,
          217.36500000000265,
          219.70666666666958,
          222.04833333333596,
          224.39000000000237,
          226.7316666666693,
          226.9066666666662,
          226.53999999999957,
          226.17333333333295,
          225.80666666666625,
          225.43999999999954,
          225.0733333333329,
          224.70666666666628,
          224.33999999999958,
          223.97333333333285,
          223.60666666666623,
          223.2399999999996,
          222.8733333333329,
          222.50666666666618,
          222.13999999999956,
          221.77333333333294,
          221.40666666666624,
          221.0399999999995,
          220.6733333333329,
          220.30666666666627,
          219.93999999999957,
          219.57333333333284,
          219.20666666666622,
          218.8399999999996,
          218.4733333333329,
          218.10666666666617,
          217.73999999999955,
          217.37333333333294,
          217.1039999999997,
          216.85899999999967,
          216.61399999999972,
          216.36899999999974,
          216.1239999999997,
          215.87899999999968,
          215.6339999999997,
          215.38899999999973,
          215.1439999999997,
          214.8989999999997,
          214.6539999999997,
          214.40899999999974,
          214.1639999999997,
          213.91899999999967,
          213.6739999999997,
          213.42899999999972,
          213.1839999999997,
          212.93899999999968,
          212.6939999999997,
          212.44899999999973,
          211.99999999999937,
          211.49999999999932,
          210.99999999999937,
          210.49999999999943,
          209.99999999999937,
          209.49999999999932,
          208.99999999999937,
          208.49999999999943,
          207.99999999999937,
          207.49999999999932,
          206.99999999999937,
          206.49999999999943,
          205.99999999999937,
          205.49999999999932,
          204.99999999999937,
          204.49999999999943,
          203.99999999999937,
          203.49999999999932,
          202.99999999999937,
          202.49999999999943,
          202.40761904761908,
          202.41714285714286,
          202.42666666666668,
          202.4361904761905,
          202.4457142857143,
          202.45523809523812,
          202.46476190476193,
          202.4742857142857,
          202.48380952380953,
          202.49333333333334,
          202.50285714285715,
          202.51238095238097,
          202.52190476190478,
          202.5314285714286,
          202.5409523809524,
          202.5504761904762,
          202.56,
          202.56952380952382,
          202.57904761904763,
          202.58857142857144,
          202.59809523809525,
          202.07826086956425,
          201.42608695652086,
          200.77391304347745,
          200.1217391304339,
          199.46956521739037,
          198.81739130434696,
          198.16521739130354,
          197.51304347826002,
          196.86086956521646,
          196.20869565217305,
          195.55652173912966,
          194.9043478260861,
          194.25217391304255,
          193.59999999999914,
          192.94782608695576,
          192.2956521739122,
          191.64347826086865,
          190.99130434782526,
          190.33913043478185,
          189.6869565217383,
          189.03478260869477,
          188.38260869565136,
          187.73043478260794,
          187.00740740740648,
          186.26666666666566,
          185.52592592592498,
          184.78518518518433,
          184.0444444444435,
          183.30370370370267,
          182.56296296296202,
          181.82222222222134,
          181.08148148148052,
          180.3407407407397,
          179.59999999999903,
          178.85925925925838,
          178.11851851851756,
          177.3777777777767,
          176.63703703703607,
          175.89629629629542,
          175.15555555555457,
          174.41481481481375,
          173.67407407407308,
          172.93333333333243,
          172.1925925925916,
          171.4518518518508,
          170.7111111111101,
          169.97037037036944,
          169.22962962962862,
          168.4888888888878,
          167.74814814814715,
          167.4366666666664,
          167.2324999999997,
          167.02833333333302,
          166.82416666666637,
          166.61999999999975,
          166.41583333333304,
          166.21166666666636,
          166.0074999999997,
          165.80333333333306,
          165.59916666666638,
          165.3949999999997,
          165.19083333333305,
          164.9866666666664,
          164.78249999999971,
          164.57833333333303,
          164.37416666666638,
          164.16999999999973,
          163.96583333333305,
          163.76166666666637,
          163.55749999999972,
          163.35333333333307,
          163.1491666666664,
          162.94499999999968,
          162.74083333333306,
          162.4694117647055,
          162.18117647058784,
          161.89294117647015,
          161.60470588235253,
          161.31647058823492,
          161.02823529411725,
          160.73999999999958,
          160.45176470588194,
          160.16352941176433,
          159.87529411764666,
          159.587058823529,
          159.29882352941138,
          159.01058823529377,
          158.72235294117607,
          158.4341176470584,
          158.1458823529408,
          157.85764705882318,
          157.56941176470548,
          157.2811764705878,
          156.9929411764702,
          156.70470588235258,
          156.41647058823492,
          156.12823529411722,
          155.8399999999996,
          155.551764705882,
          155.26352941176432,
          154.97529411764663,
          154.68705882352901,
          154.3988235294114,
          154.11058823529373,
          153.82235294117606,
          153.53411764705845,
          153.2458823529408,
          152.95764705882314,
          152.4675675675668,
          151.9270270270263,
          151.3864864864858,
          150.8459459459452,
          150.3054054054046,
          149.76486486486414,
          149.22432432432365,
          148.68378378378304,
          148.14324324324244,
          147.60270270270195,
          147.06216216216148,
          146.52162162162088,
          145.98108108108028,
          145.44054054053979,
          144.8999999999993,
          144.35945945945872,
          143.81891891891811,
          143.27837837837762,
          142.73783783783713,
          142.19729729729653,
          141.65675675675593,
          141.11621621621546,
          140.57567567567497,
          140.03513513513437,
          139.49459459459376,
          138.95405405405327,
          138.4135135135128,
          137.8729729729722,
          137.3324324324316,
          136.7918918918911,
          136.25135135135065,
          135.71081081081005,
          135.17027027026944,
          134.62972972972895,
          134.08918918918846,
          133.54864864864786,
          133.00810810810725,
          131.8933333333315,
          130.6349999999983,
          129.37666666666482,
          128.11833333333135,
          126.85999999999817,
          125.60166666666497,
          124.34333333333149,
          123.08499999999802,
          121.82666666666483,
          120.56833333333164,
          119.30999999999815,
          118.05166666666469,
          116.79333333333149,
          115.53499999999829,
          114.27666666666482,
          113.01833333333136,
          111.75999999999816,
          110.50166666666496,
          109.24333333333149,
          107.98499999999802,
          106.72666666666483,
          105.46833333333163,
          104.20999999999816,
          102.95166666666469,
          101.51082352940959,
          100.02435294117446,
          98.537882352939,
          97.05141176470354,
          95.56494117646841,
          94.07847058823329,
          92.59199999999782,
          91.10552941176236,
          89.61905882352724,
          88.1325882352921,
          86.64611764705664,
          85.15964705882118,
          83.67317647058606,
          82.18670588235094,
          80.70023529411547,
          79.21376470588001,
          77.72729411764487,
          76.24082352940975,
          74.75435294117429,
          73.26788235293883,
          71.7814117647037,
          70.29494117646857,
          68.80847058823312,
          67.32199999999766,
          65.83552941176252,
          64.3490588235274,
          62.86258823529194,
          61.376117647056475,
          59.889647058821346,
          58.40317647058622,
          56.91670588235076,
          55.4302352941153,
          53.94376470588017,
          52.45729411764504,
          50.962666666664475,
          49.46599999999765,
          47.96933333333116,
          46.47266666666466,
          44.97599999999783,
          43.479333333331006,
          41.982666666664514,
          40.485999999998015,
          38.98933333333119,
          37.49266666666436,
          35.99599999999787,
          34.49933333333138,
          33.00266666666455,
          31.505999999997723,
          30.00933333333123,
          28.512666666664735,
          27.01599999999791,
          25.519333333331083,
          24.022666666664588,
          22.525999999998096,
          21.02933333333127,
          19.53266666666444,
          18.035999999997948,
          16.539333333331456,
          15.04266666666463,
          13.545999999997804,
          12.049333333331305,
          11.9892727272731,
          12.288363636364043,
          12.587454545454985,
          12.886545454545862,
          13.185636363636739,
          13.484727272727682,
          13.783818181818624,
          14.082909090909503,
          14.382000000000378,
          14.68109090909132,
          14.980181818182265,
          15.279272727273142,
          15.578363636364017,
          15.877454545454961,
          16.176545454545902,
          16.47563636363678,
          16.774727272727656,
          17.073818181818602,
          17.372909090909545,
          17.67200000000042,
          17.971090909091295,
          18.270181818182238,
          18.569272727273184,
          18.86836363636406,
          19.167454545454937,
          19.46654545454588,
          19.765636363636823,
          20.0647272727277,
          20.363818181818573,
          20.66290909090952,
          20.96200000000046,
          21.261090909091337,
          21.560181818182215,
          21.859272727273158,
          22.1583636363641,
          22.45745454545498,
          22.756545454545854,
          23.055636363636797,
          23.35472727272774,
          23.653818181818615,
          23.952909090909493,
          24.252000000000436,
          24.55109090909138,
          24.850181818182257,
          25.149272727273132,
          25.44836363636408,
          25.74745454545502,
          26.046545454545896,
          26.34563636363677,
          26.644727272727714,
          26.943818181818656,
          27.242909090909535,
          27.542000000000414,
          27.841090909091356,
          28.1401818181823,
          28.439272727273174,
          28.738363636364053,
          29.037454545454995,
          29.336545454545938,
          29.635636363636813,
          29.93472727272769,
          30.233818181818634,
          30.532909090909577,
          30.832000000000452,
          31.13109090909133,
          31.430181818182273,
          31.729272727273216,
          32.02836363636409,
          32.32745454545497,
          32.62654545454591,
          32.925636363636855,
          33.22472727272773,
          33.52381818181861,
          33.82290909090955,
          34.1220000000005,
          34.421090909091376,
          34.72018181818225,
          35.01927272727319,
          35.31836363636413,
          35.61745454545501,
          35.91654545454588,
          36.21563636363683,
          36.51472727272777,
          36.81381818181865,
          37.112909090909525,
          37.41200000000047,
          37.71109090909141,
          38.01018181818229,
          38.44800000000069,
          38.92050000000074,
          39.3930000000008,
          39.86550000000074,
          40.33800000000069,
          40.810500000000744,
          41.2830000000008,
          41.755500000000744,
          42.22800000000069,
          42.700500000000744,
          43.1730000000008,
          43.645500000000744,
          44.11800000000069,
          44.590500000000745,
          45.0630000000008,
          45.535500000000745,
          46.00800000000069,
          46.480500000000745,
          46.9530000000008,
          47.425500000000746,
          47.89800000000069,
          48.370500000000746,
          48.8430000000008,
          49.315500000000746,
          49.78800000000069,
          50.26050000000075,
          50.7330000000008,
          51.20550000000075,
          51.678000000000694,
          52.15050000000075,
          52.6230000000008,
          53.09550000000074,
          53.568000000000694,
          54.04050000000075,
          54.5130000000008,
          54.98550000000074,
          55.458000000000695,
          55.93050000000075,
          56.4030000000008,
          56.87550000000074,
          57.348000000000695,
          57.82050000000075,
          58.293000000000795,
          58.76550000000074,
          59.37633333333428,
          60.02175000000103,
          60.66716666666777,
          61.31258333333437,
          61.95800000000097,
          62.60341666666772,
          63.24883333333446,
          63.894250000001065,
          64.53966666666766,
          65.1850833333344,
          65.83050000000115,
          66.47591666666776,
          67.12133333333435,
          67.76675000000095,
          68.41216666666784,
          69.05758333333443,
          69.70300000000104,
          70.34841666666765,
          70.99383333333454,
          71.63925000000113,
          72.28466666666773,
          72.93008333333434,
          73.57550000000123,
          74.22091666666782,
          74.35821621621623,
          74.3684864864865,
          74.37875675675677,
          74.38902702702704,
          74.39929729729731,
          74.40956756756758,
          74.41983783783785,
          74.43010810810813,
          74.4403783783784,
          74.45064864864867,
          74.46091891891894,
          74.4711891891892,
          74.48145945945947,
          74.49172972972974,
          74.50200000000001,
          74.51227027027029,
          74.52254054054056,
          74.53281081081083,
          74.5430810810811,
          74.55335135135137,
          74.56362162162164,
          74.5738918918919,
          74.58416216216219,
          74.59443243243246,
          74.60470270270272,
          74.61497297297299,
          74.62524324324326,
          74.63551351351353,
          74.6457837837838,
          74.65605405405407,
          74.66632432432435,
          74.67659459459462,
          74.68686486486489,
          74.69713513513516,
          74.70740540540542,
          74.7176756756757,
          74.72794594594596,
          74.73821621621623,
          74.74848648648651,
          74.75875675675678,
          74.76902702702705,
          74.77929729729732,
          74.78956756756759,
          74.79983783783786,
          74.81010810810812,
          74.8203783783784,
          74.83064864864866,
          74.84091891891893,
          74.8511891891892,
          74.86145945945948,
          74.87172972972975,
          74.88200000000002,
          74.89227027027029,
          74.90254054054056,
          74.91281081081083,
          74.9230810810811,
          74.93335135135136,
          74.94362162162163,
          74.95389189189191,
          74.96416216216218,
          74.97443243243245,
          74.98470270270272,
          74.99497297297299,
          75.00524324324326,
          75.01551351351353,
          75.0257837837838,
          75.03605405405408,
          75.04632432432435,
          75.05659459459461,
          75.06686486486488,
          75.07713513513515,
          75.08740540540542,
          75.09767567567569,
          75.10794594594596,
          75.11823529411767,
          75.12852941176472,
          75.13882352941178,
          75.14911764705883,
          75.1594117647059,
          75.16970588235296,
          75.18,
          75.19029411764707,
          75.20058823529413,
          75.2108823529412,
          75.22117647058825,
          75.23147058823531,
          75.24176470588237,
          75.25205882352942,
          75.26235294117649,
          75.27264705882354,
          75.2829411764706,
          75.29323529411766,
          75.30352941176471,
          75.31382352941178,
          75.32411764705884,
          75.33441176470589,
          75.34470588235295,
          75.355,
          75.36529411764707,
          75.37558823529413,
          75.3858823529412,
          75.39617647058824,
          75.40647058823531,
          75.41676470588237,
          75.42705882352942,
          75.43735294117648,
          75.44764705882355,
          75.4579411764706,
          75.31748148148118,
          75.13933333333304,
          74.96118518518485,
          74.78303703703672,
          74.60488888888858,
          74.42674074074046,
          74.24859259259226,
          74.07044444444412,
          73.892296296296,
          73.71414814814787,
          73.53599999999966,
          73.35785185185154,
          73.17970370370341,
          73.00155555555529,
          72.82340740740707,
          72.64525925925895,
          72.46711111111082,
          72.2889629629627,
          72.11081481481449,
          71.93266666666636,
          71.75451851851824,
          71.57637037037011,
          71.3982222222219,
          71.22007407407378,
          71.04192592592565,
          70.86377777777753,
          70.68562962962932,
          70.65811267605636,
          70.66825352112679,
          70.67839436619721,
          70.68853521126763,
          70.69867605633804,
          70.70881690140847,
          70.71895774647889,
          70.72909859154932,
          70.73923943661974,
          70.74938028169016,
          70.75952112676059,
          70.76966197183101,
          70.77980281690144,
          70.78994366197185,
          70.80008450704227,
          70.8102253521127,
          70.82036619718312,
          70.83050704225354,
          70.84064788732397,
          70.85078873239439,
          70.86092957746482,
          70.87107042253523,
          70.88121126760565,
          70.89135211267607,
          70.9014929577465,
          70.91163380281692,
          70.92177464788735,
          70.93191549295777,
          70.9420563380282,
          70.95219718309862,
          70.96233802816903,
          70.97247887323945,
          70.98261971830988,
          70.9927605633803,
          71.00290140845073,
          71.01304225352115,
          71.02318309859157,
          71.033323943662,
          71.04346478873241,
          71.05360563380285,
          71.06374647887326,
          71.07388732394368,
          71.0840281690141,
          71.09416901408453,
          71.10430985915495,
          71.11445070422538,
          71.1245915492958,
          71.13473239436622,
          71.14487323943663,
          71.15501408450706,
          71.16515492957748,
          71.1752957746479,
          71.18543661971833,
          71.19557746478876,
          71.20571830985918,
          71.2158591549296,
          71.22600000000003,
          71.23614084507044,
          71.24628169014086,
          71.25642253521129,
          71.26656338028171,
          71.27670422535213,
          71.28684507042256,
          71.29698591549298,
          71.3071267605634,
          71.31726760563382,
          71.32740845070424,
          71.33754929577466,
          71.34769014084509,
          71.35783098591551,
          71.36797183098594,
          71.37810666666668,
          71.38824000000002,
          71.39837333333335,
          71.40850666666668,
          71.41864000000002,
          71.42877333333335,
          71.43890666666668,
          71.44904000000001,
          71.45917333333335,
          71.46930666666668,
          71.47944000000003,
          71.48957333333335,
          71.49970666666668,
          71.50984000000003,
          71.51997333333335,
          71.53010666666668,
          71.54024000000003,
          71.55037333333335,
          71.56050666666668,
          71.57064000000001,
          71.58077333333335,
          71.59090666666668,
          71.60104000000001,
          71.61117333333335,
          71.62130666666668,
          71.63144000000001,
          71.64157333333335,
          71.65170666666668,
          71.66184000000003,
          71.67197333333336,
          71.68210666666668,
          71.69224000000001,
          71.70237333333336,
          71.71250666666668,
          71.72264000000001,
          71.73277333333336,
          71.74290666666668,
          71.75304000000001,
          71.76317333333336,
          71.77330666666668,
          71.78344000000001,
          71.79357333333336,
          71.80370666666668,
          71.81384000000001,
          71.82397333333336,
          71.83410666666668,
          71.84424000000001,
          71.85437333333334,
          71.86450666666668,
          71.87464000000001,
          71.88477333333334,
          71.89490666666669,
          71.90504000000001,
          71.91517333333336,
          71.92530666666669,
          71.93544000000001,
          71.94557333333336,
          71.95570666666669,
          71.96584000000001,
          71.97597333333334,
          71.98610666666669,
          71.99624000000001,
          72.00637333333334,
          72.01650666666669,
          72.02664000000001,
          72.03677333333334,
          72.04690666666669,
          72.05704000000001,
          72.06717333333334,
          72.07730666666669,
          72.08744000000002,
          72.09757333333334,
          72.10770666666669,
          72.11784000000002,
          72.12797333333334
         ]
        }
       ],
       "layout": {
        "barmode": "group",
        "hovermode": "x",
        "template": {
         "data": {
          "bar": [
           {
            "error_x": {
             "color": "#f2f5fa"
            },
            "error_y": {
             "color": "#f2f5fa"
            },
            "marker": {
             "line": {
              "color": "rgb(17,17,17)",
              "width": 0.5
             }
            },
            "type": "bar"
           }
          ],
          "barpolar": [
           {
            "marker": {
             "line": {
              "color": "rgb(17,17,17)",
              "width": 0.5
             }
            },
            "type": "barpolar"
           }
          ],
          "carpet": [
           {
            "aaxis": {
             "endlinecolor": "#A2B1C6",
             "gridcolor": "#506784",
             "linecolor": "#506784",
             "minorgridcolor": "#506784",
             "startlinecolor": "#A2B1C6"
            },
            "baxis": {
             "endlinecolor": "#A2B1C6",
             "gridcolor": "#506784",
             "linecolor": "#506784",
             "minorgridcolor": "#506784",
             "startlinecolor": "#A2B1C6"
            },
            "type": "carpet"
           }
          ],
          "choropleth": [
           {
            "colorbar": {
             "outlinewidth": 0,
             "ticks": ""
            },
            "type": "choropleth"
           }
          ],
          "contour": [
           {
            "colorbar": {
             "outlinewidth": 0,
             "ticks": ""
            },
            "colorscale": [
             [
              0,
              "#0d0887"
             ],
             [
              0.1111111111111111,
              "#46039f"
             ],
             [
              0.2222222222222222,
              "#7201a8"
             ],
             [
              0.3333333333333333,
              "#9c179e"
             ],
             [
              0.4444444444444444,
              "#bd3786"
             ],
             [
              0.5555555555555556,
              "#d8576b"
             ],
             [
              0.6666666666666666,
              "#ed7953"
             ],
             [
              0.7777777777777778,
              "#fb9f3a"
             ],
             [
              0.8888888888888888,
              "#fdca26"
             ],
             [
              1,
              "#f0f921"
             ]
            ],
            "type": "contour"
           }
          ],
          "contourcarpet": [
           {
            "colorbar": {
             "outlinewidth": 0,
             "ticks": ""
            },
            "type": "contourcarpet"
           }
          ],
          "heatmap": [
           {
            "colorbar": {
             "outlinewidth": 0,
             "ticks": ""
            },
            "colorscale": [
             [
              0,
              "#0d0887"
             ],
             [
              0.1111111111111111,
              "#46039f"
             ],
             [
              0.2222222222222222,
              "#7201a8"
             ],
             [
              0.3333333333333333,
              "#9c179e"
             ],
             [
              0.4444444444444444,
              "#bd3786"
             ],
             [
              0.5555555555555556,
              "#d8576b"
             ],
             [
              0.6666666666666666,
              "#ed7953"
             ],
             [
              0.7777777777777778,
              "#fb9f3a"
             ],
             [
              0.8888888888888888,
              "#fdca26"
             ],
             [
              1,
              "#f0f921"
             ]
            ],
            "type": "heatmap"
           }
          ],
          "heatmapgl": [
           {
            "colorbar": {
             "outlinewidth": 0,
             "ticks": ""
            },
            "colorscale": [
             [
              0,
              "#0d0887"
             ],
             [
              0.1111111111111111,
              "#46039f"
             ],
             [
              0.2222222222222222,
              "#7201a8"
             ],
             [
              0.3333333333333333,
              "#9c179e"
             ],
             [
              0.4444444444444444,
              "#bd3786"
             ],
             [
              0.5555555555555556,
              "#d8576b"
             ],
             [
              0.6666666666666666,
              "#ed7953"
             ],
             [
              0.7777777777777778,
              "#fb9f3a"
             ],
             [
              0.8888888888888888,
              "#fdca26"
             ],
             [
              1,
              "#f0f921"
             ]
            ],
            "type": "heatmapgl"
           }
          ],
          "histogram": [
           {
            "marker": {
             "colorbar": {
              "outlinewidth": 0,
              "ticks": ""
             }
            },
            "type": "histogram"
           }
          ],
          "histogram2d": [
           {
            "colorbar": {
             "outlinewidth": 0,
             "ticks": ""
            },
            "colorscale": [
             [
              0,
              "#0d0887"
             ],
             [
              0.1111111111111111,
              "#46039f"
             ],
             [
              0.2222222222222222,
              "#7201a8"
             ],
             [
              0.3333333333333333,
              "#9c179e"
             ],
             [
              0.4444444444444444,
              "#bd3786"
             ],
             [
              0.5555555555555556,
              "#d8576b"
             ],
             [
              0.6666666666666666,
              "#ed7953"
             ],
             [
              0.7777777777777778,
              "#fb9f3a"
             ],
             [
              0.8888888888888888,
              "#fdca26"
             ],
             [
              1,
              "#f0f921"
             ]
            ],
            "type": "histogram2d"
           }
          ],
          "histogram2dcontour": [
           {
            "colorbar": {
             "outlinewidth": 0,
             "ticks": ""
            },
            "colorscale": [
             [
              0,
              "#0d0887"
             ],
             [
              0.1111111111111111,
              "#46039f"
             ],
             [
              0.2222222222222222,
              "#7201a8"
             ],
             [
              0.3333333333333333,
              "#9c179e"
             ],
             [
              0.4444444444444444,
              "#bd3786"
             ],
             [
              0.5555555555555556,
              "#d8576b"
             ],
             [
              0.6666666666666666,
              "#ed7953"
             ],
             [
              0.7777777777777778,
              "#fb9f3a"
             ],
             [
              0.8888888888888888,
              "#fdca26"
             ],
             [
              1,
              "#f0f921"
             ]
            ],
            "type": "histogram2dcontour"
           }
          ],
          "mesh3d": [
           {
            "colorbar": {
             "outlinewidth": 0,
             "ticks": ""
            },
            "type": "mesh3d"
           }
          ],
          "parcoords": [
           {
            "line": {
             "colorbar": {
              "outlinewidth": 0,
              "ticks": ""
             }
            },
            "type": "parcoords"
           }
          ],
          "scatter": [
           {
            "marker": {
             "line": {
              "color": "#283442"
             }
            },
            "type": "scatter"
           }
          ],
          "scatter3d": [
           {
            "line": {
             "colorbar": {
              "outlinewidth": 0,
              "ticks": ""
             }
            },
            "marker": {
             "colorbar": {
              "outlinewidth": 0,
              "ticks": ""
             }
            },
            "type": "scatter3d"
           }
          ],
          "scattercarpet": [
           {
            "marker": {
             "colorbar": {
              "outlinewidth": 0,
              "ticks": ""
             }
            },
            "type": "scattercarpet"
           }
          ],
          "scattergeo": [
           {
            "marker": {
             "colorbar": {
              "outlinewidth": 0,
              "ticks": ""
             }
            },
            "type": "scattergeo"
           }
          ],
          "scattergl": [
           {
            "marker": {
             "line": {
              "color": "#283442"
             }
            },
            "type": "scattergl"
           }
          ],
          "scattermapbox": [
           {
            "marker": {
             "colorbar": {
              "outlinewidth": 0,
              "ticks": ""
             }
            },
            "type": "scattermapbox"
           }
          ],
          "scatterpolar": [
           {
            "marker": {
             "colorbar": {
              "outlinewidth": 0,
              "ticks": ""
             }
            },
            "type": "scatterpolar"
           }
          ],
          "scatterpolargl": [
           {
            "marker": {
             "colorbar": {
              "outlinewidth": 0,
              "ticks": ""
             }
            },
            "type": "scatterpolargl"
           }
          ],
          "scatterternary": [
           {
            "marker": {
             "colorbar": {
              "outlinewidth": 0,
              "ticks": ""
             }
            },
            "type": "scatterternary"
           }
          ],
          "surface": [
           {
            "colorbar": {
             "outlinewidth": 0,
             "ticks": ""
            },
            "colorscale": [
             [
              0,
              "#0d0887"
             ],
             [
              0.1111111111111111,
              "#46039f"
             ],
             [
              0.2222222222222222,
              "#7201a8"
             ],
             [
              0.3333333333333333,
              "#9c179e"
             ],
             [
              0.4444444444444444,
              "#bd3786"
             ],
             [
              0.5555555555555556,
              "#d8576b"
             ],
             [
              0.6666666666666666,
              "#ed7953"
             ],
             [
              0.7777777777777778,
              "#fb9f3a"
             ],
             [
              0.8888888888888888,
              "#fdca26"
             ],
             [
              1,
              "#f0f921"
             ]
            ],
            "type": "surface"
           }
          ],
          "table": [
           {
            "cells": {
             "fill": {
              "color": "#506784"
             },
             "line": {
              "color": "rgb(17,17,17)"
             }
            },
            "header": {
             "fill": {
              "color": "#2a3f5f"
             },
             "line": {
              "color": "rgb(17,17,17)"
             }
            },
            "type": "table"
           }
          ]
         },
         "layout": {
          "annotationdefaults": {
           "arrowcolor": "#f2f5fa",
           "arrowhead": 0,
           "arrowwidth": 1
          },
          "colorscale": {
           "diverging": [
            [
             0,
             "#8e0152"
            ],
            [
             0.1,
             "#c51b7d"
            ],
            [
             0.2,
             "#de77ae"
            ],
            [
             0.3,
             "#f1b6da"
            ],
            [
             0.4,
             "#fde0ef"
            ],
            [
             0.5,
             "#f7f7f7"
            ],
            [
             0.6,
             "#e6f5d0"
            ],
            [
             0.7,
             "#b8e186"
            ],
            [
             0.8,
             "#7fbc41"
            ],
            [
             0.9,
             "#4d9221"
            ],
            [
             1,
             "#276419"
            ]
           ],
           "sequential": [
            [
             0,
             "#0d0887"
            ],
            [
             0.1111111111111111,
             "#46039f"
            ],
            [
             0.2222222222222222,
             "#7201a8"
            ],
            [
             0.3333333333333333,
             "#9c179e"
            ],
            [
             0.4444444444444444,
             "#bd3786"
            ],
            [
             0.5555555555555556,
             "#d8576b"
            ],
            [
             0.6666666666666666,
             "#ed7953"
            ],
            [
             0.7777777777777778,
             "#fb9f3a"
            ],
            [
             0.8888888888888888,
             "#fdca26"
            ],
            [
             1,
             "#f0f921"
            ]
           ],
           "sequentialminus": [
            [
             0,
             "#0d0887"
            ],
            [
             0.1111111111111111,
             "#46039f"
            ],
            [
             0.2222222222222222,
             "#7201a8"
            ],
            [
             0.3333333333333333,
             "#9c179e"
            ],
            [
             0.4444444444444444,
             "#bd3786"
            ],
            [
             0.5555555555555556,
             "#d8576b"
            ],
            [
             0.6666666666666666,
             "#ed7953"
            ],
            [
             0.7777777777777778,
             "#fb9f3a"
            ],
            [
             0.8888888888888888,
             "#fdca26"
            ],
            [
             1,
             "#f0f921"
            ]
           ]
          },
          "colorway": [
           "#636efa",
           "#EF553B",
           "#00cc96",
           "#ab63fa",
           "#FFA15A",
           "#19d3f3",
           "#FF6692",
           "#B6E880",
           "#FF97FF",
           "#FECB52"
          ],
          "font": {
           "color": "#f2f5fa"
          },
          "geo": {
           "bgcolor": "rgb(17,17,17)",
           "lakecolor": "rgb(17,17,17)",
           "landcolor": "rgb(17,17,17)",
           "showlakes": true,
           "showland": true,
           "subunitcolor": "#506784"
          },
          "hoverlabel": {
           "align": "left"
          },
          "hovermode": "closest",
          "mapbox": {
           "style": "dark"
          },
          "paper_bgcolor": "rgb(17,17,17)",
          "plot_bgcolor": "rgb(17,17,17)",
          "polar": {
           "angularaxis": {
            "gridcolor": "#506784",
            "linecolor": "#506784",
            "ticks": ""
           },
           "bgcolor": "rgb(17,17,17)",
           "radialaxis": {
            "gridcolor": "#506784",
            "linecolor": "#506784",
            "ticks": ""
           }
          },
          "scene": {
           "xaxis": {
            "backgroundcolor": "rgb(17,17,17)",
            "gridcolor": "#506784",
            "gridwidth": 2,
            "linecolor": "#506784",
            "showbackground": true,
            "ticks": "",
            "zerolinecolor": "#C8D4E3"
           },
           "yaxis": {
            "backgroundcolor": "rgb(17,17,17)",
            "gridcolor": "#506784",
            "gridwidth": 2,
            "linecolor": "#506784",
            "showbackground": true,
            "ticks": "",
            "zerolinecolor": "#C8D4E3"
           },
           "zaxis": {
            "backgroundcolor": "rgb(17,17,17)",
            "gridcolor": "#506784",
            "gridwidth": 2,
            "linecolor": "#506784",
            "showbackground": true,
            "ticks": "",
            "zerolinecolor": "#C8D4E3"
           }
          },
          "shapedefaults": {
           "line": {
            "color": "#f2f5fa"
           }
          },
          "sliderdefaults": {
           "bgcolor": "#C8D4E3",
           "bordercolor": "rgb(17,17,17)",
           "borderwidth": 1,
           "tickwidth": 0
          },
          "ternary": {
           "aaxis": {
            "gridcolor": "#506784",
            "linecolor": "#506784",
            "ticks": ""
           },
           "baxis": {
            "gridcolor": "#506784",
            "linecolor": "#506784",
            "ticks": ""
           },
           "bgcolor": "rgb(17,17,17)",
           "caxis": {
            "gridcolor": "#506784",
            "linecolor": "#506784",
            "ticks": ""
           }
          },
          "title": {
           "x": 0.05
          },
          "updatemenudefaults": {
           "bgcolor": "#506784",
           "borderwidth": 0
          },
          "xaxis": {
           "automargin": true,
           "gridcolor": "#283442",
           "linecolor": "#506784",
           "ticks": "",
           "zerolinecolor": "#283442",
           "zerolinewidth": 2
          },
          "yaxis": {
           "automargin": true,
           "gridcolor": "#283442",
           "linecolor": "#506784",
           "ticks": "",
           "zerolinecolor": "#283442",
           "zerolinewidth": 2
          }
         }
        },
        "title": {
         "text": "Solar Spectrum"
        },
        "xaxis": {
         "title": {
          "text": "Wavelength [µm]"
         },
         "type": "linear"
        },
        "yaxis": {
         "title": {
          "text": "Noise [e-]"
         },
         "type": "linear"
        }
       }
      },
      "text/html": [
       "<div>\n",
       "        \n",
       "        \n",
       "            <div id=\"fb0d96b6-2d23-4155-be6f-337722b9d10f\" class=\"plotly-graph-div\" style=\"height:525px; width:100%;\"></div>\n",
       "            <script type=\"text/javascript\">\n",
       "                require([\"plotly\"], function(Plotly) {\n",
       "                    window.PLOTLYENV=window.PLOTLYENV || {};\n",
       "                    \n",
       "                if (document.getElementById(\"fb0d96b6-2d23-4155-be6f-337722b9d10f\")) {\n",
       "                    Plotly.newPlot(\n",
       "                        'fb0d96b6-2d23-4155-be6f-337722b9d10f',\n",
       "                        [{\"mode\": \"lines+markers\", \"type\": \"scatter\", \"x\": [0.3138, 0.3148, 0.3158, 0.3168, 0.3178, 0.31880000000000003, 0.31980000000000003, 0.32080000000000003, 0.32180000000000003, 0.32280000000000003, 0.32380000000000003, 0.32480000000000003, 0.32580000000000003, 0.32680000000000003, 0.32780000000000004, 0.32880000000000004, 0.32980000000000004, 0.33080000000000004, 0.33180000000000004, 0.33280000000000004, 0.33380000000000004, 0.33480000000000004, 0.33580000000000004, 0.33680000000000004, 0.33780000000000004, 0.33880000000000005, 0.33980000000000005, 0.34080000000000005, 0.34180000000000005, 0.34280000000000005, 0.34380000000000005, 0.34480000000000005, 0.34580000000000005, 0.34680000000000005, 0.34780000000000005, 0.34880000000000005, 0.34980000000000006, 0.35080000000000006, 0.35180000000000006, 0.35280000000000006, 0.35380000000000006, 0.35480000000000006, 0.35580000000000006, 0.35680000000000006, 0.35780000000000006, 0.35880000000000006, 0.35980000000000006, 0.36080000000000007, 0.36180000000000007, 0.36280000000000007, 0.36380000000000007, 0.36480000000000007, 0.36580000000000007, 0.36680000000000007, 0.36780000000000007, 0.36880000000000007, 0.3698000000000001, 0.3708000000000001, 0.3718000000000001, 0.3728000000000001, 0.3738000000000001, 0.3748000000000001, 0.3758000000000001, 0.3768000000000001, 0.3778000000000001, 0.3788000000000001, 0.3798000000000001, 0.3808000000000001, 0.3818000000000001, 0.3828000000000001, 0.3838000000000001, 0.3848000000000001, 0.3858000000000001, 0.3868000000000001, 0.3878000000000001, 0.3888000000000001, 0.3898000000000001, 0.3908000000000001, 0.3918000000000001, 0.3928000000000001, 0.3938000000000001, 0.3948000000000001, 0.3958000000000001, 0.3968000000000001, 0.3978000000000001, 0.3988000000000001, 0.3998000000000001, 0.4008000000000001, 0.4018000000000001, 0.4028000000000001, 0.4038000000000001, 0.4048000000000001, 0.4058000000000001, 0.4068000000000001, 0.4078000000000001, 0.4088000000000001, 0.4098000000000001, 0.4108000000000001, 0.4118000000000001, 0.4128000000000001, 0.4138000000000001, 0.4148000000000001, 0.4158000000000001, 0.4168000000000001, 0.4178000000000001, 0.4188000000000001, 0.4198000000000001, 0.4208000000000001, 0.4218000000000001, 0.4228000000000001, 0.4238000000000001, 0.4248000000000001, 0.4258000000000001, 0.4268000000000001, 0.4278000000000001, 0.4288000000000001, 0.4298000000000001, 0.4308000000000001, 0.43180000000000013, 0.43280000000000013, 0.43380000000000013, 0.43480000000000013, 0.43580000000000013, 0.43680000000000013, 0.43780000000000013, 0.43880000000000013, 0.43980000000000014, 0.44080000000000014, 0.44180000000000014, 0.44280000000000014, 0.44380000000000014, 0.44480000000000014, 0.44580000000000014, 0.44680000000000014, 0.44780000000000014, 0.44880000000000014, 0.44980000000000014, 0.45080000000000015, 0.45180000000000015, 0.45280000000000015, 0.45380000000000015, 0.45480000000000015, 0.45580000000000015, 0.45680000000000015, 0.45780000000000015, 0.45880000000000015, 0.45980000000000015, 0.46080000000000015, 0.46180000000000015, 0.46280000000000016, 0.46380000000000016, 0.46480000000000016, 0.46580000000000016, 0.46680000000000016, 0.46780000000000016, 0.46880000000000016, 0.46980000000000016, 0.47080000000000016, 0.47180000000000016, 0.47280000000000016, 0.47380000000000017, 0.47480000000000017, 0.47580000000000017, 0.47680000000000017, 0.47780000000000017, 0.47880000000000017, 0.47980000000000017, 0.48080000000000017, 0.4818000000000002, 0.4828000000000002, 0.4838000000000002, 0.4848000000000002, 0.4858000000000002, 0.4868000000000002, 0.4878000000000002, 0.4888000000000002, 0.4898000000000002, 0.4908000000000002, 0.4918000000000002, 0.4928000000000002, 0.4938000000000002, 0.4948000000000002, 0.4958000000000002, 0.4968000000000002, 0.4978000000000002, 0.4988000000000002, 0.4998000000000002, 0.5008000000000001, 0.5018000000000002, 0.5028000000000001, 0.5038000000000002, 0.5048000000000001, 0.5058000000000002, 0.5068000000000001, 0.5078000000000003, 0.5088000000000001, 0.5098000000000003, 0.5108000000000001, 0.5118000000000003, 0.5128000000000001, 0.5138000000000003, 0.5148000000000001, 0.5158000000000003, 0.5168000000000001, 0.5178000000000003, 0.5188000000000001, 0.5198000000000003, 0.5208000000000002, 0.5218000000000003, 0.5228000000000002, 0.5238000000000003, 0.5248000000000002, 0.5258000000000003, 0.5268000000000002, 0.5278000000000003, 0.5288000000000002, 0.5298000000000003, 0.5308000000000002, 0.5318000000000003, 0.5328000000000002, 0.5338000000000003, 0.5348000000000002, 0.5358000000000003, 0.5368000000000002, 0.5378000000000003, 0.5388000000000002, 0.5398000000000003, 0.5408000000000002, 0.5418000000000003, 0.5428000000000002, 0.5438000000000003, 0.5448000000000002, 0.5458000000000003, 0.5468000000000002, 0.5478000000000003, 0.5488000000000002, 0.5498000000000003, 0.5508000000000002, 0.5518000000000003, 0.5528000000000002, 0.5538000000000003, 0.5548000000000002, 0.5558000000000003, 0.5568000000000002, 0.5578000000000003, 0.5588000000000002, 0.5598000000000003, 0.5608000000000002, 0.5618000000000003, 0.5628000000000002, 0.5638000000000003, 0.5648000000000002, 0.5658000000000003, 0.5668000000000002, 0.5678000000000003, 0.5688000000000002, 0.5698000000000003, 0.5708000000000002, 0.5718000000000003, 0.5728000000000002, 0.5738000000000003, 0.5748000000000002, 0.5758000000000003, 0.5768000000000002, 0.5778000000000003, 0.5788000000000002, 0.5798000000000003, 0.5808000000000002, 0.5818000000000003, 0.5828000000000002, 0.5838000000000003, 0.5848000000000002, 0.5858000000000003, 0.5868000000000002, 0.5878000000000003, 0.5888000000000002, 0.5898000000000003, 0.5908000000000002, 0.5918000000000003, 0.5928000000000002, 0.5938000000000003, 0.5948000000000002, 0.5958000000000003, 0.5968000000000002, 0.5978000000000003, 0.5988000000000002, 0.5998000000000003, 0.6008000000000002, 0.6018000000000003, 0.6028000000000002, 0.6038000000000003, 0.6048000000000002, 0.6058000000000003, 0.6068000000000002, 0.6078000000000003, 0.6088000000000002, 0.6098000000000003, 0.6108000000000002, 0.6118000000000003, 0.6128000000000002, 0.6138000000000003, 0.6148000000000002, 0.6158000000000003, 0.6168000000000002, 0.6178000000000003, 0.6188000000000002, 0.6198000000000004, 0.6208000000000002, 0.6218000000000004, 0.6228000000000002, 0.6238000000000004, 0.6248000000000002, 0.6258000000000004, 0.6268000000000002, 0.6278000000000004, 0.6288000000000002, 0.6298000000000004, 0.6308000000000002, 0.6318000000000004, 0.6328000000000003, 0.6338000000000004, 0.6348000000000003, 0.6358000000000004, 0.6368000000000003, 0.6378000000000004, 0.6388000000000003, 0.6398000000000004, 0.6408000000000003, 0.6418000000000004, 0.6428000000000003, 0.6438000000000004, 0.6448000000000003, 0.6458000000000004, 0.6468000000000003, 0.6478000000000004, 0.6488000000000003, 0.6498000000000004, 0.6508000000000003, 0.6518000000000004, 0.6528000000000003, 0.6538000000000004, 0.6548000000000003, 0.6558000000000004, 0.6568000000000003, 0.6578000000000004, 0.6588000000000003, 0.6598000000000004, 0.6608000000000003, 0.6618000000000004, 0.6628000000000003, 0.6638000000000004, 0.6648000000000003, 0.6658000000000004, 0.6668000000000003, 0.6678000000000004, 0.6688000000000003, 0.6698000000000004, 0.6708000000000003, 0.6718000000000004, 0.6728000000000003, 0.6738000000000004, 0.6748000000000003, 0.6758000000000004, 0.6768000000000003, 0.6778000000000004, 0.6788000000000003, 0.6798000000000004, 0.6808000000000003, 0.6818000000000004, 0.6828000000000003, 0.6838000000000004, 0.6848000000000003, 0.6858000000000004, 0.6868000000000003, 0.6878000000000004, 0.6888000000000003, 0.6898000000000004, 0.6908000000000003, 0.6918000000000004, 0.6928000000000003, 0.6938000000000004, 0.6948000000000003, 0.6958000000000004, 0.6968000000000003, 0.6978000000000004, 0.6988000000000003, 0.6998000000000004, 0.7008000000000003, 0.7018000000000004, 0.7028000000000003, 0.7038000000000004, 0.7048000000000003, 0.7058000000000004, 0.7068000000000003, 0.7078000000000004, 0.7088000000000003, 0.7098000000000004, 0.7108000000000003, 0.7118000000000004, 0.7128000000000003, 0.7138000000000004, 0.7148000000000003, 0.7158000000000004, 0.7168000000000003, 0.7178000000000004, 0.7188000000000003, 0.7198000000000004, 0.7208000000000003, 0.7218000000000004, 0.7228000000000003, 0.7238000000000004, 0.7248000000000003, 0.7258000000000004, 0.7268000000000003, 0.7278000000000004, 0.7288000000000003, 0.7298000000000004, 0.7308000000000003, 0.7318000000000005, 0.7328000000000003, 0.7338000000000005, 0.7348000000000003, 0.7358000000000005, 0.7368000000000003, 0.7378000000000005, 0.7388000000000003, 0.7398000000000005, 0.7408000000000003, 0.7418000000000005, 0.7428000000000003, 0.7438000000000005, 0.7448000000000004, 0.7458000000000005, 0.7468000000000004, 0.7478000000000005, 0.7488000000000004, 0.7498000000000005, 0.7508000000000004, 0.7518000000000005, 0.7528000000000004, 0.7538000000000005, 0.7548000000000004, 0.7558000000000005, 0.7568000000000004, 0.7578000000000005, 0.7588000000000004, 0.7598000000000005, 0.7608000000000004, 0.7618000000000005, 0.7628000000000004, 0.7638000000000005, 0.7648000000000004, 0.7658000000000005, 0.7668000000000004, 0.7678000000000005, 0.7688000000000004, 0.7698000000000005, 0.7708000000000004, 0.7718000000000005, 0.7728000000000004, 0.7738000000000005, 0.7748000000000004, 0.7758000000000005, 0.7768000000000004, 0.7778000000000005, 0.7788000000000004, 0.7798000000000005, 0.7808000000000004, 0.7818000000000005, 0.7828000000000004, 0.7838000000000005, 0.7848000000000004, 0.7858000000000005, 0.7868000000000004, 0.7878000000000005, 0.7888000000000004, 0.7898000000000005, 0.7908000000000004, 0.7918000000000005, 0.7928000000000004, 0.7938000000000005, 0.7948000000000004, 0.7958000000000005, 0.7968000000000004, 0.7978000000000005, 0.7988000000000004, 0.7998000000000005, 0.8008000000000004, 0.8018000000000005, 0.8028000000000004, 0.8038000000000005, 0.8048000000000004, 0.8058000000000005, 0.8068000000000004, 0.8078000000000005, 0.8088000000000004, 0.8098000000000005, 0.8108000000000004, 0.8118000000000005, 0.8128000000000004, 0.8138000000000005, 0.8148000000000004, 0.8158000000000005, 0.8168000000000004, 0.8178000000000005, 0.8188000000000004, 0.8198000000000005, 0.8208000000000004, 0.8218000000000005, 0.8228000000000004, 0.8238000000000005, 0.8248000000000004, 0.8258000000000005, 0.8268000000000004, 0.8278000000000005, 0.8288000000000004, 0.8298000000000005, 0.8308000000000004, 0.8318000000000005, 0.8328000000000004, 0.8338000000000005, 0.8348000000000004, 0.8358000000000005, 0.8368000000000004, 0.8378000000000005, 0.8388000000000004, 0.8398000000000005, 0.8408000000000004, 0.8418000000000005, 0.8428000000000004, 0.8438000000000005, 0.8448000000000004, 0.8458000000000006, 0.8468000000000004, 0.8478000000000006, 0.8488000000000004, 0.8498000000000006, 0.8508000000000004, 0.8518000000000006, 0.8528000000000004, 0.8538000000000006, 0.8548000000000004, 0.8558000000000006, 0.8568000000000005, 0.8578000000000006, 0.8588000000000005, 0.8598000000000006, 0.8608000000000005, 0.8618000000000006, 0.8628000000000005, 0.8638000000000006, 0.8648000000000005, 0.8658000000000006, 0.8668000000000005, 0.8678000000000006, 0.8688000000000005, 0.8698000000000006, 0.8708000000000005, 0.8718000000000006, 0.8728000000000005, 0.8738000000000006, 0.8748000000000005, 0.8758000000000006, 0.8768000000000005, 0.8778000000000006, 0.8788000000000005, 0.8798000000000006, 0.8808000000000005, 0.8818000000000006, 0.8828000000000005, 0.8838000000000006, 0.8848000000000005, 0.8858000000000006, 0.8868000000000005, 0.8878000000000006, 0.8888000000000005, 0.8898000000000006, 0.8908000000000005, 0.8918000000000006, 0.8928000000000005, 0.8938000000000006, 0.8948000000000005, 0.8958000000000006, 0.8968000000000005, 0.8978000000000006, 0.8988000000000005, 0.8998000000000006, 0.9008000000000005, 0.9018000000000006, 0.9028000000000005, 0.9038000000000006, 0.9048000000000005, 0.9058000000000006, 0.9068000000000005, 0.9078000000000006, 0.9088000000000005, 0.9098000000000006, 0.9108000000000005, 0.9118000000000006, 0.9128000000000005, 0.9138000000000006, 0.9148000000000005, 0.9158000000000006, 0.9168000000000005, 0.9178000000000006, 0.9188000000000005, 0.9198000000000006, 0.9208000000000005, 0.9218000000000006, 0.9228000000000005, 0.9238000000000006, 0.9248000000000005, 0.9258000000000006, 0.9268000000000005, 0.9278000000000006, 0.9288000000000005, 0.9298000000000006, 0.9308000000000005, 0.9318000000000006, 0.9328000000000005, 0.9338000000000006, 0.9348000000000005, 0.9358000000000006, 0.9368000000000005, 0.9378000000000006, 0.9388000000000005, 0.9398000000000006, 0.9408000000000005, 0.9418000000000006, 0.9428000000000005, 0.9438000000000006, 0.9448000000000005, 0.9458000000000006, 0.9468000000000005, 0.9478000000000006, 0.9488000000000005, 0.9498000000000006, 0.9508000000000005, 0.9518000000000006, 0.9528000000000005, 0.9538000000000006, 0.9548000000000005, 0.9558000000000006, 0.9568000000000005, 0.9578000000000007, 0.9588000000000005, 0.9598000000000007, 0.9608000000000005, 0.9618000000000007, 0.9628000000000005, 0.9638000000000007, 0.9648000000000005, 0.9658000000000007, 0.9668000000000005, 0.9678000000000007, 0.9688000000000005, 0.9698000000000007, 0.9708000000000006, 0.9718000000000007, 0.9728000000000006, 0.9738000000000007, 0.9748000000000006, 0.9758000000000007, 0.9768000000000006, 0.9778000000000007, 0.9788000000000006, 0.9798000000000007, 0.9808000000000006, 0.9818000000000007, 0.9828000000000006, 0.9838000000000007, 0.9848000000000006, 0.9858000000000007, 0.9868000000000006, 0.9878000000000007, 0.9888000000000006, 0.9898000000000007, 0.9908000000000006, 0.9918000000000007, 0.9928000000000006, 0.9938000000000007, 0.9948000000000006, 0.9958000000000007, 0.9968000000000006, 0.9978000000000007, 0.9988000000000006, 0.9998000000000007, 1.0008000000000006, 1.0018000000000007, 1.0028000000000006, 1.0038000000000007, 1.0048000000000006, 1.0058000000000007, 1.0068000000000006, 1.0078000000000007, 1.0088000000000006, 1.0098000000000007, 1.0108000000000006, 1.0118000000000007, 1.0128000000000006, 1.0138000000000007, 1.0148000000000006, 1.0158000000000007, 1.0168000000000006, 1.0178000000000007, 1.0188000000000006, 1.0198000000000007, 1.0208000000000006, 1.0218000000000007, 1.0228000000000006, 1.0238000000000007, 1.0248000000000006, 1.0258000000000007, 1.0268000000000006, 1.0278000000000007, 1.0288000000000006, 1.0298000000000007, 1.0308000000000006, 1.0318000000000007, 1.0328000000000006, 1.0338000000000007, 1.0348000000000006, 1.0358000000000007, 1.0368000000000006, 1.0378000000000007, 1.0388000000000006, 1.0398000000000007, 1.0408000000000006, 1.0418000000000007, 1.0428000000000006, 1.0438000000000007, 1.0448000000000006, 1.0458000000000007, 1.0468000000000006, 1.0478000000000007, 1.0488000000000006, 1.0498000000000007, 1.0508000000000006, 1.0518000000000007, 1.0528000000000006, 1.0538000000000007, 1.0548000000000006, 1.0558000000000007, 1.0568000000000006, 1.0578000000000007, 1.0588000000000006, 1.0598000000000007, 1.0608000000000006, 1.0618000000000007, 1.0628000000000006, 1.0638000000000007, 1.0648000000000006, 1.0658000000000007, 1.0668000000000006, 1.0678000000000007, 1.0688000000000006, 1.0698000000000008, 1.0708000000000006, 1.0718000000000008, 1.0728000000000006, 1.0738000000000008, 1.0748000000000006, 1.0758000000000008, 1.0768000000000006, 1.0778000000000008, 1.0788000000000006, 1.0798000000000008, 1.0808000000000006, 1.0818000000000008, 1.0828000000000007, 1.0838000000000008, 1.0848000000000007, 1.0858000000000008, 1.0868000000000007, 1.0878000000000008, 1.0888000000000007, 1.0898000000000008, 1.0908000000000007, 1.0918000000000008, 1.0928000000000007, 1.0938000000000008, 1.0948000000000007, 1.0958000000000008, 1.0968000000000007, 1.0978000000000008, 1.0988000000000007, 1.0998000000000008, 1.1008000000000007, 1.1018000000000008, 1.1028000000000007, 1.1038000000000008, 1.1048000000000007, 1.1058000000000008, 1.1068000000000007, 1.1078000000000008, 1.1088000000000007, 1.1098000000000008, 1.1108000000000007, 1.1118000000000008, 1.1128000000000007, 1.1138000000000008, 1.1148000000000007, 1.1158000000000008, 1.1168000000000007, 1.1178000000000008, 1.1188000000000007, 1.1198000000000008, 1.1208000000000007, 1.1218000000000008, 1.1228000000000007, 1.1238000000000008, 1.1248000000000007, 1.1258000000000008, 1.1268000000000007, 1.1278000000000008, 1.1288000000000007, 1.1298000000000008, 1.1308000000000007, 1.1318000000000008, 1.1328000000000007, 1.1338000000000008, 1.1348000000000007, 1.1358000000000008, 1.1368000000000007, 1.1378000000000008, 1.1388000000000007, 1.1398000000000008, 1.1408000000000007, 1.1418000000000008, 1.1428000000000007, 1.1438000000000008, 1.1448000000000007, 1.1458000000000008, 1.1468000000000007, 1.1478000000000008, 1.1488000000000007, 1.1498000000000008, 1.1508000000000007, 1.1518000000000008, 1.1528000000000007, 1.1538000000000008, 1.1548000000000007, 1.1558000000000008, 1.1568000000000007, 1.1578000000000008, 1.1588000000000007, 1.1598000000000008, 1.1608000000000007, 1.1618000000000008, 1.1628000000000007, 1.1638000000000008, 1.1648000000000007, 1.1658000000000008, 1.1668000000000007, 1.1678000000000008, 1.1688000000000007, 1.1698000000000008, 1.1708000000000007, 1.1718000000000008, 1.1728000000000007, 1.1738000000000008, 1.1748000000000007, 1.1758000000000008, 1.1768000000000007, 1.1778000000000008, 1.1788000000000007, 1.1798000000000008, 1.1808000000000007, 1.1818000000000008, 1.1828000000000007, 1.1838000000000009, 1.1848000000000007, 1.1858000000000009, 1.1868000000000007, 1.1878000000000009, 1.1888000000000007, 1.1898000000000009, 1.1908000000000007, 1.1918000000000009, 1.1928000000000007, 1.1938000000000009, 1.1948000000000008, 1.1958000000000009, 1.1968000000000008, 1.1978000000000009, 1.1988000000000008, 1.1998000000000009, 1.2008000000000008, 1.2018000000000009, 1.2028000000000008, 1.2038000000000009, 1.2048000000000008, 1.2058000000000009, 1.2068000000000008, 1.2078000000000009, 1.2088000000000008, 1.2098000000000009, 1.2108000000000008, 1.2118000000000009, 1.2128000000000008, 1.2138000000000009, 1.2148000000000008, 1.2158000000000009, 1.2168000000000008, 1.2178000000000009, 1.2188000000000008, 1.2198000000000009, 1.2208000000000008, 1.2218000000000009, 1.2228000000000008, 1.2238000000000009, 1.2248000000000008, 1.2258000000000009, 1.2268000000000008, 1.227800000000001, 1.2288000000000008, 1.229800000000001, 1.2308000000000008, 1.231800000000001, 1.2328000000000008, 1.233800000000001, 1.2348000000000008, 1.235800000000001, 1.2368000000000008, 1.237800000000001, 1.2388000000000008, 1.239800000000001, 1.2408000000000008, 1.241800000000001, 1.2428000000000008, 1.243800000000001, 1.2448000000000008, 1.245800000000001, 1.2468000000000008, 1.247800000000001, 1.2488000000000008, 1.249800000000001, 1.2508000000000008, 1.251800000000001, 1.2528000000000008, 1.253800000000001, 1.2548000000000008, 1.255800000000001, 1.2568000000000008, 1.257800000000001, 1.2588000000000008, 1.259800000000001, 1.2608000000000008, 1.261800000000001, 1.2628000000000008, 1.263800000000001, 1.2648000000000008, 1.265800000000001, 1.2668000000000008, 1.267800000000001, 1.2688000000000008, 1.269800000000001, 1.2708000000000008, 1.271800000000001, 1.2728000000000008, 1.273800000000001, 1.2748000000000008, 1.275800000000001, 1.2768000000000008, 1.277800000000001, 1.2788000000000008, 1.279800000000001, 1.2808000000000008, 1.281800000000001, 1.2828000000000008, 1.283800000000001, 1.2848000000000008, 1.285800000000001, 1.2868000000000008, 1.287800000000001, 1.2888000000000008, 1.289800000000001, 1.2908000000000008, 1.291800000000001, 1.2928000000000008, 1.293800000000001, 1.2948000000000008, 1.295800000000001, 1.2968000000000008, 1.297800000000001, 1.2988000000000008, 1.299800000000001, 1.3008000000000008, 1.301800000000001, 1.3028000000000008, 1.303800000000001, 1.3048000000000008, 1.305800000000001, 1.3068000000000008, 1.307800000000001, 1.3088000000000009, 1.309800000000001, 1.3108000000000009, 1.311800000000001, 1.3128000000000009, 1.313800000000001, 1.3148000000000009, 1.315800000000001, 1.316800000000001, 1.317800000000001, 1.3188000000000009, 1.319800000000001, 1.320800000000001, 1.321800000000001, 1.3228000000000009, 1.323800000000001, 1.324800000000001, 1.325800000000001, 1.3268000000000009, 1.327800000000001, 1.328800000000001, 1.329800000000001, 1.3308000000000009, 1.331800000000001, 1.332800000000001, 1.333800000000001, 1.3348000000000009, 1.335800000000001, 1.336800000000001, 1.337800000000001, 1.3388000000000009, 1.339800000000001, 1.340800000000001, 1.341800000000001, 1.3428000000000009, 1.343800000000001, 1.344800000000001, 1.345800000000001, 1.3468000000000009, 1.347800000000001, 1.348800000000001, 1.349800000000001, 1.3508000000000009, 1.351800000000001, 1.3528000000000011, 1.353800000000001, 1.354800000000001, 1.355800000000001, 1.3568000000000011, 1.357800000000001, 1.358800000000001, 1.359800000000001, 1.3608000000000011, 1.361800000000001, 1.362800000000001, 1.363800000000001, 1.3648000000000011, 1.365800000000001, 1.366800000000001, 1.367800000000001, 1.3688000000000011, 1.369800000000001, 1.370800000000001, 1.371800000000001, 1.3728000000000011, 1.373800000000001, 1.374800000000001, 1.375800000000001, 1.3768000000000011, 1.377800000000001, 1.378800000000001, 1.379800000000001, 1.3808000000000011, 1.381800000000001, 1.382800000000001, 1.383800000000001, 1.3848000000000011, 1.385800000000001, 1.386800000000001, 1.387800000000001, 1.3888000000000011, 1.389800000000001, 1.390800000000001, 1.391800000000001, 1.3928000000000011, 1.393800000000001, 1.394800000000001, 1.395800000000001, 1.3968000000000012, 1.397800000000001, 1.398800000000001, 1.399800000000001, 1.4008000000000012, 1.401800000000001, 1.402800000000001, 1.403800000000001, 1.4048000000000012, 1.405800000000001, 1.406800000000001, 1.407800000000001, 1.4088000000000012, 1.409800000000001, 1.410800000000001, 1.411800000000001, 1.4128000000000012, 1.413800000000001, 1.414800000000001, 1.415800000000001, 1.4168000000000012, 1.417800000000001, 1.418800000000001, 1.419800000000001, 1.4208000000000012, 1.421800000000001, 1.422800000000001, 1.423800000000001, 1.4248000000000012, 1.425800000000001, 1.426800000000001, 1.427800000000001, 1.4288000000000012, 1.429800000000001, 1.430800000000001, 1.431800000000001, 1.4328000000000012, 1.433800000000001, 1.434800000000001, 1.435800000000001, 1.4368000000000012, 1.437800000000001, 1.438800000000001, 1.439800000000001, 1.4408000000000012, 1.441800000000001, 1.442800000000001, 1.443800000000001, 1.4448000000000012, 1.445800000000001, 1.446800000000001, 1.447800000000001, 1.4488000000000012, 1.449800000000001, 1.450800000000001, 1.451800000000001, 1.4528000000000012, 1.453800000000001, 1.454800000000001, 1.455800000000001, 1.4568000000000012, 1.457800000000001, 1.458800000000001, 1.459800000000001, 1.4608000000000012, 1.461800000000001, 1.462800000000001, 1.463800000000001, 1.4648000000000012, 1.465800000000001, 1.466800000000001, 1.467800000000001, 1.4688000000000012, 1.469800000000001, 1.470800000000001, 1.471800000000001, 1.4728000000000012, 1.473800000000001, 1.474800000000001, 1.475800000000001, 1.4768000000000012, 1.4778000000000011, 1.478800000000001, 1.4798000000000011, 1.4808000000000012, 1.4818000000000011, 1.482800000000001, 1.4838000000000011, 1.4848000000000012, 1.4858000000000011, 1.486800000000001, 1.4878000000000011, 1.4888000000000012, 1.4898000000000011, 1.490800000000001, 1.4918000000000011, 1.4928000000000012, 1.4938000000000011, 1.494800000000001, 1.4958000000000011, 1.4968000000000012, 1.4978000000000011, 1.498800000000001, 1.4998000000000011, 1.5008000000000012, 1.5018000000000011, 1.502800000000001, 1.5038000000000011, 1.5048000000000012, 1.5058000000000011, 1.506800000000001, 1.5078000000000011, 1.5088000000000013, 1.5098000000000011, 1.510800000000001, 1.5118000000000011, 1.5128000000000013, 1.5138000000000011, 1.514800000000001, 1.5158000000000011, 1.5168000000000013, 1.5178000000000011, 1.518800000000001, 1.5198000000000012, 1.5208000000000013, 1.5218000000000012, 1.522800000000001, 1.5238000000000012, 1.5248000000000013, 1.5258000000000012, 1.526800000000001, 1.5278000000000012, 1.5288000000000013, 1.5298000000000012, 1.530800000000001, 1.5318000000000012, 1.5328000000000013, 1.5338000000000012, 1.534800000000001, 1.5358000000000012, 1.5368000000000013, 1.5378000000000012, 1.538800000000001, 1.5398000000000012, 1.5408000000000013, 1.5418000000000012, 1.542800000000001, 1.5438000000000012, 1.5448000000000013, 1.5458000000000012, 1.546800000000001, 1.5478000000000012, 1.5488000000000013, 1.5498000000000012, 1.550800000000001, 1.5518000000000012, 1.5528000000000013, 1.5538000000000012, 1.554800000000001, 1.5558000000000012, 1.5568000000000013, 1.5578000000000012, 1.558800000000001, 1.5598000000000012, 1.5608000000000013, 1.5618000000000012, 1.562800000000001, 1.5638000000000012, 1.5648000000000013, 1.5658000000000012, 1.566800000000001, 1.5678000000000012, 1.5688000000000013, 1.5698000000000012, 1.570800000000001, 1.5718000000000012, 1.5728000000000013, 1.5738000000000012, 1.574800000000001, 1.5758000000000012, 1.5768000000000013, 1.5778000000000012, 1.578800000000001, 1.5798000000000012, 1.5808000000000013, 1.5818000000000012, 1.582800000000001, 1.5838000000000012, 1.5848000000000013, 1.5858000000000012, 1.586800000000001, 1.5878000000000012, 1.5888000000000013, 1.5898000000000012, 1.590800000000001, 1.5918000000000012, 1.5928000000000013, 1.5938000000000012, 1.594800000000001, 1.5958000000000012, 1.5968000000000013, 1.5978000000000012, 1.598800000000001, 1.5998000000000012, 1.6008000000000013, 1.6018000000000012, 1.6028000000000011, 1.6038000000000012, 1.6048000000000013, 1.6058000000000012, 1.6068000000000011, 1.6078000000000012, 1.6088000000000013, 1.6098000000000012, 1.6108000000000011, 1.6118000000000012, 1.6128000000000013, 1.6138000000000012, 1.6148000000000011, 1.6158000000000012, 1.6168000000000013, 1.6178000000000012, 1.6188000000000011, 1.6198000000000012, 1.6208000000000014, 1.6218000000000012, 1.6228000000000011, 1.6238000000000012, 1.6248000000000014, 1.6258000000000012, 1.6268000000000011, 1.6278000000000012, 1.6288000000000014, 1.6298000000000012, 1.6308000000000011, 1.6318000000000012, 1.6328000000000014, 1.6338000000000013, 1.6348000000000011, 1.6358000000000013, 1.6368000000000014, 1.6378000000000013, 1.6388000000000011, 1.6398000000000013, 1.6408000000000014, 1.6418000000000013, 1.6428000000000011, 1.6438000000000013, 1.6448000000000014, 1.6458000000000013, 1.6468000000000012, 1.6478000000000013, 1.6488000000000014, 1.6498000000000013, 1.6508000000000012, 1.6518000000000013, 1.6528000000000014, 1.6538000000000013, 1.6548000000000012, 1.6558000000000013, 1.6568000000000014, 1.6578000000000013, 1.6588000000000012, 1.6598000000000013, 1.6608000000000014, 1.6618000000000013, 1.6628000000000012, 1.6638000000000013, 1.6648000000000014, 1.6658000000000013, 1.6668000000000012, 1.6678000000000013, 1.6688000000000014, 1.6698000000000013, 1.6708000000000012, 1.6718000000000013, 1.6728000000000014, 1.6738000000000013, 1.6748000000000012, 1.6758000000000013, 1.6768000000000014, 1.6778000000000013, 1.6788000000000012, 1.6798000000000013, 1.6808000000000014, 1.6818000000000013, 1.6828000000000012, 1.6838000000000013, 1.6848000000000014, 1.6858000000000013, 1.6868000000000012, 1.6878000000000013, 1.6888000000000014, 1.6898000000000013, 1.6908000000000012, 1.6918000000000013, 1.6928000000000014, 1.6938000000000013, 1.6948000000000012, 1.6958000000000013, 1.6968000000000014, 1.6978000000000013, 1.6988000000000012, 1.6998000000000013, 1.7008000000000014, 1.7018000000000013, 1.7028000000000012, 1.7038000000000013, 1.7048000000000014, 1.7058000000000013, 1.7068000000000012, 1.7078000000000013, 1.7088000000000014, 1.7098000000000013, 1.7108000000000012, 1.7118000000000013, 1.7128000000000014, 1.7138000000000013, 1.7148000000000012, 1.7158000000000013, 1.7168000000000014, 1.7178000000000013, 1.7188000000000012, 1.7198000000000013, 1.7208000000000014, 1.7218000000000013, 1.7228000000000012, 1.7238000000000013, 1.7248000000000014, 1.7258000000000013, 1.7268000000000012, 1.7278000000000013, 1.7288000000000014, 1.7298000000000013, 1.7308000000000012, 1.7318000000000013, 1.7328000000000015, 1.7338000000000013, 1.7348000000000012, 1.7358000000000013, 1.7368000000000015, 1.7378000000000013, 1.7388000000000012, 1.7398000000000013, 1.7408000000000015, 1.7418000000000013, 1.7428000000000012, 1.7438000000000013, 1.7448000000000015, 1.7458000000000014, 1.7468000000000012, 1.7478000000000014, 1.7488000000000015, 1.7498000000000014, 1.7508000000000012, 1.7518000000000014, 1.7528000000000015, 1.7538000000000014, 1.7548000000000012, 1.7558000000000014, 1.7568000000000015, 1.7578000000000014, 1.7588000000000013, 1.7598000000000014, 1.7608000000000015, 1.7618000000000014, 1.7628000000000013, 1.7638000000000014, 1.7648000000000015, 1.7658000000000014, 1.7668000000000013, 1.7678000000000014, 1.7688000000000015, 1.7698000000000014, 1.7708000000000013, 1.7718000000000014, 1.7728000000000015, 1.7738000000000014, 1.7748000000000013, 1.7758000000000014, 1.7768000000000015, 1.7778000000000014, 1.7788000000000013, 1.7798000000000014, 1.7808000000000015, 1.7818000000000014, 1.7828000000000013, 1.7838000000000014, 1.7848000000000015, 1.7858000000000014, 1.7868000000000013, 1.7878000000000014, 1.7888000000000015, 1.7898000000000014, 1.7908000000000013, 1.7918000000000014, 1.7928000000000015, 1.7938000000000014, 1.7948000000000013, 1.7958000000000014, 1.7968000000000015, 1.7978000000000014, 1.7988000000000013, 1.7998000000000014, 1.8008000000000015, 1.8018000000000014, 1.8028000000000013, 1.8038000000000014, 1.8048000000000015, 1.8058000000000014, 1.8068000000000013, 1.8078000000000014, 1.8088000000000015, 1.8098000000000014, 1.8108000000000013, 1.8118000000000014, 1.8128000000000015, 1.8138000000000014, 1.8148000000000013, 1.8158000000000014, 1.8168000000000015, 1.8178000000000014, 1.8188000000000013, 1.8198000000000014, 1.8208000000000015, 1.8218000000000014, 1.8228000000000013, 1.8238000000000014, 1.8248000000000015, 1.8258000000000014, 1.8268000000000013, 1.8278000000000014, 1.8288000000000015, 1.8298000000000014, 1.8308000000000013, 1.8318000000000014, 1.8328000000000015, 1.8338000000000014, 1.8348000000000013, 1.8358000000000014, 1.8368000000000015, 1.8378000000000014, 1.8388000000000013, 1.8398000000000014, 1.8408000000000015, 1.8418000000000014, 1.8428000000000013, 1.8438000000000014, 1.8448000000000015, 1.8458000000000014, 1.8468000000000013, 1.8478000000000014, 1.8488000000000016, 1.8498000000000014, 1.8508000000000013, 1.8518000000000014, 1.8528000000000016, 1.8538000000000014, 1.8548000000000013, 1.8558000000000014, 1.8568000000000016, 1.8578000000000015, 1.8588000000000013, 1.8598000000000015, 1.8608000000000016, 1.8618000000000015, 1.8628000000000013, 1.8638000000000015, 1.8648000000000016, 1.8658000000000015, 1.8668000000000013, 1.8678000000000015, 1.8688000000000016, 1.8698000000000015, 1.8708000000000014, 1.8718000000000015, 1.8728000000000016, 1.8738000000000015, 1.8748000000000014, 1.8758000000000015, 1.8768000000000016, 1.8778000000000015, 1.8788000000000014, 1.8798000000000015, 1.8808000000000016, 1.8818000000000015, 1.8828000000000014, 1.8838000000000015, 1.8848000000000016, 1.8858000000000015, 1.8868000000000014, 1.8878000000000015, 1.8888000000000016, 1.8898000000000015, 1.8908000000000014, 1.8918000000000015, 1.8928000000000016, 1.8938000000000015, 1.8948000000000014, 1.8958000000000015, 1.8968000000000016, 1.8978000000000015, 1.8988000000000014, 1.8998000000000015, 1.9008000000000016, 1.9018000000000015, 1.9028000000000014, 1.9038000000000015, 1.9048000000000016, 1.9058000000000015, 1.9068000000000014, 1.9078000000000015, 1.9088000000000016, 1.9098000000000015, 1.9108000000000014, 1.9118000000000015, 1.9128000000000016, 1.9138000000000015, 1.9148000000000014, 1.9158000000000015, 1.9168000000000016, 1.9178000000000015, 1.9188000000000014, 1.9198000000000015, 1.9208000000000016, 1.9218000000000015, 1.9228000000000014, 1.9238000000000015, 1.9248000000000016, 1.9258000000000015, 1.9268000000000014, 1.9278000000000015, 1.9288000000000016, 1.9298000000000015, 1.9308000000000014, 1.9318000000000015, 1.9328000000000016, 1.9338000000000015, 1.9348000000000014, 1.9358000000000015, 1.9368000000000016, 1.9378000000000015, 1.9388000000000014, 1.9398000000000015, 1.9408000000000016, 1.9418000000000015, 1.9428000000000014, 1.9438000000000015, 1.9448000000000016, 1.9458000000000015, 1.9468000000000014, 1.9478000000000015, 1.9488000000000016, 1.9498000000000015, 1.9508000000000014, 1.9518000000000015, 1.9528000000000016, 1.9538000000000015, 1.9548000000000014, 1.9558000000000015, 1.9568000000000016, 1.9578000000000015, 1.9588000000000014, 1.9598000000000015, 1.9608000000000017, 1.9618000000000015, 1.9628000000000014, 1.9638000000000015, 1.9648000000000017, 1.9658000000000015, 1.9668000000000014, 1.9678000000000015, 1.9688000000000017, 1.9698000000000015, 1.9708000000000014, 1.9718000000000016, 1.9728000000000017, 1.9738000000000016, 1.9748000000000014, 1.9758000000000016, 1.9768000000000017, 1.9778000000000016, 1.9788000000000014, 1.9798000000000016, 1.9808000000000017, 1.9818000000000016, 1.9828000000000015, 1.9838000000000016, 1.9848000000000017, 1.9858000000000016, 1.9868000000000015, 1.9878000000000016, 1.9888000000000017, 1.9898000000000016, 1.9908000000000015, 1.9918000000000016, 1.9928000000000017, 1.9938000000000016, 1.9948000000000015, 1.9958000000000016, 1.9968000000000017, 1.9978000000000016, 1.9988000000000015, 1.9998000000000016, 2.0008000000000017, 2.0018000000000016, 2.0028000000000015, 2.0038000000000014, 2.0048000000000017, 2.0058000000000016, 2.0068000000000015, 2.0078000000000014, 2.0088000000000017, 2.0098000000000016, 2.0108000000000015, 2.0118000000000014, 2.0128000000000017, 2.0138000000000016, 2.0148000000000015, 2.0158000000000014, 2.0168000000000017, 2.0178000000000016, 2.0188000000000015, 2.0198000000000014, 2.0208000000000017, 2.0218000000000016, 2.0228000000000015, 2.0238000000000014, 2.0248000000000017, 2.0258000000000016, 2.0268000000000015, 2.0278000000000014, 2.0288000000000017, 2.0298000000000016, 2.0308000000000015, 2.0318000000000014, 2.0328000000000017, 2.0338000000000016, 2.0348000000000015, 2.0358000000000014, 2.0368000000000017, 2.0378000000000016, 2.0388000000000015, 2.0398000000000014, 2.0408000000000017, 2.0418000000000016, 2.0428000000000015, 2.0438000000000014, 2.0448000000000017, 2.0458000000000016, 2.0468000000000015, 2.0478000000000014, 2.0488000000000017, 2.0498000000000016, 2.0508000000000015, 2.0518000000000014, 2.0528000000000017, 2.0538000000000016, 2.0548000000000015, 2.0558000000000014, 2.0568000000000017, 2.0578000000000016, 2.0588000000000015, 2.0598000000000014, 2.0608000000000017, 2.0618000000000016, 2.0628000000000015, 2.0638000000000014, 2.0648000000000017, 2.0658000000000016, 2.0668000000000015, 2.0678000000000014, 2.0688000000000017, 2.0698000000000016, 2.0708000000000015, 2.0718000000000014, 2.0728000000000018, 2.0738000000000016, 2.0748000000000015, 2.0758000000000014, 2.0768000000000018, 2.0778000000000016, 2.0788000000000015, 2.0798000000000014, 2.0808000000000018, 2.0818000000000016, 2.0828000000000015, 2.0838000000000014, 2.0848000000000018, 2.0858000000000017, 2.0868000000000015, 2.0878000000000014, 2.0888000000000018, 2.0898000000000017, 2.0908000000000015, 2.0918000000000014, 2.0928000000000018, 2.0938000000000017, 2.0948000000000015, 2.0958000000000014, 2.0968000000000018, 2.0978000000000017, 2.0988000000000016, 2.0998000000000014, 2.1008000000000018, 2.1018000000000017, 2.1028000000000016, 2.1038000000000014, 2.104800000000002, 2.1058000000000017, 2.1068000000000016, 2.1078000000000015, 2.108800000000002, 2.1098000000000017, 2.1108000000000016, 2.1118000000000015, 2.112800000000002, 2.1138000000000017, 2.1148000000000016, 2.1158000000000015, 2.116800000000002, 2.1178000000000017, 2.1188000000000016, 2.1198000000000015, 2.120800000000002, 2.1218000000000017, 2.1228000000000016, 2.1238000000000015, 2.124800000000002, 2.1258000000000017, 2.1268000000000016, 2.1278000000000015, 2.128800000000002, 2.1298000000000017, 2.1308000000000016, 2.1318000000000015, 2.132800000000002, 2.1338000000000017, 2.1348000000000016, 2.1358000000000015, 2.136800000000002, 2.1378000000000017, 2.1388000000000016, 2.1398000000000015, 2.140800000000002, 2.1418000000000017, 2.1428000000000016, 2.1438000000000015, 2.144800000000002, 2.1458000000000017, 2.1468000000000016, 2.1478000000000015, 2.148800000000002, 2.1498000000000017, 2.1508000000000016, 2.1518000000000015, 2.152800000000002, 2.1538000000000017, 2.1548000000000016, 2.1558000000000015, 2.156800000000002, 2.1578000000000017, 2.1588000000000016, 2.1598000000000015, 2.160800000000002, 2.1618000000000017, 2.1628000000000016, 2.1638000000000015, 2.164800000000002, 2.1658000000000017, 2.1668000000000016, 2.1678000000000015, 2.168800000000002, 2.1698000000000017, 2.1708000000000016, 2.1718000000000015, 2.172800000000002, 2.1738000000000017, 2.1748000000000016, 2.1758000000000015, 2.176800000000002, 2.1778000000000017, 2.1788000000000016, 2.1798000000000015, 2.180800000000002, 2.1818000000000017, 2.1828000000000016, 2.1838000000000015, 2.184800000000002, 2.1858000000000017, 2.1868000000000016, 2.1878000000000015, 2.188800000000002, 2.1898000000000017, 2.1908000000000016, 2.1918000000000015, 2.192800000000002, 2.1938000000000017, 2.1948000000000016, 2.1958000000000015, 2.196800000000002, 2.1978000000000018, 2.1988000000000016, 2.1998000000000015, 2.200800000000002, 2.2018000000000018, 2.2028000000000016, 2.2038000000000015, 2.204800000000002, 2.2058000000000018, 2.2068000000000016, 2.2078000000000015, 2.208800000000002, 2.2098000000000018, 2.2108000000000017, 2.2118000000000015, 2.212800000000002, 2.2138000000000018, 2.2148000000000017, 2.2158000000000015, 2.216800000000002, 2.2178000000000018, 2.2188000000000017, 2.2198000000000015, 2.220800000000002, 2.2218000000000018, 2.2228000000000017, 2.2238000000000016, 2.224800000000002, 2.2258000000000018, 2.2268000000000017, 2.2278000000000016, 2.228800000000002, 2.229800000000002, 2.2308000000000017, 2.2318000000000016, 2.232800000000002, 2.233800000000002, 2.2348000000000017, 2.2358000000000016, 2.236800000000002, 2.237800000000002, 2.2388000000000017, 2.2398000000000016, 2.240800000000002, 2.241800000000002, 2.2428000000000017, 2.2438000000000016, 2.244800000000002, 2.245800000000002, 2.2468000000000017, 2.2478000000000016, 2.248800000000002, 2.249800000000002, 2.2508000000000017, 2.2518000000000016, 2.252800000000002, 2.253800000000002, 2.2548000000000017, 2.2558000000000016, 2.256800000000002, 2.257800000000002, 2.2588000000000017, 2.2598000000000016, 2.260800000000002, 2.261800000000002, 2.2628000000000017, 2.2638000000000016, 2.264800000000002, 2.265800000000002, 2.2668000000000017, 2.2678000000000016, 2.268800000000002, 2.269800000000002, 2.2708000000000017, 2.2718000000000016, 2.272800000000002, 2.273800000000002, 2.2748000000000017, 2.2758000000000016, 2.276800000000002, 2.277800000000002, 2.2788000000000017, 2.2798000000000016, 2.280800000000002, 2.281800000000002, 2.2828000000000017, 2.2838000000000016, 2.284800000000002, 2.285800000000002, 2.2868000000000017, 2.2878000000000016, 2.288800000000002, 2.289800000000002, 2.2908000000000017, 2.2918000000000016, 2.292800000000002, 2.293800000000002, 2.2948000000000017], \"y\": [11.31, 25.74134328358214, 40.17268656716428, 54.604029850746414, 69.03537313432855, 83.46671641791069, 97.89805970149283, 110.84411764705904, 120.3245098039218, 129.80490196078458, 139.28529411764734, 148.7656862745101, 158.24607843137287, 167.72647058823563, 177.2068627450984, 186.68725490196115, 196.16764705882392, 205.39901960784343, 212.38921568627484, 219.37941176470622, 226.3696078431376, 233.35980392156898, 240.35000000000036, 247.34019607843177, 254.33039215686316, 261.32058823529457, 268.31078431372595, 275.3009803921573, 280.0733333333336, 284.59925925925955, 289.1251851851855, 293.6511111111114, 298.17703703703734, 302.7029629629633, 307.2288888888892, 311.7548148148151, 316.28074074074107, 320.80666666666696, 325.3325925925929, 329.85851851851885, 334.38444444444474, 338.76222222222253, 342.9177777777781, 347.0733333333336, 351.2288888888892, 355.38444444444474, 359.5400000000003, 363.6955555555558, 367.8511111111114, 372.00666666666694, 376.1622222222225, 380.317777777778, 384.4733333333336, 388.62888888888915, 392.7844444444447, 402.6235294117654, 413.0941176470595, 423.56470588235356, 430.00294117647076, 432.4088235294119, 434.8147058823531, 437.22058823529426, 439.62647058823546, 442.03235294117667, 444.4382352941178, 446.844117647059, 449.2500000000002, 451.6558823529414, 454.0617647058826, 456.46764705882373, 458.87352941176493, 461.2794117647061, 463.6852941176473, 466.0911764705885, 468.49705882352964, 475.77462686567293, 487.9238805970162, 500.0731343283594, 512.2223880597027, 524.3716417910458, 536.5208955223891, 548.6701492537323, 573.8529411764731, 602.2941176470617, 630.7352941176503, 653.3843137254919, 667.3450980392173, 681.3058823529427, 695.2666666666682, 709.2274509803937, 723.1882352941191, 737.1490196078446, 751.10980392157, 765.0705882352954, 779.031372549021, 836.5288888888891, 839.1733333333336, 841.817777777778, 844.4622222222225, 847.1066666666669, 849.7511111111114, 852.3955555555559, 855.0400000000003, 857.6844444444448, 860.3288888888892, 862.9733333333337, 865.6177777777782, 868.2622222222226, 870.9066666666671, 871.356862745098, 870.8666666666667, 870.3764705882353, 869.8862745098039, 869.3960784313725, 868.9058823529411, 868.4156862745098, 867.9254901960784, 867.435294117647, 866.9450980392156, 873.0676470588251, 885.8029411764721, 898.5382352941192, 911.2735294117663, 924.0088235294135, 936.7441176470605, 949.4794117647076, 964.9227722772301, 981.5267326732697, 998.1306930693094, 1014.734653465349, 1031.3386138613887, 1047.9425742574283, 1064.546534653468, 1081.1504950495075, 1097.7544554455471, 1114.3584158415867, 1132.6470588235325, 1152.0588235294147, 1171.4705882352969, 1187.7647058823536, 1191.5882352941182, 1195.411764705883, 1199.2352941176478, 1203.0588235294124, 1206.882352941177, 1210.705882352942, 1213.594059405941, 1215.0792079207924, 1216.5643564356437, 1218.0495049504952, 1219.5346534653468, 1221.0198019801983, 1222.5049504950498, 1223.9900990099013, 1225.4752475247528, 1226.9603960396043, 1229.0588235294124, 1232.5882352941182, 1236.117647058824, 1239.64705882353, 1243.1764705882358, 1246.7058823529417, 1250.2352941176478, 1253.7647058823536, 1257.2941176470595, 1260.8235294117653, 1263.617647058823, 1259.794117647058, 1255.9705882352935, 1252.1470588235288, 1248.323529411764, 1244.4999999999993, 1240.6764705882347, 1238.2444444444445, 1239.0592592592593, 1239.8740740740743, 1240.688888888889, 1241.5037037037039, 1242.3185185185187, 1243.1333333333334, 1243.9481481481482, 1244.7629629629632, 1245.577777777778, 1246.3925925925928, 1247.2074074074076, 1248.0222222222224, 1248.8370370370371, 1247.4313725490194, 1245.4705882352937, 1243.5098039215684, 1241.5490196078426, 1239.5882352941173, 1237.6274509803916, 1235.6666666666663, 1233.7058823529408, 1231.7450980392155, 1229.7843137254897, 1227.1194029850742, 1223.9850746268648, 1220.8507462686562, 1217.716417910447, 1214.5820895522384, 1211.447761194029, 1208.3134328358205, 1209.4117647058827, 1210.980392156863, 1212.5490196078435, 1214.1176470588236, 1215.6862745098042, 1217.2549019607845, 1218.823529411765, 1220.3921568627454, 1221.960784313726, 1223.529411764706, 1222.5862068965512, 1220.566502463054, 1218.5467980295562, 1216.5270935960589, 1214.5073891625611, 1212.4876847290636, 1210.467980295566, 1208.4482758620686, 1206.4285714285709, 1204.4088669950736, 1202.3891625615759, 1200.3694581280786, 1198.3497536945806, 1196.3300492610833, 1194.3103448275856, 1192.2906403940883, 1190.2709359605906, 1188.2512315270933, 1186.2315270935956, 1184.2118226600983, 1182.705882352941, 1181.970588235294, 1181.2352941176468, 1180.4999999999998, 1179.7647058823527, 1179.0294117647059, 1178.2941176470586, 1177.10447761194, 1175.611940298507, 1174.1194029850744, 1172.6268656716413, 1171.1343283582087, 1169.6417910447756, 1168.149253731343, 1169.323529411765, 1170.7941176470592, 1172.2647058823534, 1173.7352941176473, 1175.2058823529417, 1176.6764705882356, 1178.1470588235297, 1179.6176470588239, 1181.088235294118, 1182.558823529412, 1183.4117647058824, 1184.0, 1184.5882352941178, 1185.1764705882354, 1185.7647058823532, 1186.3529411764707, 1186.9411764705883, 1187.529411764706, 1188.1176470588236, 1188.7058823529412, 1188.6296296296293, 1187.8888888888887, 1187.148148148148, 1186.4074074074072, 1185.6666666666665, 1184.9259259259259, 1184.185185185185, 1183.4444444444443, 1182.7037037037035, 1181.9629629629628, 1181.222222222222, 1180.4814814814813, 1179.7407407407404, 1178.9999999999998, 1178.2610837438422, 1177.5221674876846, 1176.783251231527, 1176.0443349753693, 1175.3054187192115, 1174.5665024630541, 1173.8275862068963, 1173.0886699507387, 1172.349753694581, 1171.6108374384235, 1170.8719211822659, 1170.1330049261082, 1169.3940886699504, 1168.655172413793, 1167.9162561576352, 1167.1773399014776, 1166.43842364532, 1165.6995073891624, 1164.9605911330048, 1164.2216748768471, 1163.7416974169741, 1163.372693726937, 1163.0036900369003, 1162.6346863468634, 1162.2656826568264, 1161.8966789667895, 1161.5276752767527, 1161.1586715867159, 1160.7896678966788, 1160.420664206642, 1160.0516605166051, 1159.682656826568, 1159.3136531365312, 1158.9446494464944, 1158.5756457564573, 1158.2066420664205, 1157.8376383763837, 1157.4686346863468, 1157.0996309963098, 1156.730627306273, 1156.361623616236, 1155.9926199261993, 1155.6236162361622, 1155.2546125461254, 1154.8856088560883, 1154.5166051660515, 1154.1476014760146, 1153.4674556213015, 1152.5798816568044, 1151.6923076923074, 1150.8047337278103, 1149.9171597633133, 1149.0295857988162, 1148.1420118343192, 1147.2544378698221, 1146.3668639053253, 1145.479289940828, 1144.5917159763312, 1143.704142011834, 1142.8165680473371, 1141.9289940828398, 1141.041420118343, 1140.1538461538457, 1139.266272189349, 1138.2794117647054, 1137.2499999999998, 1136.2205882352937, 1135.191176470588, 1134.161764705882, 1133.1323529411761, 1132.1029411764703, 1131.0735294117644, 1130.0441176470583, 1129.0147058823527, 1127.9852941176466, 1126.955882352941, 1125.926470588235, 1124.897058823529, 1123.8676470588232, 1122.8382352941173, 1121.8088235294113, 1120.7794117647056, 1119.7499999999995, 1118.720588235294, 1117.554455445544, 1116.0693069306926, 1114.5841584158409, 1113.0990099009896, 1111.613861386138, 1110.1287128712868, 1108.643564356435, 1107.1584158415837, 1105.673267326732, 1104.1881188118807, 1102.1176470588216, 1097.7058823529399, 1093.294117647057, 1088.882352941175, 1084.4705882352923, 1080.0588235294103, 1075.6470588235275, 1071.2352941176457, 1066.8235294117628, 1062.4117647058808, 1058.0000000000016, 1061.7313432835833, 1065.4626865671657, 1069.1940298507475, 1072.92537313433, 1076.6567164179116, 1080.388059701494, 1082.3382352941169, 1080.1323529411757, 1077.9264705882347, 1075.7205882352932, 1073.5147058823522, 1071.3088235294108, 1069.10294117647, 1045.558823529394, 1000.676470588222, 955.7941176470399, 923.9846153846432, 1009.8307692308088, 1008.7999999999919, 986.0499999999894, 765.8812500000103, 802.4437500000146, 839.0062500000108, 861.9176470588199, 852.9764705882325, 844.0352941176432, 835.0941176470558, 843.909090909096, 854.6969696969736, 865.4848484848537, 883.2647058823611, 905.7058823529514, 928.1470588235368, 947.8941176470627, 956.8647058823559, 965.8352941176511, 974.8058823529443, 977.8058823529419, 979.3132352941182, 980.8205882352948, 982.3279411764711, 983.8352941176478, 985.342647058824, 986.8500000000007, 988.3573529411769, 989.8647058823536, 991.3720588235299, 992.8794117647066, 994.3867647058828, 995.8941176470595, 992.0176470588156, 966.60588235293, 941.1941176470502, 915.7823529411647, 897.1484848484787, 880.2090909090826, 863.2696969696905, 846.5794117646977, 830.1382352941117, 813.697058823522, 795.6117647058717, 762.7294117646911, 729.847058823518, 696.9647058823374, 718.4970588235462, 763.3500000000224, 808.2029411764886, 850.3735294117832, 886.2852941176609, 922.1970588235465, 958.1088235294242, 923.185714285716, 926.8285714285728, 930.4714285714304, 934.1142857142871, 937.7571428571446, 941.4000000000013, 945.0428571428589, 948.6857142857157, 952.3285714285731, 955.9714285714299, 953.7176470588219, 949.9897058823516, 946.2617647058806, 942.5338235294104, 938.8058823529394, 935.0779411764692, 931.3499999999982, 927.6220588235279, 923.894117647057, 920.1661764705867, 916.4382352941158, 912.7102941176455, 908.9823529411746, 905.2558823529396, 901.5352941176451, 897.8147058823514, 894.0941176470569, 890.3735294117632, 886.6529411764687, 882.932352941175, 880.2791666666661, 879.227083333333, 878.1749999999995, 877.1229166666664, 876.0708333333329, 875.0187499999996, 873.9666666666662, 872.914583333333, 871.8624999999995, 870.8104166666664, 843.2222222222115, 823.4444444444362, 798.7142857142665, 762.428571428555, 725.2400000000226, 730.5508771929808, 726.9894736842085, 723.428070175437, 719.8666666666647, 716.3052631578931, 713.1514851485151, 713.6663366336636, 714.1811881188122, 714.6960396039606, 715.2108910891092, 715.7257425742577, 716.2405940594062, 716.7554455445546, 717.2702970297032, 717.7851485148517, 718.3000000000083, 733.2705882353005, 748.241176470596, 763.2117647058882, 774.582352941181, 783.5529411764742, 792.5235294117695, 800.2000000000011, 802.7000000000014, 805.2000000000011, 807.7000000000014, 810.2000000000011, 812.7000000000014, 815.2000000000012, 817.7000000000014, 820.2000000000012, 822.7000000000014, 825.1999999999996, 824.2098522167482, 823.2197044334971, 822.2295566502457, 821.2394088669947, 820.2492610837434, 819.2591133004922, 818.2689655172409, 817.2788177339897, 816.2886699507384, 815.2985221674872, 814.3083743842359, 813.3182266009848, 812.3280788177334, 811.3379310344824, 810.347783251231, 809.3576354679799, 808.3674876847285, 807.3773399014774, 806.387192118226, 805.3970443349749, 804.0520710059163, 802.5550295857981, 801.0579881656796, 799.5609467455614, 798.0639053254429, 796.5668639053247, 795.0698224852063, 793.5727810650881, 792.0757396449695, 790.5786982248513, 789.0816568047328, 787.5846153846146, 786.0875739644962, 784.590532544378, 783.0934911242595, 781.5964497041413, 780.0994082840227, 772.0352941176425, 762.3294117647002, 752.6235294117603, 742.917647058818, 733.211764705878, 723.5058823529357, 713.7999999999906, 692.8882352941057, 671.9764705882254, 651.0647058823405, 631.6090909090818, 613.124242424231, 594.6393939393845, 579.6838235294076, 572.9632352941142, 566.2426470588193, 559.522058823526, 552.8014705882312, 546.0808823529378, 539.360294117643, 532.6397058823496, 525.9191176470548, 519.1985294117615, 512.4779411764665, 505.7573529411732, 499.0367647058784, 492.31617647058505, 498.67941176471305, 510.650000000006, 522.6205882353016, 589.5338235294075, 581.3132352941125, 573.0926470588194, 564.8720588235243, 556.6514705882312, 548.4308823529361, 540.210294117643, 529.9484848484773, 517.6454545454483, 505.3424242424164, 425.81176470587286, 407.870588235283, 389.9294117646971, 371.9882352941072, 346.8705882352813, 319.95882352939554, 293.04705882351584, 194.39411764706486, 204.1294117647108, 213.86470588235892, 223.60000000000485, 233.33529411765295, 243.0705882352989, 252.805882352947, 261.18235294118017, 268.6529411764752, 276.12352941176863, 281.4980198019783, 278.4881188118796, 275.4782178217803, 272.4683168316816, 269.4584158415822, 266.44851485148354, 263.43861386138417, 260.4287128712855, 257.4188118811862, 254.40891089108746, 253.3470588235402, 269.81764705883273, 286.28823529412887, 302.75882352942136, 322.3588235294261, 343.3000000000116, 364.2411764706018, 385.18235294118745, 406.1235294117783, 427.0647058823645, 448.0058823529554, 456.8367647058866, 464.32205882353446, 471.8073529411806, 479.2926470588285, 486.7779411764747, 494.2632352941226, 501.8358208955269, 510.1940298507517, 518.5522388059746, 526.9104477611994, 535.2686567164222, 543.626865671647, 551.98507462687, 560.5941176470644, 569.5794117647106, 578.5647058823588, 587.550000000005, 596.5352941176532, 605.5205882352993, 614.5058823529475, 617.1999999999991, 615.6999999999989, 614.1999999999991, 612.6999999999989, 611.199999999999, 609.6999999999989, 608.199999999999, 606.6999999999989, 605.199999999999, 603.6999999999989, 602.199999999999, 600.6999999999988, 599.199999999999, 597.6999999999988, 596.199999999999, 594.6999999999988, 593.1999999999989, 591.5499999999986, 589.8624999999988, 588.1749999999986, 586.4874999999988, 584.7999999999986, 583.1124999999988, 581.4249999999986, 579.7374999999988, 578.0499999999986, 576.3624999999988, 574.6749999999986, 572.9874999999988, 571.2999999999986, 569.6124999999988, 567.9249999999986, 566.2374999999988, 564.5499999999986, 562.8624999999988, 561.1749999999986, 559.4874999999988, 557.7999999999986, 556.1124999999988, 554.4249999999986, 552.7374999999988, 551.091764705881, 549.4564705882342, 547.8211764705869, 546.18588235294, 544.5505882352928, 542.9152941176459, 541.2799999999987, 539.6447058823518, 538.0094117647045, 536.3741176470577, 534.7388235294104, 533.1035294117636, 531.4682352941163, 529.8329411764695, 528.1976470588222, 526.5623529411754, 524.9270588235281, 523.2917647058812, 521.656470588234, 520.0211764705871, 518.3858823529399, 516.750588235293, 515.1152941176457, 513.4799999999989, 511.84470588235166, 510.2094117647048, 508.5741176470575, 506.9388235294106, 505.3035294117634, 503.6682352941165, 502.0329411764693, 500.39764705882243, 498.76235294117515, 497.1270588235283, 495.7317647058813, 494.39647058823437, 493.06117647058716, 491.7258823529403, 490.3905882352931, 489.05529411764616, 487.71999999999895, 486.384705882352, 485.0494117647048, 483.7141176470579, 482.3788235294107, 481.0435294117638, 479.7082352941166, 478.3729411764697, 477.0376470588225, 475.70235294117555, 474.36705882352834, 473.0317647058814, 471.6964705882342, 470.36117647058734, 469.02588235294013, 467.6905882352932, 466.355294117646, 465.0199999999991, 463.68470588235186, 462.34941176470494, 461.01411764705773, 459.6788235294108, 458.3435294117636, 457.00823529411673, 455.6729411764695, 454.3376470588226, 453.0023529411754, 451.66705882352846, 453.45333333333537, 456.02000000000174, 458.5866666666687, 461.1533333333351, 463.7200000000021, 466.28666666666845, 457.63999999999083, 446.1899999999921, 434.73999999999086, 423.2899999999921, 408.8133333333216, 393.57999999999055, 378.34666666665606, 364.4733333333251, 350.93999999998977, 337.40666666665743, 321.4799999999868, 304.9549999999886, 288.4299999999868, 271.90499999998866, 257.55999999998915, 243.7599999999909, 229.95999999998958, 216.15999999999133, 202.35999999999, 188.55999999999176, 174.75999999999044, 167.12799999999638, 161.03799999999558, 154.9479999999961, 148.8579999999953, 142.76799999999582, 136.67799999999502, 130.58799999999556, 124.49799999999476, 118.4079999999953, 112.31799999999447, 113.3030769230791, 116.05692307692554, 118.81076923077137, 121.5646153846178, 124.31846153846362, 127.07230769231006, 129.82615384615588, 132.58000000000231, 135.33384615384816, 138.0876923076946, 140.8415384615404, 143.59538461538685, 146.3492307692327, 151.93058823529918, 158.21882352941617, 164.50705882353455, 170.79529411765157, 177.08352941176994, 183.37176470588693, 189.6600000000053, 195.9482352941223, 202.2364705882407, 208.5247058823577, 214.81294117647607, 221.10117647059306, 227.38941176471144, 233.67764705882843, 239.96588235294683, 246.25411764706382, 252.5423529411822, 259.0960000000053, 265.71600000000603, 272.3360000000053, 278.95600000000604, 285.5760000000053, 292.19600000000605, 298.8160000000053, 305.436000000006, 312.05600000000527, 318.676000000006, 326.12000000000614, 333.770000000007, 341.42000000000616, 349.070000000007, 351.2338461538468, 352.02615384615456, 352.81846153846215, 353.61076923076996, 354.40307692307755, 355.1953846153853, 355.9876923076929, 356.78000000000065, 357.57230769230824, 358.364615384616, 359.15692307692365, 359.9492307692314, 360.741538461539, 367.0000000000061, 374.62500000000523, 382.2500000000061, 389.87500000000523, 390.50518518518425, 389.38666666666586, 388.26814814814725, 387.1496296296288, 386.0311111111102, 384.91259259259175, 383.79407407407314, 382.67555555555475, 381.5570370370361, 380.4385185185177, 379.319999999999, 378.20148148148064, 377.082962962962, 375.9644444444436, 374.845925925925, 373.72740740740653, 372.6088888888879, 371.49037037036953, 370.37185185185086, 369.2533333333325, 368.1348148148138, 367.0162962962954, 365.89777777777675, 364.77925925925837, 363.6607407407397, 362.5422222222213, 361.4237037037027, 361.44470588235316, 361.7505882352944, 362.0564705882355, 362.3623529411767, 362.6682352941179, 362.9741176470591, 363.2800000000002, 363.58588235294144, 363.89176470588257, 364.19764705882375, 364.50352941176493, 364.8094117647061, 365.11529411764724, 365.4211764705885, 365.7270588235296, 366.0329411764708, 366.33882352941197, 364.75259259259093, 362.6933333333319, 360.6340740740724, 358.57481481481335, 356.5155555555539, 354.4562962962948, 352.3970370370353, 350.3377777777763, 348.27851851851676, 346.21925925925774, 344.15999999999826, 342.10074074073924, 340.0414814814797, 337.9822222222207, 335.9229629629612, 333.86370370370213, 331.80444444444265, 329.74518518518363, 327.68592592592415, 325.6266666666651, 323.5674074074056, 321.5081481481466, 319.44888888888704, 317.389629629628, 315.33037037036854, 313.27111111110946, 311.21185185185, 311.2847058823534, 311.8905882352947, 312.4964705882358, 313.10235294117706, 313.70823529411814, 314.3141176470594, 314.9200000000005, 315.5258823529418, 316.1317647058829, 316.7376470588241, 317.34352941176525, 317.9494117647065, 318.55529411764763, 319.1611764705889, 319.76705882352996, 320.3729411764712, 320.97882352941235, 320.48461538461464, 319.7153846153839, 318.9461538461531, 318.17692307692244, 317.4076923076916, 316.6384615384609, 315.86923076923006, 315.0999999999994, 314.3307692307685, 313.56153846153785, 312.792307692307, 312.0230769230763, 311.2538461538455, 309.4341176470572, 307.35176470588044, 305.2694117647042, 303.1870588235275, 301.1047058823512, 299.0223529411745, 296.93999999999824, 294.85764705882156, 292.7752941176453, 290.69294117646854, 288.6105882352923, 286.5282352941156, 284.44588235293935, 282.3635294117626, 280.2811764705864, 278.19882352940965, 276.11647058823337, 271.6359999999948, 266.5559999999954, 261.4759999999948, 256.39599999999535, 251.3159999999948, 246.23599999999539, 241.1559999999948, 236.07599999999425, 230.9959999999948, 225.9159999999954, 220.84181818181304, 215.76909090908526, 210.6963636363586, 205.62363636363193, 200.55090909090416, 195.47818181817638, 190.40545454544971, 185.33272727272305, 180.25999999999527, 175.18727272726747, 170.1145454545408, 166.87199999999777, 164.08699999999746, 161.30199999999715, 158.51699999999747, 155.73199999999778, 152.94699999999747, 150.16199999999716, 147.37699999999745, 144.59199999999777, 141.80699999999746, 139.02199999999715, 136.23699999999747, 133.45199999999778, 130.66699999999747, 127.88199999999716, 125.09699999999748, 122.31199999999778, 119.52699999999747, 116.74199999999716, 113.95699999999746, 110.77458823529149, 107.49282352940874, 104.211058823526, 100.92929411764399, 97.64752941176198, 94.36576470587924, 91.08399999999651, 87.8022352941145, 84.52047058823248, 81.23870588234975, 77.95694117646701, 74.675176470585, 71.39341176470299, 68.11164705882024, 64.82988235293752, 61.5481176470555, 58.26635294117349, 54.48926153845753, 50.58833846153398, 46.687415384611306, 42.786492307688626, 38.885569230765086, 34.98464615384154, 31.08372307691886, 27.182799999996185, 23.281876923072645, 19.380953846149097, 15.480030769226417, 11.579107692303744, 7.6781846153801965, 7.3297000000006705, 7.869325000000611, 8.408950000000551, 8.948575000000611, 9.48820000000067, 10.027825000000611, 10.56745000000055, 11.10707500000061, 11.64670000000067, 12.186325000000611, 12.72595000000055, 13.26557500000061, 13.80520000000067, 14.34482500000061, 14.88445000000055, 15.42407500000061, 15.963700000000669, 16.503325000000608, 17.042950000000552, 17.58257500000061, 18.122200000000667, 18.66182500000061, 19.20145000000055, 19.741075000000606, 20.28070000000067, 20.820325000000608, 21.35995000000055, 21.89957500000061, 22.439200000000668, 22.978825000000608, 23.51845000000055, 24.058075000000606, 24.597700000000668, 25.137325000000608, 25.67695000000055, 26.216575000000606, 26.756200000000668, 27.295825000000608, 27.83545000000055, 28.375075000000606, 28.914700000000668, 29.45432500000061, 29.99395000000055, 30.533575000000607, 31.073200000000668, 31.61282500000061, 32.15245000000054, 32.69207500000061, 33.86281481481646, 35.191333333334825, 36.51985185185319, 37.84837037037185, 39.17688888889052, 40.50540740740888, 41.83392592592725, 43.1624444444459, 44.490962962964566, 45.81948148148293, 47.148000000001296, 48.47651851851996, 49.805037037038616, 51.13355555555698, 52.462074074075346, 53.79059259259401, 55.11911111111267, 56.44762962963104, 57.7761481481494, 59.10466666666807, 60.43318518518673, 61.761703703705095, 63.09022222222346, 64.41874074074212, 65.74725925926077, 67.07577777777914, 68.4042962962975, 68.36599999999962, 67.98599999999956, 67.6059999999996, 67.22599999999964, 66.84599999999959, 66.46599999999955, 66.08599999999959, 65.70599999999963, 65.32599999999958, 64.94599999999953, 64.56599999999958, 64.18599999999961, 63.805999999999564, 65.4812380952408, 67.67028571428817, 69.85933333333553, 72.04838095238338, 74.23742857143124, 76.4264761904786, 78.61552380952597, 80.80457142857381, 82.99361904762166, 85.18266666666904, 87.3717142857164, 89.56076190476425, 91.7498095238121, 93.93885714285946, 96.12790476190682, 98.31695238095467, 100.50600000000253, 102.69504761904989, 104.88409523809725, 107.07314285714511, 109.26219047619296, 111.51629629629862, 113.78666666666875, 116.05703703703938, 118.32740740741002, 120.59777777778015, 122.86814814815027, 125.1385185185209, 127.40888888889154, 129.67925925926167, 131.9496296296318, 134.22000000000241, 136.49037037037306, 138.7607407407432, 141.03111111111332, 143.30148148148393, 145.57185185185457, 147.8422222222247, 150.11259259259484, 152.38296296296545, 154.6533333333361, 156.92370370370622, 159.19407407407635, 161.464444444447, 163.7348148148176, 166.00518518518774, 168.27555555555787, 170.5459259259285, 172.87333333333623, 175.21500000000265, 177.55666666666906, 179.89833333333598, 182.2400000000029, 184.58166666666932, 186.92333333333573, 189.26500000000266, 191.60666666666958, 193.948333333336, 196.29000000000238, 198.6316666666693, 200.97333333333626, 203.31500000000264, 205.65666666666905, 207.99833333333598, 210.3400000000029, 212.68166666666932, 215.02333333333573, 217.36500000000265, 219.70666666666958, 222.04833333333596, 224.39000000000237, 226.7316666666693, 226.9066666666662, 226.53999999999957, 226.17333333333295, 225.80666666666625, 225.43999999999954, 225.0733333333329, 224.70666666666628, 224.33999999999958, 223.97333333333285, 223.60666666666623, 223.2399999999996, 222.8733333333329, 222.50666666666618, 222.13999999999956, 221.77333333333294, 221.40666666666624, 221.0399999999995, 220.6733333333329, 220.30666666666627, 219.93999999999957, 219.57333333333284, 219.20666666666622, 218.8399999999996, 218.4733333333329, 218.10666666666617, 217.73999999999955, 217.37333333333294, 217.1039999999997, 216.85899999999967, 216.61399999999972, 216.36899999999974, 216.1239999999997, 215.87899999999968, 215.6339999999997, 215.38899999999973, 215.1439999999997, 214.8989999999997, 214.6539999999997, 214.40899999999974, 214.1639999999997, 213.91899999999967, 213.6739999999997, 213.42899999999972, 213.1839999999997, 212.93899999999968, 212.6939999999997, 212.44899999999973, 211.99999999999937, 211.49999999999932, 210.99999999999937, 210.49999999999943, 209.99999999999937, 209.49999999999932, 208.99999999999937, 208.49999999999943, 207.99999999999937, 207.49999999999932, 206.99999999999937, 206.49999999999943, 205.99999999999937, 205.49999999999932, 204.99999999999937, 204.49999999999943, 203.99999999999937, 203.49999999999932, 202.99999999999937, 202.49999999999943, 202.40761904761908, 202.41714285714286, 202.42666666666668, 202.4361904761905, 202.4457142857143, 202.45523809523812, 202.46476190476193, 202.4742857142857, 202.48380952380953, 202.49333333333334, 202.50285714285715, 202.51238095238097, 202.52190476190478, 202.5314285714286, 202.5409523809524, 202.5504761904762, 202.56, 202.56952380952382, 202.57904761904763, 202.58857142857144, 202.59809523809525, 202.07826086956425, 201.42608695652086, 200.77391304347745, 200.1217391304339, 199.46956521739037, 198.81739130434696, 198.16521739130354, 197.51304347826002, 196.86086956521646, 196.20869565217305, 195.55652173912966, 194.9043478260861, 194.25217391304255, 193.59999999999914, 192.94782608695576, 192.2956521739122, 191.64347826086865, 190.99130434782526, 190.33913043478185, 189.6869565217383, 189.03478260869477, 188.38260869565136, 187.73043478260794, 187.00740740740648, 186.26666666666566, 185.52592592592498, 184.78518518518433, 184.0444444444435, 183.30370370370267, 182.56296296296202, 181.82222222222134, 181.08148148148052, 180.3407407407397, 179.59999999999903, 178.85925925925838, 178.11851851851756, 177.3777777777767, 176.63703703703607, 175.89629629629542, 175.15555555555457, 174.41481481481375, 173.67407407407308, 172.93333333333243, 172.1925925925916, 171.4518518518508, 170.7111111111101, 169.97037037036944, 169.22962962962862, 168.4888888888878, 167.74814814814715, 167.4366666666664, 167.2324999999997, 167.02833333333302, 166.82416666666637, 166.61999999999975, 166.41583333333304, 166.21166666666636, 166.0074999999997, 165.80333333333306, 165.59916666666638, 165.3949999999997, 165.19083333333305, 164.9866666666664, 164.78249999999971, 164.57833333333303, 164.37416666666638, 164.16999999999973, 163.96583333333305, 163.76166666666637, 163.55749999999972, 163.35333333333307, 163.1491666666664, 162.94499999999968, 162.74083333333306, 162.4694117647055, 162.18117647058784, 161.89294117647015, 161.60470588235253, 161.31647058823492, 161.02823529411725, 160.73999999999958, 160.45176470588194, 160.16352941176433, 159.87529411764666, 159.587058823529, 159.29882352941138, 159.01058823529377, 158.72235294117607, 158.4341176470584, 158.1458823529408, 157.85764705882318, 157.56941176470548, 157.2811764705878, 156.9929411764702, 156.70470588235258, 156.41647058823492, 156.12823529411722, 155.8399999999996, 155.551764705882, 155.26352941176432, 154.97529411764663, 154.68705882352901, 154.3988235294114, 154.11058823529373, 153.82235294117606, 153.53411764705845, 153.2458823529408, 152.95764705882314, 152.4675675675668, 151.9270270270263, 151.3864864864858, 150.8459459459452, 150.3054054054046, 149.76486486486414, 149.22432432432365, 148.68378378378304, 148.14324324324244, 147.60270270270195, 147.06216216216148, 146.52162162162088, 145.98108108108028, 145.44054054053979, 144.8999999999993, 144.35945945945872, 143.81891891891811, 143.27837837837762, 142.73783783783713, 142.19729729729653, 141.65675675675593, 141.11621621621546, 140.57567567567497, 140.03513513513437, 139.49459459459376, 138.95405405405327, 138.4135135135128, 137.8729729729722, 137.3324324324316, 136.7918918918911, 136.25135135135065, 135.71081081081005, 135.17027027026944, 134.62972972972895, 134.08918918918846, 133.54864864864786, 133.00810810810725, 131.8933333333315, 130.6349999999983, 129.37666666666482, 128.11833333333135, 126.85999999999817, 125.60166666666497, 124.34333333333149, 123.08499999999802, 121.82666666666483, 120.56833333333164, 119.30999999999815, 118.05166666666469, 116.79333333333149, 115.53499999999829, 114.27666666666482, 113.01833333333136, 111.75999999999816, 110.50166666666496, 109.24333333333149, 107.98499999999802, 106.72666666666483, 105.46833333333163, 104.20999999999816, 102.95166666666469, 101.51082352940959, 100.02435294117446, 98.537882352939, 97.05141176470354, 95.56494117646841, 94.07847058823329, 92.59199999999782, 91.10552941176236, 89.61905882352724, 88.1325882352921, 86.64611764705664, 85.15964705882118, 83.67317647058606, 82.18670588235094, 80.70023529411547, 79.21376470588001, 77.72729411764487, 76.24082352940975, 74.75435294117429, 73.26788235293883, 71.7814117647037, 70.29494117646857, 68.80847058823312, 67.32199999999766, 65.83552941176252, 64.3490588235274, 62.86258823529194, 61.376117647056475, 59.889647058821346, 58.40317647058622, 56.91670588235076, 55.4302352941153, 53.94376470588017, 52.45729411764504, 50.962666666664475, 49.46599999999765, 47.96933333333116, 46.47266666666466, 44.97599999999783, 43.479333333331006, 41.982666666664514, 40.485999999998015, 38.98933333333119, 37.49266666666436, 35.99599999999787, 34.49933333333138, 33.00266666666455, 31.505999999997723, 30.00933333333123, 28.512666666664735, 27.01599999999791, 25.519333333331083, 24.022666666664588, 22.525999999998096, 21.02933333333127, 19.53266666666444, 18.035999999997948, 16.539333333331456, 15.04266666666463, 13.545999999997804, 12.049333333331305, 11.9892727272731, 12.288363636364043, 12.587454545454985, 12.886545454545862, 13.185636363636739, 13.484727272727682, 13.783818181818624, 14.082909090909503, 14.382000000000378, 14.68109090909132, 14.980181818182265, 15.279272727273142, 15.578363636364017, 15.877454545454961, 16.176545454545902, 16.47563636363678, 16.774727272727656, 17.073818181818602, 17.372909090909545, 17.67200000000042, 17.971090909091295, 18.270181818182238, 18.569272727273184, 18.86836363636406, 19.167454545454937, 19.46654545454588, 19.765636363636823, 20.0647272727277, 20.363818181818573, 20.66290909090952, 20.96200000000046, 21.261090909091337, 21.560181818182215, 21.859272727273158, 22.1583636363641, 22.45745454545498, 22.756545454545854, 23.055636363636797, 23.35472727272774, 23.653818181818615, 23.952909090909493, 24.252000000000436, 24.55109090909138, 24.850181818182257, 25.149272727273132, 25.44836363636408, 25.74745454545502, 26.046545454545896, 26.34563636363677, 26.644727272727714, 26.943818181818656, 27.242909090909535, 27.542000000000414, 27.841090909091356, 28.1401818181823, 28.439272727273174, 28.738363636364053, 29.037454545454995, 29.336545454545938, 29.635636363636813, 29.93472727272769, 30.233818181818634, 30.532909090909577, 30.832000000000452, 31.13109090909133, 31.430181818182273, 31.729272727273216, 32.02836363636409, 32.32745454545497, 32.62654545454591, 32.925636363636855, 33.22472727272773, 33.52381818181861, 33.82290909090955, 34.1220000000005, 34.421090909091376, 34.72018181818225, 35.01927272727319, 35.31836363636413, 35.61745454545501, 35.91654545454588, 36.21563636363683, 36.51472727272777, 36.81381818181865, 37.112909090909525, 37.41200000000047, 37.71109090909141, 38.01018181818229, 38.44800000000069, 38.92050000000074, 39.3930000000008, 39.86550000000074, 40.33800000000069, 40.810500000000744, 41.2830000000008, 41.755500000000744, 42.22800000000069, 42.700500000000744, 43.1730000000008, 43.645500000000744, 44.11800000000069, 44.590500000000745, 45.0630000000008, 45.535500000000745, 46.00800000000069, 46.480500000000745, 46.9530000000008, 47.425500000000746, 47.89800000000069, 48.370500000000746, 48.8430000000008, 49.315500000000746, 49.78800000000069, 50.26050000000075, 50.7330000000008, 51.20550000000075, 51.678000000000694, 52.15050000000075, 52.6230000000008, 53.09550000000074, 53.568000000000694, 54.04050000000075, 54.5130000000008, 54.98550000000074, 55.458000000000695, 55.93050000000075, 56.4030000000008, 56.87550000000074, 57.348000000000695, 57.82050000000075, 58.293000000000795, 58.76550000000074, 59.37633333333428, 60.02175000000103, 60.66716666666777, 61.31258333333437, 61.95800000000097, 62.60341666666772, 63.24883333333446, 63.894250000001065, 64.53966666666766, 65.1850833333344, 65.83050000000115, 66.47591666666776, 67.12133333333435, 67.76675000000095, 68.41216666666784, 69.05758333333443, 69.70300000000104, 70.34841666666765, 70.99383333333454, 71.63925000000113, 72.28466666666773, 72.93008333333434, 73.57550000000123, 74.22091666666782, 74.35821621621623, 74.3684864864865, 74.37875675675677, 74.38902702702704, 74.39929729729731, 74.40956756756758, 74.41983783783785, 74.43010810810813, 74.4403783783784, 74.45064864864867, 74.46091891891894, 74.4711891891892, 74.48145945945947, 74.49172972972974, 74.50200000000001, 74.51227027027029, 74.52254054054056, 74.53281081081083, 74.5430810810811, 74.55335135135137, 74.56362162162164, 74.5738918918919, 74.58416216216219, 74.59443243243246, 74.60470270270272, 74.61497297297299, 74.62524324324326, 74.63551351351353, 74.6457837837838, 74.65605405405407, 74.66632432432435, 74.67659459459462, 74.68686486486489, 74.69713513513516, 74.70740540540542, 74.7176756756757, 74.72794594594596, 74.73821621621623, 74.74848648648651, 74.75875675675678, 74.76902702702705, 74.77929729729732, 74.78956756756759, 74.79983783783786, 74.81010810810812, 74.8203783783784, 74.83064864864866, 74.84091891891893, 74.8511891891892, 74.86145945945948, 74.87172972972975, 74.88200000000002, 74.89227027027029, 74.90254054054056, 74.91281081081083, 74.9230810810811, 74.93335135135136, 74.94362162162163, 74.95389189189191, 74.96416216216218, 74.97443243243245, 74.98470270270272, 74.99497297297299, 75.00524324324326, 75.01551351351353, 75.0257837837838, 75.03605405405408, 75.04632432432435, 75.05659459459461, 75.06686486486488, 75.07713513513515, 75.08740540540542, 75.09767567567569, 75.10794594594596, 75.11823529411767, 75.12852941176472, 75.13882352941178, 75.14911764705883, 75.1594117647059, 75.16970588235296, 75.18, 75.19029411764707, 75.20058823529413, 75.2108823529412, 75.22117647058825, 75.23147058823531, 75.24176470588237, 75.25205882352942, 75.26235294117649, 75.27264705882354, 75.2829411764706, 75.29323529411766, 75.30352941176471, 75.31382352941178, 75.32411764705884, 75.33441176470589, 75.34470588235295, 75.355, 75.36529411764707, 75.37558823529413, 75.3858823529412, 75.39617647058824, 75.40647058823531, 75.41676470588237, 75.42705882352942, 75.43735294117648, 75.44764705882355, 75.4579411764706, 75.31748148148118, 75.13933333333304, 74.96118518518485, 74.78303703703672, 74.60488888888858, 74.42674074074046, 74.24859259259226, 74.07044444444412, 73.892296296296, 73.71414814814787, 73.53599999999966, 73.35785185185154, 73.17970370370341, 73.00155555555529, 72.82340740740707, 72.64525925925895, 72.46711111111082, 72.2889629629627, 72.11081481481449, 71.93266666666636, 71.75451851851824, 71.57637037037011, 71.3982222222219, 71.22007407407378, 71.04192592592565, 70.86377777777753, 70.68562962962932, 70.65811267605636, 70.66825352112679, 70.67839436619721, 70.68853521126763, 70.69867605633804, 70.70881690140847, 70.71895774647889, 70.72909859154932, 70.73923943661974, 70.74938028169016, 70.75952112676059, 70.76966197183101, 70.77980281690144, 70.78994366197185, 70.80008450704227, 70.8102253521127, 70.82036619718312, 70.83050704225354, 70.84064788732397, 70.85078873239439, 70.86092957746482, 70.87107042253523, 70.88121126760565, 70.89135211267607, 70.9014929577465, 70.91163380281692, 70.92177464788735, 70.93191549295777, 70.9420563380282, 70.95219718309862, 70.96233802816903, 70.97247887323945, 70.98261971830988, 70.9927605633803, 71.00290140845073, 71.01304225352115, 71.02318309859157, 71.033323943662, 71.04346478873241, 71.05360563380285, 71.06374647887326, 71.07388732394368, 71.0840281690141, 71.09416901408453, 71.10430985915495, 71.11445070422538, 71.1245915492958, 71.13473239436622, 71.14487323943663, 71.15501408450706, 71.16515492957748, 71.1752957746479, 71.18543661971833, 71.19557746478876, 71.20571830985918, 71.2158591549296, 71.22600000000003, 71.23614084507044, 71.24628169014086, 71.25642253521129, 71.26656338028171, 71.27670422535213, 71.28684507042256, 71.29698591549298, 71.3071267605634, 71.31726760563382, 71.32740845070424, 71.33754929577466, 71.34769014084509, 71.35783098591551, 71.36797183098594, 71.37810666666668, 71.38824000000002, 71.39837333333335, 71.40850666666668, 71.41864000000002, 71.42877333333335, 71.43890666666668, 71.44904000000001, 71.45917333333335, 71.46930666666668, 71.47944000000003, 71.48957333333335, 71.49970666666668, 71.50984000000003, 71.51997333333335, 71.53010666666668, 71.54024000000003, 71.55037333333335, 71.56050666666668, 71.57064000000001, 71.58077333333335, 71.59090666666668, 71.60104000000001, 71.61117333333335, 71.62130666666668, 71.63144000000001, 71.64157333333335, 71.65170666666668, 71.66184000000003, 71.67197333333336, 71.68210666666668, 71.69224000000001, 71.70237333333336, 71.71250666666668, 71.72264000000001, 71.73277333333336, 71.74290666666668, 71.75304000000001, 71.76317333333336, 71.77330666666668, 71.78344000000001, 71.79357333333336, 71.80370666666668, 71.81384000000001, 71.82397333333336, 71.83410666666668, 71.84424000000001, 71.85437333333334, 71.86450666666668, 71.87464000000001, 71.88477333333334, 71.89490666666669, 71.90504000000001, 71.91517333333336, 71.92530666666669, 71.93544000000001, 71.94557333333336, 71.95570666666669, 71.96584000000001, 71.97597333333334, 71.98610666666669, 71.99624000000001, 72.00637333333334, 72.01650666666669, 72.02664000000001, 72.03677333333334, 72.04690666666669, 72.05704000000001, 72.06717333333334, 72.07730666666669, 72.08744000000002, 72.09757333333334, 72.10770666666669, 72.11784000000002, 72.12797333333334]}],\n",
       "                        {\"barmode\": \"group\", \"hovermode\": \"x\", \"template\": {\"data\": {\"bar\": [{\"error_x\": {\"color\": \"#f2f5fa\"}, \"error_y\": {\"color\": \"#f2f5fa\"}, \"marker\": {\"line\": {\"color\": \"rgb(17,17,17)\", \"width\": 0.5}}, \"type\": \"bar\"}], \"barpolar\": [{\"marker\": {\"line\": {\"color\": \"rgb(17,17,17)\", \"width\": 0.5}}, \"type\": \"barpolar\"}], \"carpet\": [{\"aaxis\": {\"endlinecolor\": \"#A2B1C6\", \"gridcolor\": \"#506784\", \"linecolor\": \"#506784\", \"minorgridcolor\": \"#506784\", \"startlinecolor\": \"#A2B1C6\"}, \"baxis\": {\"endlinecolor\": \"#A2B1C6\", \"gridcolor\": \"#506784\", \"linecolor\": \"#506784\", \"minorgridcolor\": \"#506784\", \"startlinecolor\": \"#A2B1C6\"}, \"type\": \"carpet\"}], \"choropleth\": [{\"colorbar\": {\"outlinewidth\": 0, \"ticks\": \"\"}, \"type\": \"choropleth\"}], \"contour\": [{\"colorbar\": {\"outlinewidth\": 0, \"ticks\": \"\"}, \"colorscale\": [[0.0, \"#0d0887\"], [0.1111111111111111, \"#46039f\"], [0.2222222222222222, \"#7201a8\"], [0.3333333333333333, \"#9c179e\"], [0.4444444444444444, \"#bd3786\"], [0.5555555555555556, \"#d8576b\"], [0.6666666666666666, \"#ed7953\"], [0.7777777777777778, \"#fb9f3a\"], [0.8888888888888888, \"#fdca26\"], [1.0, \"#f0f921\"]], \"type\": \"contour\"}], \"contourcarpet\": [{\"colorbar\": {\"outlinewidth\": 0, \"ticks\": \"\"}, \"type\": \"contourcarpet\"}], \"heatmap\": [{\"colorbar\": {\"outlinewidth\": 0, \"ticks\": \"\"}, \"colorscale\": [[0.0, \"#0d0887\"], [0.1111111111111111, \"#46039f\"], [0.2222222222222222, \"#7201a8\"], [0.3333333333333333, \"#9c179e\"], [0.4444444444444444, \"#bd3786\"], [0.5555555555555556, \"#d8576b\"], [0.6666666666666666, \"#ed7953\"], [0.7777777777777778, \"#fb9f3a\"], [0.8888888888888888, \"#fdca26\"], [1.0, \"#f0f921\"]], \"type\": \"heatmap\"}], \"heatmapgl\": [{\"colorbar\": {\"outlinewidth\": 0, \"ticks\": \"\"}, \"colorscale\": [[0.0, \"#0d0887\"], [0.1111111111111111, \"#46039f\"], [0.2222222222222222, \"#7201a8\"], [0.3333333333333333, \"#9c179e\"], [0.4444444444444444, \"#bd3786\"], [0.5555555555555556, \"#d8576b\"], [0.6666666666666666, \"#ed7953\"], [0.7777777777777778, \"#fb9f3a\"], [0.8888888888888888, \"#fdca26\"], [1.0, \"#f0f921\"]], \"type\": \"heatmapgl\"}], \"histogram\": [{\"marker\": {\"colorbar\": {\"outlinewidth\": 0, \"ticks\": \"\"}}, \"type\": \"histogram\"}], \"histogram2d\": [{\"colorbar\": {\"outlinewidth\": 0, \"ticks\": \"\"}, \"colorscale\": [[0.0, \"#0d0887\"], [0.1111111111111111, \"#46039f\"], [0.2222222222222222, \"#7201a8\"], [0.3333333333333333, \"#9c179e\"], [0.4444444444444444, \"#bd3786\"], [0.5555555555555556, \"#d8576b\"], [0.6666666666666666, \"#ed7953\"], [0.7777777777777778, \"#fb9f3a\"], [0.8888888888888888, \"#fdca26\"], [1.0, \"#f0f921\"]], \"type\": \"histogram2d\"}], \"histogram2dcontour\": [{\"colorbar\": {\"outlinewidth\": 0, \"ticks\": \"\"}, \"colorscale\": [[0.0, \"#0d0887\"], [0.1111111111111111, \"#46039f\"], [0.2222222222222222, \"#7201a8\"], [0.3333333333333333, \"#9c179e\"], [0.4444444444444444, \"#bd3786\"], [0.5555555555555556, \"#d8576b\"], [0.6666666666666666, \"#ed7953\"], [0.7777777777777778, \"#fb9f3a\"], [0.8888888888888888, \"#fdca26\"], [1.0, \"#f0f921\"]], \"type\": \"histogram2dcontour\"}], \"mesh3d\": [{\"colorbar\": {\"outlinewidth\": 0, \"ticks\": \"\"}, \"type\": \"mesh3d\"}], \"parcoords\": [{\"line\": {\"colorbar\": {\"outlinewidth\": 0, \"ticks\": \"\"}}, \"type\": \"parcoords\"}], \"scatter\": [{\"marker\": {\"line\": {\"color\": \"#283442\"}}, \"type\": \"scatter\"}], \"scatter3d\": [{\"line\": {\"colorbar\": {\"outlinewidth\": 0, \"ticks\": \"\"}}, \"marker\": {\"colorbar\": {\"outlinewidth\": 0, \"ticks\": \"\"}}, \"type\": \"scatter3d\"}], \"scattercarpet\": [{\"marker\": {\"colorbar\": {\"outlinewidth\": 0, \"ticks\": \"\"}}, \"type\": \"scattercarpet\"}], \"scattergeo\": [{\"marker\": {\"colorbar\": {\"outlinewidth\": 0, \"ticks\": \"\"}}, \"type\": \"scattergeo\"}], \"scattergl\": [{\"marker\": {\"line\": {\"color\": \"#283442\"}}, \"type\": \"scattergl\"}], \"scattermapbox\": [{\"marker\": {\"colorbar\": {\"outlinewidth\": 0, \"ticks\": \"\"}}, \"type\": \"scattermapbox\"}], \"scatterpolar\": [{\"marker\": {\"colorbar\": {\"outlinewidth\": 0, \"ticks\": \"\"}}, \"type\": \"scatterpolar\"}], \"scatterpolargl\": [{\"marker\": {\"colorbar\": {\"outlinewidth\": 0, \"ticks\": \"\"}}, \"type\": \"scatterpolargl\"}], \"scatterternary\": [{\"marker\": {\"colorbar\": {\"outlinewidth\": 0, \"ticks\": \"\"}}, \"type\": \"scatterternary\"}], \"surface\": [{\"colorbar\": {\"outlinewidth\": 0, \"ticks\": \"\"}, \"colorscale\": [[0.0, \"#0d0887\"], [0.1111111111111111, \"#46039f\"], [0.2222222222222222, \"#7201a8\"], [0.3333333333333333, \"#9c179e\"], [0.4444444444444444, \"#bd3786\"], [0.5555555555555556, \"#d8576b\"], [0.6666666666666666, \"#ed7953\"], [0.7777777777777778, \"#fb9f3a\"], [0.8888888888888888, \"#fdca26\"], [1.0, \"#f0f921\"]], \"type\": \"surface\"}], \"table\": [{\"cells\": {\"fill\": {\"color\": \"#506784\"}, \"line\": {\"color\": \"rgb(17,17,17)\"}}, \"header\": {\"fill\": {\"color\": \"#2a3f5f\"}, \"line\": {\"color\": \"rgb(17,17,17)\"}}, \"type\": \"table\"}]}, \"layout\": {\"annotationdefaults\": {\"arrowcolor\": \"#f2f5fa\", \"arrowhead\": 0, \"arrowwidth\": 1}, \"colorscale\": {\"diverging\": [[0, \"#8e0152\"], [0.1, \"#c51b7d\"], [0.2, \"#de77ae\"], [0.3, \"#f1b6da\"], [0.4, \"#fde0ef\"], [0.5, \"#f7f7f7\"], [0.6, \"#e6f5d0\"], [0.7, \"#b8e186\"], [0.8, \"#7fbc41\"], [0.9, \"#4d9221\"], [1, \"#276419\"]], \"sequential\": [[0.0, \"#0d0887\"], [0.1111111111111111, \"#46039f\"], [0.2222222222222222, \"#7201a8\"], [0.3333333333333333, \"#9c179e\"], [0.4444444444444444, \"#bd3786\"], [0.5555555555555556, \"#d8576b\"], [0.6666666666666666, \"#ed7953\"], [0.7777777777777778, \"#fb9f3a\"], [0.8888888888888888, \"#fdca26\"], [1.0, \"#f0f921\"]], \"sequentialminus\": [[0.0, \"#0d0887\"], [0.1111111111111111, \"#46039f\"], [0.2222222222222222, \"#7201a8\"], [0.3333333333333333, \"#9c179e\"], [0.4444444444444444, \"#bd3786\"], [0.5555555555555556, \"#d8576b\"], [0.6666666666666666, \"#ed7953\"], [0.7777777777777778, \"#fb9f3a\"], [0.8888888888888888, \"#fdca26\"], [1.0, \"#f0f921\"]]}, \"colorway\": [\"#636efa\", \"#EF553B\", \"#00cc96\", \"#ab63fa\", \"#FFA15A\", \"#19d3f3\", \"#FF6692\", \"#B6E880\", \"#FF97FF\", \"#FECB52\"], \"font\": {\"color\": \"#f2f5fa\"}, \"geo\": {\"bgcolor\": \"rgb(17,17,17)\", \"lakecolor\": \"rgb(17,17,17)\", \"landcolor\": \"rgb(17,17,17)\", \"showlakes\": true, \"showland\": true, \"subunitcolor\": \"#506784\"}, \"hoverlabel\": {\"align\": \"left\"}, \"hovermode\": \"closest\", \"mapbox\": {\"style\": \"dark\"}, \"paper_bgcolor\": \"rgb(17,17,17)\", \"plot_bgcolor\": \"rgb(17,17,17)\", \"polar\": {\"angularaxis\": {\"gridcolor\": \"#506784\", \"linecolor\": \"#506784\", \"ticks\": \"\"}, \"bgcolor\": \"rgb(17,17,17)\", \"radialaxis\": {\"gridcolor\": \"#506784\", \"linecolor\": \"#506784\", \"ticks\": \"\"}}, \"scene\": {\"xaxis\": {\"backgroundcolor\": \"rgb(17,17,17)\", \"gridcolor\": \"#506784\", \"gridwidth\": 2, \"linecolor\": \"#506784\", \"showbackground\": true, \"ticks\": \"\", \"zerolinecolor\": \"#C8D4E3\"}, \"yaxis\": {\"backgroundcolor\": \"rgb(17,17,17)\", \"gridcolor\": \"#506784\", \"gridwidth\": 2, \"linecolor\": \"#506784\", \"showbackground\": true, \"ticks\": \"\", \"zerolinecolor\": \"#C8D4E3\"}, \"zaxis\": {\"backgroundcolor\": \"rgb(17,17,17)\", \"gridcolor\": \"#506784\", \"gridwidth\": 2, \"linecolor\": \"#506784\", \"showbackground\": true, \"ticks\": \"\", \"zerolinecolor\": \"#C8D4E3\"}}, \"shapedefaults\": {\"line\": {\"color\": \"#f2f5fa\"}}, \"sliderdefaults\": {\"bgcolor\": \"#C8D4E3\", \"bordercolor\": \"rgb(17,17,17)\", \"borderwidth\": 1, \"tickwidth\": 0}, \"ternary\": {\"aaxis\": {\"gridcolor\": \"#506784\", \"linecolor\": \"#506784\", \"ticks\": \"\"}, \"baxis\": {\"gridcolor\": \"#506784\", \"linecolor\": \"#506784\", \"ticks\": \"\"}, \"bgcolor\": \"rgb(17,17,17)\", \"caxis\": {\"gridcolor\": \"#506784\", \"linecolor\": \"#506784\", \"ticks\": \"\"}}, \"title\": {\"x\": 0.05}, \"updatemenudefaults\": {\"bgcolor\": \"#506784\", \"borderwidth\": 0}, \"xaxis\": {\"automargin\": true, \"gridcolor\": \"#283442\", \"linecolor\": \"#506784\", \"ticks\": \"\", \"zerolinecolor\": \"#283442\", \"zerolinewidth\": 2}, \"yaxis\": {\"automargin\": true, \"gridcolor\": \"#283442\", \"linecolor\": \"#506784\", \"ticks\": \"\", \"zerolinecolor\": \"#283442\", \"zerolinewidth\": 2}}}, \"title\": {\"text\": \"Solar Spectrum\"}, \"xaxis\": {\"title\": {\"text\": \"Wavelength [\\u00b5m]\"}, \"type\": \"linear\"}, \"yaxis\": {\"title\": {\"text\": \"Noise [e-]\"}, \"type\": \"linear\"}},\n",
       "                        {\"responsive\": true}\n",
       "                    ).then(function(){\n",
       "                            \n",
       "var gd = document.getElementById('fb0d96b6-2d23-4155-be6f-337722b9d10f');\n",
       "var x = new MutationObserver(function (mutations, observer) {{\n",
       "        var display = window.getComputedStyle(gd).display;\n",
       "        if (!display || display === 'none') {{\n",
       "            console.log([gd, 'removed!']);\n",
       "            Plotly.purge(gd);\n",
       "            observer.disconnect();\n",
       "        }}\n",
       "}});\n",
       "\n",
       "// Listen for the removal of the full notebook cells\n",
       "var notebookContainer = gd.closest('#notebook-container');\n",
       "if (notebookContainer) {{\n",
       "    x.observe(notebookContainer, {childList: true});\n",
       "}}\n",
       "\n",
       "// Listen for the clearing of the current output cell\n",
       "var outputEl = gd.closest('.output');\n",
       "if (outputEl) {{\n",
       "    x.observe(outputEl, {childList: true});\n",
       "}}\n",
       "\n",
       "                        })\n",
       "                };\n",
       "                });\n",
       "            </script>\n",
       "        </div>"
      ]
     },
     "metadata": {},
     "output_type": "display_data"
    }
   ],
   "source": [
    "photonic = Photonic()\n",
    "solar_W_m2_um, wavelength_um = photonic.solarSpectrum_W_m2_um()\n",
    "\n",
    "data = go.Scatter(x=wavelength_um, y=solar_W_m2_um,   # Select 'lines', 'markers' or 'lines+markers'\n",
    "                    mode='lines+markers')\n",
    "\n",
    "layout = dict(title='Solar Spectrum',\n",
    "              xaxis=dict(title='Wavelength [µm]', type='linear'),  # Select 'log' or 'linear'\n",
    "              yaxis=dict(title='Noise [e-]',type='linear'),  # Select 'log' or 'linear'\n",
    "              template='plotly_dark',\n",
    "              barmode='group',\n",
    "              hovermode='x')\n",
    "\n",
    "iplot(dict(data=data, layout=layout))"
   ]
  },
  {
   "cell_type": "markdown",
   "metadata": {},
   "source": [
    "# Noise"
   ]
  },
  {
   "cell_type": "markdown",
   "metadata": {},
   "source": [
    "## Noise sources"
   ]
  },
  {
   "cell_type": "code",
   "execution_count": 7,
   "metadata": {
    "scrolled": false
   },
   "outputs": [
    {
     "data": {
      "application/vnd.plotly.v1+json": {
       "config": {
        "linkText": "Export to plot.ly",
        "plotlyServerURL": "https://plot.ly",
        "showLink": false
       },
       "data": [
        {
         "mode": "lines+markers",
         "name": "photon shot day_1375",
         "type": "scatter",
         "x": [
          0.5,
          0.7,
          1,
          1.5,
          2,
          3,
          4,
          5,
          7,
          10
         ],
         "y": [
          271.9921786322042,
          195.81805804261208,
          139.33269670702194,
          96.48190882182246,
          75.97410187222016,
          56.97239458591644,
          48.59712029740412,
          44.186355526446775,
          39.95101601829949,
          37.50696690023247
         ]
        },
        {
         "mode": "lines+markers",
         "name": "dark day_1375",
         "type": "scatter",
         "x": [
          0.5,
          0.7,
          1,
          1.5,
          2,
          3,
          4,
          5,
          7,
          10
         ],
         "y": [
          0.7071067811865476,
          0.7071067811865476,
          0.7071067811865476,
          0.7071067811865476,
          0.7071067811865476,
          0.7071067811865476,
          0.7071067811865476,
          0.7071067811865476,
          0.7071067811865476,
          0.7071067811865476
         ]
        },
        {
         "mode": "lines+markers",
         "name": "kTC day_1375",
         "type": "scatter",
         "x": [
          0.5,
          0.7,
          1,
          1.5,
          2,
          3,
          4,
          5,
          7,
          10
         ],
         "y": [
          40.16907650245625,
          40.16907650245625,
          40.16907650245625,
          40.16907650245625,
          40.16907650245625,
          40.16907650245625,
          40.16907650245625,
          40.16907650245625,
          40.16907650245625,
          40.16907650245625
         ]
        }
       ],
       "layout": {
        "barmode": "group",
        "hovermode": "x",
        "template": {
         "data": {
          "bar": [
           {
            "error_x": {
             "color": "#f2f5fa"
            },
            "error_y": {
             "color": "#f2f5fa"
            },
            "marker": {
             "line": {
              "color": "rgb(17,17,17)",
              "width": 0.5
             }
            },
            "type": "bar"
           }
          ],
          "barpolar": [
           {
            "marker": {
             "line": {
              "color": "rgb(17,17,17)",
              "width": 0.5
             }
            },
            "type": "barpolar"
           }
          ],
          "carpet": [
           {
            "aaxis": {
             "endlinecolor": "#A2B1C6",
             "gridcolor": "#506784",
             "linecolor": "#506784",
             "minorgridcolor": "#506784",
             "startlinecolor": "#A2B1C6"
            },
            "baxis": {
             "endlinecolor": "#A2B1C6",
             "gridcolor": "#506784",
             "linecolor": "#506784",
             "minorgridcolor": "#506784",
             "startlinecolor": "#A2B1C6"
            },
            "type": "carpet"
           }
          ],
          "choropleth": [
           {
            "colorbar": {
             "outlinewidth": 0,
             "ticks": ""
            },
            "type": "choropleth"
           }
          ],
          "contour": [
           {
            "colorbar": {
             "outlinewidth": 0,
             "ticks": ""
            },
            "colorscale": [
             [
              0,
              "#0d0887"
             ],
             [
              0.1111111111111111,
              "#46039f"
             ],
             [
              0.2222222222222222,
              "#7201a8"
             ],
             [
              0.3333333333333333,
              "#9c179e"
             ],
             [
              0.4444444444444444,
              "#bd3786"
             ],
             [
              0.5555555555555556,
              "#d8576b"
             ],
             [
              0.6666666666666666,
              "#ed7953"
             ],
             [
              0.7777777777777778,
              "#fb9f3a"
             ],
             [
              0.8888888888888888,
              "#fdca26"
             ],
             [
              1,
              "#f0f921"
             ]
            ],
            "type": "contour"
           }
          ],
          "contourcarpet": [
           {
            "colorbar": {
             "outlinewidth": 0,
             "ticks": ""
            },
            "type": "contourcarpet"
           }
          ],
          "heatmap": [
           {
            "colorbar": {
             "outlinewidth": 0,
             "ticks": ""
            },
            "colorscale": [
             [
              0,
              "#0d0887"
             ],
             [
              0.1111111111111111,
              "#46039f"
             ],
             [
              0.2222222222222222,
              "#7201a8"
             ],
             [
              0.3333333333333333,
              "#9c179e"
             ],
             [
              0.4444444444444444,
              "#bd3786"
             ],
             [
              0.5555555555555556,
              "#d8576b"
             ],
             [
              0.6666666666666666,
              "#ed7953"
             ],
             [
              0.7777777777777778,
              "#fb9f3a"
             ],
             [
              0.8888888888888888,
              "#fdca26"
             ],
             [
              1,
              "#f0f921"
             ]
            ],
            "type": "heatmap"
           }
          ],
          "heatmapgl": [
           {
            "colorbar": {
             "outlinewidth": 0,
             "ticks": ""
            },
            "colorscale": [
             [
              0,
              "#0d0887"
             ],
             [
              0.1111111111111111,
              "#46039f"
             ],
             [
              0.2222222222222222,
              "#7201a8"
             ],
             [
              0.3333333333333333,
              "#9c179e"
             ],
             [
              0.4444444444444444,
              "#bd3786"
             ],
             [
              0.5555555555555556,
              "#d8576b"
             ],
             [
              0.6666666666666666,
              "#ed7953"
             ],
             [
              0.7777777777777778,
              "#fb9f3a"
             ],
             [
              0.8888888888888888,
              "#fdca26"
             ],
             [
              1,
              "#f0f921"
             ]
            ],
            "type": "heatmapgl"
           }
          ],
          "histogram": [
           {
            "marker": {
             "colorbar": {
              "outlinewidth": 0,
              "ticks": ""
             }
            },
            "type": "histogram"
           }
          ],
          "histogram2d": [
           {
            "colorbar": {
             "outlinewidth": 0,
             "ticks": ""
            },
            "colorscale": [
             [
              0,
              "#0d0887"
             ],
             [
              0.1111111111111111,
              "#46039f"
             ],
             [
              0.2222222222222222,
              "#7201a8"
             ],
             [
              0.3333333333333333,
              "#9c179e"
             ],
             [
              0.4444444444444444,
              "#bd3786"
             ],
             [
              0.5555555555555556,
              "#d8576b"
             ],
             [
              0.6666666666666666,
              "#ed7953"
             ],
             [
              0.7777777777777778,
              "#fb9f3a"
             ],
             [
              0.8888888888888888,
              "#fdca26"
             ],
             [
              1,
              "#f0f921"
             ]
            ],
            "type": "histogram2d"
           }
          ],
          "histogram2dcontour": [
           {
            "colorbar": {
             "outlinewidth": 0,
             "ticks": ""
            },
            "colorscale": [
             [
              0,
              "#0d0887"
             ],
             [
              0.1111111111111111,
              "#46039f"
             ],
             [
              0.2222222222222222,
              "#7201a8"
             ],
             [
              0.3333333333333333,
              "#9c179e"
             ],
             [
              0.4444444444444444,
              "#bd3786"
             ],
             [
              0.5555555555555556,
              "#d8576b"
             ],
             [
              0.6666666666666666,
              "#ed7953"
             ],
             [
              0.7777777777777778,
              "#fb9f3a"
             ],
             [
              0.8888888888888888,
              "#fdca26"
             ],
             [
              1,
              "#f0f921"
             ]
            ],
            "type": "histogram2dcontour"
           }
          ],
          "mesh3d": [
           {
            "colorbar": {
             "outlinewidth": 0,
             "ticks": ""
            },
            "type": "mesh3d"
           }
          ],
          "parcoords": [
           {
            "line": {
             "colorbar": {
              "outlinewidth": 0,
              "ticks": ""
             }
            },
            "type": "parcoords"
           }
          ],
          "scatter": [
           {
            "marker": {
             "line": {
              "color": "#283442"
             }
            },
            "type": "scatter"
           }
          ],
          "scatter3d": [
           {
            "line": {
             "colorbar": {
              "outlinewidth": 0,
              "ticks": ""
             }
            },
            "marker": {
             "colorbar": {
              "outlinewidth": 0,
              "ticks": ""
             }
            },
            "type": "scatter3d"
           }
          ],
          "scattercarpet": [
           {
            "marker": {
             "colorbar": {
              "outlinewidth": 0,
              "ticks": ""
             }
            },
            "type": "scattercarpet"
           }
          ],
          "scattergeo": [
           {
            "marker": {
             "colorbar": {
              "outlinewidth": 0,
              "ticks": ""
             }
            },
            "type": "scattergeo"
           }
          ],
          "scattergl": [
           {
            "marker": {
             "line": {
              "color": "#283442"
             }
            },
            "type": "scattergl"
           }
          ],
          "scattermapbox": [
           {
            "marker": {
             "colorbar": {
              "outlinewidth": 0,
              "ticks": ""
             }
            },
            "type": "scattermapbox"
           }
          ],
          "scatterpolar": [
           {
            "marker": {
             "colorbar": {
              "outlinewidth": 0,
              "ticks": ""
             }
            },
            "type": "scatterpolar"
           }
          ],
          "scatterpolargl": [
           {
            "marker": {
             "colorbar": {
              "outlinewidth": 0,
              "ticks": ""
             }
            },
            "type": "scatterpolargl"
           }
          ],
          "scatterternary": [
           {
            "marker": {
             "colorbar": {
              "outlinewidth": 0,
              "ticks": ""
             }
            },
            "type": "scatterternary"
           }
          ],
          "surface": [
           {
            "colorbar": {
             "outlinewidth": 0,
             "ticks": ""
            },
            "colorscale": [
             [
              0,
              "#0d0887"
             ],
             [
              0.1111111111111111,
              "#46039f"
             ],
             [
              0.2222222222222222,
              "#7201a8"
             ],
             [
              0.3333333333333333,
              "#9c179e"
             ],
             [
              0.4444444444444444,
              "#bd3786"
             ],
             [
              0.5555555555555556,
              "#d8576b"
             ],
             [
              0.6666666666666666,
              "#ed7953"
             ],
             [
              0.7777777777777778,
              "#fb9f3a"
             ],
             [
              0.8888888888888888,
              "#fdca26"
             ],
             [
              1,
              "#f0f921"
             ]
            ],
            "type": "surface"
           }
          ],
          "table": [
           {
            "cells": {
             "fill": {
              "color": "#506784"
             },
             "line": {
              "color": "rgb(17,17,17)"
             }
            },
            "header": {
             "fill": {
              "color": "#2a3f5f"
             },
             "line": {
              "color": "rgb(17,17,17)"
             }
            },
            "type": "table"
           }
          ]
         },
         "layout": {
          "annotationdefaults": {
           "arrowcolor": "#f2f5fa",
           "arrowhead": 0,
           "arrowwidth": 1
          },
          "colorscale": {
           "diverging": [
            [
             0,
             "#8e0152"
            ],
            [
             0.1,
             "#c51b7d"
            ],
            [
             0.2,
             "#de77ae"
            ],
            [
             0.3,
             "#f1b6da"
            ],
            [
             0.4,
             "#fde0ef"
            ],
            [
             0.5,
             "#f7f7f7"
            ],
            [
             0.6,
             "#e6f5d0"
            ],
            [
             0.7,
             "#b8e186"
            ],
            [
             0.8,
             "#7fbc41"
            ],
            [
             0.9,
             "#4d9221"
            ],
            [
             1,
             "#276419"
            ]
           ],
           "sequential": [
            [
             0,
             "#0d0887"
            ],
            [
             0.1111111111111111,
             "#46039f"
            ],
            [
             0.2222222222222222,
             "#7201a8"
            ],
            [
             0.3333333333333333,
             "#9c179e"
            ],
            [
             0.4444444444444444,
             "#bd3786"
            ],
            [
             0.5555555555555556,
             "#d8576b"
            ],
            [
             0.6666666666666666,
             "#ed7953"
            ],
            [
             0.7777777777777778,
             "#fb9f3a"
            ],
            [
             0.8888888888888888,
             "#fdca26"
            ],
            [
             1,
             "#f0f921"
            ]
           ],
           "sequentialminus": [
            [
             0,
             "#0d0887"
            ],
            [
             0.1111111111111111,
             "#46039f"
            ],
            [
             0.2222222222222222,
             "#7201a8"
            ],
            [
             0.3333333333333333,
             "#9c179e"
            ],
            [
             0.4444444444444444,
             "#bd3786"
            ],
            [
             0.5555555555555556,
             "#d8576b"
            ],
            [
             0.6666666666666666,
             "#ed7953"
            ],
            [
             0.7777777777777778,
             "#fb9f3a"
            ],
            [
             0.8888888888888888,
             "#fdca26"
            ],
            [
             1,
             "#f0f921"
            ]
           ]
          },
          "colorway": [
           "#636efa",
           "#EF553B",
           "#00cc96",
           "#ab63fa",
           "#FFA15A",
           "#19d3f3",
           "#FF6692",
           "#B6E880",
           "#FF97FF",
           "#FECB52"
          ],
          "font": {
           "color": "#f2f5fa"
          },
          "geo": {
           "bgcolor": "rgb(17,17,17)",
           "lakecolor": "rgb(17,17,17)",
           "landcolor": "rgb(17,17,17)",
           "showlakes": true,
           "showland": true,
           "subunitcolor": "#506784"
          },
          "hoverlabel": {
           "align": "left"
          },
          "hovermode": "closest",
          "mapbox": {
           "style": "dark"
          },
          "paper_bgcolor": "rgb(17,17,17)",
          "plot_bgcolor": "rgb(17,17,17)",
          "polar": {
           "angularaxis": {
            "gridcolor": "#506784",
            "linecolor": "#506784",
            "ticks": ""
           },
           "bgcolor": "rgb(17,17,17)",
           "radialaxis": {
            "gridcolor": "#506784",
            "linecolor": "#506784",
            "ticks": ""
           }
          },
          "scene": {
           "xaxis": {
            "backgroundcolor": "rgb(17,17,17)",
            "gridcolor": "#506784",
            "gridwidth": 2,
            "linecolor": "#506784",
            "showbackground": true,
            "ticks": "",
            "zerolinecolor": "#C8D4E3"
           },
           "yaxis": {
            "backgroundcolor": "rgb(17,17,17)",
            "gridcolor": "#506784",
            "gridwidth": 2,
            "linecolor": "#506784",
            "showbackground": true,
            "ticks": "",
            "zerolinecolor": "#C8D4E3"
           },
           "zaxis": {
            "backgroundcolor": "rgb(17,17,17)",
            "gridcolor": "#506784",
            "gridwidth": 2,
            "linecolor": "#506784",
            "showbackground": true,
            "ticks": "",
            "zerolinecolor": "#C8D4E3"
           }
          },
          "shapedefaults": {
           "line": {
            "color": "#f2f5fa"
           }
          },
          "sliderdefaults": {
           "bgcolor": "#C8D4E3",
           "bordercolor": "rgb(17,17,17)",
           "borderwidth": 1,
           "tickwidth": 0
          },
          "ternary": {
           "aaxis": {
            "gridcolor": "#506784",
            "linecolor": "#506784",
            "ticks": ""
           },
           "baxis": {
            "gridcolor": "#506784",
            "linecolor": "#506784",
            "ticks": ""
           },
           "bgcolor": "rgb(17,17,17)",
           "caxis": {
            "gridcolor": "#506784",
            "linecolor": "#506784",
            "ticks": ""
           }
          },
          "title": {
           "x": 0.05
          },
          "updatemenudefaults": {
           "bgcolor": "#506784",
           "borderwidth": 0
          },
          "xaxis": {
           "automargin": true,
           "gridcolor": "#283442",
           "linecolor": "#506784",
           "ticks": "",
           "zerolinecolor": "#283442",
           "zerolinewidth": 2
          },
          "yaxis": {
           "automargin": true,
           "gridcolor": "#283442",
           "linecolor": "#506784",
           "ticks": "",
           "zerolinecolor": "#283442",
           "zerolinewidth": 2
          }
         }
        },
        "title": {
         "text": "Photonic simulation - Major Noise Sources"
        },
        "xaxis": {
         "title": {
          "text": "Wall Distance [m]"
         },
         "type": "log"
        },
        "yaxis": {
         "title": {
          "text": "Noise [e-]"
         },
         "type": "log"
        }
       }
      },
      "text/html": [
       "<div>\n",
       "        \n",
       "        \n",
       "            <div id=\"bd756a34-5538-48c6-9a8c-7e2db0aeb774\" class=\"plotly-graph-div\" style=\"height:525px; width:100%;\"></div>\n",
       "            <script type=\"text/javascript\">\n",
       "                require([\"plotly\"], function(Plotly) {\n",
       "                    window.PLOTLYENV=window.PLOTLYENV || {};\n",
       "                    \n",
       "                if (document.getElementById(\"bd756a34-5538-48c6-9a8c-7e2db0aeb774\")) {\n",
       "                    Plotly.newPlot(\n",
       "                        'bd756a34-5538-48c6-9a8c-7e2db0aeb774',\n",
       "                        [{\"mode\": \"lines+markers\", \"name\": \"photon shot day_1375\", \"type\": \"scatter\", \"x\": [0.5, 0.7, 1.0, 1.5, 2.0, 3.0, 4.0, 5.0, 7.0, 10.0], \"y\": [271.9921786322042, 195.81805804261208, 139.33269670702194, 96.48190882182246, 75.97410187222016, 56.97239458591644, 48.59712029740412, 44.186355526446775, 39.95101601829949, 37.50696690023247]}, {\"mode\": \"lines+markers\", \"name\": \"dark day_1375\", \"type\": \"scatter\", \"x\": [0.5, 0.7, 1.0, 1.5, 2.0, 3.0, 4.0, 5.0, 7.0, 10.0], \"y\": [0.7071067811865476, 0.7071067811865476, 0.7071067811865476, 0.7071067811865476, 0.7071067811865476, 0.7071067811865476, 0.7071067811865476, 0.7071067811865476, 0.7071067811865476, 0.7071067811865476]}, {\"mode\": \"lines+markers\", \"name\": \"kTC day_1375\", \"type\": \"scatter\", \"x\": [0.5, 0.7, 1.0, 1.5, 2.0, 3.0, 4.0, 5.0, 7.0, 10.0], \"y\": [40.16907650245625, 40.16907650245625, 40.16907650245625, 40.16907650245625, 40.16907650245625, 40.16907650245625, 40.16907650245625, 40.16907650245625, 40.16907650245625, 40.16907650245625]}],\n",
       "                        {\"barmode\": \"group\", \"hovermode\": \"x\", \"template\": {\"data\": {\"bar\": [{\"error_x\": {\"color\": \"#f2f5fa\"}, \"error_y\": {\"color\": \"#f2f5fa\"}, \"marker\": {\"line\": {\"color\": \"rgb(17,17,17)\", \"width\": 0.5}}, \"type\": \"bar\"}], \"barpolar\": [{\"marker\": {\"line\": {\"color\": \"rgb(17,17,17)\", \"width\": 0.5}}, \"type\": \"barpolar\"}], \"carpet\": [{\"aaxis\": {\"endlinecolor\": \"#A2B1C6\", \"gridcolor\": \"#506784\", \"linecolor\": \"#506784\", \"minorgridcolor\": \"#506784\", \"startlinecolor\": \"#A2B1C6\"}, \"baxis\": {\"endlinecolor\": \"#A2B1C6\", \"gridcolor\": \"#506784\", \"linecolor\": \"#506784\", \"minorgridcolor\": \"#506784\", \"startlinecolor\": \"#A2B1C6\"}, \"type\": \"carpet\"}], \"choropleth\": [{\"colorbar\": {\"outlinewidth\": 0, \"ticks\": \"\"}, \"type\": \"choropleth\"}], \"contour\": [{\"colorbar\": {\"outlinewidth\": 0, \"ticks\": \"\"}, \"colorscale\": [[0.0, \"#0d0887\"], [0.1111111111111111, \"#46039f\"], [0.2222222222222222, \"#7201a8\"], [0.3333333333333333, \"#9c179e\"], [0.4444444444444444, \"#bd3786\"], [0.5555555555555556, \"#d8576b\"], [0.6666666666666666, \"#ed7953\"], [0.7777777777777778, \"#fb9f3a\"], [0.8888888888888888, \"#fdca26\"], [1.0, \"#f0f921\"]], \"type\": \"contour\"}], \"contourcarpet\": [{\"colorbar\": {\"outlinewidth\": 0, \"ticks\": \"\"}, \"type\": \"contourcarpet\"}], \"heatmap\": [{\"colorbar\": {\"outlinewidth\": 0, \"ticks\": \"\"}, \"colorscale\": [[0.0, \"#0d0887\"], [0.1111111111111111, \"#46039f\"], [0.2222222222222222, \"#7201a8\"], [0.3333333333333333, \"#9c179e\"], [0.4444444444444444, \"#bd3786\"], [0.5555555555555556, \"#d8576b\"], [0.6666666666666666, \"#ed7953\"], [0.7777777777777778, \"#fb9f3a\"], [0.8888888888888888, \"#fdca26\"], [1.0, \"#f0f921\"]], \"type\": \"heatmap\"}], \"heatmapgl\": [{\"colorbar\": {\"outlinewidth\": 0, \"ticks\": \"\"}, \"colorscale\": [[0.0, \"#0d0887\"], [0.1111111111111111, \"#46039f\"], [0.2222222222222222, \"#7201a8\"], [0.3333333333333333, \"#9c179e\"], [0.4444444444444444, \"#bd3786\"], [0.5555555555555556, \"#d8576b\"], [0.6666666666666666, \"#ed7953\"], [0.7777777777777778, \"#fb9f3a\"], [0.8888888888888888, \"#fdca26\"], [1.0, \"#f0f921\"]], \"type\": \"heatmapgl\"}], \"histogram\": [{\"marker\": {\"colorbar\": {\"outlinewidth\": 0, \"ticks\": \"\"}}, \"type\": \"histogram\"}], \"histogram2d\": [{\"colorbar\": {\"outlinewidth\": 0, \"ticks\": \"\"}, \"colorscale\": [[0.0, \"#0d0887\"], [0.1111111111111111, \"#46039f\"], [0.2222222222222222, \"#7201a8\"], [0.3333333333333333, \"#9c179e\"], [0.4444444444444444, \"#bd3786\"], [0.5555555555555556, \"#d8576b\"], [0.6666666666666666, \"#ed7953\"], [0.7777777777777778, \"#fb9f3a\"], [0.8888888888888888, \"#fdca26\"], [1.0, \"#f0f921\"]], \"type\": \"histogram2d\"}], \"histogram2dcontour\": [{\"colorbar\": {\"outlinewidth\": 0, \"ticks\": \"\"}, \"colorscale\": [[0.0, \"#0d0887\"], [0.1111111111111111, \"#46039f\"], [0.2222222222222222, \"#7201a8\"], [0.3333333333333333, \"#9c179e\"], [0.4444444444444444, \"#bd3786\"], [0.5555555555555556, \"#d8576b\"], [0.6666666666666666, \"#ed7953\"], [0.7777777777777778, \"#fb9f3a\"], [0.8888888888888888, \"#fdca26\"], [1.0, \"#f0f921\"]], \"type\": \"histogram2dcontour\"}], \"mesh3d\": [{\"colorbar\": {\"outlinewidth\": 0, \"ticks\": \"\"}, \"type\": \"mesh3d\"}], \"parcoords\": [{\"line\": {\"colorbar\": {\"outlinewidth\": 0, \"ticks\": \"\"}}, \"type\": \"parcoords\"}], \"scatter\": [{\"marker\": {\"line\": {\"color\": \"#283442\"}}, \"type\": \"scatter\"}], \"scatter3d\": [{\"line\": {\"colorbar\": {\"outlinewidth\": 0, \"ticks\": \"\"}}, \"marker\": {\"colorbar\": {\"outlinewidth\": 0, \"ticks\": \"\"}}, \"type\": \"scatter3d\"}], \"scattercarpet\": [{\"marker\": {\"colorbar\": {\"outlinewidth\": 0, \"ticks\": \"\"}}, \"type\": \"scattercarpet\"}], \"scattergeo\": [{\"marker\": {\"colorbar\": {\"outlinewidth\": 0, \"ticks\": \"\"}}, \"type\": \"scattergeo\"}], \"scattergl\": [{\"marker\": {\"line\": {\"color\": \"#283442\"}}, \"type\": \"scattergl\"}], \"scattermapbox\": [{\"marker\": {\"colorbar\": {\"outlinewidth\": 0, \"ticks\": \"\"}}, \"type\": \"scattermapbox\"}], \"scatterpolar\": [{\"marker\": {\"colorbar\": {\"outlinewidth\": 0, \"ticks\": \"\"}}, \"type\": \"scatterpolar\"}], \"scatterpolargl\": [{\"marker\": {\"colorbar\": {\"outlinewidth\": 0, \"ticks\": \"\"}}, \"type\": \"scatterpolargl\"}], \"scatterternary\": [{\"marker\": {\"colorbar\": {\"outlinewidth\": 0, \"ticks\": \"\"}}, \"type\": \"scatterternary\"}], \"surface\": [{\"colorbar\": {\"outlinewidth\": 0, \"ticks\": \"\"}, \"colorscale\": [[0.0, \"#0d0887\"], [0.1111111111111111, \"#46039f\"], [0.2222222222222222, \"#7201a8\"], [0.3333333333333333, \"#9c179e\"], [0.4444444444444444, \"#bd3786\"], [0.5555555555555556, \"#d8576b\"], [0.6666666666666666, \"#ed7953\"], [0.7777777777777778, \"#fb9f3a\"], [0.8888888888888888, \"#fdca26\"], [1.0, \"#f0f921\"]], \"type\": \"surface\"}], \"table\": [{\"cells\": {\"fill\": {\"color\": \"#506784\"}, \"line\": {\"color\": \"rgb(17,17,17)\"}}, \"header\": {\"fill\": {\"color\": \"#2a3f5f\"}, \"line\": {\"color\": \"rgb(17,17,17)\"}}, \"type\": \"table\"}]}, \"layout\": {\"annotationdefaults\": {\"arrowcolor\": \"#f2f5fa\", \"arrowhead\": 0, \"arrowwidth\": 1}, \"colorscale\": {\"diverging\": [[0, \"#8e0152\"], [0.1, \"#c51b7d\"], [0.2, \"#de77ae\"], [0.3, \"#f1b6da\"], [0.4, \"#fde0ef\"], [0.5, \"#f7f7f7\"], [0.6, \"#e6f5d0\"], [0.7, \"#b8e186\"], [0.8, \"#7fbc41\"], [0.9, \"#4d9221\"], [1, \"#276419\"]], \"sequential\": [[0.0, \"#0d0887\"], [0.1111111111111111, \"#46039f\"], [0.2222222222222222, \"#7201a8\"], [0.3333333333333333, \"#9c179e\"], [0.4444444444444444, \"#bd3786\"], [0.5555555555555556, \"#d8576b\"], [0.6666666666666666, \"#ed7953\"], [0.7777777777777778, \"#fb9f3a\"], [0.8888888888888888, \"#fdca26\"], [1.0, \"#f0f921\"]], \"sequentialminus\": [[0.0, \"#0d0887\"], [0.1111111111111111, \"#46039f\"], [0.2222222222222222, \"#7201a8\"], [0.3333333333333333, \"#9c179e\"], [0.4444444444444444, \"#bd3786\"], [0.5555555555555556, \"#d8576b\"], [0.6666666666666666, \"#ed7953\"], [0.7777777777777778, \"#fb9f3a\"], [0.8888888888888888, \"#fdca26\"], [1.0, \"#f0f921\"]]}, \"colorway\": [\"#636efa\", \"#EF553B\", \"#00cc96\", \"#ab63fa\", \"#FFA15A\", \"#19d3f3\", \"#FF6692\", \"#B6E880\", \"#FF97FF\", \"#FECB52\"], \"font\": {\"color\": \"#f2f5fa\"}, \"geo\": {\"bgcolor\": \"rgb(17,17,17)\", \"lakecolor\": \"rgb(17,17,17)\", \"landcolor\": \"rgb(17,17,17)\", \"showlakes\": true, \"showland\": true, \"subunitcolor\": \"#506784\"}, \"hoverlabel\": {\"align\": \"left\"}, \"hovermode\": \"closest\", \"mapbox\": {\"style\": \"dark\"}, \"paper_bgcolor\": \"rgb(17,17,17)\", \"plot_bgcolor\": \"rgb(17,17,17)\", \"polar\": {\"angularaxis\": {\"gridcolor\": \"#506784\", \"linecolor\": \"#506784\", \"ticks\": \"\"}, \"bgcolor\": \"rgb(17,17,17)\", \"radialaxis\": {\"gridcolor\": \"#506784\", \"linecolor\": \"#506784\", \"ticks\": \"\"}}, \"scene\": {\"xaxis\": {\"backgroundcolor\": \"rgb(17,17,17)\", \"gridcolor\": \"#506784\", \"gridwidth\": 2, \"linecolor\": \"#506784\", \"showbackground\": true, \"ticks\": \"\", \"zerolinecolor\": \"#C8D4E3\"}, \"yaxis\": {\"backgroundcolor\": \"rgb(17,17,17)\", \"gridcolor\": \"#506784\", \"gridwidth\": 2, \"linecolor\": \"#506784\", \"showbackground\": true, \"ticks\": \"\", \"zerolinecolor\": \"#C8D4E3\"}, \"zaxis\": {\"backgroundcolor\": \"rgb(17,17,17)\", \"gridcolor\": \"#506784\", \"gridwidth\": 2, \"linecolor\": \"#506784\", \"showbackground\": true, \"ticks\": \"\", \"zerolinecolor\": \"#C8D4E3\"}}, \"shapedefaults\": {\"line\": {\"color\": \"#f2f5fa\"}}, \"sliderdefaults\": {\"bgcolor\": \"#C8D4E3\", \"bordercolor\": \"rgb(17,17,17)\", \"borderwidth\": 1, \"tickwidth\": 0}, \"ternary\": {\"aaxis\": {\"gridcolor\": \"#506784\", \"linecolor\": \"#506784\", \"ticks\": \"\"}, \"baxis\": {\"gridcolor\": \"#506784\", \"linecolor\": \"#506784\", \"ticks\": \"\"}, \"bgcolor\": \"rgb(17,17,17)\", \"caxis\": {\"gridcolor\": \"#506784\", \"linecolor\": \"#506784\", \"ticks\": \"\"}}, \"title\": {\"x\": 0.05}, \"updatemenudefaults\": {\"bgcolor\": \"#506784\", \"borderwidth\": 0}, \"xaxis\": {\"automargin\": true, \"gridcolor\": \"#283442\", \"linecolor\": \"#506784\", \"ticks\": \"\", \"zerolinecolor\": \"#283442\", \"zerolinewidth\": 2}, \"yaxis\": {\"automargin\": true, \"gridcolor\": \"#283442\", \"linecolor\": \"#506784\", \"ticks\": \"\", \"zerolinecolor\": \"#283442\", \"zerolinewidth\": 2}}}, \"title\": {\"text\": \"Photonic simulation - Major Noise Sources\"}, \"xaxis\": {\"title\": {\"text\": \"Wall Distance [m]\"}, \"type\": \"log\"}, \"yaxis\": {\"title\": {\"text\": \"Noise [e-]\"}, \"type\": \"log\"}},\n",
       "                        {\"responsive\": true}\n",
       "                    ).then(function(){\n",
       "                            \n",
       "var gd = document.getElementById('bd756a34-5538-48c6-9a8c-7e2db0aeb774');\n",
       "var x = new MutationObserver(function (mutations, observer) {{\n",
       "        var display = window.getComputedStyle(gd).display;\n",
       "        if (!display || display === 'none') {{\n",
       "            console.log([gd, 'removed!']);\n",
       "            Plotly.purge(gd);\n",
       "            observer.disconnect();\n",
       "        }}\n",
       "}});\n",
       "\n",
       "// Listen for the removal of the full notebook cells\n",
       "var notebookContainer = gd.closest('#notebook-container');\n",
       "if (notebookContainer) {{\n",
       "    x.observe(notebookContainer, {childList: true});\n",
       "}}\n",
       "\n",
       "// Listen for the clearing of the current output cell\n",
       "var outputEl = gd.closest('.output');\n",
       "if (outputEl) {{\n",
       "    x.observe(outputEl, {childList: true});\n",
       "}}\n",
       "\n",
       "                        })\n",
       "                };\n",
       "                });\n",
       "            </script>\n",
       "        </div>"
      ]
     },
     "metadata": {},
     "output_type": "display_data"
    }
   ],
   "source": [
    "# test_cfg = ['fake_tof_night_850','fake_tof_day_850',\n",
    "#             'fake_tof_night_940','fake_tof_day_940',\n",
    "#             'fake_tof_night_1375','fake_tof_day_1375',\n",
    "#             'fake_tof_night_1550','fake_tof_day_1550']\n",
    "# data = [0,1,2,3,4,5,6,7]\n",
    "cfg = 'fake_tof_day_1375'\n",
    "# data = [0]\n",
    "# for i, cfg in enumerate(test_cfg):\n",
    "photonic = Photonic(config=cfg)\n",
    "photonic = overide_phototonic(photonic)\n",
    "dist_vec = np.array([0.5,0.7,1,1.5,2,3,4,5,7,10])\n",
    "signal, noise, SNR = photonic.signal_to_noise_ratio(dist_vec=dist_vec)\n",
    "sz = len(noise['noise_photon_shot'])\n",
    "\n",
    "trace0 = go.Scatter(x=dist_vec, y=noise['noise_photon_shot'],   # Select 'lines', 'markers' or 'lines+markers'\n",
    "                    mode='lines+markers', name='photon shot '+cfg[9:])\n",
    "trace1 = go.Scatter(x=dist_vec, y=sz*[noise['dark_noise']],   # Select 'lines', 'markers' or 'lines+markers'\n",
    "                    mode='lines+markers', name='dark '+cfg[9:])\n",
    "trace2 = go.Scatter(x=dist_vec, y=sz*[noise['kTC_noise']],   # Select 'lines', 'markers' or 'lines+markers'\n",
    "                    mode='lines+markers', name='kTC '+cfg[9:])\n",
    "data = [trace0, trace1, trace2]\n",
    "\n",
    "layout = dict(title='Photonic simulation - Major Noise Sources',\n",
    "              xaxis=dict(title='Wall Distance [m]', type='log'),  # Select 'log' or 'linear'\n",
    "              yaxis=dict(title='Noise [e-]',type='log'),  # Select 'log' or 'linear'\n",
    "              template='plotly_dark',\n",
    "              barmode='group',\n",
    "              hovermode='x')\n",
    "\n",
    "iplot(dict(data=data, layout=layout))"
   ]
  },
  {
   "cell_type": "markdown",
   "metadata": {},
   "source": [
    "## Noise comparison"
   ]
  },
  {
   "cell_type": "code",
   "execution_count": 8,
   "metadata": {},
   "outputs": [
    {
     "data": {
      "application/vnd.plotly.v1+json": {
       "config": {
        "linkText": "Export to plot.ly",
        "plotlyServerURL": "https://plot.ly",
        "showLink": false
       },
       "data": [
        {
         "mode": "lines+markers",
         "name": "night_850",
         "type": "scatter",
         "x": [
          0.5,
          0.7,
          1,
          1.5,
          2,
          3,
          4,
          5,
          7,
          10
         ],
         "y": [
          355.4084330357201,
          267.40749588977155,
          201.40679409842795,
          150.07291682625907,
          124.40597997037074,
          98.73904667487338,
          85.90558358751348,
          78.20550858340583,
          69.40542896793266,
          62.80537993742652
         ]
        },
        {
         "mode": "lines+markers",
         "name": "day_850",
         "type": "scatter",
         "x": [
          0.5,
          0.7,
          1,
          1.5,
          2,
          3,
          4,
          5,
          7,
          10
         ],
         "y": [
          389.1627784683096,
          312.6093851210138,
          261.0608551767748,
          227.6076031388335,
          214.32243925306827,
          204.1451334512121,
          200.42324288542855,
          198.66953902492887,
          197.12577480759003,
          196.29913992738054
         ]
        },
        {
         "mode": "lines+markers",
         "name": "night_940",
         "type": "scatter",
         "x": [
          0.5,
          0.7,
          1,
          1.5,
          2,
          3,
          4,
          5,
          7,
          10
         ],
         "y": [
          227.7326207898281,
          175.77363923096834,
          136.80440331809552,
          106.49499806367801,
          91.34029586358923,
          76.18559451774028,
          68.60824469905543,
          64.06183549123595,
          58.86594071813713,
          54.96902220102528
         ]
        },
        {
         "mode": "lines+markers",
         "name": "day_940",
         "type": "scatter",
         "x": [
          0.5,
          0.7,
          1,
          1.5,
          2,
          3,
          4,
          5,
          7,
          10
         ],
         "y": [
          236.08329312137752,
          187.22797786712303,
          152.52946250663183,
          128.22678422692206,
          117.80647108415876,
          109.32412398892215,
          106.0735867706463,
          104.50807491779142,
          103.11004186918646,
          102.35326261641703
         ]
        },
        {
         "mode": "lines+markers",
         "name": "night_1375",
         "type": "scatter",
         "x": [
          0.5,
          0.7,
          1,
          1.5,
          2,
          3,
          4,
          5,
          7,
          10
         ],
         "y": [
          315.60727148646333,
          238.54124644135356,
          180.7417277256382,
          135.78654662340102,
          113.30895618581083,
          90.83136597527738,
          79.5925710970674,
          72.84929435178682,
          65.1426927464205,
          59.36274222356571
         ]
        },
        {
         "mode": "lines+markers",
         "name": "day_1375",
         "type": "scatter",
         "x": [
          0.5,
          0.7,
          1,
          1.5,
          2,
          3,
          4,
          5,
          7,
          10
         ],
         "y": [
          317.868361915847,
          241.69424132625488,
          185.20887999066474,
          142.35809210546526,
          121.85028515586296,
          102.84857786955924,
          94.4733035810469,
          90.06253881008956,
          85.82719930194229,
          83.38315018387527
         ]
        },
        {
         "mode": "lines+markers",
         "name": "night_1550",
         "type": "scatter",
         "x": [
          0.5,
          0.7,
          1,
          1.5,
          2,
          3,
          4,
          5,
          7,
          10
         ],
         "y": [
          224.25265727465646,
          173.28795142944708,
          135.06442248713762,
          105.33501187262593,
          90.4703073013659,
          75.60560420209723,
          68.17325412445356,
          63.71384525545911,
          58.617380500016,
          54.79503634938574
         ]
        },
        {
         "mode": "lines+markers",
         "name": "day_1550",
         "type": "scatter",
         "x": [
          0.5,
          0.7,
          1,
          1.5,
          2,
          3,
          4,
          5,
          7,
          10
         ],
         "y": [
          238.4107018480888,
          192.45426154712808,
          160.79318105854134,
          139.61372465608497,
          130.9644331321636,
          124.20378272038582,
          121.69526883244352,
          120.50564495929078,
          119.45411796437942,
          118.88933487556177
         ]
        }
       ],
       "layout": {
        "barmode": "group",
        "hovermode": "x",
        "template": {
         "data": {
          "bar": [
           {
            "error_x": {
             "color": "#f2f5fa"
            },
            "error_y": {
             "color": "#f2f5fa"
            },
            "marker": {
             "line": {
              "color": "rgb(17,17,17)",
              "width": 0.5
             }
            },
            "type": "bar"
           }
          ],
          "barpolar": [
           {
            "marker": {
             "line": {
              "color": "rgb(17,17,17)",
              "width": 0.5
             }
            },
            "type": "barpolar"
           }
          ],
          "carpet": [
           {
            "aaxis": {
             "endlinecolor": "#A2B1C6",
             "gridcolor": "#506784",
             "linecolor": "#506784",
             "minorgridcolor": "#506784",
             "startlinecolor": "#A2B1C6"
            },
            "baxis": {
             "endlinecolor": "#A2B1C6",
             "gridcolor": "#506784",
             "linecolor": "#506784",
             "minorgridcolor": "#506784",
             "startlinecolor": "#A2B1C6"
            },
            "type": "carpet"
           }
          ],
          "choropleth": [
           {
            "colorbar": {
             "outlinewidth": 0,
             "ticks": ""
            },
            "type": "choropleth"
           }
          ],
          "contour": [
           {
            "colorbar": {
             "outlinewidth": 0,
             "ticks": ""
            },
            "colorscale": [
             [
              0,
              "#0d0887"
             ],
             [
              0.1111111111111111,
              "#46039f"
             ],
             [
              0.2222222222222222,
              "#7201a8"
             ],
             [
              0.3333333333333333,
              "#9c179e"
             ],
             [
              0.4444444444444444,
              "#bd3786"
             ],
             [
              0.5555555555555556,
              "#d8576b"
             ],
             [
              0.6666666666666666,
              "#ed7953"
             ],
             [
              0.7777777777777778,
              "#fb9f3a"
             ],
             [
              0.8888888888888888,
              "#fdca26"
             ],
             [
              1,
              "#f0f921"
             ]
            ],
            "type": "contour"
           }
          ],
          "contourcarpet": [
           {
            "colorbar": {
             "outlinewidth": 0,
             "ticks": ""
            },
            "type": "contourcarpet"
           }
          ],
          "heatmap": [
           {
            "colorbar": {
             "outlinewidth": 0,
             "ticks": ""
            },
            "colorscale": [
             [
              0,
              "#0d0887"
             ],
             [
              0.1111111111111111,
              "#46039f"
             ],
             [
              0.2222222222222222,
              "#7201a8"
             ],
             [
              0.3333333333333333,
              "#9c179e"
             ],
             [
              0.4444444444444444,
              "#bd3786"
             ],
             [
              0.5555555555555556,
              "#d8576b"
             ],
             [
              0.6666666666666666,
              "#ed7953"
             ],
             [
              0.7777777777777778,
              "#fb9f3a"
             ],
             [
              0.8888888888888888,
              "#fdca26"
             ],
             [
              1,
              "#f0f921"
             ]
            ],
            "type": "heatmap"
           }
          ],
          "heatmapgl": [
           {
            "colorbar": {
             "outlinewidth": 0,
             "ticks": ""
            },
            "colorscale": [
             [
              0,
              "#0d0887"
             ],
             [
              0.1111111111111111,
              "#46039f"
             ],
             [
              0.2222222222222222,
              "#7201a8"
             ],
             [
              0.3333333333333333,
              "#9c179e"
             ],
             [
              0.4444444444444444,
              "#bd3786"
             ],
             [
              0.5555555555555556,
              "#d8576b"
             ],
             [
              0.6666666666666666,
              "#ed7953"
             ],
             [
              0.7777777777777778,
              "#fb9f3a"
             ],
             [
              0.8888888888888888,
              "#fdca26"
             ],
             [
              1,
              "#f0f921"
             ]
            ],
            "type": "heatmapgl"
           }
          ],
          "histogram": [
           {
            "marker": {
             "colorbar": {
              "outlinewidth": 0,
              "ticks": ""
             }
            },
            "type": "histogram"
           }
          ],
          "histogram2d": [
           {
            "colorbar": {
             "outlinewidth": 0,
             "ticks": ""
            },
            "colorscale": [
             [
              0,
              "#0d0887"
             ],
             [
              0.1111111111111111,
              "#46039f"
             ],
             [
              0.2222222222222222,
              "#7201a8"
             ],
             [
              0.3333333333333333,
              "#9c179e"
             ],
             [
              0.4444444444444444,
              "#bd3786"
             ],
             [
              0.5555555555555556,
              "#d8576b"
             ],
             [
              0.6666666666666666,
              "#ed7953"
             ],
             [
              0.7777777777777778,
              "#fb9f3a"
             ],
             [
              0.8888888888888888,
              "#fdca26"
             ],
             [
              1,
              "#f0f921"
             ]
            ],
            "type": "histogram2d"
           }
          ],
          "histogram2dcontour": [
           {
            "colorbar": {
             "outlinewidth": 0,
             "ticks": ""
            },
            "colorscale": [
             [
              0,
              "#0d0887"
             ],
             [
              0.1111111111111111,
              "#46039f"
             ],
             [
              0.2222222222222222,
              "#7201a8"
             ],
             [
              0.3333333333333333,
              "#9c179e"
             ],
             [
              0.4444444444444444,
              "#bd3786"
             ],
             [
              0.5555555555555556,
              "#d8576b"
             ],
             [
              0.6666666666666666,
              "#ed7953"
             ],
             [
              0.7777777777777778,
              "#fb9f3a"
             ],
             [
              0.8888888888888888,
              "#fdca26"
             ],
             [
              1,
              "#f0f921"
             ]
            ],
            "type": "histogram2dcontour"
           }
          ],
          "mesh3d": [
           {
            "colorbar": {
             "outlinewidth": 0,
             "ticks": ""
            },
            "type": "mesh3d"
           }
          ],
          "parcoords": [
           {
            "line": {
             "colorbar": {
              "outlinewidth": 0,
              "ticks": ""
             }
            },
            "type": "parcoords"
           }
          ],
          "scatter": [
           {
            "marker": {
             "line": {
              "color": "#283442"
             }
            },
            "type": "scatter"
           }
          ],
          "scatter3d": [
           {
            "line": {
             "colorbar": {
              "outlinewidth": 0,
              "ticks": ""
             }
            },
            "marker": {
             "colorbar": {
              "outlinewidth": 0,
              "ticks": ""
             }
            },
            "type": "scatter3d"
           }
          ],
          "scattercarpet": [
           {
            "marker": {
             "colorbar": {
              "outlinewidth": 0,
              "ticks": ""
             }
            },
            "type": "scattercarpet"
           }
          ],
          "scattergeo": [
           {
            "marker": {
             "colorbar": {
              "outlinewidth": 0,
              "ticks": ""
             }
            },
            "type": "scattergeo"
           }
          ],
          "scattergl": [
           {
            "marker": {
             "line": {
              "color": "#283442"
             }
            },
            "type": "scattergl"
           }
          ],
          "scattermapbox": [
           {
            "marker": {
             "colorbar": {
              "outlinewidth": 0,
              "ticks": ""
             }
            },
            "type": "scattermapbox"
           }
          ],
          "scatterpolar": [
           {
            "marker": {
             "colorbar": {
              "outlinewidth": 0,
              "ticks": ""
             }
            },
            "type": "scatterpolar"
           }
          ],
          "scatterpolargl": [
           {
            "marker": {
             "colorbar": {
              "outlinewidth": 0,
              "ticks": ""
             }
            },
            "type": "scatterpolargl"
           }
          ],
          "scatterternary": [
           {
            "marker": {
             "colorbar": {
              "outlinewidth": 0,
              "ticks": ""
             }
            },
            "type": "scatterternary"
           }
          ],
          "surface": [
           {
            "colorbar": {
             "outlinewidth": 0,
             "ticks": ""
            },
            "colorscale": [
             [
              0,
              "#0d0887"
             ],
             [
              0.1111111111111111,
              "#46039f"
             ],
             [
              0.2222222222222222,
              "#7201a8"
             ],
             [
              0.3333333333333333,
              "#9c179e"
             ],
             [
              0.4444444444444444,
              "#bd3786"
             ],
             [
              0.5555555555555556,
              "#d8576b"
             ],
             [
              0.6666666666666666,
              "#ed7953"
             ],
             [
              0.7777777777777778,
              "#fb9f3a"
             ],
             [
              0.8888888888888888,
              "#fdca26"
             ],
             [
              1,
              "#f0f921"
             ]
            ],
            "type": "surface"
           }
          ],
          "table": [
           {
            "cells": {
             "fill": {
              "color": "#506784"
             },
             "line": {
              "color": "rgb(17,17,17)"
             }
            },
            "header": {
             "fill": {
              "color": "#2a3f5f"
             },
             "line": {
              "color": "rgb(17,17,17)"
             }
            },
            "type": "table"
           }
          ]
         },
         "layout": {
          "annotationdefaults": {
           "arrowcolor": "#f2f5fa",
           "arrowhead": 0,
           "arrowwidth": 1
          },
          "colorscale": {
           "diverging": [
            [
             0,
             "#8e0152"
            ],
            [
             0.1,
             "#c51b7d"
            ],
            [
             0.2,
             "#de77ae"
            ],
            [
             0.3,
             "#f1b6da"
            ],
            [
             0.4,
             "#fde0ef"
            ],
            [
             0.5,
             "#f7f7f7"
            ],
            [
             0.6,
             "#e6f5d0"
            ],
            [
             0.7,
             "#b8e186"
            ],
            [
             0.8,
             "#7fbc41"
            ],
            [
             0.9,
             "#4d9221"
            ],
            [
             1,
             "#276419"
            ]
           ],
           "sequential": [
            [
             0,
             "#0d0887"
            ],
            [
             0.1111111111111111,
             "#46039f"
            ],
            [
             0.2222222222222222,
             "#7201a8"
            ],
            [
             0.3333333333333333,
             "#9c179e"
            ],
            [
             0.4444444444444444,
             "#bd3786"
            ],
            [
             0.5555555555555556,
             "#d8576b"
            ],
            [
             0.6666666666666666,
             "#ed7953"
            ],
            [
             0.7777777777777778,
             "#fb9f3a"
            ],
            [
             0.8888888888888888,
             "#fdca26"
            ],
            [
             1,
             "#f0f921"
            ]
           ],
           "sequentialminus": [
            [
             0,
             "#0d0887"
            ],
            [
             0.1111111111111111,
             "#46039f"
            ],
            [
             0.2222222222222222,
             "#7201a8"
            ],
            [
             0.3333333333333333,
             "#9c179e"
            ],
            [
             0.4444444444444444,
             "#bd3786"
            ],
            [
             0.5555555555555556,
             "#d8576b"
            ],
            [
             0.6666666666666666,
             "#ed7953"
            ],
            [
             0.7777777777777778,
             "#fb9f3a"
            ],
            [
             0.8888888888888888,
             "#fdca26"
            ],
            [
             1,
             "#f0f921"
            ]
           ]
          },
          "colorway": [
           "#636efa",
           "#EF553B",
           "#00cc96",
           "#ab63fa",
           "#FFA15A",
           "#19d3f3",
           "#FF6692",
           "#B6E880",
           "#FF97FF",
           "#FECB52"
          ],
          "font": {
           "color": "#f2f5fa"
          },
          "geo": {
           "bgcolor": "rgb(17,17,17)",
           "lakecolor": "rgb(17,17,17)",
           "landcolor": "rgb(17,17,17)",
           "showlakes": true,
           "showland": true,
           "subunitcolor": "#506784"
          },
          "hoverlabel": {
           "align": "left"
          },
          "hovermode": "closest",
          "mapbox": {
           "style": "dark"
          },
          "paper_bgcolor": "rgb(17,17,17)",
          "plot_bgcolor": "rgb(17,17,17)",
          "polar": {
           "angularaxis": {
            "gridcolor": "#506784",
            "linecolor": "#506784",
            "ticks": ""
           },
           "bgcolor": "rgb(17,17,17)",
           "radialaxis": {
            "gridcolor": "#506784",
            "linecolor": "#506784",
            "ticks": ""
           }
          },
          "scene": {
           "xaxis": {
            "backgroundcolor": "rgb(17,17,17)",
            "gridcolor": "#506784",
            "gridwidth": 2,
            "linecolor": "#506784",
            "showbackground": true,
            "ticks": "",
            "zerolinecolor": "#C8D4E3"
           },
           "yaxis": {
            "backgroundcolor": "rgb(17,17,17)",
            "gridcolor": "#506784",
            "gridwidth": 2,
            "linecolor": "#506784",
            "showbackground": true,
            "ticks": "",
            "zerolinecolor": "#C8D4E3"
           },
           "zaxis": {
            "backgroundcolor": "rgb(17,17,17)",
            "gridcolor": "#506784",
            "gridwidth": 2,
            "linecolor": "#506784",
            "showbackground": true,
            "ticks": "",
            "zerolinecolor": "#C8D4E3"
           }
          },
          "shapedefaults": {
           "line": {
            "color": "#f2f5fa"
           }
          },
          "sliderdefaults": {
           "bgcolor": "#C8D4E3",
           "bordercolor": "rgb(17,17,17)",
           "borderwidth": 1,
           "tickwidth": 0
          },
          "ternary": {
           "aaxis": {
            "gridcolor": "#506784",
            "linecolor": "#506784",
            "ticks": ""
           },
           "baxis": {
            "gridcolor": "#506784",
            "linecolor": "#506784",
            "ticks": ""
           },
           "bgcolor": "rgb(17,17,17)",
           "caxis": {
            "gridcolor": "#506784",
            "linecolor": "#506784",
            "ticks": ""
           }
          },
          "title": {
           "x": 0.05
          },
          "updatemenudefaults": {
           "bgcolor": "#506784",
           "borderwidth": 0
          },
          "xaxis": {
           "automargin": true,
           "gridcolor": "#283442",
           "linecolor": "#506784",
           "ticks": "",
           "zerolinecolor": "#283442",
           "zerolinewidth": 2
          },
          "yaxis": {
           "automargin": true,
           "gridcolor": "#283442",
           "linecolor": "#506784",
           "ticks": "",
           "zerolinecolor": "#283442",
           "zerolinewidth": 2
          }
         }
        },
        "title": {
         "text": "Photonic simulation - Summed Noise"
        },
        "xaxis": {
         "title": {
          "text": "Wall Distance [m]"
         },
         "type": "log"
        },
        "yaxis": {
         "title": {
          "text": "Noise [e-]"
         },
         "type": "log"
        }
       }
      },
      "text/html": [
       "<div>\n",
       "        \n",
       "        \n",
       "            <div id=\"8d0248ef-b78b-43a0-9b90-f9e3172a3adc\" class=\"plotly-graph-div\" style=\"height:525px; width:100%;\"></div>\n",
       "            <script type=\"text/javascript\">\n",
       "                require([\"plotly\"], function(Plotly) {\n",
       "                    window.PLOTLYENV=window.PLOTLYENV || {};\n",
       "                    \n",
       "                if (document.getElementById(\"8d0248ef-b78b-43a0-9b90-f9e3172a3adc\")) {\n",
       "                    Plotly.newPlot(\n",
       "                        '8d0248ef-b78b-43a0-9b90-f9e3172a3adc',\n",
       "                        [{\"mode\": \"lines+markers\", \"name\": \"night_850\", \"type\": \"scatter\", \"x\": [0.5, 0.7, 1.0, 1.5, 2.0, 3.0, 4.0, 5.0, 7.0, 10.0], \"y\": [355.4084330357201, 267.40749588977155, 201.40679409842795, 150.07291682625907, 124.40597997037074, 98.73904667487338, 85.90558358751348, 78.20550858340583, 69.40542896793266, 62.80537993742652]}, {\"mode\": \"lines+markers\", \"name\": \"day_850\", \"type\": \"scatter\", \"x\": [0.5, 0.7, 1.0, 1.5, 2.0, 3.0, 4.0, 5.0, 7.0, 10.0], \"y\": [389.1627784683096, 312.6093851210138, 261.0608551767748, 227.6076031388335, 214.32243925306827, 204.1451334512121, 200.42324288542855, 198.66953902492887, 197.12577480759003, 196.29913992738054]}, {\"mode\": \"lines+markers\", \"name\": \"night_940\", \"type\": \"scatter\", \"x\": [0.5, 0.7, 1.0, 1.5, 2.0, 3.0, 4.0, 5.0, 7.0, 10.0], \"y\": [227.7326207898281, 175.77363923096834, 136.80440331809552, 106.49499806367801, 91.34029586358923, 76.18559451774028, 68.60824469905543, 64.06183549123595, 58.86594071813713, 54.96902220102528]}, {\"mode\": \"lines+markers\", \"name\": \"day_940\", \"type\": \"scatter\", \"x\": [0.5, 0.7, 1.0, 1.5, 2.0, 3.0, 4.0, 5.0, 7.0, 10.0], \"y\": [236.08329312137752, 187.22797786712303, 152.52946250663183, 128.22678422692206, 117.80647108415876, 109.32412398892215, 106.0735867706463, 104.50807491779142, 103.11004186918646, 102.35326261641703]}, {\"mode\": \"lines+markers\", \"name\": \"night_1375\", \"type\": \"scatter\", \"x\": [0.5, 0.7, 1.0, 1.5, 2.0, 3.0, 4.0, 5.0, 7.0, 10.0], \"y\": [315.60727148646333, 238.54124644135356, 180.7417277256382, 135.78654662340102, 113.30895618581083, 90.83136597527738, 79.5925710970674, 72.84929435178682, 65.1426927464205, 59.36274222356571]}, {\"mode\": \"lines+markers\", \"name\": \"day_1375\", \"type\": \"scatter\", \"x\": [0.5, 0.7, 1.0, 1.5, 2.0, 3.0, 4.0, 5.0, 7.0, 10.0], \"y\": [317.868361915847, 241.69424132625488, 185.20887999066474, 142.35809210546526, 121.85028515586296, 102.84857786955924, 94.4733035810469, 90.06253881008956, 85.82719930194229, 83.38315018387527]}, {\"mode\": \"lines+markers\", \"name\": \"night_1550\", \"type\": \"scatter\", \"x\": [0.5, 0.7, 1.0, 1.5, 2.0, 3.0, 4.0, 5.0, 7.0, 10.0], \"y\": [224.25265727465646, 173.28795142944708, 135.06442248713762, 105.33501187262593, 90.4703073013659, 75.60560420209723, 68.17325412445356, 63.71384525545911, 58.617380500016, 54.79503634938574]}, {\"mode\": \"lines+markers\", \"name\": \"day_1550\", \"type\": \"scatter\", \"x\": [0.5, 0.7, 1.0, 1.5, 2.0, 3.0, 4.0, 5.0, 7.0, 10.0], \"y\": [238.4107018480888, 192.45426154712808, 160.79318105854134, 139.61372465608497, 130.9644331321636, 124.20378272038582, 121.69526883244352, 120.50564495929078, 119.45411796437942, 118.88933487556177]}],\n",
       "                        {\"barmode\": \"group\", \"hovermode\": \"x\", \"template\": {\"data\": {\"bar\": [{\"error_x\": {\"color\": \"#f2f5fa\"}, \"error_y\": {\"color\": \"#f2f5fa\"}, \"marker\": {\"line\": {\"color\": \"rgb(17,17,17)\", \"width\": 0.5}}, \"type\": \"bar\"}], \"barpolar\": [{\"marker\": {\"line\": {\"color\": \"rgb(17,17,17)\", \"width\": 0.5}}, \"type\": \"barpolar\"}], \"carpet\": [{\"aaxis\": {\"endlinecolor\": \"#A2B1C6\", \"gridcolor\": \"#506784\", \"linecolor\": \"#506784\", \"minorgridcolor\": \"#506784\", \"startlinecolor\": \"#A2B1C6\"}, \"baxis\": {\"endlinecolor\": \"#A2B1C6\", \"gridcolor\": \"#506784\", \"linecolor\": \"#506784\", \"minorgridcolor\": \"#506784\", \"startlinecolor\": \"#A2B1C6\"}, \"type\": \"carpet\"}], \"choropleth\": [{\"colorbar\": {\"outlinewidth\": 0, \"ticks\": \"\"}, \"type\": \"choropleth\"}], \"contour\": [{\"colorbar\": {\"outlinewidth\": 0, \"ticks\": \"\"}, \"colorscale\": [[0.0, \"#0d0887\"], [0.1111111111111111, \"#46039f\"], [0.2222222222222222, \"#7201a8\"], [0.3333333333333333, \"#9c179e\"], [0.4444444444444444, \"#bd3786\"], [0.5555555555555556, \"#d8576b\"], [0.6666666666666666, \"#ed7953\"], [0.7777777777777778, \"#fb9f3a\"], [0.8888888888888888, \"#fdca26\"], [1.0, \"#f0f921\"]], \"type\": \"contour\"}], \"contourcarpet\": [{\"colorbar\": {\"outlinewidth\": 0, \"ticks\": \"\"}, \"type\": \"contourcarpet\"}], \"heatmap\": [{\"colorbar\": {\"outlinewidth\": 0, \"ticks\": \"\"}, \"colorscale\": [[0.0, \"#0d0887\"], [0.1111111111111111, \"#46039f\"], [0.2222222222222222, \"#7201a8\"], [0.3333333333333333, \"#9c179e\"], [0.4444444444444444, \"#bd3786\"], [0.5555555555555556, \"#d8576b\"], [0.6666666666666666, \"#ed7953\"], [0.7777777777777778, \"#fb9f3a\"], [0.8888888888888888, \"#fdca26\"], [1.0, \"#f0f921\"]], \"type\": \"heatmap\"}], \"heatmapgl\": [{\"colorbar\": {\"outlinewidth\": 0, \"ticks\": \"\"}, \"colorscale\": [[0.0, \"#0d0887\"], [0.1111111111111111, \"#46039f\"], [0.2222222222222222, \"#7201a8\"], [0.3333333333333333, \"#9c179e\"], [0.4444444444444444, \"#bd3786\"], [0.5555555555555556, \"#d8576b\"], [0.6666666666666666, \"#ed7953\"], [0.7777777777777778, \"#fb9f3a\"], [0.8888888888888888, \"#fdca26\"], [1.0, \"#f0f921\"]], \"type\": \"heatmapgl\"}], \"histogram\": [{\"marker\": {\"colorbar\": {\"outlinewidth\": 0, \"ticks\": \"\"}}, \"type\": \"histogram\"}], \"histogram2d\": [{\"colorbar\": {\"outlinewidth\": 0, \"ticks\": \"\"}, \"colorscale\": [[0.0, \"#0d0887\"], [0.1111111111111111, \"#46039f\"], [0.2222222222222222, \"#7201a8\"], [0.3333333333333333, \"#9c179e\"], [0.4444444444444444, \"#bd3786\"], [0.5555555555555556, \"#d8576b\"], [0.6666666666666666, \"#ed7953\"], [0.7777777777777778, \"#fb9f3a\"], [0.8888888888888888, \"#fdca26\"], [1.0, \"#f0f921\"]], \"type\": \"histogram2d\"}], \"histogram2dcontour\": [{\"colorbar\": {\"outlinewidth\": 0, \"ticks\": \"\"}, \"colorscale\": [[0.0, \"#0d0887\"], [0.1111111111111111, \"#46039f\"], [0.2222222222222222, \"#7201a8\"], [0.3333333333333333, \"#9c179e\"], [0.4444444444444444, \"#bd3786\"], [0.5555555555555556, \"#d8576b\"], [0.6666666666666666, \"#ed7953\"], [0.7777777777777778, \"#fb9f3a\"], [0.8888888888888888, \"#fdca26\"], [1.0, \"#f0f921\"]], \"type\": \"histogram2dcontour\"}], \"mesh3d\": [{\"colorbar\": {\"outlinewidth\": 0, \"ticks\": \"\"}, \"type\": \"mesh3d\"}], \"parcoords\": [{\"line\": {\"colorbar\": {\"outlinewidth\": 0, \"ticks\": \"\"}}, \"type\": \"parcoords\"}], \"scatter\": [{\"marker\": {\"line\": {\"color\": \"#283442\"}}, \"type\": \"scatter\"}], \"scatter3d\": [{\"line\": {\"colorbar\": {\"outlinewidth\": 0, \"ticks\": \"\"}}, \"marker\": {\"colorbar\": {\"outlinewidth\": 0, \"ticks\": \"\"}}, \"type\": \"scatter3d\"}], \"scattercarpet\": [{\"marker\": {\"colorbar\": {\"outlinewidth\": 0, \"ticks\": \"\"}}, \"type\": \"scattercarpet\"}], \"scattergeo\": [{\"marker\": {\"colorbar\": {\"outlinewidth\": 0, \"ticks\": \"\"}}, \"type\": \"scattergeo\"}], \"scattergl\": [{\"marker\": {\"line\": {\"color\": \"#283442\"}}, \"type\": \"scattergl\"}], \"scattermapbox\": [{\"marker\": {\"colorbar\": {\"outlinewidth\": 0, \"ticks\": \"\"}}, \"type\": \"scattermapbox\"}], \"scatterpolar\": [{\"marker\": {\"colorbar\": {\"outlinewidth\": 0, \"ticks\": \"\"}}, \"type\": \"scatterpolar\"}], \"scatterpolargl\": [{\"marker\": {\"colorbar\": {\"outlinewidth\": 0, \"ticks\": \"\"}}, \"type\": \"scatterpolargl\"}], \"scatterternary\": [{\"marker\": {\"colorbar\": {\"outlinewidth\": 0, \"ticks\": \"\"}}, \"type\": \"scatterternary\"}], \"surface\": [{\"colorbar\": {\"outlinewidth\": 0, \"ticks\": \"\"}, \"colorscale\": [[0.0, \"#0d0887\"], [0.1111111111111111, \"#46039f\"], [0.2222222222222222, \"#7201a8\"], [0.3333333333333333, \"#9c179e\"], [0.4444444444444444, \"#bd3786\"], [0.5555555555555556, \"#d8576b\"], [0.6666666666666666, \"#ed7953\"], [0.7777777777777778, \"#fb9f3a\"], [0.8888888888888888, \"#fdca26\"], [1.0, \"#f0f921\"]], \"type\": \"surface\"}], \"table\": [{\"cells\": {\"fill\": {\"color\": \"#506784\"}, \"line\": {\"color\": \"rgb(17,17,17)\"}}, \"header\": {\"fill\": {\"color\": \"#2a3f5f\"}, \"line\": {\"color\": \"rgb(17,17,17)\"}}, \"type\": \"table\"}]}, \"layout\": {\"annotationdefaults\": {\"arrowcolor\": \"#f2f5fa\", \"arrowhead\": 0, \"arrowwidth\": 1}, \"colorscale\": {\"diverging\": [[0, \"#8e0152\"], [0.1, \"#c51b7d\"], [0.2, \"#de77ae\"], [0.3, \"#f1b6da\"], [0.4, \"#fde0ef\"], [0.5, \"#f7f7f7\"], [0.6, \"#e6f5d0\"], [0.7, \"#b8e186\"], [0.8, \"#7fbc41\"], [0.9, \"#4d9221\"], [1, \"#276419\"]], \"sequential\": [[0.0, \"#0d0887\"], [0.1111111111111111, \"#46039f\"], [0.2222222222222222, \"#7201a8\"], [0.3333333333333333, \"#9c179e\"], [0.4444444444444444, \"#bd3786\"], [0.5555555555555556, \"#d8576b\"], [0.6666666666666666, \"#ed7953\"], [0.7777777777777778, \"#fb9f3a\"], [0.8888888888888888, \"#fdca26\"], [1.0, \"#f0f921\"]], \"sequentialminus\": [[0.0, \"#0d0887\"], [0.1111111111111111, \"#46039f\"], [0.2222222222222222, \"#7201a8\"], [0.3333333333333333, \"#9c179e\"], [0.4444444444444444, \"#bd3786\"], [0.5555555555555556, \"#d8576b\"], [0.6666666666666666, \"#ed7953\"], [0.7777777777777778, \"#fb9f3a\"], [0.8888888888888888, \"#fdca26\"], [1.0, \"#f0f921\"]]}, \"colorway\": [\"#636efa\", \"#EF553B\", \"#00cc96\", \"#ab63fa\", \"#FFA15A\", \"#19d3f3\", \"#FF6692\", \"#B6E880\", \"#FF97FF\", \"#FECB52\"], \"font\": {\"color\": \"#f2f5fa\"}, \"geo\": {\"bgcolor\": \"rgb(17,17,17)\", \"lakecolor\": \"rgb(17,17,17)\", \"landcolor\": \"rgb(17,17,17)\", \"showlakes\": true, \"showland\": true, \"subunitcolor\": \"#506784\"}, \"hoverlabel\": {\"align\": \"left\"}, \"hovermode\": \"closest\", \"mapbox\": {\"style\": \"dark\"}, \"paper_bgcolor\": \"rgb(17,17,17)\", \"plot_bgcolor\": \"rgb(17,17,17)\", \"polar\": {\"angularaxis\": {\"gridcolor\": \"#506784\", \"linecolor\": \"#506784\", \"ticks\": \"\"}, \"bgcolor\": \"rgb(17,17,17)\", \"radialaxis\": {\"gridcolor\": \"#506784\", \"linecolor\": \"#506784\", \"ticks\": \"\"}}, \"scene\": {\"xaxis\": {\"backgroundcolor\": \"rgb(17,17,17)\", \"gridcolor\": \"#506784\", \"gridwidth\": 2, \"linecolor\": \"#506784\", \"showbackground\": true, \"ticks\": \"\", \"zerolinecolor\": \"#C8D4E3\"}, \"yaxis\": {\"backgroundcolor\": \"rgb(17,17,17)\", \"gridcolor\": \"#506784\", \"gridwidth\": 2, \"linecolor\": \"#506784\", \"showbackground\": true, \"ticks\": \"\", \"zerolinecolor\": \"#C8D4E3\"}, \"zaxis\": {\"backgroundcolor\": \"rgb(17,17,17)\", \"gridcolor\": \"#506784\", \"gridwidth\": 2, \"linecolor\": \"#506784\", \"showbackground\": true, \"ticks\": \"\", \"zerolinecolor\": \"#C8D4E3\"}}, \"shapedefaults\": {\"line\": {\"color\": \"#f2f5fa\"}}, \"sliderdefaults\": {\"bgcolor\": \"#C8D4E3\", \"bordercolor\": \"rgb(17,17,17)\", \"borderwidth\": 1, \"tickwidth\": 0}, \"ternary\": {\"aaxis\": {\"gridcolor\": \"#506784\", \"linecolor\": \"#506784\", \"ticks\": \"\"}, \"baxis\": {\"gridcolor\": \"#506784\", \"linecolor\": \"#506784\", \"ticks\": \"\"}, \"bgcolor\": \"rgb(17,17,17)\", \"caxis\": {\"gridcolor\": \"#506784\", \"linecolor\": \"#506784\", \"ticks\": \"\"}}, \"title\": {\"x\": 0.05}, \"updatemenudefaults\": {\"bgcolor\": \"#506784\", \"borderwidth\": 0}, \"xaxis\": {\"automargin\": true, \"gridcolor\": \"#283442\", \"linecolor\": \"#506784\", \"ticks\": \"\", \"zerolinecolor\": \"#283442\", \"zerolinewidth\": 2}, \"yaxis\": {\"automargin\": true, \"gridcolor\": \"#283442\", \"linecolor\": \"#506784\", \"ticks\": \"\", \"zerolinecolor\": \"#283442\", \"zerolinewidth\": 2}}}, \"title\": {\"text\": \"Photonic simulation - Summed Noise\"}, \"xaxis\": {\"title\": {\"text\": \"Wall Distance [m]\"}, \"type\": \"log\"}, \"yaxis\": {\"title\": {\"text\": \"Noise [e-]\"}, \"type\": \"log\"}},\n",
       "                        {\"responsive\": true}\n",
       "                    ).then(function(){\n",
       "                            \n",
       "var gd = document.getElementById('8d0248ef-b78b-43a0-9b90-f9e3172a3adc');\n",
       "var x = new MutationObserver(function (mutations, observer) {{\n",
       "        var display = window.getComputedStyle(gd).display;\n",
       "        if (!display || display === 'none') {{\n",
       "            console.log([gd, 'removed!']);\n",
       "            Plotly.purge(gd);\n",
       "            observer.disconnect();\n",
       "        }}\n",
       "}});\n",
       "\n",
       "// Listen for the removal of the full notebook cells\n",
       "var notebookContainer = gd.closest('#notebook-container');\n",
       "if (notebookContainer) {{\n",
       "    x.observe(notebookContainer, {childList: true});\n",
       "}}\n",
       "\n",
       "// Listen for the clearing of the current output cell\n",
       "var outputEl = gd.closest('.output');\n",
       "if (outputEl) {{\n",
       "    x.observe(outputEl, {childList: true});\n",
       "}}\n",
       "\n",
       "                        })\n",
       "                };\n",
       "                });\n",
       "            </script>\n",
       "        </div>"
      ]
     },
     "metadata": {},
     "output_type": "display_data"
    }
   ],
   "source": [
    "test_cfg = ['fake_tof_night_850','fake_tof_day_850',\n",
    "            'fake_tof_night_940','fake_tof_day_940',\n",
    "            'fake_tof_night_1375','fake_tof_day_1375',\n",
    "            'fake_tof_night_1550','fake_tof_day_1550']\n",
    "data = [0,1,2,3,4,5,6,7]\n",
    "data2 = [0,1,2,3,4,5,6,7]\n",
    "# test_cfg = ['fake_tof_day_940','fake_tof_day_1375']\n",
    "# data = [0,1]\n",
    "for i, cfg in enumerate(test_cfg):\n",
    "    photonic = Photonic(config=cfg)\n",
    "    photonic = overide_phototonic(photonic)\n",
    "    dist_vec = np.array([0.5,0.7,1,1.5,2,3,4,5,7,10])\n",
    "    signal, noise, SNR = photonic.signal_to_noise_ratio(dist_vec=dist_vec)\n",
    "    trace0 = go.Scatter(x=dist_vec, y=sum(noise.values()),   # Select 'lines', 'markers' or 'lines+markers'\n",
    "                        mode='lines+markers', name=cfg[9:])\n",
    "    data[i] = trace0\n",
    "    trace1 = go.Scatter(x=dist_vec, y=SNR,   # Select 'lines', 'markers' or 'lines+markers'\n",
    "                        mode='lines+markers', name=cfg[9:])\n",
    "    data2[i] = trace1\n",
    "    trace20 = go.Scatter(x=dist_vec, y=10*[5],   # Select 'lines', 'markers' or 'lines+markers'\n",
    "                        mode='lines', name='Low SNR limit for ToF')\n",
    "data2.append(trace20)\n",
    "layout = dict(title='Photonic simulation - Summed Noise',\n",
    "              xaxis=dict(title='Wall Distance [m]', type='log'),  # Select 'log' or 'linear'\n",
    "              yaxis=dict(title='Noise [e-]',type='log'),  # Select 'log' or 'linear'\n",
    "              template='plotly_dark',\n",
    "              barmode='group',\n",
    "              hovermode='x')\n",
    "\n",
    "iplot(dict(data=data, layout=layout))"
   ]
  },
  {
   "cell_type": "markdown",
   "metadata": {},
   "source": [
    "# SNR"
   ]
  },
  {
   "cell_type": "code",
   "execution_count": 9,
   "metadata": {},
   "outputs": [
    {
     "data": {
      "application/vnd.plotly.v1+json": {
       "config": {
        "linkText": "Export to plot.ly",
        "plotlyServerURL": "https://plot.ly",
        "showLink": false
       },
       "data": [
        {
         "mode": "lines+markers",
         "name": "night_850",
         "type": "scatter",
         "x": [
          0.5,
          0.7,
          1,
          1.5,
          2,
          3,
          4,
          5,
          7,
          10
         ],
         "y": [
          305.3693770178855,
          216.3595456217655,
          148.92772089138438,
          95.49248853974785,
          68.13430259983978,
          40.28571243632593,
          26.512302951012565,
          18.632666397032796,
          10.493321516982329,
          5.46875425064182
         ]
        },
        {
         "mode": "lines+markers",
         "name": "day_850",
         "type": "scatter",
         "x": [
          0.5,
          0.7,
          1,
          1.5,
          2,
          3,
          4,
          5,
          7,
          10
         ],
         "y": [
          275.65008653854784,
          180.40901098714625,
          109.05746731931399,
          57.067135595537735,
          34.51782011073041,
          16.276708141108557,
          9.36389884090605,
          6.057743301403805,
          3.1203867271084613,
          1.5368938160110237
         ]
        },
        {
         "mode": "lines+markers",
         "name": "night_940",
         "type": "scatter",
         "x": [
          0.5,
          0.7,
          1,
          1.5,
          2,
          3,
          4,
          5,
          7,
          10
         ],
         "y": [
          177.5108593633445,
          124.01376021990335,
          83.06658785152842,
          50.409979009459846,
          33.953324674408435,
          18.16472253405074,
          11.129432330716782,
          7.45159602571079,
          3.968509941698753,
          1.9925731837824976
         ]
        },
        {
         "mode": "lines+markers",
         "name": "day_940",
         "type": "scatter",
         "x": [
          0.5,
          0.7,
          1,
          1.5,
          2,
          3,
          4,
          5,
          7,
          10
         ],
         "y": [
          170.06276180465323,
          114.75711453941682,
          72.4756887006451,
          40.04436040263005,
          25.041913295000665,
          12.205808553068549,
          7.123110574873458,
          4.641563743697973,
          2.406853827508293,
          1.189820829136211
         ]
        },
        {
         "mode": "lines+markers",
         "name": "night_1375",
         "type": "scatter",
         "x": [
          0.5,
          0.7,
          1,
          1.5,
          2,
          3,
          4,
          5,
          7,
          10
         ],
         "y": [
          266.7431664083426,
          188.54730115960487,
          129.1710182340853,
          81.98246282822258,
          57.81344766425735,
          33.405470338750106,
          21.576652898933244,
          14.95544237127871,
          8.279051179433502,
          4.262397642350604
         ]
        },
        {
         "mode": "lines+markers",
         "name": "day_1375",
         "type": "scatter",
         "x": [
          0.5,
          0.7,
          1,
          1.5,
          2,
          3,
          4,
          5,
          7,
          10
         ],
         "y": [
          264.5739722866145,
          185.63680506110262,
          125.35699687566039,
          77.26019587710475,
          52.8202115509018,
          28.91553905491914,
          17.972651447286506,
          12.140169623861778,
          6.526186873867897,
          3.2957129719285345
         ]
        },
        {
         "mode": "lines+markers",
         "name": "night_1550",
         "type": "scatter",
         "x": [
          0.5,
          0.7,
          1,
          1.5,
          2,
          3,
          4,
          5,
          7,
          10
         ],
         "y": [
          173.95231342084764,
          121.4290538275791,
          81.21278841245376,
          49.14760283915997,
          33.0171847488266,
          17.596375085229734,
          10.756544604942022,
          7.192062387399786,
          3.8248539658197083,
          1.9187909690978917
         ]
        },
        {
         "mode": "lines+markers",
         "name": "day_1550",
         "type": "scatter",
         "x": [
          0.5,
          0.7,
          1,
          1.5,
          2,
          3,
          4,
          5,
          7,
          10
         ],
         "y": [
          161.7228683536562,
          106.75441080524557,
          65.2868136575692,
          34.62408668649438,
          21.104328730851755,
          10.024042532374061,
          5.7842069381073,
          3.747566427938354,
          1.933033130396539,
          0.9527951563266492
         ]
        },
        {
         "mode": "lines",
         "name": "Low SNR limit for ToF",
         "type": "scatter",
         "x": [
          0.5,
          0.7,
          1,
          1.5,
          2,
          3,
          4,
          5,
          7,
          10
         ],
         "y": [
          5,
          5,
          5,
          5,
          5,
          5,
          5,
          5,
          5,
          5
         ]
        }
       ],
       "layout": {
        "barmode": "group",
        "hovermode": "x",
        "template": {
         "data": {
          "bar": [
           {
            "error_x": {
             "color": "#f2f5fa"
            },
            "error_y": {
             "color": "#f2f5fa"
            },
            "marker": {
             "line": {
              "color": "rgb(17,17,17)",
              "width": 0.5
             }
            },
            "type": "bar"
           }
          ],
          "barpolar": [
           {
            "marker": {
             "line": {
              "color": "rgb(17,17,17)",
              "width": 0.5
             }
            },
            "type": "barpolar"
           }
          ],
          "carpet": [
           {
            "aaxis": {
             "endlinecolor": "#A2B1C6",
             "gridcolor": "#506784",
             "linecolor": "#506784",
             "minorgridcolor": "#506784",
             "startlinecolor": "#A2B1C6"
            },
            "baxis": {
             "endlinecolor": "#A2B1C6",
             "gridcolor": "#506784",
             "linecolor": "#506784",
             "minorgridcolor": "#506784",
             "startlinecolor": "#A2B1C6"
            },
            "type": "carpet"
           }
          ],
          "choropleth": [
           {
            "colorbar": {
             "outlinewidth": 0,
             "ticks": ""
            },
            "type": "choropleth"
           }
          ],
          "contour": [
           {
            "colorbar": {
             "outlinewidth": 0,
             "ticks": ""
            },
            "colorscale": [
             [
              0,
              "#0d0887"
             ],
             [
              0.1111111111111111,
              "#46039f"
             ],
             [
              0.2222222222222222,
              "#7201a8"
             ],
             [
              0.3333333333333333,
              "#9c179e"
             ],
             [
              0.4444444444444444,
              "#bd3786"
             ],
             [
              0.5555555555555556,
              "#d8576b"
             ],
             [
              0.6666666666666666,
              "#ed7953"
             ],
             [
              0.7777777777777778,
              "#fb9f3a"
             ],
             [
              0.8888888888888888,
              "#fdca26"
             ],
             [
              1,
              "#f0f921"
             ]
            ],
            "type": "contour"
           }
          ],
          "contourcarpet": [
           {
            "colorbar": {
             "outlinewidth": 0,
             "ticks": ""
            },
            "type": "contourcarpet"
           }
          ],
          "heatmap": [
           {
            "colorbar": {
             "outlinewidth": 0,
             "ticks": ""
            },
            "colorscale": [
             [
              0,
              "#0d0887"
             ],
             [
              0.1111111111111111,
              "#46039f"
             ],
             [
              0.2222222222222222,
              "#7201a8"
             ],
             [
              0.3333333333333333,
              "#9c179e"
             ],
             [
              0.4444444444444444,
              "#bd3786"
             ],
             [
              0.5555555555555556,
              "#d8576b"
             ],
             [
              0.6666666666666666,
              "#ed7953"
             ],
             [
              0.7777777777777778,
              "#fb9f3a"
             ],
             [
              0.8888888888888888,
              "#fdca26"
             ],
             [
              1,
              "#f0f921"
             ]
            ],
            "type": "heatmap"
           }
          ],
          "heatmapgl": [
           {
            "colorbar": {
             "outlinewidth": 0,
             "ticks": ""
            },
            "colorscale": [
             [
              0,
              "#0d0887"
             ],
             [
              0.1111111111111111,
              "#46039f"
             ],
             [
              0.2222222222222222,
              "#7201a8"
             ],
             [
              0.3333333333333333,
              "#9c179e"
             ],
             [
              0.4444444444444444,
              "#bd3786"
             ],
             [
              0.5555555555555556,
              "#d8576b"
             ],
             [
              0.6666666666666666,
              "#ed7953"
             ],
             [
              0.7777777777777778,
              "#fb9f3a"
             ],
             [
              0.8888888888888888,
              "#fdca26"
             ],
             [
              1,
              "#f0f921"
             ]
            ],
            "type": "heatmapgl"
           }
          ],
          "histogram": [
           {
            "marker": {
             "colorbar": {
              "outlinewidth": 0,
              "ticks": ""
             }
            },
            "type": "histogram"
           }
          ],
          "histogram2d": [
           {
            "colorbar": {
             "outlinewidth": 0,
             "ticks": ""
            },
            "colorscale": [
             [
              0,
              "#0d0887"
             ],
             [
              0.1111111111111111,
              "#46039f"
             ],
             [
              0.2222222222222222,
              "#7201a8"
             ],
             [
              0.3333333333333333,
              "#9c179e"
             ],
             [
              0.4444444444444444,
              "#bd3786"
             ],
             [
              0.5555555555555556,
              "#d8576b"
             ],
             [
              0.6666666666666666,
              "#ed7953"
             ],
             [
              0.7777777777777778,
              "#fb9f3a"
             ],
             [
              0.8888888888888888,
              "#fdca26"
             ],
             [
              1,
              "#f0f921"
             ]
            ],
            "type": "histogram2d"
           }
          ],
          "histogram2dcontour": [
           {
            "colorbar": {
             "outlinewidth": 0,
             "ticks": ""
            },
            "colorscale": [
             [
              0,
              "#0d0887"
             ],
             [
              0.1111111111111111,
              "#46039f"
             ],
             [
              0.2222222222222222,
              "#7201a8"
             ],
             [
              0.3333333333333333,
              "#9c179e"
             ],
             [
              0.4444444444444444,
              "#bd3786"
             ],
             [
              0.5555555555555556,
              "#d8576b"
             ],
             [
              0.6666666666666666,
              "#ed7953"
             ],
             [
              0.7777777777777778,
              "#fb9f3a"
             ],
             [
              0.8888888888888888,
              "#fdca26"
             ],
             [
              1,
              "#f0f921"
             ]
            ],
            "type": "histogram2dcontour"
           }
          ],
          "mesh3d": [
           {
            "colorbar": {
             "outlinewidth": 0,
             "ticks": ""
            },
            "type": "mesh3d"
           }
          ],
          "parcoords": [
           {
            "line": {
             "colorbar": {
              "outlinewidth": 0,
              "ticks": ""
             }
            },
            "type": "parcoords"
           }
          ],
          "scatter": [
           {
            "marker": {
             "line": {
              "color": "#283442"
             }
            },
            "type": "scatter"
           }
          ],
          "scatter3d": [
           {
            "line": {
             "colorbar": {
              "outlinewidth": 0,
              "ticks": ""
             }
            },
            "marker": {
             "colorbar": {
              "outlinewidth": 0,
              "ticks": ""
             }
            },
            "type": "scatter3d"
           }
          ],
          "scattercarpet": [
           {
            "marker": {
             "colorbar": {
              "outlinewidth": 0,
              "ticks": ""
             }
            },
            "type": "scattercarpet"
           }
          ],
          "scattergeo": [
           {
            "marker": {
             "colorbar": {
              "outlinewidth": 0,
              "ticks": ""
             }
            },
            "type": "scattergeo"
           }
          ],
          "scattergl": [
           {
            "marker": {
             "line": {
              "color": "#283442"
             }
            },
            "type": "scattergl"
           }
          ],
          "scattermapbox": [
           {
            "marker": {
             "colorbar": {
              "outlinewidth": 0,
              "ticks": ""
             }
            },
            "type": "scattermapbox"
           }
          ],
          "scatterpolar": [
           {
            "marker": {
             "colorbar": {
              "outlinewidth": 0,
              "ticks": ""
             }
            },
            "type": "scatterpolar"
           }
          ],
          "scatterpolargl": [
           {
            "marker": {
             "colorbar": {
              "outlinewidth": 0,
              "ticks": ""
             }
            },
            "type": "scatterpolargl"
           }
          ],
          "scatterternary": [
           {
            "marker": {
             "colorbar": {
              "outlinewidth": 0,
              "ticks": ""
             }
            },
            "type": "scatterternary"
           }
          ],
          "surface": [
           {
            "colorbar": {
             "outlinewidth": 0,
             "ticks": ""
            },
            "colorscale": [
             [
              0,
              "#0d0887"
             ],
             [
              0.1111111111111111,
              "#46039f"
             ],
             [
              0.2222222222222222,
              "#7201a8"
             ],
             [
              0.3333333333333333,
              "#9c179e"
             ],
             [
              0.4444444444444444,
              "#bd3786"
             ],
             [
              0.5555555555555556,
              "#d8576b"
             ],
             [
              0.6666666666666666,
              "#ed7953"
             ],
             [
              0.7777777777777778,
              "#fb9f3a"
             ],
             [
              0.8888888888888888,
              "#fdca26"
             ],
             [
              1,
              "#f0f921"
             ]
            ],
            "type": "surface"
           }
          ],
          "table": [
           {
            "cells": {
             "fill": {
              "color": "#506784"
             },
             "line": {
              "color": "rgb(17,17,17)"
             }
            },
            "header": {
             "fill": {
              "color": "#2a3f5f"
             },
             "line": {
              "color": "rgb(17,17,17)"
             }
            },
            "type": "table"
           }
          ]
         },
         "layout": {
          "annotationdefaults": {
           "arrowcolor": "#f2f5fa",
           "arrowhead": 0,
           "arrowwidth": 1
          },
          "colorscale": {
           "diverging": [
            [
             0,
             "#8e0152"
            ],
            [
             0.1,
             "#c51b7d"
            ],
            [
             0.2,
             "#de77ae"
            ],
            [
             0.3,
             "#f1b6da"
            ],
            [
             0.4,
             "#fde0ef"
            ],
            [
             0.5,
             "#f7f7f7"
            ],
            [
             0.6,
             "#e6f5d0"
            ],
            [
             0.7,
             "#b8e186"
            ],
            [
             0.8,
             "#7fbc41"
            ],
            [
             0.9,
             "#4d9221"
            ],
            [
             1,
             "#276419"
            ]
           ],
           "sequential": [
            [
             0,
             "#0d0887"
            ],
            [
             0.1111111111111111,
             "#46039f"
            ],
            [
             0.2222222222222222,
             "#7201a8"
            ],
            [
             0.3333333333333333,
             "#9c179e"
            ],
            [
             0.4444444444444444,
             "#bd3786"
            ],
            [
             0.5555555555555556,
             "#d8576b"
            ],
            [
             0.6666666666666666,
             "#ed7953"
            ],
            [
             0.7777777777777778,
             "#fb9f3a"
            ],
            [
             0.8888888888888888,
             "#fdca26"
            ],
            [
             1,
             "#f0f921"
            ]
           ],
           "sequentialminus": [
            [
             0,
             "#0d0887"
            ],
            [
             0.1111111111111111,
             "#46039f"
            ],
            [
             0.2222222222222222,
             "#7201a8"
            ],
            [
             0.3333333333333333,
             "#9c179e"
            ],
            [
             0.4444444444444444,
             "#bd3786"
            ],
            [
             0.5555555555555556,
             "#d8576b"
            ],
            [
             0.6666666666666666,
             "#ed7953"
            ],
            [
             0.7777777777777778,
             "#fb9f3a"
            ],
            [
             0.8888888888888888,
             "#fdca26"
            ],
            [
             1,
             "#f0f921"
            ]
           ]
          },
          "colorway": [
           "#636efa",
           "#EF553B",
           "#00cc96",
           "#ab63fa",
           "#FFA15A",
           "#19d3f3",
           "#FF6692",
           "#B6E880",
           "#FF97FF",
           "#FECB52"
          ],
          "font": {
           "color": "#f2f5fa"
          },
          "geo": {
           "bgcolor": "rgb(17,17,17)",
           "lakecolor": "rgb(17,17,17)",
           "landcolor": "rgb(17,17,17)",
           "showlakes": true,
           "showland": true,
           "subunitcolor": "#506784"
          },
          "hoverlabel": {
           "align": "left"
          },
          "hovermode": "closest",
          "mapbox": {
           "style": "dark"
          },
          "paper_bgcolor": "rgb(17,17,17)",
          "plot_bgcolor": "rgb(17,17,17)",
          "polar": {
           "angularaxis": {
            "gridcolor": "#506784",
            "linecolor": "#506784",
            "ticks": ""
           },
           "bgcolor": "rgb(17,17,17)",
           "radialaxis": {
            "gridcolor": "#506784",
            "linecolor": "#506784",
            "ticks": ""
           }
          },
          "scene": {
           "xaxis": {
            "backgroundcolor": "rgb(17,17,17)",
            "gridcolor": "#506784",
            "gridwidth": 2,
            "linecolor": "#506784",
            "showbackground": true,
            "ticks": "",
            "zerolinecolor": "#C8D4E3"
           },
           "yaxis": {
            "backgroundcolor": "rgb(17,17,17)",
            "gridcolor": "#506784",
            "gridwidth": 2,
            "linecolor": "#506784",
            "showbackground": true,
            "ticks": "",
            "zerolinecolor": "#C8D4E3"
           },
           "zaxis": {
            "backgroundcolor": "rgb(17,17,17)",
            "gridcolor": "#506784",
            "gridwidth": 2,
            "linecolor": "#506784",
            "showbackground": true,
            "ticks": "",
            "zerolinecolor": "#C8D4E3"
           }
          },
          "shapedefaults": {
           "line": {
            "color": "#f2f5fa"
           }
          },
          "sliderdefaults": {
           "bgcolor": "#C8D4E3",
           "bordercolor": "rgb(17,17,17)",
           "borderwidth": 1,
           "tickwidth": 0
          },
          "ternary": {
           "aaxis": {
            "gridcolor": "#506784",
            "linecolor": "#506784",
            "ticks": ""
           },
           "baxis": {
            "gridcolor": "#506784",
            "linecolor": "#506784",
            "ticks": ""
           },
           "bgcolor": "rgb(17,17,17)",
           "caxis": {
            "gridcolor": "#506784",
            "linecolor": "#506784",
            "ticks": ""
           }
          },
          "title": {
           "x": 0.05
          },
          "updatemenudefaults": {
           "bgcolor": "#506784",
           "borderwidth": 0
          },
          "xaxis": {
           "automargin": true,
           "gridcolor": "#283442",
           "linecolor": "#506784",
           "ticks": "",
           "zerolinecolor": "#283442",
           "zerolinewidth": 2
          },
          "yaxis": {
           "automargin": true,
           "gridcolor": "#283442",
           "linecolor": "#506784",
           "ticks": "",
           "zerolinecolor": "#283442",
           "zerolinewidth": 2
          }
         }
        },
        "title": {
         "text": "Photonic simulation - SNR"
        },
        "xaxis": {
         "title": {
          "text": "Wall Distance [m]"
         },
         "type": "log"
        },
        "yaxis": {
         "title": {
          "text": "SNR"
         },
         "type": "log"
        }
       }
      },
      "text/html": [
       "<div>\n",
       "        \n",
       "        \n",
       "            <div id=\"56440c19-e595-4c25-ba9e-39bd61061c11\" class=\"plotly-graph-div\" style=\"height:525px; width:100%;\"></div>\n",
       "            <script type=\"text/javascript\">\n",
       "                require([\"plotly\"], function(Plotly) {\n",
       "                    window.PLOTLYENV=window.PLOTLYENV || {};\n",
       "                    \n",
       "                if (document.getElementById(\"56440c19-e595-4c25-ba9e-39bd61061c11\")) {\n",
       "                    Plotly.newPlot(\n",
       "                        '56440c19-e595-4c25-ba9e-39bd61061c11',\n",
       "                        [{\"mode\": \"lines+markers\", \"name\": \"night_850\", \"type\": \"scatter\", \"x\": [0.5, 0.7, 1.0, 1.5, 2.0, 3.0, 4.0, 5.0, 7.0, 10.0], \"y\": [305.3693770178855, 216.3595456217655, 148.92772089138438, 95.49248853974785, 68.13430259983978, 40.28571243632593, 26.512302951012565, 18.632666397032796, 10.493321516982329, 5.46875425064182]}, {\"mode\": \"lines+markers\", \"name\": \"day_850\", \"type\": \"scatter\", \"x\": [0.5, 0.7, 1.0, 1.5, 2.0, 3.0, 4.0, 5.0, 7.0, 10.0], \"y\": [275.65008653854784, 180.40901098714625, 109.05746731931399, 57.067135595537735, 34.51782011073041, 16.276708141108557, 9.36389884090605, 6.057743301403805, 3.1203867271084613, 1.5368938160110237]}, {\"mode\": \"lines+markers\", \"name\": \"night_940\", \"type\": \"scatter\", \"x\": [0.5, 0.7, 1.0, 1.5, 2.0, 3.0, 4.0, 5.0, 7.0, 10.0], \"y\": [177.5108593633445, 124.01376021990335, 83.06658785152842, 50.409979009459846, 33.953324674408435, 18.16472253405074, 11.129432330716782, 7.45159602571079, 3.968509941698753, 1.9925731837824976]}, {\"mode\": \"lines+markers\", \"name\": \"day_940\", \"type\": \"scatter\", \"x\": [0.5, 0.7, 1.0, 1.5, 2.0, 3.0, 4.0, 5.0, 7.0, 10.0], \"y\": [170.06276180465323, 114.75711453941682, 72.4756887006451, 40.04436040263005, 25.041913295000665, 12.205808553068549, 7.123110574873458, 4.641563743697973, 2.406853827508293, 1.189820829136211]}, {\"mode\": \"lines+markers\", \"name\": \"night_1375\", \"type\": \"scatter\", \"x\": [0.5, 0.7, 1.0, 1.5, 2.0, 3.0, 4.0, 5.0, 7.0, 10.0], \"y\": [266.7431664083426, 188.54730115960487, 129.1710182340853, 81.98246282822258, 57.81344766425735, 33.405470338750106, 21.576652898933244, 14.95544237127871, 8.279051179433502, 4.262397642350604]}, {\"mode\": \"lines+markers\", \"name\": \"day_1375\", \"type\": \"scatter\", \"x\": [0.5, 0.7, 1.0, 1.5, 2.0, 3.0, 4.0, 5.0, 7.0, 10.0], \"y\": [264.5739722866145, 185.63680506110262, 125.35699687566039, 77.26019587710475, 52.8202115509018, 28.91553905491914, 17.972651447286506, 12.140169623861778, 6.526186873867897, 3.2957129719285345]}, {\"mode\": \"lines+markers\", \"name\": \"night_1550\", \"type\": \"scatter\", \"x\": [0.5, 0.7, 1.0, 1.5, 2.0, 3.0, 4.0, 5.0, 7.0, 10.0], \"y\": [173.95231342084764, 121.4290538275791, 81.21278841245376, 49.14760283915997, 33.0171847488266, 17.596375085229734, 10.756544604942022, 7.192062387399786, 3.8248539658197083, 1.9187909690978917]}, {\"mode\": \"lines+markers\", \"name\": \"day_1550\", \"type\": \"scatter\", \"x\": [0.5, 0.7, 1.0, 1.5, 2.0, 3.0, 4.0, 5.0, 7.0, 10.0], \"y\": [161.7228683536562, 106.75441080524557, 65.2868136575692, 34.62408668649438, 21.104328730851755, 10.024042532374061, 5.7842069381073, 3.747566427938354, 1.933033130396539, 0.9527951563266492]}, {\"mode\": \"lines\", \"name\": \"Low SNR limit for ToF\", \"type\": \"scatter\", \"x\": [0.5, 0.7, 1.0, 1.5, 2.0, 3.0, 4.0, 5.0, 7.0, 10.0], \"y\": [5, 5, 5, 5, 5, 5, 5, 5, 5, 5]}],\n",
       "                        {\"barmode\": \"group\", \"hovermode\": \"x\", \"template\": {\"data\": {\"bar\": [{\"error_x\": {\"color\": \"#f2f5fa\"}, \"error_y\": {\"color\": \"#f2f5fa\"}, \"marker\": {\"line\": {\"color\": \"rgb(17,17,17)\", \"width\": 0.5}}, \"type\": \"bar\"}], \"barpolar\": [{\"marker\": {\"line\": {\"color\": \"rgb(17,17,17)\", \"width\": 0.5}}, \"type\": \"barpolar\"}], \"carpet\": [{\"aaxis\": {\"endlinecolor\": \"#A2B1C6\", \"gridcolor\": \"#506784\", \"linecolor\": \"#506784\", \"minorgridcolor\": \"#506784\", \"startlinecolor\": \"#A2B1C6\"}, \"baxis\": {\"endlinecolor\": \"#A2B1C6\", \"gridcolor\": \"#506784\", \"linecolor\": \"#506784\", \"minorgridcolor\": \"#506784\", \"startlinecolor\": \"#A2B1C6\"}, \"type\": \"carpet\"}], \"choropleth\": [{\"colorbar\": {\"outlinewidth\": 0, \"ticks\": \"\"}, \"type\": \"choropleth\"}], \"contour\": [{\"colorbar\": {\"outlinewidth\": 0, \"ticks\": \"\"}, \"colorscale\": [[0.0, \"#0d0887\"], [0.1111111111111111, \"#46039f\"], [0.2222222222222222, \"#7201a8\"], [0.3333333333333333, \"#9c179e\"], [0.4444444444444444, \"#bd3786\"], [0.5555555555555556, \"#d8576b\"], [0.6666666666666666, \"#ed7953\"], [0.7777777777777778, \"#fb9f3a\"], [0.8888888888888888, \"#fdca26\"], [1.0, \"#f0f921\"]], \"type\": \"contour\"}], \"contourcarpet\": [{\"colorbar\": {\"outlinewidth\": 0, \"ticks\": \"\"}, \"type\": \"contourcarpet\"}], \"heatmap\": [{\"colorbar\": {\"outlinewidth\": 0, \"ticks\": \"\"}, \"colorscale\": [[0.0, \"#0d0887\"], [0.1111111111111111, \"#46039f\"], [0.2222222222222222, \"#7201a8\"], [0.3333333333333333, \"#9c179e\"], [0.4444444444444444, \"#bd3786\"], [0.5555555555555556, \"#d8576b\"], [0.6666666666666666, \"#ed7953\"], [0.7777777777777778, \"#fb9f3a\"], [0.8888888888888888, \"#fdca26\"], [1.0, \"#f0f921\"]], \"type\": \"heatmap\"}], \"heatmapgl\": [{\"colorbar\": {\"outlinewidth\": 0, \"ticks\": \"\"}, \"colorscale\": [[0.0, \"#0d0887\"], [0.1111111111111111, \"#46039f\"], [0.2222222222222222, \"#7201a8\"], [0.3333333333333333, \"#9c179e\"], [0.4444444444444444, \"#bd3786\"], [0.5555555555555556, \"#d8576b\"], [0.6666666666666666, \"#ed7953\"], [0.7777777777777778, \"#fb9f3a\"], [0.8888888888888888, \"#fdca26\"], [1.0, \"#f0f921\"]], \"type\": \"heatmapgl\"}], \"histogram\": [{\"marker\": {\"colorbar\": {\"outlinewidth\": 0, \"ticks\": \"\"}}, \"type\": \"histogram\"}], \"histogram2d\": [{\"colorbar\": {\"outlinewidth\": 0, \"ticks\": \"\"}, \"colorscale\": [[0.0, \"#0d0887\"], [0.1111111111111111, \"#46039f\"], [0.2222222222222222, \"#7201a8\"], [0.3333333333333333, \"#9c179e\"], [0.4444444444444444, \"#bd3786\"], [0.5555555555555556, \"#d8576b\"], [0.6666666666666666, \"#ed7953\"], [0.7777777777777778, \"#fb9f3a\"], [0.8888888888888888, \"#fdca26\"], [1.0, \"#f0f921\"]], \"type\": \"histogram2d\"}], \"histogram2dcontour\": [{\"colorbar\": {\"outlinewidth\": 0, \"ticks\": \"\"}, \"colorscale\": [[0.0, \"#0d0887\"], [0.1111111111111111, \"#46039f\"], [0.2222222222222222, \"#7201a8\"], [0.3333333333333333, \"#9c179e\"], [0.4444444444444444, \"#bd3786\"], [0.5555555555555556, \"#d8576b\"], [0.6666666666666666, \"#ed7953\"], [0.7777777777777778, \"#fb9f3a\"], [0.8888888888888888, \"#fdca26\"], [1.0, \"#f0f921\"]], \"type\": \"histogram2dcontour\"}], \"mesh3d\": [{\"colorbar\": {\"outlinewidth\": 0, \"ticks\": \"\"}, \"type\": \"mesh3d\"}], \"parcoords\": [{\"line\": {\"colorbar\": {\"outlinewidth\": 0, \"ticks\": \"\"}}, \"type\": \"parcoords\"}], \"scatter\": [{\"marker\": {\"line\": {\"color\": \"#283442\"}}, \"type\": \"scatter\"}], \"scatter3d\": [{\"line\": {\"colorbar\": {\"outlinewidth\": 0, \"ticks\": \"\"}}, \"marker\": {\"colorbar\": {\"outlinewidth\": 0, \"ticks\": \"\"}}, \"type\": \"scatter3d\"}], \"scattercarpet\": [{\"marker\": {\"colorbar\": {\"outlinewidth\": 0, \"ticks\": \"\"}}, \"type\": \"scattercarpet\"}], \"scattergeo\": [{\"marker\": {\"colorbar\": {\"outlinewidth\": 0, \"ticks\": \"\"}}, \"type\": \"scattergeo\"}], \"scattergl\": [{\"marker\": {\"line\": {\"color\": \"#283442\"}}, \"type\": \"scattergl\"}], \"scattermapbox\": [{\"marker\": {\"colorbar\": {\"outlinewidth\": 0, \"ticks\": \"\"}}, \"type\": \"scattermapbox\"}], \"scatterpolar\": [{\"marker\": {\"colorbar\": {\"outlinewidth\": 0, \"ticks\": \"\"}}, \"type\": \"scatterpolar\"}], \"scatterpolargl\": [{\"marker\": {\"colorbar\": {\"outlinewidth\": 0, \"ticks\": \"\"}}, \"type\": \"scatterpolargl\"}], \"scatterternary\": [{\"marker\": {\"colorbar\": {\"outlinewidth\": 0, \"ticks\": \"\"}}, \"type\": \"scatterternary\"}], \"surface\": [{\"colorbar\": {\"outlinewidth\": 0, \"ticks\": \"\"}, \"colorscale\": [[0.0, \"#0d0887\"], [0.1111111111111111, \"#46039f\"], [0.2222222222222222, \"#7201a8\"], [0.3333333333333333, \"#9c179e\"], [0.4444444444444444, \"#bd3786\"], [0.5555555555555556, \"#d8576b\"], [0.6666666666666666, \"#ed7953\"], [0.7777777777777778, \"#fb9f3a\"], [0.8888888888888888, \"#fdca26\"], [1.0, \"#f0f921\"]], \"type\": \"surface\"}], \"table\": [{\"cells\": {\"fill\": {\"color\": \"#506784\"}, \"line\": {\"color\": \"rgb(17,17,17)\"}}, \"header\": {\"fill\": {\"color\": \"#2a3f5f\"}, \"line\": {\"color\": \"rgb(17,17,17)\"}}, \"type\": \"table\"}]}, \"layout\": {\"annotationdefaults\": {\"arrowcolor\": \"#f2f5fa\", \"arrowhead\": 0, \"arrowwidth\": 1}, \"colorscale\": {\"diverging\": [[0, \"#8e0152\"], [0.1, \"#c51b7d\"], [0.2, \"#de77ae\"], [0.3, \"#f1b6da\"], [0.4, \"#fde0ef\"], [0.5, \"#f7f7f7\"], [0.6, \"#e6f5d0\"], [0.7, \"#b8e186\"], [0.8, \"#7fbc41\"], [0.9, \"#4d9221\"], [1, \"#276419\"]], \"sequential\": [[0.0, \"#0d0887\"], [0.1111111111111111, \"#46039f\"], [0.2222222222222222, \"#7201a8\"], [0.3333333333333333, \"#9c179e\"], [0.4444444444444444, \"#bd3786\"], [0.5555555555555556, \"#d8576b\"], [0.6666666666666666, \"#ed7953\"], [0.7777777777777778, \"#fb9f3a\"], [0.8888888888888888, \"#fdca26\"], [1.0, \"#f0f921\"]], \"sequentialminus\": [[0.0, \"#0d0887\"], [0.1111111111111111, \"#46039f\"], [0.2222222222222222, \"#7201a8\"], [0.3333333333333333, \"#9c179e\"], [0.4444444444444444, \"#bd3786\"], [0.5555555555555556, \"#d8576b\"], [0.6666666666666666, \"#ed7953\"], [0.7777777777777778, \"#fb9f3a\"], [0.8888888888888888, \"#fdca26\"], [1.0, \"#f0f921\"]]}, \"colorway\": [\"#636efa\", \"#EF553B\", \"#00cc96\", \"#ab63fa\", \"#FFA15A\", \"#19d3f3\", \"#FF6692\", \"#B6E880\", \"#FF97FF\", \"#FECB52\"], \"font\": {\"color\": \"#f2f5fa\"}, \"geo\": {\"bgcolor\": \"rgb(17,17,17)\", \"lakecolor\": \"rgb(17,17,17)\", \"landcolor\": \"rgb(17,17,17)\", \"showlakes\": true, \"showland\": true, \"subunitcolor\": \"#506784\"}, \"hoverlabel\": {\"align\": \"left\"}, \"hovermode\": \"closest\", \"mapbox\": {\"style\": \"dark\"}, \"paper_bgcolor\": \"rgb(17,17,17)\", \"plot_bgcolor\": \"rgb(17,17,17)\", \"polar\": {\"angularaxis\": {\"gridcolor\": \"#506784\", \"linecolor\": \"#506784\", \"ticks\": \"\"}, \"bgcolor\": \"rgb(17,17,17)\", \"radialaxis\": {\"gridcolor\": \"#506784\", \"linecolor\": \"#506784\", \"ticks\": \"\"}}, \"scene\": {\"xaxis\": {\"backgroundcolor\": \"rgb(17,17,17)\", \"gridcolor\": \"#506784\", \"gridwidth\": 2, \"linecolor\": \"#506784\", \"showbackground\": true, \"ticks\": \"\", \"zerolinecolor\": \"#C8D4E3\"}, \"yaxis\": {\"backgroundcolor\": \"rgb(17,17,17)\", \"gridcolor\": \"#506784\", \"gridwidth\": 2, \"linecolor\": \"#506784\", \"showbackground\": true, \"ticks\": \"\", \"zerolinecolor\": \"#C8D4E3\"}, \"zaxis\": {\"backgroundcolor\": \"rgb(17,17,17)\", \"gridcolor\": \"#506784\", \"gridwidth\": 2, \"linecolor\": \"#506784\", \"showbackground\": true, \"ticks\": \"\", \"zerolinecolor\": \"#C8D4E3\"}}, \"shapedefaults\": {\"line\": {\"color\": \"#f2f5fa\"}}, \"sliderdefaults\": {\"bgcolor\": \"#C8D4E3\", \"bordercolor\": \"rgb(17,17,17)\", \"borderwidth\": 1, \"tickwidth\": 0}, \"ternary\": {\"aaxis\": {\"gridcolor\": \"#506784\", \"linecolor\": \"#506784\", \"ticks\": \"\"}, \"baxis\": {\"gridcolor\": \"#506784\", \"linecolor\": \"#506784\", \"ticks\": \"\"}, \"bgcolor\": \"rgb(17,17,17)\", \"caxis\": {\"gridcolor\": \"#506784\", \"linecolor\": \"#506784\", \"ticks\": \"\"}}, \"title\": {\"x\": 0.05}, \"updatemenudefaults\": {\"bgcolor\": \"#506784\", \"borderwidth\": 0}, \"xaxis\": {\"automargin\": true, \"gridcolor\": \"#283442\", \"linecolor\": \"#506784\", \"ticks\": \"\", \"zerolinecolor\": \"#283442\", \"zerolinewidth\": 2}, \"yaxis\": {\"automargin\": true, \"gridcolor\": \"#283442\", \"linecolor\": \"#506784\", \"ticks\": \"\", \"zerolinecolor\": \"#283442\", \"zerolinewidth\": 2}}}, \"title\": {\"text\": \"Photonic simulation - SNR\"}, \"xaxis\": {\"title\": {\"text\": \"Wall Distance [m]\"}, \"type\": \"log\"}, \"yaxis\": {\"title\": {\"text\": \"SNR\"}, \"type\": \"log\"}},\n",
       "                        {\"responsive\": true}\n",
       "                    ).then(function(){\n",
       "                            \n",
       "var gd = document.getElementById('56440c19-e595-4c25-ba9e-39bd61061c11');\n",
       "var x = new MutationObserver(function (mutations, observer) {{\n",
       "        var display = window.getComputedStyle(gd).display;\n",
       "        if (!display || display === 'none') {{\n",
       "            console.log([gd, 'removed!']);\n",
       "            Plotly.purge(gd);\n",
       "            observer.disconnect();\n",
       "        }}\n",
       "}});\n",
       "\n",
       "// Listen for the removal of the full notebook cells\n",
       "var notebookContainer = gd.closest('#notebook-container');\n",
       "if (notebookContainer) {{\n",
       "    x.observe(notebookContainer, {childList: true});\n",
       "}}\n",
       "\n",
       "// Listen for the clearing of the current output cell\n",
       "var outputEl = gd.closest('.output');\n",
       "if (outputEl) {{\n",
       "    x.observe(outputEl, {childList: true});\n",
       "}}\n",
       "\n",
       "                        })\n",
       "                };\n",
       "                });\n",
       "            </script>\n",
       "        </div>"
      ]
     },
     "metadata": {},
     "output_type": "display_data"
    }
   ],
   "source": [
    "layout = dict(title='Photonic simulation - SNR',\n",
    "              xaxis=dict(title='Wall Distance [m]', type='log'),  # Select 'log' or 'linear'\n",
    "              yaxis=dict(title='SNR',type='log'),  # Select 'log' or 'linear'\n",
    "              template='plotly_dark',\n",
    "              barmode='group',\n",
    "              hovermode='x')\n",
    "\n",
    "iplot(dict(data=data2, layout=layout))"
   ]
  },
  {
   "cell_type": "markdown",
   "metadata": {},
   "source": [
    "# All component"
   ]
  },
  {
   "cell_type": "code",
   "execution_count": 10,
   "metadata": {
    "scrolled": false
   },
   "outputs": [
    {
     "data": {
      "application/vnd.plotly.v1+json": {
       "config": {
        "linkText": "Export to plot.ly",
        "plotlyServerURL": "https://plot.ly",
        "showLink": false
       },
       "data": [
        {
         "mode": "lines+markers",
         "name": "wallFlux [W/m^2]",
         "type": "scatter",
         "x": [
          0.5,
          0.7,
          1,
          1.5,
          2,
          3,
          4,
          5,
          7,
          10
         ],
         "y": [
          65343.478776424236,
          33338.50957980829,
          16335.869694106059,
          7260.386530713804,
          4083.9674235265147,
          1815.096632678451,
          1020.9918558816287,
          653.4347877642424,
          333.38509579808283,
          163.3586969410606
         ]
        },
        {
         "mode": "lines+markers",
         "name": "Solar wallFlux [W/m^2]",
         "type": "scatter",
         "x": [
          0.5,
          0.7,
          1,
          1.5,
          2,
          3,
          4,
          5,
          7,
          10
         ],
         "y": [
          1100.1089743589632,
          1100.1089743589632,
          1100.1089743589632,
          1100.1089743589632,
          1100.1089743589632,
          1100.1089743589632,
          1100.1089743589632,
          1100.1089743589632,
          1100.1089743589632,
          1100.1089743589632
         ]
        },
        {
         "mode": "lines+markers",
         "name": "siliconFlux [W/m^2]",
         "type": "scatter",
         "x": [
          0.5,
          0.7,
          1,
          1.5,
          2,
          3,
          4,
          5,
          7,
          10
         ],
         "y": [
          3750.582327728432,
          1913.5624121063433,
          937.645581932108,
          416.7313697476036,
          234.411395483027,
          104.1828424369009,
          58.60284887075675,
          37.50582327728433,
          19.13562412106343,
          9.376455819321082
         ]
        },
        {
         "mode": "lines+markers",
         "name": "photoelectrons / frame",
         "type": "scatter",
         "x": [
          0.5,
          0.7,
          1,
          1.5,
          2,
          3,
          4,
          5,
          7,
          10
         ],
         "y": [
          72754.8598205892,
          37119.82643907613,
          18188.7149551473,
          8083.873313398801,
          4547.178738786825,
          2020.9683283497002,
          1136.7946846967063,
          727.5485982058923,
          371.1982643907612,
          181.88714955147307
         ]
        },
        {
         "mode": "lines+markers",
         "name": "SNR",
         "type": "scatter",
         "x": [
          0.5,
          0.7,
          1,
          1.5,
          2,
          3,
          4,
          5,
          7,
          10
         ],
         "y": [
          264.5739722866145,
          185.63680506110262,
          125.35699687566039,
          77.26019587710475,
          52.8202115509018,
          28.91553905491914,
          17.972651447286506,
          12.140169623861778,
          6.526186873867897,
          3.2957129719285345
         ]
        },
        {
         "mode": "text",
         "name": "text",
         "text": [
          "Photonic simulation of light created by a light source attached to a camera<br>1. Flux is calculated on a wall at a certain distance assuming CW lighting mode<br>2. Flux on the focal plane of the silicon sensor as imaged from the wall thru the lens<br>3. Photoelectrons per a single burst collect in the photodiode of the pixel"
         ],
         "textposition": "top right",
         "type": "scatter",
         "x": [
          0.5
         ],
         "y": [
          0.2
         ]
        }
       ],
       "layout": {
        "barmode": "group",
        "hovermode": "x",
        "template": {
         "data": {
          "bar": [
           {
            "error_x": {
             "color": "#f2f5fa"
            },
            "error_y": {
             "color": "#f2f5fa"
            },
            "marker": {
             "line": {
              "color": "rgb(17,17,17)",
              "width": 0.5
             }
            },
            "type": "bar"
           }
          ],
          "barpolar": [
           {
            "marker": {
             "line": {
              "color": "rgb(17,17,17)",
              "width": 0.5
             }
            },
            "type": "barpolar"
           }
          ],
          "carpet": [
           {
            "aaxis": {
             "endlinecolor": "#A2B1C6",
             "gridcolor": "#506784",
             "linecolor": "#506784",
             "minorgridcolor": "#506784",
             "startlinecolor": "#A2B1C6"
            },
            "baxis": {
             "endlinecolor": "#A2B1C6",
             "gridcolor": "#506784",
             "linecolor": "#506784",
             "minorgridcolor": "#506784",
             "startlinecolor": "#A2B1C6"
            },
            "type": "carpet"
           }
          ],
          "choropleth": [
           {
            "colorbar": {
             "outlinewidth": 0,
             "ticks": ""
            },
            "type": "choropleth"
           }
          ],
          "contour": [
           {
            "colorbar": {
             "outlinewidth": 0,
             "ticks": ""
            },
            "colorscale": [
             [
              0,
              "#0d0887"
             ],
             [
              0.1111111111111111,
              "#46039f"
             ],
             [
              0.2222222222222222,
              "#7201a8"
             ],
             [
              0.3333333333333333,
              "#9c179e"
             ],
             [
              0.4444444444444444,
              "#bd3786"
             ],
             [
              0.5555555555555556,
              "#d8576b"
             ],
             [
              0.6666666666666666,
              "#ed7953"
             ],
             [
              0.7777777777777778,
              "#fb9f3a"
             ],
             [
              0.8888888888888888,
              "#fdca26"
             ],
             [
              1,
              "#f0f921"
             ]
            ],
            "type": "contour"
           }
          ],
          "contourcarpet": [
           {
            "colorbar": {
             "outlinewidth": 0,
             "ticks": ""
            },
            "type": "contourcarpet"
           }
          ],
          "heatmap": [
           {
            "colorbar": {
             "outlinewidth": 0,
             "ticks": ""
            },
            "colorscale": [
             [
              0,
              "#0d0887"
             ],
             [
              0.1111111111111111,
              "#46039f"
             ],
             [
              0.2222222222222222,
              "#7201a8"
             ],
             [
              0.3333333333333333,
              "#9c179e"
             ],
             [
              0.4444444444444444,
              "#bd3786"
             ],
             [
              0.5555555555555556,
              "#d8576b"
             ],
             [
              0.6666666666666666,
              "#ed7953"
             ],
             [
              0.7777777777777778,
              "#fb9f3a"
             ],
             [
              0.8888888888888888,
              "#fdca26"
             ],
             [
              1,
              "#f0f921"
             ]
            ],
            "type": "heatmap"
           }
          ],
          "heatmapgl": [
           {
            "colorbar": {
             "outlinewidth": 0,
             "ticks": ""
            },
            "colorscale": [
             [
              0,
              "#0d0887"
             ],
             [
              0.1111111111111111,
              "#46039f"
             ],
             [
              0.2222222222222222,
              "#7201a8"
             ],
             [
              0.3333333333333333,
              "#9c179e"
             ],
             [
              0.4444444444444444,
              "#bd3786"
             ],
             [
              0.5555555555555556,
              "#d8576b"
             ],
             [
              0.6666666666666666,
              "#ed7953"
             ],
             [
              0.7777777777777778,
              "#fb9f3a"
             ],
             [
              0.8888888888888888,
              "#fdca26"
             ],
             [
              1,
              "#f0f921"
             ]
            ],
            "type": "heatmapgl"
           }
          ],
          "histogram": [
           {
            "marker": {
             "colorbar": {
              "outlinewidth": 0,
              "ticks": ""
             }
            },
            "type": "histogram"
           }
          ],
          "histogram2d": [
           {
            "colorbar": {
             "outlinewidth": 0,
             "ticks": ""
            },
            "colorscale": [
             [
              0,
              "#0d0887"
             ],
             [
              0.1111111111111111,
              "#46039f"
             ],
             [
              0.2222222222222222,
              "#7201a8"
             ],
             [
              0.3333333333333333,
              "#9c179e"
             ],
             [
              0.4444444444444444,
              "#bd3786"
             ],
             [
              0.5555555555555556,
              "#d8576b"
             ],
             [
              0.6666666666666666,
              "#ed7953"
             ],
             [
              0.7777777777777778,
              "#fb9f3a"
             ],
             [
              0.8888888888888888,
              "#fdca26"
             ],
             [
              1,
              "#f0f921"
             ]
            ],
            "type": "histogram2d"
           }
          ],
          "histogram2dcontour": [
           {
            "colorbar": {
             "outlinewidth": 0,
             "ticks": ""
            },
            "colorscale": [
             [
              0,
              "#0d0887"
             ],
             [
              0.1111111111111111,
              "#46039f"
             ],
             [
              0.2222222222222222,
              "#7201a8"
             ],
             [
              0.3333333333333333,
              "#9c179e"
             ],
             [
              0.4444444444444444,
              "#bd3786"
             ],
             [
              0.5555555555555556,
              "#d8576b"
             ],
             [
              0.6666666666666666,
              "#ed7953"
             ],
             [
              0.7777777777777778,
              "#fb9f3a"
             ],
             [
              0.8888888888888888,
              "#fdca26"
             ],
             [
              1,
              "#f0f921"
             ]
            ],
            "type": "histogram2dcontour"
           }
          ],
          "mesh3d": [
           {
            "colorbar": {
             "outlinewidth": 0,
             "ticks": ""
            },
            "type": "mesh3d"
           }
          ],
          "parcoords": [
           {
            "line": {
             "colorbar": {
              "outlinewidth": 0,
              "ticks": ""
             }
            },
            "type": "parcoords"
           }
          ],
          "scatter": [
           {
            "marker": {
             "line": {
              "color": "#283442"
             }
            },
            "type": "scatter"
           }
          ],
          "scatter3d": [
           {
            "line": {
             "colorbar": {
              "outlinewidth": 0,
              "ticks": ""
             }
            },
            "marker": {
             "colorbar": {
              "outlinewidth": 0,
              "ticks": ""
             }
            },
            "type": "scatter3d"
           }
          ],
          "scattercarpet": [
           {
            "marker": {
             "colorbar": {
              "outlinewidth": 0,
              "ticks": ""
             }
            },
            "type": "scattercarpet"
           }
          ],
          "scattergeo": [
           {
            "marker": {
             "colorbar": {
              "outlinewidth": 0,
              "ticks": ""
             }
            },
            "type": "scattergeo"
           }
          ],
          "scattergl": [
           {
            "marker": {
             "line": {
              "color": "#283442"
             }
            },
            "type": "scattergl"
           }
          ],
          "scattermapbox": [
           {
            "marker": {
             "colorbar": {
              "outlinewidth": 0,
              "ticks": ""
             }
            },
            "type": "scattermapbox"
           }
          ],
          "scatterpolar": [
           {
            "marker": {
             "colorbar": {
              "outlinewidth": 0,
              "ticks": ""
             }
            },
            "type": "scatterpolar"
           }
          ],
          "scatterpolargl": [
           {
            "marker": {
             "colorbar": {
              "outlinewidth": 0,
              "ticks": ""
             }
            },
            "type": "scatterpolargl"
           }
          ],
          "scatterternary": [
           {
            "marker": {
             "colorbar": {
              "outlinewidth": 0,
              "ticks": ""
             }
            },
            "type": "scatterternary"
           }
          ],
          "surface": [
           {
            "colorbar": {
             "outlinewidth": 0,
             "ticks": ""
            },
            "colorscale": [
             [
              0,
              "#0d0887"
             ],
             [
              0.1111111111111111,
              "#46039f"
             ],
             [
              0.2222222222222222,
              "#7201a8"
             ],
             [
              0.3333333333333333,
              "#9c179e"
             ],
             [
              0.4444444444444444,
              "#bd3786"
             ],
             [
              0.5555555555555556,
              "#d8576b"
             ],
             [
              0.6666666666666666,
              "#ed7953"
             ],
             [
              0.7777777777777778,
              "#fb9f3a"
             ],
             [
              0.8888888888888888,
              "#fdca26"
             ],
             [
              1,
              "#f0f921"
             ]
            ],
            "type": "surface"
           }
          ],
          "table": [
           {
            "cells": {
             "fill": {
              "color": "#506784"
             },
             "line": {
              "color": "rgb(17,17,17)"
             }
            },
            "header": {
             "fill": {
              "color": "#2a3f5f"
             },
             "line": {
              "color": "rgb(17,17,17)"
             }
            },
            "type": "table"
           }
          ]
         },
         "layout": {
          "annotationdefaults": {
           "arrowcolor": "#f2f5fa",
           "arrowhead": 0,
           "arrowwidth": 1
          },
          "colorscale": {
           "diverging": [
            [
             0,
             "#8e0152"
            ],
            [
             0.1,
             "#c51b7d"
            ],
            [
             0.2,
             "#de77ae"
            ],
            [
             0.3,
             "#f1b6da"
            ],
            [
             0.4,
             "#fde0ef"
            ],
            [
             0.5,
             "#f7f7f7"
            ],
            [
             0.6,
             "#e6f5d0"
            ],
            [
             0.7,
             "#b8e186"
            ],
            [
             0.8,
             "#7fbc41"
            ],
            [
             0.9,
             "#4d9221"
            ],
            [
             1,
             "#276419"
            ]
           ],
           "sequential": [
            [
             0,
             "#0d0887"
            ],
            [
             0.1111111111111111,
             "#46039f"
            ],
            [
             0.2222222222222222,
             "#7201a8"
            ],
            [
             0.3333333333333333,
             "#9c179e"
            ],
            [
             0.4444444444444444,
             "#bd3786"
            ],
            [
             0.5555555555555556,
             "#d8576b"
            ],
            [
             0.6666666666666666,
             "#ed7953"
            ],
            [
             0.7777777777777778,
             "#fb9f3a"
            ],
            [
             0.8888888888888888,
             "#fdca26"
            ],
            [
             1,
             "#f0f921"
            ]
           ],
           "sequentialminus": [
            [
             0,
             "#0d0887"
            ],
            [
             0.1111111111111111,
             "#46039f"
            ],
            [
             0.2222222222222222,
             "#7201a8"
            ],
            [
             0.3333333333333333,
             "#9c179e"
            ],
            [
             0.4444444444444444,
             "#bd3786"
            ],
            [
             0.5555555555555556,
             "#d8576b"
            ],
            [
             0.6666666666666666,
             "#ed7953"
            ],
            [
             0.7777777777777778,
             "#fb9f3a"
            ],
            [
             0.8888888888888888,
             "#fdca26"
            ],
            [
             1,
             "#f0f921"
            ]
           ]
          },
          "colorway": [
           "#636efa",
           "#EF553B",
           "#00cc96",
           "#ab63fa",
           "#FFA15A",
           "#19d3f3",
           "#FF6692",
           "#B6E880",
           "#FF97FF",
           "#FECB52"
          ],
          "font": {
           "color": "#f2f5fa"
          },
          "geo": {
           "bgcolor": "rgb(17,17,17)",
           "lakecolor": "rgb(17,17,17)",
           "landcolor": "rgb(17,17,17)",
           "showlakes": true,
           "showland": true,
           "subunitcolor": "#506784"
          },
          "hoverlabel": {
           "align": "left"
          },
          "hovermode": "closest",
          "mapbox": {
           "style": "dark"
          },
          "paper_bgcolor": "rgb(17,17,17)",
          "plot_bgcolor": "rgb(17,17,17)",
          "polar": {
           "angularaxis": {
            "gridcolor": "#506784",
            "linecolor": "#506784",
            "ticks": ""
           },
           "bgcolor": "rgb(17,17,17)",
           "radialaxis": {
            "gridcolor": "#506784",
            "linecolor": "#506784",
            "ticks": ""
           }
          },
          "scene": {
           "xaxis": {
            "backgroundcolor": "rgb(17,17,17)",
            "gridcolor": "#506784",
            "gridwidth": 2,
            "linecolor": "#506784",
            "showbackground": true,
            "ticks": "",
            "zerolinecolor": "#C8D4E3"
           },
           "yaxis": {
            "backgroundcolor": "rgb(17,17,17)",
            "gridcolor": "#506784",
            "gridwidth": 2,
            "linecolor": "#506784",
            "showbackground": true,
            "ticks": "",
            "zerolinecolor": "#C8D4E3"
           },
           "zaxis": {
            "backgroundcolor": "rgb(17,17,17)",
            "gridcolor": "#506784",
            "gridwidth": 2,
            "linecolor": "#506784",
            "showbackground": true,
            "ticks": "",
            "zerolinecolor": "#C8D4E3"
           }
          },
          "shapedefaults": {
           "line": {
            "color": "#f2f5fa"
           }
          },
          "sliderdefaults": {
           "bgcolor": "#C8D4E3",
           "bordercolor": "rgb(17,17,17)",
           "borderwidth": 1,
           "tickwidth": 0
          },
          "ternary": {
           "aaxis": {
            "gridcolor": "#506784",
            "linecolor": "#506784",
            "ticks": ""
           },
           "baxis": {
            "gridcolor": "#506784",
            "linecolor": "#506784",
            "ticks": ""
           },
           "bgcolor": "rgb(17,17,17)",
           "caxis": {
            "gridcolor": "#506784",
            "linecolor": "#506784",
            "ticks": ""
           }
          },
          "title": {
           "x": 0.05
          },
          "updatemenudefaults": {
           "bgcolor": "#506784",
           "borderwidth": 0
          },
          "xaxis": {
           "automargin": true,
           "gridcolor": "#283442",
           "linecolor": "#506784",
           "ticks": "",
           "zerolinecolor": "#283442",
           "zerolinewidth": 2
          },
          "yaxis": {
           "automargin": true,
           "gridcolor": "#283442",
           "linecolor": "#506784",
           "ticks": "",
           "zerolinecolor": "#283442",
           "zerolinewidth": 2
          }
         }
        },
        "title": {
         "text": "Photonic simulation - Flux on wall/sensor, PE count, SNR (fake_tof_day_1375)"
        },
        "xaxis": {
         "title": {
          "text": "Wall Distance [m]"
         },
         "type": "log"
        },
        "yaxis": {
         "title": {
          "text": ""
         },
         "type": "log"
        }
       }
      },
      "text/html": [
       "<div>\n",
       "        \n",
       "        \n",
       "            <div id=\"80f7df7e-010a-4a10-b7d8-03e548728d1e\" class=\"plotly-graph-div\" style=\"height:525px; width:100%;\"></div>\n",
       "            <script type=\"text/javascript\">\n",
       "                require([\"plotly\"], function(Plotly) {\n",
       "                    window.PLOTLYENV=window.PLOTLYENV || {};\n",
       "                    \n",
       "                if (document.getElementById(\"80f7df7e-010a-4a10-b7d8-03e548728d1e\")) {\n",
       "                    Plotly.newPlot(\n",
       "                        '80f7df7e-010a-4a10-b7d8-03e548728d1e',\n",
       "                        [{\"mode\": \"lines+markers\", \"name\": \"wallFlux [W/m^2]\", \"type\": \"scatter\", \"x\": [0.5, 0.7, 1.0, 1.5, 2.0, 3.0, 4.0, 5.0, 7.0, 10.0], \"y\": [65343.478776424236, 33338.50957980829, 16335.869694106059, 7260.386530713804, 4083.9674235265147, 1815.096632678451, 1020.9918558816287, 653.4347877642424, 333.38509579808283, 163.3586969410606]}, {\"mode\": \"lines+markers\", \"name\": \"Solar wallFlux [W/m^2]\", \"type\": \"scatter\", \"x\": [0.5, 0.7, 1.0, 1.5, 2.0, 3.0, 4.0, 5.0, 7.0, 10.0], \"y\": [1100.1089743589632, 1100.1089743589632, 1100.1089743589632, 1100.1089743589632, 1100.1089743589632, 1100.1089743589632, 1100.1089743589632, 1100.1089743589632, 1100.1089743589632, 1100.1089743589632]}, {\"mode\": \"lines+markers\", \"name\": \"siliconFlux [W/m^2]\", \"type\": \"scatter\", \"x\": [0.5, 0.7, 1.0, 1.5, 2.0, 3.0, 4.0, 5.0, 7.0, 10.0], \"y\": [3750.582327728432, 1913.5624121063433, 937.645581932108, 416.7313697476036, 234.411395483027, 104.1828424369009, 58.60284887075675, 37.50582327728433, 19.13562412106343, 9.376455819321082]}, {\"mode\": \"lines+markers\", \"name\": \"photoelectrons / frame\", \"type\": \"scatter\", \"x\": [0.5, 0.7, 1.0, 1.5, 2.0, 3.0, 4.0, 5.0, 7.0, 10.0], \"y\": [72754.8598205892, 37119.82643907613, 18188.7149551473, 8083.873313398801, 4547.178738786825, 2020.9683283497002, 1136.7946846967063, 727.5485982058923, 371.1982643907612, 181.88714955147307]}, {\"mode\": \"lines+markers\", \"name\": \"SNR\", \"type\": \"scatter\", \"x\": [0.5, 0.7, 1.0, 1.5, 2.0, 3.0, 4.0, 5.0, 7.0, 10.0], \"y\": [264.5739722866145, 185.63680506110262, 125.35699687566039, 77.26019587710475, 52.8202115509018, 28.91553905491914, 17.972651447286506, 12.140169623861778, 6.526186873867897, 3.2957129719285345]}, {\"mode\": \"text\", \"name\": \"text\", \"text\": [\"Photonic simulation of light created by a light source attached to a camera<br>1. Flux is calculated on a wall at a certain distance assuming CW lighting mode<br>2. Flux on the focal plane of the silicon sensor as imaged from the wall thru the lens<br>3. Photoelectrons per a single burst collect in the photodiode of the pixel\"], \"textposition\": \"top right\", \"type\": \"scatter\", \"x\": [0.5], \"y\": [0.2]}],\n",
       "                        {\"barmode\": \"group\", \"hovermode\": \"x\", \"template\": {\"data\": {\"bar\": [{\"error_x\": {\"color\": \"#f2f5fa\"}, \"error_y\": {\"color\": \"#f2f5fa\"}, \"marker\": {\"line\": {\"color\": \"rgb(17,17,17)\", \"width\": 0.5}}, \"type\": \"bar\"}], \"barpolar\": [{\"marker\": {\"line\": {\"color\": \"rgb(17,17,17)\", \"width\": 0.5}}, \"type\": \"barpolar\"}], \"carpet\": [{\"aaxis\": {\"endlinecolor\": \"#A2B1C6\", \"gridcolor\": \"#506784\", \"linecolor\": \"#506784\", \"minorgridcolor\": \"#506784\", \"startlinecolor\": \"#A2B1C6\"}, \"baxis\": {\"endlinecolor\": \"#A2B1C6\", \"gridcolor\": \"#506784\", \"linecolor\": \"#506784\", \"minorgridcolor\": \"#506784\", \"startlinecolor\": \"#A2B1C6\"}, \"type\": \"carpet\"}], \"choropleth\": [{\"colorbar\": {\"outlinewidth\": 0, \"ticks\": \"\"}, \"type\": \"choropleth\"}], \"contour\": [{\"colorbar\": {\"outlinewidth\": 0, \"ticks\": \"\"}, \"colorscale\": [[0.0, \"#0d0887\"], [0.1111111111111111, \"#46039f\"], [0.2222222222222222, \"#7201a8\"], [0.3333333333333333, \"#9c179e\"], [0.4444444444444444, \"#bd3786\"], [0.5555555555555556, \"#d8576b\"], [0.6666666666666666, \"#ed7953\"], [0.7777777777777778, \"#fb9f3a\"], [0.8888888888888888, \"#fdca26\"], [1.0, \"#f0f921\"]], \"type\": \"contour\"}], \"contourcarpet\": [{\"colorbar\": {\"outlinewidth\": 0, \"ticks\": \"\"}, \"type\": \"contourcarpet\"}], \"heatmap\": [{\"colorbar\": {\"outlinewidth\": 0, \"ticks\": \"\"}, \"colorscale\": [[0.0, \"#0d0887\"], [0.1111111111111111, \"#46039f\"], [0.2222222222222222, \"#7201a8\"], [0.3333333333333333, \"#9c179e\"], [0.4444444444444444, \"#bd3786\"], [0.5555555555555556, \"#d8576b\"], [0.6666666666666666, \"#ed7953\"], [0.7777777777777778, \"#fb9f3a\"], [0.8888888888888888, \"#fdca26\"], [1.0, \"#f0f921\"]], \"type\": \"heatmap\"}], \"heatmapgl\": [{\"colorbar\": {\"outlinewidth\": 0, \"ticks\": \"\"}, \"colorscale\": [[0.0, \"#0d0887\"], [0.1111111111111111, \"#46039f\"], [0.2222222222222222, \"#7201a8\"], [0.3333333333333333, \"#9c179e\"], [0.4444444444444444, \"#bd3786\"], [0.5555555555555556, \"#d8576b\"], [0.6666666666666666, \"#ed7953\"], [0.7777777777777778, \"#fb9f3a\"], [0.8888888888888888, \"#fdca26\"], [1.0, \"#f0f921\"]], \"type\": \"heatmapgl\"}], \"histogram\": [{\"marker\": {\"colorbar\": {\"outlinewidth\": 0, \"ticks\": \"\"}}, \"type\": \"histogram\"}], \"histogram2d\": [{\"colorbar\": {\"outlinewidth\": 0, \"ticks\": \"\"}, \"colorscale\": [[0.0, \"#0d0887\"], [0.1111111111111111, \"#46039f\"], [0.2222222222222222, \"#7201a8\"], [0.3333333333333333, \"#9c179e\"], [0.4444444444444444, \"#bd3786\"], [0.5555555555555556, \"#d8576b\"], [0.6666666666666666, \"#ed7953\"], [0.7777777777777778, \"#fb9f3a\"], [0.8888888888888888, \"#fdca26\"], [1.0, \"#f0f921\"]], \"type\": \"histogram2d\"}], \"histogram2dcontour\": [{\"colorbar\": {\"outlinewidth\": 0, \"ticks\": \"\"}, \"colorscale\": [[0.0, \"#0d0887\"], [0.1111111111111111, \"#46039f\"], [0.2222222222222222, \"#7201a8\"], [0.3333333333333333, \"#9c179e\"], [0.4444444444444444, \"#bd3786\"], [0.5555555555555556, \"#d8576b\"], [0.6666666666666666, \"#ed7953\"], [0.7777777777777778, \"#fb9f3a\"], [0.8888888888888888, \"#fdca26\"], [1.0, \"#f0f921\"]], \"type\": \"histogram2dcontour\"}], \"mesh3d\": [{\"colorbar\": {\"outlinewidth\": 0, \"ticks\": \"\"}, \"type\": \"mesh3d\"}], \"parcoords\": [{\"line\": {\"colorbar\": {\"outlinewidth\": 0, \"ticks\": \"\"}}, \"type\": \"parcoords\"}], \"scatter\": [{\"marker\": {\"line\": {\"color\": \"#283442\"}}, \"type\": \"scatter\"}], \"scatter3d\": [{\"line\": {\"colorbar\": {\"outlinewidth\": 0, \"ticks\": \"\"}}, \"marker\": {\"colorbar\": {\"outlinewidth\": 0, \"ticks\": \"\"}}, \"type\": \"scatter3d\"}], \"scattercarpet\": [{\"marker\": {\"colorbar\": {\"outlinewidth\": 0, \"ticks\": \"\"}}, \"type\": \"scattercarpet\"}], \"scattergeo\": [{\"marker\": {\"colorbar\": {\"outlinewidth\": 0, \"ticks\": \"\"}}, \"type\": \"scattergeo\"}], \"scattergl\": [{\"marker\": {\"line\": {\"color\": \"#283442\"}}, \"type\": \"scattergl\"}], \"scattermapbox\": [{\"marker\": {\"colorbar\": {\"outlinewidth\": 0, \"ticks\": \"\"}}, \"type\": \"scattermapbox\"}], \"scatterpolar\": [{\"marker\": {\"colorbar\": {\"outlinewidth\": 0, \"ticks\": \"\"}}, \"type\": \"scatterpolar\"}], \"scatterpolargl\": [{\"marker\": {\"colorbar\": {\"outlinewidth\": 0, \"ticks\": \"\"}}, \"type\": \"scatterpolargl\"}], \"scatterternary\": [{\"marker\": {\"colorbar\": {\"outlinewidth\": 0, \"ticks\": \"\"}}, \"type\": \"scatterternary\"}], \"surface\": [{\"colorbar\": {\"outlinewidth\": 0, \"ticks\": \"\"}, \"colorscale\": [[0.0, \"#0d0887\"], [0.1111111111111111, \"#46039f\"], [0.2222222222222222, \"#7201a8\"], [0.3333333333333333, \"#9c179e\"], [0.4444444444444444, \"#bd3786\"], [0.5555555555555556, \"#d8576b\"], [0.6666666666666666, \"#ed7953\"], [0.7777777777777778, \"#fb9f3a\"], [0.8888888888888888, \"#fdca26\"], [1.0, \"#f0f921\"]], \"type\": \"surface\"}], \"table\": [{\"cells\": {\"fill\": {\"color\": \"#506784\"}, \"line\": {\"color\": \"rgb(17,17,17)\"}}, \"header\": {\"fill\": {\"color\": \"#2a3f5f\"}, \"line\": {\"color\": \"rgb(17,17,17)\"}}, \"type\": \"table\"}]}, \"layout\": {\"annotationdefaults\": {\"arrowcolor\": \"#f2f5fa\", \"arrowhead\": 0, \"arrowwidth\": 1}, \"colorscale\": {\"diverging\": [[0, \"#8e0152\"], [0.1, \"#c51b7d\"], [0.2, \"#de77ae\"], [0.3, \"#f1b6da\"], [0.4, \"#fde0ef\"], [0.5, \"#f7f7f7\"], [0.6, \"#e6f5d0\"], [0.7, \"#b8e186\"], [0.8, \"#7fbc41\"], [0.9, \"#4d9221\"], [1, \"#276419\"]], \"sequential\": [[0.0, \"#0d0887\"], [0.1111111111111111, \"#46039f\"], [0.2222222222222222, \"#7201a8\"], [0.3333333333333333, \"#9c179e\"], [0.4444444444444444, \"#bd3786\"], [0.5555555555555556, \"#d8576b\"], [0.6666666666666666, \"#ed7953\"], [0.7777777777777778, \"#fb9f3a\"], [0.8888888888888888, \"#fdca26\"], [1.0, \"#f0f921\"]], \"sequentialminus\": [[0.0, \"#0d0887\"], [0.1111111111111111, \"#46039f\"], [0.2222222222222222, \"#7201a8\"], [0.3333333333333333, \"#9c179e\"], [0.4444444444444444, \"#bd3786\"], [0.5555555555555556, \"#d8576b\"], [0.6666666666666666, \"#ed7953\"], [0.7777777777777778, \"#fb9f3a\"], [0.8888888888888888, \"#fdca26\"], [1.0, \"#f0f921\"]]}, \"colorway\": [\"#636efa\", \"#EF553B\", \"#00cc96\", \"#ab63fa\", \"#FFA15A\", \"#19d3f3\", \"#FF6692\", \"#B6E880\", \"#FF97FF\", \"#FECB52\"], \"font\": {\"color\": \"#f2f5fa\"}, \"geo\": {\"bgcolor\": \"rgb(17,17,17)\", \"lakecolor\": \"rgb(17,17,17)\", \"landcolor\": \"rgb(17,17,17)\", \"showlakes\": true, \"showland\": true, \"subunitcolor\": \"#506784\"}, \"hoverlabel\": {\"align\": \"left\"}, \"hovermode\": \"closest\", \"mapbox\": {\"style\": \"dark\"}, \"paper_bgcolor\": \"rgb(17,17,17)\", \"plot_bgcolor\": \"rgb(17,17,17)\", \"polar\": {\"angularaxis\": {\"gridcolor\": \"#506784\", \"linecolor\": \"#506784\", \"ticks\": \"\"}, \"bgcolor\": \"rgb(17,17,17)\", \"radialaxis\": {\"gridcolor\": \"#506784\", \"linecolor\": \"#506784\", \"ticks\": \"\"}}, \"scene\": {\"xaxis\": {\"backgroundcolor\": \"rgb(17,17,17)\", \"gridcolor\": \"#506784\", \"gridwidth\": 2, \"linecolor\": \"#506784\", \"showbackground\": true, \"ticks\": \"\", \"zerolinecolor\": \"#C8D4E3\"}, \"yaxis\": {\"backgroundcolor\": \"rgb(17,17,17)\", \"gridcolor\": \"#506784\", \"gridwidth\": 2, \"linecolor\": \"#506784\", \"showbackground\": true, \"ticks\": \"\", \"zerolinecolor\": \"#C8D4E3\"}, \"zaxis\": {\"backgroundcolor\": \"rgb(17,17,17)\", \"gridcolor\": \"#506784\", \"gridwidth\": 2, \"linecolor\": \"#506784\", \"showbackground\": true, \"ticks\": \"\", \"zerolinecolor\": \"#C8D4E3\"}}, \"shapedefaults\": {\"line\": {\"color\": \"#f2f5fa\"}}, \"sliderdefaults\": {\"bgcolor\": \"#C8D4E3\", \"bordercolor\": \"rgb(17,17,17)\", \"borderwidth\": 1, \"tickwidth\": 0}, \"ternary\": {\"aaxis\": {\"gridcolor\": \"#506784\", \"linecolor\": \"#506784\", \"ticks\": \"\"}, \"baxis\": {\"gridcolor\": \"#506784\", \"linecolor\": \"#506784\", \"ticks\": \"\"}, \"bgcolor\": \"rgb(17,17,17)\", \"caxis\": {\"gridcolor\": \"#506784\", \"linecolor\": \"#506784\", \"ticks\": \"\"}}, \"title\": {\"x\": 0.05}, \"updatemenudefaults\": {\"bgcolor\": \"#506784\", \"borderwidth\": 0}, \"xaxis\": {\"automargin\": true, \"gridcolor\": \"#283442\", \"linecolor\": \"#506784\", \"ticks\": \"\", \"zerolinecolor\": \"#283442\", \"zerolinewidth\": 2}, \"yaxis\": {\"automargin\": true, \"gridcolor\": \"#283442\", \"linecolor\": \"#506784\", \"ticks\": \"\", \"zerolinecolor\": \"#283442\", \"zerolinewidth\": 2}}}, \"title\": {\"text\": \"Photonic simulation - Flux on wall/sensor, PE count, SNR (fake_tof_day_1375)\"}, \"xaxis\": {\"title\": {\"text\": \"Wall Distance [m]\"}, \"type\": \"log\"}, \"yaxis\": {\"title\": {\"text\": \"\"}, \"type\": \"log\"}},\n",
       "                        {\"responsive\": true}\n",
       "                    ).then(function(){\n",
       "                            \n",
       "var gd = document.getElementById('80f7df7e-010a-4a10-b7d8-03e548728d1e');\n",
       "var x = new MutationObserver(function (mutations, observer) {{\n",
       "        var display = window.getComputedStyle(gd).display;\n",
       "        if (!display || display === 'none') {{\n",
       "            console.log([gd, 'removed!']);\n",
       "            Plotly.purge(gd);\n",
       "            observer.disconnect();\n",
       "        }}\n",
       "}});\n",
       "\n",
       "// Listen for the removal of the full notebook cells\n",
       "var notebookContainer = gd.closest('#notebook-container');\n",
       "if (notebookContainer) {{\n",
       "    x.observe(notebookContainer, {childList: true});\n",
       "}}\n",
       "\n",
       "// Listen for the clearing of the current output cell\n",
       "var outputEl = gd.closest('.output');\n",
       "if (outputEl) {{\n",
       "    x.observe(outputEl, {childList: true});\n",
       "}}\n",
       "\n",
       "                        })\n",
       "                };\n",
       "                });\n",
       "            </script>\n",
       "        </div>"
      ]
     },
     "metadata": {},
     "output_type": "display_data"
    }
   ],
   "source": [
    "photonic = Photonic(config='fake_tof_day_1375')\n",
    "photonic = overide_phototonic(photonic)\n",
    "dist_vec = np.array([0.5,0.7,1,1.5,2,3,4,5,7,10])\n",
    "trace0 = go.Scatter(x=dist_vec,\n",
    "                    y=1000 * photonic.wallFlux(dist_vec=dist_vec), mode='lines+markers',  # Select 'lines', 'markers' or 'lines+markers'\n",
    "                    name='wallFlux [W/m^2]')\n",
    "trace01 = go.Scatter(x=dist_vec,\n",
    "                    y=1000 * photonic.wallFlux(dist_vec=dist_vec, light_type='solar'), mode='lines+markers',  # Select 'lines', 'markers' or 'lines+markers'\n",
    "                    name='Solar wallFlux [W/m^2]')\n",
    "trace1 = go.Scatter(x=dist_vec,\n",
    "                    y=1000 * photonic.siliconFlux2(dist_vec=dist_vec), mode='lines+markers',\n",
    "                    name='siliconFlux [W/m^2]')\n",
    "trace2 = go.Scatter(x=dist_vec,\n",
    "                    y=photonic.photoelectron2(dist_vec=dist_vec), mode='lines+markers',\n",
    "                    name='photoelectrons / frame')\n",
    "signal, noise, SNR = photonic.signal_to_noise_ratio(dist_vec=dist_vec)\n",
    "trace3 = go.Scatter(x=dist_vec,\n",
    "                    y=SNR, mode='lines+markers',\n",
    "                    name='SNR')\n",
    "trace4 = go.Scatter(x=[0.5],\n",
    "                    y=[0.2], mode='text', textposition='top right',\n",
    "                    name='text', text=['Photonic simulation of light created by a light source attached to a camera<br>'\n",
    "                    +'1. Flux is calculated on a wall at a certain distance assuming CW lighting mode<br>'\n",
    "                    +'2. Flux on the focal plane of the silicon sensor as imaged from the wall thru the lens<br>'\n",
    "                    +'3. Photoelectrons per a single burst collect in the photodiode of the pixel'])\n",
    "\n",
    "data = [trace0, trace01, trace1, trace2, trace3, trace4]\n",
    "\n",
    "layout = dict(title='Photonic simulation - Flux on wall/sensor, PE count, SNR (fake_tof_day_1375)' ,\n",
    "              xaxis=dict(title='Wall Distance [m]', type='log'),  # Select 'log' or 'linear'\n",
    "              yaxis=dict(title='',type='log'),  # Select 'log' or 'linear'\n",
    "              template='plotly_dark',\n",
    "              barmode='group',\n",
    "              hovermode='x')\n",
    "\n",
    "iplot(dict(data=data, layout=layout))"
   ]
  },
  {
   "cell_type": "code",
   "execution_count": null,
   "metadata": {},
   "outputs": [],
   "source": []
  }
 ],
 "metadata": {
  "kernelspec": {
   "display_name": "Python 3",
   "language": "python",
   "name": "python3"
  },
  "language_info": {
   "codemirror_mode": {
    "name": "ipython",
    "version": 3
   },
   "file_extension": ".py",
   "mimetype": "text/x-python",
   "name": "python",
   "nbconvert_exporter": "python",
   "pygments_lexer": "ipython3",
   "version": "3.7.5"
  },
  "toc": {
   "base_numbering": 1,
   "nav_menu": {},
   "number_sections": true,
   "sideBar": true,
   "skip_h1_title": false,
   "title_cell": "Table of Contents",
   "title_sidebar": "Contents",
   "toc_cell": true,
   "toc_position": {
    "height": "557px",
    "left": "103px",
    "top": "166px",
    "width": "256px"
   },
   "toc_section_display": true,
   "toc_window_display": false
  }
 },
 "nbformat": 4,
 "nbformat_minor": 4
}
